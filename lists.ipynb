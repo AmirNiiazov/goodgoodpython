{
 "cells": [
  {
   "cell_type": "code",
   "execution_count": 2,
   "id": "initial_id",
   "metadata": {
    "collapsed": true,
    "ExecuteTime": {
     "end_time": "2024-08-01T06:19:07.880124400Z",
     "start_time": "2024-08-01T06:19:07.879118400Z"
    }
   },
   "outputs": [],
   "source": [
    "marks = [2, 3, 4, 4]"
   ]
  },
  {
   "cell_type": "code",
   "execution_count": 4,
   "outputs": [
    {
     "data": {
      "text/plain": "3"
     },
     "execution_count": 4,
     "metadata": {},
     "output_type": "execute_result"
    }
   ],
   "source": [
    "marks[1]"
   ],
   "metadata": {
    "collapsed": false,
    "ExecuteTime": {
     "end_time": "2024-08-01T06:19:46.160129200Z",
     "start_time": "2024-08-01T06:19:46.156612600Z"
    }
   },
   "id": "22000a5ac7fd3203"
  },
  {
   "cell_type": "code",
   "execution_count": 8,
   "outputs": [
    {
     "data": {
      "text/plain": "3.5"
     },
     "execution_count": 8,
     "metadata": {},
     "output_type": "execute_result"
    }
   ],
   "source": [
    "sum(marks) / len(marks)"
   ],
   "metadata": {
    "collapsed": false,
    "ExecuteTime": {
     "end_time": "2024-08-01T06:21:00.532072700Z",
     "start_time": "2024-08-01T06:21:00.528058200Z"
    }
   },
   "id": "f15d038b79cbefd"
  },
  {
   "cell_type": "code",
   "execution_count": 6,
   "outputs": [
    {
     "data": {
      "text/plain": "4"
     },
     "execution_count": 6,
     "metadata": {},
     "output_type": "execute_result"
    }
   ],
   "source": [
    "marks[-1]"
   ],
   "metadata": {
    "collapsed": false,
    "ExecuteTime": {
     "end_time": "2024-08-01T06:20:33.869543Z",
     "start_time": "2024-08-01T06:20:33.864034700Z"
    }
   },
   "id": "da0dd7530944510d"
  },
  {
   "cell_type": "code",
   "execution_count": 7,
   "outputs": [],
   "source": [
    "marks[0] = 3"
   ],
   "metadata": {
    "collapsed": false,
    "ExecuteTime": {
     "end_time": "2024-08-01T06:20:58.587923600Z",
     "start_time": "2024-08-01T06:20:58.585412500Z"
    }
   },
   "id": "7b806c38cf88fb4d"
  },
  {
   "cell_type": "code",
   "execution_count": 9,
   "outputs": [
    {
     "data": {
      "text/plain": "[3, 3, 4, 4]"
     },
     "execution_count": 9,
     "metadata": {},
     "output_type": "execute_result"
    }
   ],
   "source": [
    "marks"
   ],
   "metadata": {
    "collapsed": false,
    "ExecuteTime": {
     "end_time": "2024-08-01T06:21:09.634042600Z",
     "start_time": "2024-08-01T06:21:09.628279Z"
    }
   },
   "id": "1ece2e0487dfc3ce"
  },
  {
   "cell_type": "code",
   "execution_count": 10,
   "outputs": [],
   "source": [
    "marks[1] = \"qwerwergterwg\""
   ],
   "metadata": {
    "collapsed": false,
    "ExecuteTime": {
     "end_time": "2024-08-01T06:21:39.854868300Z",
     "start_time": "2024-08-01T06:21:39.848345700Z"
    }
   },
   "id": "3a96bea6fd3a794"
  },
  {
   "cell_type": "code",
   "execution_count": 11,
   "outputs": [
    {
     "data": {
      "text/plain": "[3, 'qwerwergterwg', 4, 4]"
     },
     "execution_count": 11,
     "metadata": {},
     "output_type": "execute_result"
    }
   ],
   "source": [
    "marks"
   ],
   "metadata": {
    "collapsed": false,
    "ExecuteTime": {
     "end_time": "2024-08-01T06:21:42.072111100Z",
     "start_time": "2024-08-01T06:21:42.065334400Z"
    }
   },
   "id": "6d7cb0fa00d7643b"
  },
  {
   "cell_type": "code",
   "execution_count": 12,
   "outputs": [],
   "source": [
    "lst2 = [1, 3, 5, [1, 2]]"
   ],
   "metadata": {
    "collapsed": false,
    "ExecuteTime": {
     "end_time": "2024-08-01T06:22:07.609963400Z",
     "start_time": "2024-08-01T06:22:07.603212Z"
    }
   },
   "id": "16d5e1f62c5ae540"
  },
  {
   "cell_type": "code",
   "execution_count": 13,
   "outputs": [
    {
     "data": {
      "text/plain": "[1, 3, 5, [1, 2]]"
     },
     "execution_count": 13,
     "metadata": {},
     "output_type": "execute_result"
    }
   ],
   "source": [
    "lst2"
   ],
   "metadata": {
    "collapsed": false,
    "ExecuteTime": {
     "end_time": "2024-08-01T06:22:10.535237Z",
     "start_time": "2024-08-01T06:22:10.529919300Z"
    }
   },
   "id": "45ff736d3a9ad129"
  },
  {
   "cell_type": "code",
   "execution_count": 14,
   "outputs": [],
   "source": [
    "a = list()"
   ],
   "metadata": {
    "collapsed": false,
    "ExecuteTime": {
     "end_time": "2024-08-01T06:22:28.069953600Z",
     "start_time": "2024-08-01T06:22:28.066945200Z"
    }
   },
   "id": "2135cfcaaf46e60c"
  },
  {
   "cell_type": "code",
   "execution_count": 15,
   "outputs": [
    {
     "data": {
      "text/plain": "[]"
     },
     "execution_count": 15,
     "metadata": {},
     "output_type": "execute_result"
    }
   ],
   "source": [
    "a"
   ],
   "metadata": {
    "collapsed": false,
    "ExecuteTime": {
     "end_time": "2024-08-01T06:22:29.074279900Z",
     "start_time": "2024-08-01T06:22:29.068251400Z"
    }
   },
   "id": "5405511ee6db232b"
  },
  {
   "cell_type": "code",
   "execution_count": 16,
   "outputs": [],
   "source": [
    "b = list([True, False, True])"
   ],
   "metadata": {
    "collapsed": false,
    "ExecuteTime": {
     "end_time": "2024-08-01T06:22:48.290715100Z",
     "start_time": "2024-08-01T06:22:48.285197600Z"
    }
   },
   "id": "451e2e7d4466f8cb"
  },
  {
   "cell_type": "code",
   "execution_count": 17,
   "outputs": [
    {
     "data": {
      "text/plain": "[True, False, True]"
     },
     "execution_count": 17,
     "metadata": {},
     "output_type": "execute_result"
    }
   ],
   "source": [
    "b"
   ],
   "metadata": {
    "collapsed": false,
    "ExecuteTime": {
     "end_time": "2024-08-01T06:22:50.075760800Z",
     "start_time": "2024-08-01T06:22:50.058129200Z"
    }
   },
   "id": "e188de98c687c79e"
  },
  {
   "cell_type": "code",
   "execution_count": 18,
   "outputs": [
    {
     "data": {
      "text/plain": "['p', 'y', 't', 'h', 'o', 'n']"
     },
     "execution_count": 18,
     "metadata": {},
     "output_type": "execute_result"
    }
   ],
   "source": [
    "list('python')"
   ],
   "metadata": {
    "collapsed": false,
    "ExecuteTime": {
     "end_time": "2024-08-01T06:23:00.508329Z",
     "start_time": "2024-08-01T06:23:00.502818300Z"
    }
   },
   "id": "1382c0091b11ed43"
  },
  {
   "cell_type": "code",
   "execution_count": 21,
   "outputs": [
    {
     "data": {
      "text/plain": "4"
     },
     "execution_count": 21,
     "metadata": {},
     "output_type": "execute_result"
    }
   ],
   "source": [
    "len(lst2)"
   ],
   "metadata": {
    "collapsed": false,
    "ExecuteTime": {
     "end_time": "2024-08-01T06:23:34.536118400Z",
     "start_time": "2024-08-01T06:23:34.529163Z"
    }
   },
   "id": "249cac4e1365ad2a"
  },
  {
   "cell_type": "code",
   "execution_count": 22,
   "outputs": [],
   "source": [
    "t = [23.4, 435, 12, 34, 543.12]"
   ],
   "metadata": {
    "collapsed": false,
    "ExecuteTime": {
     "end_time": "2024-08-01T06:24:17.069187800Z",
     "start_time": "2024-08-01T06:24:17.065177600Z"
    }
   },
   "id": "673d6c4caab5fbac"
  },
  {
   "cell_type": "code",
   "execution_count": 23,
   "outputs": [
    {
     "data": {
      "text/plain": "12"
     },
     "execution_count": 23,
     "metadata": {},
     "output_type": "execute_result"
    }
   ],
   "source": [
    "min(t)"
   ],
   "metadata": {
    "collapsed": false,
    "ExecuteTime": {
     "end_time": "2024-08-01T06:24:19.025481300Z",
     "start_time": "2024-08-01T06:24:19.019844200Z"
    }
   },
   "id": "3be727c3dc7ae6bb"
  },
  {
   "cell_type": "code",
   "execution_count": 24,
   "outputs": [
    {
     "data": {
      "text/plain": "543.12"
     },
     "execution_count": 24,
     "metadata": {},
     "output_type": "execute_result"
    }
   ],
   "source": [
    "max(t)"
   ],
   "metadata": {
    "collapsed": false,
    "ExecuteTime": {
     "end_time": "2024-08-01T06:24:25.202495900Z",
     "start_time": "2024-08-01T06:24:25.194475600Z"
    }
   },
   "id": "449782f621d7fd37"
  },
  {
   "cell_type": "code",
   "execution_count": 26,
   "outputs": [
    {
     "data": {
      "text/plain": "1047.52"
     },
     "execution_count": 26,
     "metadata": {},
     "output_type": "execute_result"
    }
   ],
   "source": [
    "sum(t)"
   ],
   "metadata": {
    "collapsed": false,
    "ExecuteTime": {
     "end_time": "2024-08-01T06:24:38.937495Z",
     "start_time": "2024-08-01T06:24:38.932978400Z"
    }
   },
   "id": "63b7848518ebd71b"
  },
  {
   "cell_type": "code",
   "execution_count": 27,
   "outputs": [
    {
     "data": {
      "text/plain": "209.504"
     },
     "execution_count": 27,
     "metadata": {},
     "output_type": "execute_result"
    }
   ],
   "source": [
    "sum(t) / len(t)"
   ],
   "metadata": {
    "collapsed": false,
    "ExecuteTime": {
     "end_time": "2024-08-01T06:24:48.169057100Z",
     "start_time": "2024-08-01T06:24:48.164536700Z"
    }
   },
   "id": "ab452beb509df06b"
  },
  {
   "cell_type": "code",
   "execution_count": 28,
   "outputs": [],
   "source": [
    "mean = sum(t) / len(t)"
   ],
   "metadata": {
    "collapsed": false,
    "ExecuteTime": {
     "end_time": "2024-08-01T06:25:02.049407300Z",
     "start_time": "2024-08-01T06:25:02.041866400Z"
    }
   },
   "id": "1d7d9c01ee8ca441"
  },
  {
   "cell_type": "code",
   "execution_count": 31,
   "outputs": [
    {
     "data": {
      "text/plain": "[12, 23.4, 34, 435, 543.12]"
     },
     "execution_count": 31,
     "metadata": {},
     "output_type": "execute_result"
    }
   ],
   "source": [
    "sorted(t)"
   ],
   "metadata": {
    "collapsed": false,
    "ExecuteTime": {
     "end_time": "2024-08-01T06:25:13.454148700Z",
     "start_time": "2024-08-01T06:25:13.447128700Z"
    }
   },
   "id": "d67720865d2b798f"
  },
  {
   "cell_type": "code",
   "execution_count": 32,
   "outputs": [
    {
     "data": {
      "text/plain": "[23.4, 435, 12, 34, 543.12]"
     },
     "execution_count": 32,
     "metadata": {},
     "output_type": "execute_result"
    }
   ],
   "source": [
    "t"
   ],
   "metadata": {
    "collapsed": false,
    "ExecuteTime": {
     "end_time": "2024-08-01T06:25:17.555320400Z",
     "start_time": "2024-08-01T06:25:17.550290800Z"
    }
   },
   "id": "767e967e6793f945"
  },
  {
   "cell_type": "code",
   "execution_count": 47,
   "outputs": [],
   "source": [
    "t_sort = sorted(t, reverse=True)"
   ],
   "metadata": {
    "collapsed": false,
    "ExecuteTime": {
     "end_time": "2024-08-01T06:28:15.062183700Z",
     "start_time": "2024-08-01T06:28:15.059176700Z"
    }
   },
   "id": "a62a3cf9554565a7"
  },
  {
   "cell_type": "code",
   "execution_count": 48,
   "outputs": [
    {
     "data": {
      "text/plain": "[543.12, 435, 34, 23.4, 12]"
     },
     "execution_count": 48,
     "metadata": {},
     "output_type": "execute_result"
    }
   ],
   "source": [
    "t_sort"
   ],
   "metadata": {
    "collapsed": false,
    "ExecuteTime": {
     "end_time": "2024-08-01T06:28:15.863640800Z",
     "start_time": "2024-08-01T06:28:15.860032900Z"
    }
   },
   "id": "432c50be93838456"
  },
  {
   "cell_type": "code",
   "execution_count": 49,
   "outputs": [],
   "source": [
    "s = list('pyhon')"
   ],
   "metadata": {
    "collapsed": false,
    "ExecuteTime": {
     "end_time": "2024-08-01T06:28:36.422372400Z",
     "start_time": "2024-08-01T06:28:36.420365200Z"
    }
   },
   "id": "1bfa00470ece388c"
  },
  {
   "cell_type": "code",
   "execution_count": 50,
   "outputs": [
    {
     "data": {
      "text/plain": "'y'"
     },
     "execution_count": 50,
     "metadata": {},
     "output_type": "execute_result"
    }
   ],
   "source": [
    "max(s)"
   ],
   "metadata": {
    "collapsed": false,
    "ExecuteTime": {
     "end_time": "2024-08-01T06:28:38.760526400Z",
     "start_time": "2024-08-01T06:28:38.753582Z"
    }
   },
   "id": "d864629375f0f457"
  },
  {
   "cell_type": "code",
   "execution_count": 55,
   "outputs": [
    {
     "data": {
      "text/plain": "104"
     },
     "execution_count": 55,
     "metadata": {},
     "output_type": "execute_result"
    }
   ],
   "source": [
    "ord('h')"
   ],
   "metadata": {
    "collapsed": false,
    "ExecuteTime": {
     "end_time": "2024-08-01T06:29:03.021655900Z",
     "start_time": "2024-08-01T06:29:03.015906200Z"
    }
   },
   "id": "4eeef99e11a1860b"
  },
  {
   "cell_type": "code",
   "execution_count": 54,
   "outputs": [
    {
     "data": {
      "text/plain": "'h'"
     },
     "execution_count": 54,
     "metadata": {},
     "output_type": "execute_result"
    }
   ],
   "source": [
    "min(s)"
   ],
   "metadata": {
    "collapsed": false,
    "ExecuteTime": {
     "end_time": "2024-08-01T06:28:59.704722300Z",
     "start_time": "2024-08-01T06:28:59.698204500Z"
    }
   },
   "id": "741f5cb09e4a332e"
  },
  {
   "cell_type": "code",
   "execution_count": 56,
   "outputs": [],
   "source": [
    "s.sort()"
   ],
   "metadata": {
    "collapsed": false,
    "ExecuteTime": {
     "end_time": "2024-08-01T06:29:06.286763100Z",
     "start_time": "2024-08-01T06:29:06.280756600Z"
    }
   },
   "id": "c86ef88d10a533a0"
  },
  {
   "cell_type": "code",
   "execution_count": 57,
   "outputs": [
    {
     "data": {
      "text/plain": "['h', 'n', 'o', 'p', 'y']"
     },
     "execution_count": 57,
     "metadata": {},
     "output_type": "execute_result"
    }
   ],
   "source": [
    "s"
   ],
   "metadata": {
    "collapsed": false,
    "ExecuteTime": {
     "end_time": "2024-08-01T06:29:09.165396700Z",
     "start_time": "2024-08-01T06:29:09.159390700Z"
    }
   },
   "id": "47111b58b95459b8"
  },
  {
   "cell_type": "code",
   "execution_count": 58,
   "outputs": [
    {
     "data": {
      "text/plain": "[1, 2, 3, 4, 5, 6]"
     },
     "execution_count": 58,
     "metadata": {},
     "output_type": "execute_result"
    }
   ],
   "source": [
    "[1, 2, 3] + [4, 5, 6]"
   ],
   "metadata": {
    "collapsed": false,
    "ExecuteTime": {
     "end_time": "2024-08-01T06:29:42.015788500Z",
     "start_time": "2024-08-01T06:29:42.010275700Z"
    }
   },
   "id": "f726123b3764e6ce"
  },
  {
   "cell_type": "code",
   "execution_count": 60,
   "outputs": [
    {
     "data": {
      "text/plain": "[1, 2, 3, 4]"
     },
     "execution_count": 60,
     "metadata": {},
     "output_type": "execute_result"
    }
   ],
   "source": [
    "[1, 2 ,3] + [4]"
   ],
   "metadata": {
    "collapsed": false,
    "ExecuteTime": {
     "end_time": "2024-08-01T06:30:15.303450800Z",
     "start_time": "2024-08-01T06:30:15.296849600Z"
    }
   },
   "id": "3f706b73bfc9e48e"
  },
  {
   "cell_type": "code",
   "execution_count": 61,
   "outputs": [
    {
     "data": {
      "text/plain": "[1, 2, 3, True]"
     },
     "execution_count": 61,
     "metadata": {},
     "output_type": "execute_result"
    }
   ],
   "source": [
    "[1, 2 , 3] + [True]"
   ],
   "metadata": {
    "collapsed": false,
    "ExecuteTime": {
     "end_time": "2024-08-01T06:30:24.355446600Z",
     "start_time": "2024-08-01T06:30:24.344906500Z"
    }
   },
   "id": "85336d4d92248c20"
  },
  {
   "cell_type": "code",
   "execution_count": 66,
   "outputs": [],
   "source": [
    "s = sorted(['1', '2', '3'] * 3)"
   ],
   "metadata": {
    "collapsed": false,
    "ExecuteTime": {
     "end_time": "2024-08-01T06:31:38.078336200Z",
     "start_time": "2024-08-01T06:31:38.075818200Z"
    }
   },
   "id": "fb6d80d97d2d9893"
  },
  {
   "cell_type": "code",
   "execution_count": 67,
   "outputs": [
    {
     "data": {
      "text/plain": "['1', '1', '1', '2', '2', '2', '3', '3', '3']"
     },
     "execution_count": 67,
     "metadata": {},
     "output_type": "execute_result"
    }
   ],
   "source": [
    "s"
   ],
   "metadata": {
    "collapsed": false,
    "ExecuteTime": {
     "end_time": "2024-08-01T06:31:38.802816300Z",
     "start_time": "2024-08-01T06:31:38.795788200Z"
    }
   },
   "id": "8384465279d141fc"
  },
  {
   "cell_type": "code",
   "execution_count": 71,
   "outputs": [
    {
     "data": {
      "text/plain": "[1, 3, 5]"
     },
     "execution_count": 71,
     "metadata": {},
     "output_type": "execute_result"
    }
   ],
   "source": [
    "lst2"
   ],
   "metadata": {
    "collapsed": false,
    "ExecuteTime": {
     "end_time": "2024-08-01T06:32:41.925080500Z",
     "start_time": "2024-08-01T06:32:41.922049200Z"
    }
   },
   "id": "bc7819e8ed6cc428"
  },
  {
   "cell_type": "code",
   "execution_count": 70,
   "outputs": [],
   "source": [
    "del lst2[-1]"
   ],
   "metadata": {
    "collapsed": false,
    "ExecuteTime": {
     "end_time": "2024-08-01T06:32:39.269983700Z",
     "start_time": "2024-08-01T06:32:39.264464500Z"
    }
   },
   "id": "e008960176493891"
  },
  {
   "cell_type": "code",
   "execution_count": 72,
   "outputs": [],
   "source": [
    "#Task"
   ],
   "metadata": {
    "collapsed": false,
    "ExecuteTime": {
     "end_time": "2024-08-01T06:34:37.385119300Z",
     "start_time": "2024-08-01T06:34:37.378607Z"
    }
   },
   "id": "92b5ba76ab7be550"
  },
  {
   "cell_type": "code",
   "execution_count": 74,
   "outputs": [
    {
     "data": {
      "text/plain": "list[8, 11, 3]"
     },
     "execution_count": 74,
     "metadata": {},
     "output_type": "execute_result"
    }
   ],
   "source": [
    "list[8, 11, 3]"
   ],
   "metadata": {
    "collapsed": false,
    "ExecuteTime": {
     "end_time": "2024-08-01T06:35:45.718138700Z",
     "start_time": "2024-08-01T06:35:45.714066800Z"
    }
   },
   "id": "2564f4d94555897a"
  },
  {
   "cell_type": "code",
   "execution_count": null,
   "outputs": [],
   "source": [],
   "metadata": {
    "collapsed": false
   },
   "id": "6407efb1c0d88020"
  },
  {
   "cell_type": "code",
   "execution_count": 78,
   "outputs": [
    {
     "name": "stdout",
     "output_type": "stream",
     "text": [
      "[8, 11, 9]\n"
     ]
    }
   ],
   "source": [
    "print(list(map(int, input().split())))"
   ],
   "metadata": {
    "collapsed": false,
    "ExecuteTime": {
     "end_time": "2024-08-01T06:43:18.572737400Z",
     "start_time": "2024-08-01T06:43:16.275188700Z"
    }
   },
   "id": "a94adcab1e0928a0"
  },
  {
   "cell_type": "code",
   "execution_count": 79,
   "outputs": [],
   "source": [
    "#Task"
   ],
   "metadata": {
    "collapsed": false,
    "ExecuteTime": {
     "end_time": "2024-08-01T06:44:02.366036900Z",
     "start_time": "2024-08-01T06:44:02.359521300Z"
    }
   },
   "id": "af70d6b8d40762aa"
  },
  {
   "cell_type": "code",
   "execution_count": 81,
   "outputs": [
    {
     "name": "stdout",
     "output_type": "stream",
     "text": [
      "False\n"
     ]
    }
   ],
   "source": [
    "print('Москва' in input().split())"
   ],
   "metadata": {
    "collapsed": false,
    "ExecuteTime": {
     "end_time": "2024-08-01T06:45:33.501323600Z",
     "start_time": "2024-08-01T06:45:33.045277Z"
    }
   },
   "id": "2273c31b6d1d845b"
  },
  {
   "cell_type": "code",
   "execution_count": 82,
   "outputs": [],
   "source": [
    "#Task"
   ],
   "metadata": {
    "collapsed": false,
    "ExecuteTime": {
     "end_time": "2024-08-01T06:47:34.506684Z",
     "start_time": "2024-08-01T06:47:34.504633400Z"
    }
   },
   "id": "47fe2028052b01f"
  },
  {
   "cell_type": "code",
   "execution_count": 83,
   "outputs": [
    {
     "ename": "IndexError",
     "evalue": "list index out of range",
     "output_type": "error",
     "traceback": [
      "\u001B[1;31m---------------------------------------------------------------------------\u001B[0m",
      "\u001B[1;31mIndexError\u001B[0m                                Traceback (most recent call last)",
      "Cell \u001B[1;32mIn[83], line 1\u001B[0m\n\u001B[1;32m----> 1\u001B[0m \u001B[38;5;28mprint\u001B[39m(\u001B[38;5;28;43minput\u001B[39;49m\u001B[43m(\u001B[49m\u001B[43m)\u001B[49m\u001B[38;5;241;43m.\u001B[39;49m\u001B[43msplit\u001B[49m\u001B[43m(\u001B[49m\u001B[43m)\u001B[49m\u001B[43m[\u001B[49m\u001B[38;5;241;43m-\u001B[39;49m\u001B[38;5;241;43m1\u001B[39;49m\u001B[43m]\u001B[49m)\n",
      "\u001B[1;31mIndexError\u001B[0m: list index out of range"
     ]
    }
   ],
   "source": [
    "print(input().split()[-1])"
   ],
   "metadata": {
    "collapsed": false,
    "ExecuteTime": {
     "end_time": "2024-08-01T06:47:57.699644500Z",
     "start_time": "2024-08-01T06:47:56.333150Z"
    }
   },
   "id": "4838091589f8e507"
  },
  {
   "cell_type": "code",
   "execution_count": 85,
   "outputs": [
    {
     "ename": "ZeroDivisionError",
     "evalue": "division by zero",
     "output_type": "error",
     "traceback": [
      "\u001B[1;31m---------------------------------------------------------------------------\u001B[0m",
      "\u001B[1;31mZeroDivisionError\u001B[0m                         Traceback (most recent call last)",
      "Cell \u001B[1;32mIn[85], line 2\u001B[0m\n\u001B[0;32m      1\u001B[0m marks \u001B[38;5;241m=\u001B[39m \u001B[38;5;28mlist\u001B[39m(\u001B[38;5;28mmap\u001B[39m(\u001B[38;5;28mint\u001B[39m, \u001B[38;5;28minput\u001B[39m()\u001B[38;5;241m.\u001B[39msplit()))\n\u001B[1;32m----> 2\u001B[0m \u001B[38;5;28;43msum\u001B[39;49m\u001B[43m(\u001B[49m\u001B[43mmarks\u001B[49m\u001B[43m)\u001B[49m\u001B[43m \u001B[49m\u001B[38;5;241;43m/\u001B[39;49m\u001B[43m \u001B[49m\u001B[38;5;28;43mlen\u001B[39;49m\u001B[43m(\u001B[49m\u001B[43mmarks\u001B[49m\u001B[43m)\u001B[49m\n",
      "\u001B[1;31mZeroDivisionError\u001B[0m: division by zero"
     ]
    }
   ],
   "source": [
    "marks = list(map(int, input().split()))\n",
    "sum(marks) / len(marks)"
   ],
   "metadata": {
    "collapsed": false,
    "ExecuteTime": {
     "end_time": "2024-08-01T06:54:27.043525Z",
     "start_time": "2024-08-01T06:54:24.275426700Z"
    }
   },
   "id": "e8f52803ef349d64"
  },
  {
   "cell_type": "code",
   "execution_count": 87,
   "outputs": [],
   "source": [
    "lst = [input() for _ in range(4)]\n",
    "del lst[2]\n",
    "lst[1] = 'Пушкин'\n",
    "lst[-1] = float(lst[-1]) * 2"
   ],
   "metadata": {
    "collapsed": false,
    "ExecuteTime": {
     "end_time": "2024-08-01T06:59:17.674164800Z",
     "start_time": "2024-08-01T06:59:10.937069600Z"
    }
   },
   "id": "d6b5f0515d1e2e29"
  },
  {
   "cell_type": "code",
   "execution_count": 88,
   "outputs": [
    {
     "data": {
      "text/plain": "['adsflkjh', 'Пушкин', '431431']"
     },
     "execution_count": 88,
     "metadata": {},
     "output_type": "execute_result"
    }
   ],
   "source": [
    "lst"
   ],
   "metadata": {
    "collapsed": false,
    "ExecuteTime": {
     "end_time": "2024-08-01T06:59:20.324015500Z",
     "start_time": "2024-08-01T06:59:20.299026100Z"
    }
   },
   "id": "1899065ec02c9037"
  },
  {
   "cell_type": "code",
   "execution_count": 92,
   "outputs": [
    {
     "name": "stdout",
     "output_type": "stream",
     "text": [
      "12 2134 3515\n"
     ]
    }
   ],
   "source": [
    "print(max(lst:=list(map(int, input().split()))), min(lst), sum(lst))"
   ],
   "metadata": {
    "collapsed": false,
    "ExecuteTime": {
     "end_time": "2024-08-01T07:04:44.541531700Z",
     "start_time": "2024-08-01T07:04:42.729238600Z"
    }
   },
   "id": "9a0188f7ee276780"
  },
  {
   "cell_type": "code",
   "execution_count": 95,
   "outputs": [
    {
     "name": "stdout",
     "output_type": "stream",
     "text": [
      "76 65 54 43 43 8\n"
     ]
    }
   ],
   "source": [
    "lst = list(map(int, input().split()))\n",
    "lst = sorted(lst, reverse=True)\n",
    "print(*lst)"
   ],
   "metadata": {
    "collapsed": false,
    "ExecuteTime": {
     "end_time": "2024-08-01T07:11:53.201681200Z",
     "start_time": "2024-08-01T07:11:48.450878800Z"
    }
   },
   "id": "78fbce1c20512089"
  },
  {
   "cell_type": "code",
   "execution_count": null,
   "outputs": [],
   "source": [
    "cities = input().split()\n",
    "print(*cities + [\"Москва\", \"Тверь\", \"Вологда\"])"
   ],
   "metadata": {
    "collapsed": false
   },
   "id": "16991284d7828da3"
  },
  {
   "cell_type": "markdown",
   "source": [
    "<h2>Срезы и операторы сравнения</h2>"
   ],
   "metadata": {
    "collapsed": false
   },
   "id": "26e405c008e8f758"
  },
  {
   "cell_type": "code",
   "execution_count": 96,
   "outputs": [],
   "source": [
    "lst = [1 ,2 ,3 ,4, 5]"
   ],
   "metadata": {
    "collapsed": false,
    "ExecuteTime": {
     "end_time": "2024-08-01T07:43:59.972116300Z",
     "start_time": "2024-08-01T07:43:59.964589300Z"
    }
   },
   "id": "6e51a72cc1f22ca0"
  },
  {
   "cell_type": "code",
   "execution_count": 97,
   "outputs": [
    {
     "data": {
      "text/plain": "[2, 3]"
     },
     "execution_count": 97,
     "metadata": {},
     "output_type": "execute_result"
    }
   ],
   "source": [
    "lst[1:3]"
   ],
   "metadata": {
    "collapsed": false,
    "ExecuteTime": {
     "end_time": "2024-08-01T07:44:03.854633800Z",
     "start_time": "2024-08-01T07:44:03.846455600Z"
    }
   },
   "id": "1df09ac214068de2"
  },
  {
   "cell_type": "code",
   "execution_count": null,
   "outputs": [],
   "source": [],
   "metadata": {
    "collapsed": false
   },
   "id": "3e0fa4abe0348e9c"
  }
 ],
 "metadata": {
  "kernelspec": {
   "display_name": "Python 3",
   "language": "python",
   "name": "python3"
  },
  "language_info": {
   "codemirror_mode": {
    "name": "ipython",
    "version": 2
   },
   "file_extension": ".py",
   "mimetype": "text/x-python",
   "name": "python",
   "nbconvert_exporter": "python",
   "pygments_lexer": "ipython2",
   "version": "2.7.6"
  }
 },
 "nbformat": 4,
 "nbformat_minor": 5
}
