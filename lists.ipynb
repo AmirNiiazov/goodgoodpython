{
 "cells": [
  {
   "cell_type": "code",
   "execution_count": 2,
   "id": "initial_id",
   "metadata": {
    "collapsed": true,
    "ExecuteTime": {
     "end_time": "2024-08-01T06:19:07.880124400Z",
     "start_time": "2024-08-01T06:19:07.879118400Z"
    }
   },
   "outputs": [],
   "source": [
    "marks = [2, 3, 4, 4]"
   ]
  },
  {
   "cell_type": "code",
   "execution_count": 4,
   "outputs": [
    {
     "data": {
      "text/plain": "3"
     },
     "execution_count": 4,
     "metadata": {},
     "output_type": "execute_result"
    }
   ],
   "source": [
    "marks[1]"
   ],
   "metadata": {
    "collapsed": false,
    "ExecuteTime": {
     "end_time": "2024-08-01T06:19:46.160129200Z",
     "start_time": "2024-08-01T06:19:46.156612600Z"
    }
   },
   "id": "22000a5ac7fd3203"
  },
  {
   "cell_type": "code",
   "execution_count": 8,
   "outputs": [
    {
     "data": {
      "text/plain": "3.5"
     },
     "execution_count": 8,
     "metadata": {},
     "output_type": "execute_result"
    }
   ],
   "source": [
    "sum(marks) / len(marks)"
   ],
   "metadata": {
    "collapsed": false,
    "ExecuteTime": {
     "end_time": "2024-08-01T06:21:00.532072700Z",
     "start_time": "2024-08-01T06:21:00.528058200Z"
    }
   },
   "id": "f15d038b79cbefd"
  },
  {
   "cell_type": "code",
   "execution_count": 6,
   "outputs": [
    {
     "data": {
      "text/plain": "4"
     },
     "execution_count": 6,
     "metadata": {},
     "output_type": "execute_result"
    }
   ],
   "source": [
    "marks[-1]"
   ],
   "metadata": {
    "collapsed": false,
    "ExecuteTime": {
     "end_time": "2024-08-01T06:20:33.869543Z",
     "start_time": "2024-08-01T06:20:33.864034700Z"
    }
   },
   "id": "da0dd7530944510d"
  },
  {
   "cell_type": "code",
   "execution_count": 7,
   "outputs": [],
   "source": [
    "marks[0] = 3"
   ],
   "metadata": {
    "collapsed": false,
    "ExecuteTime": {
     "end_time": "2024-08-01T06:20:58.587923600Z",
     "start_time": "2024-08-01T06:20:58.585412500Z"
    }
   },
   "id": "7b806c38cf88fb4d"
  },
  {
   "cell_type": "code",
   "execution_count": 9,
   "outputs": [
    {
     "data": {
      "text/plain": "[3, 3, 4, 4]"
     },
     "execution_count": 9,
     "metadata": {},
     "output_type": "execute_result"
    }
   ],
   "source": [
    "marks"
   ],
   "metadata": {
    "collapsed": false,
    "ExecuteTime": {
     "end_time": "2024-08-01T06:21:09.634042600Z",
     "start_time": "2024-08-01T06:21:09.628279Z"
    }
   },
   "id": "1ece2e0487dfc3ce"
  },
  {
   "cell_type": "code",
   "execution_count": 10,
   "outputs": [],
   "source": [
    "marks[1] = \"qwerwergterwg\""
   ],
   "metadata": {
    "collapsed": false,
    "ExecuteTime": {
     "end_time": "2024-08-01T06:21:39.854868300Z",
     "start_time": "2024-08-01T06:21:39.848345700Z"
    }
   },
   "id": "3a96bea6fd3a794"
  },
  {
   "cell_type": "code",
   "execution_count": 11,
   "outputs": [
    {
     "data": {
      "text/plain": "[3, 'qwerwergterwg', 4, 4]"
     },
     "execution_count": 11,
     "metadata": {},
     "output_type": "execute_result"
    }
   ],
   "source": [
    "marks"
   ],
   "metadata": {
    "collapsed": false,
    "ExecuteTime": {
     "end_time": "2024-08-01T06:21:42.072111100Z",
     "start_time": "2024-08-01T06:21:42.065334400Z"
    }
   },
   "id": "6d7cb0fa00d7643b"
  },
  {
   "cell_type": "code",
   "execution_count": 12,
   "outputs": [],
   "source": [
    "lst2 = [1, 3, 5, [1, 2]]"
   ],
   "metadata": {
    "collapsed": false,
    "ExecuteTime": {
     "end_time": "2024-08-01T06:22:07.609963400Z",
     "start_time": "2024-08-01T06:22:07.603212Z"
    }
   },
   "id": "16d5e1f62c5ae540"
  },
  {
   "cell_type": "code",
   "execution_count": 13,
   "outputs": [
    {
     "data": {
      "text/plain": "[1, 3, 5, [1, 2]]"
     },
     "execution_count": 13,
     "metadata": {},
     "output_type": "execute_result"
    }
   ],
   "source": [
    "lst2"
   ],
   "metadata": {
    "collapsed": false,
    "ExecuteTime": {
     "end_time": "2024-08-01T06:22:10.535237Z",
     "start_time": "2024-08-01T06:22:10.529919300Z"
    }
   },
   "id": "45ff736d3a9ad129"
  },
  {
   "cell_type": "code",
   "execution_count": 14,
   "outputs": [],
   "source": [
    "a = list()"
   ],
   "metadata": {
    "collapsed": false,
    "ExecuteTime": {
     "end_time": "2024-08-01T06:22:28.069953600Z",
     "start_time": "2024-08-01T06:22:28.066945200Z"
    }
   },
   "id": "2135cfcaaf46e60c"
  },
  {
   "cell_type": "code",
   "execution_count": 15,
   "outputs": [
    {
     "data": {
      "text/plain": "[]"
     },
     "execution_count": 15,
     "metadata": {},
     "output_type": "execute_result"
    }
   ],
   "source": [
    "a"
   ],
   "metadata": {
    "collapsed": false,
    "ExecuteTime": {
     "end_time": "2024-08-01T06:22:29.074279900Z",
     "start_time": "2024-08-01T06:22:29.068251400Z"
    }
   },
   "id": "5405511ee6db232b"
  },
  {
   "cell_type": "code",
   "execution_count": 16,
   "outputs": [],
   "source": [
    "b = list([True, False, True])"
   ],
   "metadata": {
    "collapsed": false,
    "ExecuteTime": {
     "end_time": "2024-08-01T06:22:48.290715100Z",
     "start_time": "2024-08-01T06:22:48.285197600Z"
    }
   },
   "id": "451e2e7d4466f8cb"
  },
  {
   "cell_type": "code",
   "execution_count": 17,
   "outputs": [
    {
     "data": {
      "text/plain": "[True, False, True]"
     },
     "execution_count": 17,
     "metadata": {},
     "output_type": "execute_result"
    }
   ],
   "source": [
    "b"
   ],
   "metadata": {
    "collapsed": false,
    "ExecuteTime": {
     "end_time": "2024-08-01T06:22:50.075760800Z",
     "start_time": "2024-08-01T06:22:50.058129200Z"
    }
   },
   "id": "e188de98c687c79e"
  },
  {
   "cell_type": "code",
   "execution_count": 18,
   "outputs": [
    {
     "data": {
      "text/plain": "['p', 'y', 't', 'h', 'o', 'n']"
     },
     "execution_count": 18,
     "metadata": {},
     "output_type": "execute_result"
    }
   ],
   "source": [
    "list('python')"
   ],
   "metadata": {
    "collapsed": false,
    "ExecuteTime": {
     "end_time": "2024-08-01T06:23:00.508329Z",
     "start_time": "2024-08-01T06:23:00.502818300Z"
    }
   },
   "id": "1382c0091b11ed43"
  },
  {
   "cell_type": "code",
   "execution_count": 21,
   "outputs": [
    {
     "data": {
      "text/plain": "4"
     },
     "execution_count": 21,
     "metadata": {},
     "output_type": "execute_result"
    }
   ],
   "source": [
    "len(lst2)"
   ],
   "metadata": {
    "collapsed": false,
    "ExecuteTime": {
     "end_time": "2024-08-01T06:23:34.536118400Z",
     "start_time": "2024-08-01T06:23:34.529163Z"
    }
   },
   "id": "249cac4e1365ad2a"
  },
  {
   "cell_type": "code",
   "execution_count": 22,
   "outputs": [],
   "source": [
    "t = [23.4, 435, 12, 34, 543.12]"
   ],
   "metadata": {
    "collapsed": false,
    "ExecuteTime": {
     "end_time": "2024-08-01T06:24:17.069187800Z",
     "start_time": "2024-08-01T06:24:17.065177600Z"
    }
   },
   "id": "673d6c4caab5fbac"
  },
  {
   "cell_type": "code",
   "execution_count": 23,
   "outputs": [
    {
     "data": {
      "text/plain": "12"
     },
     "execution_count": 23,
     "metadata": {},
     "output_type": "execute_result"
    }
   ],
   "source": [
    "min(t)"
   ],
   "metadata": {
    "collapsed": false,
    "ExecuteTime": {
     "end_time": "2024-08-01T06:24:19.025481300Z",
     "start_time": "2024-08-01T06:24:19.019844200Z"
    }
   },
   "id": "3be727c3dc7ae6bb"
  },
  {
   "cell_type": "code",
   "execution_count": 24,
   "outputs": [
    {
     "data": {
      "text/plain": "543.12"
     },
     "execution_count": 24,
     "metadata": {},
     "output_type": "execute_result"
    }
   ],
   "source": [
    "max(t)"
   ],
   "metadata": {
    "collapsed": false,
    "ExecuteTime": {
     "end_time": "2024-08-01T06:24:25.202495900Z",
     "start_time": "2024-08-01T06:24:25.194475600Z"
    }
   },
   "id": "449782f621d7fd37"
  },
  {
   "cell_type": "code",
   "execution_count": 26,
   "outputs": [
    {
     "data": {
      "text/plain": "1047.52"
     },
     "execution_count": 26,
     "metadata": {},
     "output_type": "execute_result"
    }
   ],
   "source": [
    "sum(t)"
   ],
   "metadata": {
    "collapsed": false,
    "ExecuteTime": {
     "end_time": "2024-08-01T06:24:38.937495Z",
     "start_time": "2024-08-01T06:24:38.932978400Z"
    }
   },
   "id": "63b7848518ebd71b"
  },
  {
   "cell_type": "code",
   "execution_count": 27,
   "outputs": [
    {
     "data": {
      "text/plain": "209.504"
     },
     "execution_count": 27,
     "metadata": {},
     "output_type": "execute_result"
    }
   ],
   "source": [
    "sum(t) / len(t)"
   ],
   "metadata": {
    "collapsed": false,
    "ExecuteTime": {
     "end_time": "2024-08-01T06:24:48.169057100Z",
     "start_time": "2024-08-01T06:24:48.164536700Z"
    }
   },
   "id": "ab452beb509df06b"
  },
  {
   "cell_type": "code",
   "execution_count": 28,
   "outputs": [],
   "source": [
    "mean = sum(t) / len(t)"
   ],
   "metadata": {
    "collapsed": false,
    "ExecuteTime": {
     "end_time": "2024-08-01T06:25:02.049407300Z",
     "start_time": "2024-08-01T06:25:02.041866400Z"
    }
   },
   "id": "1d7d9c01ee8ca441"
  },
  {
   "cell_type": "code",
   "execution_count": 31,
   "outputs": [
    {
     "data": {
      "text/plain": "[12, 23.4, 34, 435, 543.12]"
     },
     "execution_count": 31,
     "metadata": {},
     "output_type": "execute_result"
    }
   ],
   "source": [
    "sorted(t)"
   ],
   "metadata": {
    "collapsed": false,
    "ExecuteTime": {
     "end_time": "2024-08-01T06:25:13.454148700Z",
     "start_time": "2024-08-01T06:25:13.447128700Z"
    }
   },
   "id": "d67720865d2b798f"
  },
  {
   "cell_type": "code",
   "execution_count": 32,
   "outputs": [
    {
     "data": {
      "text/plain": "[23.4, 435, 12, 34, 543.12]"
     },
     "execution_count": 32,
     "metadata": {},
     "output_type": "execute_result"
    }
   ],
   "source": [
    "t"
   ],
   "metadata": {
    "collapsed": false,
    "ExecuteTime": {
     "end_time": "2024-08-01T06:25:17.555320400Z",
     "start_time": "2024-08-01T06:25:17.550290800Z"
    }
   },
   "id": "767e967e6793f945"
  },
  {
   "cell_type": "code",
   "execution_count": 47,
   "outputs": [],
   "source": [
    "t_sort = sorted(t, reverse=True)"
   ],
   "metadata": {
    "collapsed": false,
    "ExecuteTime": {
     "end_time": "2024-08-01T06:28:15.062183700Z",
     "start_time": "2024-08-01T06:28:15.059176700Z"
    }
   },
   "id": "a62a3cf9554565a7"
  },
  {
   "cell_type": "code",
   "execution_count": 48,
   "outputs": [
    {
     "data": {
      "text/plain": "[543.12, 435, 34, 23.4, 12]"
     },
     "execution_count": 48,
     "metadata": {},
     "output_type": "execute_result"
    }
   ],
   "source": [
    "t_sort"
   ],
   "metadata": {
    "collapsed": false,
    "ExecuteTime": {
     "end_time": "2024-08-01T06:28:15.863640800Z",
     "start_time": "2024-08-01T06:28:15.860032900Z"
    }
   },
   "id": "432c50be93838456"
  },
  {
   "cell_type": "code",
   "execution_count": 49,
   "outputs": [],
   "source": [
    "s = list('pyhon')"
   ],
   "metadata": {
    "collapsed": false,
    "ExecuteTime": {
     "end_time": "2024-08-01T06:28:36.422372400Z",
     "start_time": "2024-08-01T06:28:36.420365200Z"
    }
   },
   "id": "1bfa00470ece388c"
  },
  {
   "cell_type": "code",
   "execution_count": 50,
   "outputs": [
    {
     "data": {
      "text/plain": "'y'"
     },
     "execution_count": 50,
     "metadata": {},
     "output_type": "execute_result"
    }
   ],
   "source": [
    "max(s)"
   ],
   "metadata": {
    "collapsed": false,
    "ExecuteTime": {
     "end_time": "2024-08-01T06:28:38.760526400Z",
     "start_time": "2024-08-01T06:28:38.753582Z"
    }
   },
   "id": "d864629375f0f457"
  },
  {
   "cell_type": "code",
   "execution_count": 55,
   "outputs": [
    {
     "data": {
      "text/plain": "104"
     },
     "execution_count": 55,
     "metadata": {},
     "output_type": "execute_result"
    }
   ],
   "source": [
    "ord('h')"
   ],
   "metadata": {
    "collapsed": false,
    "ExecuteTime": {
     "end_time": "2024-08-01T06:29:03.021655900Z",
     "start_time": "2024-08-01T06:29:03.015906200Z"
    }
   },
   "id": "4eeef99e11a1860b"
  },
  {
   "cell_type": "code",
   "execution_count": 54,
   "outputs": [
    {
     "data": {
      "text/plain": "'h'"
     },
     "execution_count": 54,
     "metadata": {},
     "output_type": "execute_result"
    }
   ],
   "source": [
    "min(s)"
   ],
   "metadata": {
    "collapsed": false,
    "ExecuteTime": {
     "end_time": "2024-08-01T06:28:59.704722300Z",
     "start_time": "2024-08-01T06:28:59.698204500Z"
    }
   },
   "id": "741f5cb09e4a332e"
  },
  {
   "cell_type": "code",
   "execution_count": 56,
   "outputs": [],
   "source": [
    "s.sort()"
   ],
   "metadata": {
    "collapsed": false,
    "ExecuteTime": {
     "end_time": "2024-08-01T06:29:06.286763100Z",
     "start_time": "2024-08-01T06:29:06.280756600Z"
    }
   },
   "id": "c86ef88d10a533a0"
  },
  {
   "cell_type": "code",
   "execution_count": 57,
   "outputs": [
    {
     "data": {
      "text/plain": "['h', 'n', 'o', 'p', 'y']"
     },
     "execution_count": 57,
     "metadata": {},
     "output_type": "execute_result"
    }
   ],
   "source": [
    "s"
   ],
   "metadata": {
    "collapsed": false,
    "ExecuteTime": {
     "end_time": "2024-08-01T06:29:09.165396700Z",
     "start_time": "2024-08-01T06:29:09.159390700Z"
    }
   },
   "id": "47111b58b95459b8"
  },
  {
   "cell_type": "code",
   "execution_count": 58,
   "outputs": [
    {
     "data": {
      "text/plain": "[1, 2, 3, 4, 5, 6]"
     },
     "execution_count": 58,
     "metadata": {},
     "output_type": "execute_result"
    }
   ],
   "source": [
    "[1, 2, 3] + [4, 5, 6]"
   ],
   "metadata": {
    "collapsed": false,
    "ExecuteTime": {
     "end_time": "2024-08-01T06:29:42.015788500Z",
     "start_time": "2024-08-01T06:29:42.010275700Z"
    }
   },
   "id": "f726123b3764e6ce"
  },
  {
   "cell_type": "code",
   "execution_count": 60,
   "outputs": [
    {
     "data": {
      "text/plain": "[1, 2, 3, 4]"
     },
     "execution_count": 60,
     "metadata": {},
     "output_type": "execute_result"
    }
   ],
   "source": [
    "[1, 2 ,3] + [4]"
   ],
   "metadata": {
    "collapsed": false,
    "ExecuteTime": {
     "end_time": "2024-08-01T06:30:15.303450800Z",
     "start_time": "2024-08-01T06:30:15.296849600Z"
    }
   },
   "id": "3f706b73bfc9e48e"
  },
  {
   "cell_type": "code",
   "execution_count": 61,
   "outputs": [
    {
     "data": {
      "text/plain": "[1, 2, 3, True]"
     },
     "execution_count": 61,
     "metadata": {},
     "output_type": "execute_result"
    }
   ],
   "source": [
    "[1, 2 , 3] + [True]"
   ],
   "metadata": {
    "collapsed": false,
    "ExecuteTime": {
     "end_time": "2024-08-01T06:30:24.355446600Z",
     "start_time": "2024-08-01T06:30:24.344906500Z"
    }
   },
   "id": "85336d4d92248c20"
  },
  {
   "cell_type": "code",
   "execution_count": 66,
   "outputs": [],
   "source": [
    "s = sorted(['1', '2', '3'] * 3)"
   ],
   "metadata": {
    "collapsed": false,
    "ExecuteTime": {
     "end_time": "2024-08-01T06:31:38.078336200Z",
     "start_time": "2024-08-01T06:31:38.075818200Z"
    }
   },
   "id": "fb6d80d97d2d9893"
  },
  {
   "cell_type": "code",
   "execution_count": 67,
   "outputs": [
    {
     "data": {
      "text/plain": "['1', '1', '1', '2', '2', '2', '3', '3', '3']"
     },
     "execution_count": 67,
     "metadata": {},
     "output_type": "execute_result"
    }
   ],
   "source": [
    "s"
   ],
   "metadata": {
    "collapsed": false,
    "ExecuteTime": {
     "end_time": "2024-08-01T06:31:38.802816300Z",
     "start_time": "2024-08-01T06:31:38.795788200Z"
    }
   },
   "id": "8384465279d141fc"
  },
  {
   "cell_type": "code",
   "execution_count": 71,
   "outputs": [
    {
     "data": {
      "text/plain": "[1, 3, 5]"
     },
     "execution_count": 71,
     "metadata": {},
     "output_type": "execute_result"
    }
   ],
   "source": [
    "lst2"
   ],
   "metadata": {
    "collapsed": false,
    "ExecuteTime": {
     "end_time": "2024-08-01T06:32:41.925080500Z",
     "start_time": "2024-08-01T06:32:41.922049200Z"
    }
   },
   "id": "bc7819e8ed6cc428"
  },
  {
   "cell_type": "code",
   "execution_count": 70,
   "outputs": [],
   "source": [
    "del lst2[-1]"
   ],
   "metadata": {
    "collapsed": false,
    "ExecuteTime": {
     "end_time": "2024-08-01T06:32:39.269983700Z",
     "start_time": "2024-08-01T06:32:39.264464500Z"
    }
   },
   "id": "e008960176493891"
  },
  {
   "cell_type": "code",
   "execution_count": 72,
   "outputs": [],
   "source": [
    "#Task"
   ],
   "metadata": {
    "collapsed": false,
    "ExecuteTime": {
     "end_time": "2024-08-01T06:34:37.385119300Z",
     "start_time": "2024-08-01T06:34:37.378607Z"
    }
   },
   "id": "92b5ba76ab7be550"
  },
  {
   "cell_type": "code",
   "execution_count": 74,
   "outputs": [
    {
     "data": {
      "text/plain": "list[8, 11, 3]"
     },
     "execution_count": 74,
     "metadata": {},
     "output_type": "execute_result"
    }
   ],
   "source": [
    "list[8, 11, 3]"
   ],
   "metadata": {
    "collapsed": false,
    "ExecuteTime": {
     "end_time": "2024-08-01T06:35:45.718138700Z",
     "start_time": "2024-08-01T06:35:45.714066800Z"
    }
   },
   "id": "2564f4d94555897a"
  },
  {
   "cell_type": "code",
   "execution_count": null,
   "outputs": [],
   "source": [],
   "metadata": {
    "collapsed": false
   },
   "id": "6407efb1c0d88020"
  },
  {
   "cell_type": "code",
   "execution_count": 78,
   "outputs": [
    {
     "name": "stdout",
     "output_type": "stream",
     "text": [
      "[8, 11, 9]\n"
     ]
    }
   ],
   "source": [
    "print(list(map(int, input().split())))"
   ],
   "metadata": {
    "collapsed": false,
    "ExecuteTime": {
     "end_time": "2024-08-01T06:43:18.572737400Z",
     "start_time": "2024-08-01T06:43:16.275188700Z"
    }
   },
   "id": "a94adcab1e0928a0"
  },
  {
   "cell_type": "code",
   "execution_count": 79,
   "outputs": [],
   "source": [
    "#Task"
   ],
   "metadata": {
    "collapsed": false,
    "ExecuteTime": {
     "end_time": "2024-08-01T06:44:02.366036900Z",
     "start_time": "2024-08-01T06:44:02.359521300Z"
    }
   },
   "id": "af70d6b8d40762aa"
  },
  {
   "cell_type": "code",
   "execution_count": 81,
   "outputs": [
    {
     "name": "stdout",
     "output_type": "stream",
     "text": [
      "False\n"
     ]
    }
   ],
   "source": [
    "print('Москва' in input().split())"
   ],
   "metadata": {
    "collapsed": false,
    "ExecuteTime": {
     "end_time": "2024-08-01T06:45:33.501323600Z",
     "start_time": "2024-08-01T06:45:33.045277Z"
    }
   },
   "id": "2273c31b6d1d845b"
  },
  {
   "cell_type": "code",
   "execution_count": 82,
   "outputs": [],
   "source": [
    "#Task"
   ],
   "metadata": {
    "collapsed": false,
    "ExecuteTime": {
     "end_time": "2024-08-01T06:47:34.506684Z",
     "start_time": "2024-08-01T06:47:34.504633400Z"
    }
   },
   "id": "47fe2028052b01f"
  },
  {
   "cell_type": "code",
   "execution_count": 83,
   "outputs": [
    {
     "ename": "IndexError",
     "evalue": "list index out of range",
     "output_type": "error",
     "traceback": [
      "\u001B[1;31m---------------------------------------------------------------------------\u001B[0m",
      "\u001B[1;31mIndexError\u001B[0m                                Traceback (most recent call last)",
      "Cell \u001B[1;32mIn[83], line 1\u001B[0m\n\u001B[1;32m----> 1\u001B[0m \u001B[38;5;28mprint\u001B[39m(\u001B[38;5;28;43minput\u001B[39;49m\u001B[43m(\u001B[49m\u001B[43m)\u001B[49m\u001B[38;5;241;43m.\u001B[39;49m\u001B[43msplit\u001B[49m\u001B[43m(\u001B[49m\u001B[43m)\u001B[49m\u001B[43m[\u001B[49m\u001B[38;5;241;43m-\u001B[39;49m\u001B[38;5;241;43m1\u001B[39;49m\u001B[43m]\u001B[49m)\n",
      "\u001B[1;31mIndexError\u001B[0m: list index out of range"
     ]
    }
   ],
   "source": [
    "print(input().split()[-1])"
   ],
   "metadata": {
    "collapsed": false,
    "ExecuteTime": {
     "end_time": "2024-08-01T06:47:57.699644500Z",
     "start_time": "2024-08-01T06:47:56.333150Z"
    }
   },
   "id": "4838091589f8e507"
  },
  {
   "cell_type": "code",
   "execution_count": 85,
   "outputs": [
    {
     "ename": "ZeroDivisionError",
     "evalue": "division by zero",
     "output_type": "error",
     "traceback": [
      "\u001B[1;31m---------------------------------------------------------------------------\u001B[0m",
      "\u001B[1;31mZeroDivisionError\u001B[0m                         Traceback (most recent call last)",
      "Cell \u001B[1;32mIn[85], line 2\u001B[0m\n\u001B[0;32m      1\u001B[0m marks \u001B[38;5;241m=\u001B[39m \u001B[38;5;28mlist\u001B[39m(\u001B[38;5;28mmap\u001B[39m(\u001B[38;5;28mint\u001B[39m, \u001B[38;5;28minput\u001B[39m()\u001B[38;5;241m.\u001B[39msplit()))\n\u001B[1;32m----> 2\u001B[0m \u001B[38;5;28;43msum\u001B[39;49m\u001B[43m(\u001B[49m\u001B[43mmarks\u001B[49m\u001B[43m)\u001B[49m\u001B[43m \u001B[49m\u001B[38;5;241;43m/\u001B[39;49m\u001B[43m \u001B[49m\u001B[38;5;28;43mlen\u001B[39;49m\u001B[43m(\u001B[49m\u001B[43mmarks\u001B[49m\u001B[43m)\u001B[49m\n",
      "\u001B[1;31mZeroDivisionError\u001B[0m: division by zero"
     ]
    }
   ],
   "source": [
    "marks = list(map(int, input().split()))\n",
    "sum(marks) / len(marks)"
   ],
   "metadata": {
    "collapsed": false,
    "ExecuteTime": {
     "end_time": "2024-08-01T06:54:27.043525Z",
     "start_time": "2024-08-01T06:54:24.275426700Z"
    }
   },
   "id": "e8f52803ef349d64"
  },
  {
   "cell_type": "code",
   "execution_count": 87,
   "outputs": [],
   "source": [
    "lst = [input() for _ in range(4)]\n",
    "del lst[2]\n",
    "lst[1] = 'Пушкин'\n",
    "lst[-1] = float(lst[-1]) * 2"
   ],
   "metadata": {
    "collapsed": false,
    "ExecuteTime": {
     "end_time": "2024-08-01T06:59:17.674164800Z",
     "start_time": "2024-08-01T06:59:10.937069600Z"
    }
   },
   "id": "d6b5f0515d1e2e29"
  },
  {
   "cell_type": "code",
   "execution_count": 88,
   "outputs": [
    {
     "data": {
      "text/plain": "['adsflkjh', 'Пушкин', '431431']"
     },
     "execution_count": 88,
     "metadata": {},
     "output_type": "execute_result"
    }
   ],
   "source": [
    "lst"
   ],
   "metadata": {
    "collapsed": false,
    "ExecuteTime": {
     "end_time": "2024-08-01T06:59:20.324015500Z",
     "start_time": "2024-08-01T06:59:20.299026100Z"
    }
   },
   "id": "1899065ec02c9037"
  },
  {
   "cell_type": "code",
   "execution_count": 92,
   "outputs": [
    {
     "name": "stdout",
     "output_type": "stream",
     "text": [
      "12 2134 3515\n"
     ]
    }
   ],
   "source": [
    "print(max(lst:=list(map(int, input().split()))), min(lst), sum(lst))"
   ],
   "metadata": {
    "collapsed": false,
    "ExecuteTime": {
     "end_time": "2024-08-01T07:04:44.541531700Z",
     "start_time": "2024-08-01T07:04:42.729238600Z"
    }
   },
   "id": "9a0188f7ee276780"
  },
  {
   "cell_type": "code",
   "execution_count": 95,
   "outputs": [
    {
     "name": "stdout",
     "output_type": "stream",
     "text": [
      "76 65 54 43 43 8\n"
     ]
    }
   ],
   "source": [
    "lst = list(map(int, input().split()))\n",
    "lst = sorted(lst, reverse=True)\n",
    "print(*lst)"
   ],
   "metadata": {
    "collapsed": false,
    "ExecuteTime": {
     "end_time": "2024-08-01T07:11:53.201681200Z",
     "start_time": "2024-08-01T07:11:48.450878800Z"
    }
   },
   "id": "78fbce1c20512089"
  },
  {
   "cell_type": "code",
   "execution_count": null,
   "outputs": [],
   "source": [
    "cities = input().split()\n",
    "print(*cities + [\"Москва\", \"Тверь\", \"Вологда\"])"
   ],
   "metadata": {
    "collapsed": false
   },
   "id": "16991284d7828da3"
  },
  {
   "cell_type": "markdown",
   "source": [
    "<h2>Срезы и операторы сравнения</h2>"
   ],
   "metadata": {
    "collapsed": false
   },
   "id": "26e405c008e8f758"
  },
  {
   "cell_type": "code",
   "execution_count": 96,
   "outputs": [],
   "source": [
    "lst = [1 ,2 ,3 ,4, 5]"
   ],
   "metadata": {
    "collapsed": false,
    "ExecuteTime": {
     "end_time": "2024-08-01T07:43:59.972116300Z",
     "start_time": "2024-08-01T07:43:59.964589300Z"
    }
   },
   "id": "6e51a72cc1f22ca0"
  },
  {
   "cell_type": "code",
   "execution_count": 97,
   "outputs": [
    {
     "data": {
      "text/plain": "[2, 3]"
     },
     "execution_count": 97,
     "metadata": {},
     "output_type": "execute_result"
    }
   ],
   "source": [
    "lst[1:3]"
   ],
   "metadata": {
    "collapsed": false,
    "ExecuteTime": {
     "end_time": "2024-08-01T07:44:03.854633800Z",
     "start_time": "2024-08-01T07:44:03.846455600Z"
    }
   },
   "id": "1df09ac214068de2"
  },
  {
   "cell_type": "code",
   "execution_count": 1,
   "outputs": [
    {
     "name": "stdout",
     "output_type": "stream",
     "text": [
      "[1205, 1101, 1434]\n"
     ]
    }
   ],
   "source": [
    "v = [1205, 1101, 1434, 1320, 923, 874]\n",
    "print(v[:3])"
   ],
   "metadata": {
    "collapsed": false,
    "ExecuteTime": {
     "end_time": "2024-08-02T07:25:24.970661800Z",
     "start_time": "2024-08-02T07:25:24.966153400Z"
    }
   },
   "id": "3e0fa4abe0348e9c"
  },
  {
   "cell_type": "code",
   "execution_count": 2,
   "outputs": [
    {
     "name": "stdout",
     "output_type": "stream",
     "text": [
      "[1434, 1320, 923, 874]\n"
     ]
    }
   ],
   "source": [
    "v = [1205, 1101, 1434, 1320, 923, 874]\n",
    "print(v[-4:])"
   ],
   "metadata": {
    "collapsed": false,
    "ExecuteTime": {
     "end_time": "2024-08-02T07:26:10.959590Z",
     "start_time": "2024-08-02T07:26:10.940585Z"
    }
   },
   "id": "3cb93c1bf33696cb"
  },
  {
   "cell_type": "code",
   "execution_count": 4,
   "outputs": [
    {
     "name": "stdout",
     "output_type": "stream",
     "text": [
      "['Москва', 'Самара', 'Вологда', 'Уфа']\n"
     ]
    }
   ],
   "source": [
    "c = [\"Москва\", \"Ульяновск\", \"Самара\", \"Тверь\", \"Вологда\", \"Омск\", \"Уфа\"]\n",
    "print(c[::2])"
   ],
   "metadata": {
    "collapsed": false,
    "ExecuteTime": {
     "end_time": "2024-08-02T07:27:05.121522700Z",
     "start_time": "2024-08-02T07:27:05.114012700Z"
    }
   },
   "id": "291103bf8b72dd2"
  },
  {
   "cell_type": "code",
   "execution_count": 5,
   "outputs": [
    {
     "name": "stdout",
     "output_type": "stream",
     "text": [
      "['Ульяновск', 'Тверь', 'Омск']\n"
     ]
    }
   ],
   "source": [
    "c = [\"Москва\", \"Ульяновск\", \"Самара\", \"Тверь\", \"Вологда\", \"Омск\", \"Уфа\"]\n",
    "print(c[1::2])"
   ],
   "metadata": {
    "collapsed": false,
    "ExecuteTime": {
     "end_time": "2024-08-02T07:27:41.496243200Z",
     "start_time": "2024-08-02T07:27:41.478237200Z"
    }
   },
   "id": "ab3b6515bc11df2b"
  },
  {
   "cell_type": "code",
   "execution_count": 7,
   "outputs": [
    {
     "name": "stdout",
     "output_type": "stream",
     "text": [
      "[3, 2, 2, 5, 5]\n"
     ]
    }
   ],
   "source": [
    "m = [2, 3, 5, 5, 2, 2, 3, 3, 4, 5, 4, 4]\n",
    "print(m[2:7][::-1])"
   ],
   "metadata": {
    "collapsed": false,
    "ExecuteTime": {
     "end_time": "2024-08-02T07:30:05.467444800Z",
     "start_time": "2024-08-02T07:30:05.459932700Z"
    }
   },
   "id": "93de0b0b24467770"
  },
  {
   "cell_type": "code",
   "execution_count": 8,
   "outputs": [
    {
     "name": "stdout",
     "output_type": "stream",
     "text": [
      "[4, 5, 3, 2, 5, 3]\n"
     ]
    }
   ],
   "source": [
    "m = [2, 3, 5, 5, 2, 2, 3, 3, 4, 5, 4, 4]\n",
    "print(m[::-2])"
   ],
   "metadata": {
    "collapsed": false,
    "ExecuteTime": {
     "end_time": "2024-08-02T07:31:47.252971900Z",
     "start_time": "2024-08-02T07:31:47.248458900Z"
    }
   },
   "id": "b5c6a536c453baff"
  },
  {
   "cell_type": "markdown",
   "source": [
    "<h2>Методы списков</h2>"
   ],
   "metadata": {
    "collapsed": false
   },
   "id": "5478b20faa2808bf"
  },
  {
   "cell_type": "code",
   "execution_count": 9,
   "outputs": [],
   "source": [
    "a = [1, -54, 3, 23, 43, 45, 0]"
   ],
   "metadata": {
    "collapsed": false,
    "ExecuteTime": {
     "end_time": "2024-08-02T07:36:45.235146Z",
     "start_time": "2024-08-02T07:36:45.218116900Z"
    }
   },
   "id": "5e2fcb236b25e039"
  },
  {
   "cell_type": "code",
   "execution_count": 10,
   "outputs": [],
   "source": [
    "a.append(100)"
   ],
   "metadata": {
    "collapsed": false,
    "ExecuteTime": {
     "end_time": "2024-08-02T07:36:50.552009400Z",
     "start_time": "2024-08-02T07:36:50.522585300Z"
    }
   },
   "id": "18d47194c7e04cf8"
  },
  {
   "cell_type": "code",
   "execution_count": 11,
   "outputs": [
    {
     "data": {
      "text/plain": "[1, -54, 3, 23, 43, 45, 0, 100]"
     },
     "execution_count": 11,
     "metadata": {},
     "output_type": "execute_result"
    }
   ],
   "source": [
    "a"
   ],
   "metadata": {
    "collapsed": false,
    "ExecuteTime": {
     "end_time": "2024-08-02T07:36:52.398597100Z",
     "start_time": "2024-08-02T07:36:52.374041900Z"
    }
   },
   "id": "5ee3317c71f63bc1"
  },
  {
   "cell_type": "code",
   "execution_count": 12,
   "outputs": [],
   "source": [
    "a.append([True, False])"
   ],
   "metadata": {
    "collapsed": false,
    "ExecuteTime": {
     "end_time": "2024-08-02T07:37:54.015012700Z",
     "start_time": "2024-08-02T07:37:54.006484700Z"
    }
   },
   "id": "f9c120f1a5563008"
  },
  {
   "cell_type": "code",
   "execution_count": 13,
   "outputs": [
    {
     "data": {
      "text/plain": "[1, -54, 3, 23, 43, 45, 0, 100, [True, False]]"
     },
     "execution_count": 13,
     "metadata": {},
     "output_type": "execute_result"
    }
   ],
   "source": [
    "a"
   ],
   "metadata": {
    "collapsed": false,
    "ExecuteTime": {
     "end_time": "2024-08-02T07:37:56.272304500Z",
     "start_time": "2024-08-02T07:37:56.260587Z"
    }
   },
   "id": "14fea3ffde4088ad"
  },
  {
   "cell_type": "code",
   "execution_count": 14,
   "outputs": [],
   "source": [
    "a.insert(1, 4)"
   ],
   "metadata": {
    "collapsed": false,
    "ExecuteTime": {
     "end_time": "2024-08-02T07:38:16.519155400Z",
     "start_time": "2024-08-02T07:38:16.498102400Z"
    }
   },
   "id": "b657e0cff9722e90"
  },
  {
   "cell_type": "code",
   "execution_count": 15,
   "outputs": [
    {
     "data": {
      "text/plain": "[1, 4, -54, 3, 23, 43, 45, 0, 100, [True, False]]"
     },
     "execution_count": 15,
     "metadata": {},
     "output_type": "execute_result"
    }
   ],
   "source": [
    "a"
   ],
   "metadata": {
    "collapsed": false,
    "ExecuteTime": {
     "end_time": "2024-08-02T07:38:17.564219100Z",
     "start_time": "2024-08-02T07:38:17.543683700Z"
    }
   },
   "id": "35de8597855029a1"
  },
  {
   "cell_type": "code",
   "execution_count": 24,
   "outputs": [],
   "source": [
    "a.insert(-1, 10000)"
   ],
   "metadata": {
    "collapsed": false,
    "ExecuteTime": {
     "end_time": "2024-08-02T07:39:06.942503600Z",
     "start_time": "2024-08-02T07:39:06.933539Z"
    }
   },
   "id": "bab3e7ccfe1f06c7"
  },
  {
   "cell_type": "code",
   "execution_count": 25,
   "outputs": [
    {
     "data": {
      "text/plain": "[10000,\n 10000,\n 1,\n 4,\n -54,\n 3,\n 23,\n 43,\n 45,\n 0,\n 100,\n 10000,\n 10000,\n 10000,\n [True, False]]"
     },
     "execution_count": 25,
     "metadata": {},
     "output_type": "execute_result"
    }
   ],
   "source": [
    "a"
   ],
   "metadata": {
    "collapsed": false,
    "ExecuteTime": {
     "end_time": "2024-08-02T07:39:07.681023400Z",
     "start_time": "2024-08-02T07:39:07.675253800Z"
    }
   },
   "id": "377182678cc1f8b"
  },
  {
   "cell_type": "code",
   "execution_count": 32,
   "outputs": [],
   "source": [
    "a.remove(10000)"
   ],
   "metadata": {
    "collapsed": false,
    "ExecuteTime": {
     "end_time": "2024-08-02T07:40:21.202537600Z",
     "start_time": "2024-08-02T07:40:21.200026600Z"
    }
   },
   "id": "9ce0e25205af61b1"
  },
  {
   "cell_type": "code",
   "execution_count": 33,
   "outputs": [
    {
     "data": {
      "text/plain": "[1, 4, -54, 3, 23, 43, 45, 0, 100, 10000, [True, False]]"
     },
     "execution_count": 33,
     "metadata": {},
     "output_type": "execute_result"
    }
   ],
   "source": [
    "a"
   ],
   "metadata": {
    "collapsed": false,
    "ExecuteTime": {
     "end_time": "2024-08-02T07:40:21.776571700Z",
     "start_time": "2024-08-02T07:40:21.771062500Z"
    }
   },
   "id": "206651bfe6f6f2f4"
  },
  {
   "cell_type": "code",
   "execution_count": 34,
   "outputs": [
    {
     "ename": "ValueError",
     "evalue": "list.remove(x): x not in list",
     "output_type": "error",
     "traceback": [
      "\u001B[1;31m---------------------------------------------------------------------------\u001B[0m",
      "\u001B[1;31mValueError\u001B[0m                                Traceback (most recent call last)",
      "Cell \u001B[1;32mIn[34], line 1\u001B[0m\n\u001B[1;32m----> 1\u001B[0m \u001B[43ma\u001B[49m\u001B[38;5;241;43m.\u001B[39;49m\u001B[43mremove\u001B[49m\u001B[43m(\u001B[49m\u001B[38;5;241;43m11\u001B[39;49m\u001B[43m)\u001B[49m\n",
      "\u001B[1;31mValueError\u001B[0m: list.remove(x): x not in list"
     ]
    }
   ],
   "source": [
    "a.remove(11)"
   ],
   "metadata": {
    "collapsed": false,
    "ExecuteTime": {
     "end_time": "2024-08-02T07:41:31.615032500Z",
     "start_time": "2024-08-02T07:41:31.401878500Z"
    }
   },
   "id": "e0eeb13796c5115"
  },
  {
   "cell_type": "code",
   "execution_count": 35,
   "outputs": [
    {
     "data": {
      "text/plain": "[True, False]"
     },
     "execution_count": 35,
     "metadata": {},
     "output_type": "execute_result"
    }
   ],
   "source": [
    "a.pop()"
   ],
   "metadata": {
    "collapsed": false,
    "ExecuteTime": {
     "end_time": "2024-08-02T07:41:43.885742300Z",
     "start_time": "2024-08-02T07:41:43.849163Z"
    }
   },
   "id": "32f474954d4db0b1"
  },
  {
   "cell_type": "code",
   "execution_count": 36,
   "outputs": [
    {
     "data": {
      "text/plain": "[1, 4, -54, 3, 23, 43, 45, 0, 100, 10000]"
     },
     "execution_count": 36,
     "metadata": {},
     "output_type": "execute_result"
    }
   ],
   "source": [
    "a"
   ],
   "metadata": {
    "collapsed": false,
    "ExecuteTime": {
     "end_time": "2024-08-02T07:41:44.543191100Z",
     "start_time": "2024-08-02T07:41:44.528169Z"
    }
   },
   "id": "ba785a8e7d4493da"
  },
  {
   "cell_type": "code",
   "execution_count": 44,
   "outputs": [
    {
     "ename": "IndexError",
     "evalue": "pop index out of range",
     "output_type": "error",
     "traceback": [
      "\u001B[1;31m---------------------------------------------------------------------------\u001B[0m",
      "\u001B[1;31mIndexError\u001B[0m                                Traceback (most recent call last)",
      "Cell \u001B[1;32mIn[44], line 1\u001B[0m\n\u001B[1;32m----> 1\u001B[0m \u001B[43ma\u001B[49m\u001B[38;5;241;43m.\u001B[39;49m\u001B[43mpop\u001B[49m\u001B[43m(\u001B[49m\u001B[38;5;241;43m3\u001B[39;49m\u001B[43m)\u001B[49m\n",
      "\u001B[1;31mIndexError\u001B[0m: pop index out of range"
     ]
    }
   ],
   "source": [
    "a.pop(3)"
   ],
   "metadata": {
    "collapsed": false,
    "ExecuteTime": {
     "end_time": "2024-08-02T07:47:10.678850900Z",
     "start_time": "2024-08-02T07:47:10.670491800Z"
    }
   },
   "id": "daff057c0fb473b"
  },
  {
   "cell_type": "code",
   "execution_count": 45,
   "outputs": [],
   "source": [
    "a.clear()"
   ],
   "metadata": {
    "collapsed": false,
    "ExecuteTime": {
     "end_time": "2024-08-02T07:47:16.990032200Z",
     "start_time": "2024-08-02T07:47:16.967000200Z"
    }
   },
   "id": "130a704592f1388e"
  },
  {
   "cell_type": "code",
   "execution_count": 46,
   "outputs": [
    {
     "data": {
      "text/plain": "[]"
     },
     "execution_count": 46,
     "metadata": {},
     "output_type": "execute_result"
    }
   ],
   "source": [
    "a"
   ],
   "metadata": {
    "collapsed": false,
    "ExecuteTime": {
     "end_time": "2024-08-02T07:47:18.363926500Z",
     "start_time": "2024-08-02T07:47:18.338384100Z"
    }
   },
   "id": "eb90bdaab7096658"
  },
  {
   "cell_type": "code",
   "execution_count": 47,
   "outputs": [],
   "source": [
    "a = [1, -54, 3, 23, 43, 45, 0]"
   ],
   "metadata": {
    "collapsed": false,
    "ExecuteTime": {
     "end_time": "2024-08-02T07:47:34.832618800Z",
     "start_time": "2024-08-02T07:47:34.812434800Z"
    }
   },
   "id": "5e20bc86231ef92e"
  },
  {
   "cell_type": "code",
   "execution_count": 48,
   "outputs": [],
   "source": [
    "c = a.copy()"
   ],
   "metadata": {
    "collapsed": false,
    "ExecuteTime": {
     "end_time": "2024-08-02T07:47:39.791633Z",
     "start_time": "2024-08-02T07:47:39.762335500Z"
    }
   },
   "id": "62db18256ec2a613"
  },
  {
   "cell_type": "code",
   "execution_count": 49,
   "outputs": [
    {
     "data": {
      "text/plain": "[1, -54, 3, 23, 43, 45, 0]"
     },
     "execution_count": 49,
     "metadata": {},
     "output_type": "execute_result"
    }
   ],
   "source": [
    "c"
   ],
   "metadata": {
    "collapsed": false,
    "ExecuteTime": {
     "end_time": "2024-08-02T07:47:40.608534700Z",
     "start_time": "2024-08-02T07:47:40.583517700Z"
    }
   },
   "id": "794cf9aab974c0b1"
  },
  {
   "cell_type": "code",
   "execution_count": 50,
   "outputs": [
    {
     "data": {
      "text/plain": "False"
     },
     "execution_count": 50,
     "metadata": {},
     "output_type": "execute_result"
    }
   ],
   "source": [
    "id(c) == id(a)"
   ],
   "metadata": {
    "collapsed": false,
    "ExecuteTime": {
     "end_time": "2024-08-02T07:47:49.815559600Z",
     "start_time": "2024-08-02T07:47:49.782991100Z"
    }
   },
   "id": "c82cd0f982be4880"
  },
  {
   "cell_type": "code",
   "execution_count": 54,
   "outputs": [
    {
     "data": {
      "text/plain": "0"
     },
     "execution_count": 54,
     "metadata": {},
     "output_type": "execute_result"
    }
   ],
   "source": [
    "c.count(11)"
   ],
   "metadata": {
    "collapsed": false,
    "ExecuteTime": {
     "end_time": "2024-08-02T07:49:27.016296Z",
     "start_time": "2024-08-02T07:49:27.007275Z"
    }
   },
   "id": "6da0a6f3fed3ce04"
  },
  {
   "cell_type": "code",
   "execution_count": 52,
   "outputs": [],
   "source": [
    "c.append(1)"
   ],
   "metadata": {
    "collapsed": false,
    "ExecuteTime": {
     "end_time": "2024-08-02T07:49:13.705252500Z",
     "start_time": "2024-08-02T07:49:13.680712700Z"
    }
   },
   "id": "d84d70089b223e05"
  },
  {
   "cell_type": "code",
   "execution_count": 60,
   "outputs": [
    {
     "data": {
      "text/plain": "7"
     },
     "execution_count": 60,
     "metadata": {},
     "output_type": "execute_result"
    }
   ],
   "source": [
    "c.index(1, 1)"
   ],
   "metadata": {
    "collapsed": false,
    "ExecuteTime": {
     "end_time": "2024-08-02T07:50:08.454739900Z",
     "start_time": "2024-08-02T07:50:08.445373800Z"
    }
   },
   "id": "c312f5cca3df6471"
  },
  {
   "cell_type": "code",
   "execution_count": 63,
   "outputs": [],
   "source": [
    "c.reverse()"
   ],
   "metadata": {
    "collapsed": false,
    "ExecuteTime": {
     "end_time": "2024-08-02T07:50:49.156753900Z",
     "start_time": "2024-08-02T07:50:49.149721200Z"
    }
   },
   "id": "29e7b81f41d76f9b"
  },
  {
   "cell_type": "code",
   "execution_count": 64,
   "outputs": [
    {
     "data": {
      "text/plain": "[1, -54, 3, 23, 43, 45, 0, 1]"
     },
     "execution_count": 64,
     "metadata": {},
     "output_type": "execute_result"
    }
   ],
   "source": [
    "c"
   ],
   "metadata": {
    "collapsed": false,
    "ExecuteTime": {
     "end_time": "2024-08-02T07:50:49.722307100Z",
     "start_time": "2024-08-02T07:50:49.714711Z"
    }
   },
   "id": "6cfd2fcebb8d8e22"
  },
  {
   "cell_type": "code",
   "execution_count": 67,
   "outputs": [],
   "source": [
    "c.sort(reverse=True)"
   ],
   "metadata": {
    "collapsed": false,
    "ExecuteTime": {
     "end_time": "2024-08-02T07:51:03.321348600Z",
     "start_time": "2024-08-02T07:51:03.310830200Z"
    }
   },
   "id": "f4a973aa2d16af47"
  },
  {
   "cell_type": "code",
   "execution_count": 68,
   "outputs": [
    {
     "data": {
      "text/plain": "[45, 43, 23, 3, 1, 1, 0, -54]"
     },
     "execution_count": 68,
     "metadata": {},
     "output_type": "execute_result"
    }
   ],
   "source": [
    "c"
   ],
   "metadata": {
    "collapsed": false,
    "ExecuteTime": {
     "end_time": "2024-08-02T07:51:03.849391100Z",
     "start_time": "2024-08-02T07:51:03.841540800Z"
    }
   },
   "id": "6c4f193e337ad868"
  },
  {
   "cell_type": "code",
   "execution_count": 71,
   "outputs": [],
   "source": [
    "a = c[:]"
   ],
   "metadata": {
    "collapsed": false,
    "ExecuteTime": {
     "end_time": "2024-08-02T07:51:51.402855300Z",
     "start_time": "2024-08-02T07:51:51.391340900Z"
    }
   },
   "id": "860e4d62bd708aea"
  },
  {
   "cell_type": "code",
   "execution_count": 72,
   "outputs": [
    {
     "data": {
      "text/plain": "[-54, 0, 1, 1, 3, 23, 43, 45]"
     },
     "execution_count": 72,
     "metadata": {},
     "output_type": "execute_result"
    }
   ],
   "source": [
    "sorted(a)"
   ],
   "metadata": {
    "collapsed": false,
    "ExecuteTime": {
     "end_time": "2024-08-02T07:52:07.602362300Z",
     "start_time": "2024-08-02T07:52:07.592571700Z"
    }
   },
   "id": "347ebf05f4f1f232"
  },
  {
   "cell_type": "code",
   "execution_count": 73,
   "outputs": [],
   "source": [
    "a.append('sefdsf')"
   ],
   "metadata": {
    "collapsed": false,
    "ExecuteTime": {
     "end_time": "2024-08-02T07:52:30.533125700Z",
     "start_time": "2024-08-02T07:52:30.507585400Z"
    }
   },
   "id": "f7978d99cb4f026f"
  },
  {
   "cell_type": "code",
   "execution_count": 74,
   "outputs": [
    {
     "ename": "TypeError",
     "evalue": "'<' not supported between instances of 'str' and 'int'",
     "output_type": "error",
     "traceback": [
      "\u001B[1;31m---------------------------------------------------------------------------\u001B[0m",
      "\u001B[1;31mTypeError\u001B[0m                                 Traceback (most recent call last)",
      "Cell \u001B[1;32mIn[74], line 1\u001B[0m\n\u001B[1;32m----> 1\u001B[0m \u001B[43ma\u001B[49m\u001B[38;5;241;43m.\u001B[39;49m\u001B[43msort\u001B[49m\u001B[43m(\u001B[49m\u001B[43m)\u001B[49m\n",
      "\u001B[1;31mTypeError\u001B[0m: '<' not supported between instances of 'str' and 'int'"
     ]
    }
   ],
   "source": [
    "a.sort()"
   ],
   "metadata": {
    "collapsed": false,
    "ExecuteTime": {
     "end_time": "2024-08-02T07:52:33.121062500Z",
     "start_time": "2024-08-02T07:52:33.095558Z"
    }
   },
   "id": "c741ee5aed21361"
  },
  {
   "cell_type": "code",
   "execution_count": 75,
   "outputs": [],
   "source": [
    "#Task"
   ],
   "metadata": {
    "collapsed": false,
    "ExecuteTime": {
     "end_time": "2024-08-02T07:53:29.448745500Z",
     "start_time": "2024-08-02T07:53:29.422235400Z"
    }
   },
   "id": "559fa7c39deb1bf3"
  },
  {
   "cell_type": "code",
   "execution_count": 81,
   "outputs": [
    {
     "name": "stdout",
     "output_type": "stream",
     "text": [
      "123 False\n"
     ]
    }
   ],
   "source": [
    "lst = list(map(int, input().split()))\n",
    "lst.append(lst[0] != lst[-1])\n",
    "print(*lst)"
   ],
   "metadata": {
    "collapsed": false,
    "ExecuteTime": {
     "end_time": "2024-08-02T07:57:23.163121600Z",
     "start_time": "2024-08-02T07:57:22.440478200Z"
    }
   },
   "id": "a07999fb8263e988"
  },
  {
   "cell_type": "code",
   "execution_count": 83,
   "outputs": [
    {
     "name": "stdout",
     "output_type": "stream",
     "text": [
      "Москва Казань Ульяновск Ярославль\n"
     ]
    }
   ],
   "source": [
    "cities = [\"Москва\", \"Казань\", \"Ярославль\"]\n",
    "cities.insert(1, \"Ульяновск\")\n",
    "print(*cities)"
   ],
   "metadata": {
    "collapsed": false,
    "ExecuteTime": {
     "end_time": "2024-08-02T07:58:02.381662400Z",
     "start_time": "2024-08-02T07:58:02.370653900Z"
    }
   },
   "id": "8a732bf28c646b04"
  },
  {
   "cell_type": "code",
   "execution_count": 88,
   "outputs": [
    {
     "name": "stdout",
     "output_type": "stream",
     "text": [
      "8(912)1234567\n"
     ]
    }
   ],
   "source": [
    "number = list(input())\n",
    "number.pop(0)\n",
    "number[0] = '8'\n",
    "number.remove('-')\n",
    "number.remove('-')\n",
    "print(\"\".join(number))"
   ],
   "metadata": {
    "collapsed": false,
    "ExecuteTime": {
     "end_time": "2024-08-02T08:02:00.781638400Z",
     "start_time": "2024-08-02T08:01:59.765302300Z"
    }
   },
   "id": "2dc4e39ec7f8ed5a"
  },
  {
   "cell_type": "code",
   "execution_count": 91,
   "outputs": [
    {
     "name": "stdout",
     "output_type": "stream",
     "text": [
      "Балакирев С. М.\n"
     ]
    }
   ],
   "source": [
    "fio = input().split()\n",
    "print(f'{fio[2]} {fio[0][0]}.{fio[1][0]}.')"
   ],
   "metadata": {
    "collapsed": false,
    "ExecuteTime": {
     "end_time": "2024-08-02T08:13:38.679815200Z",
     "start_time": "2024-08-02T08:13:37.643964900Z"
    }
   },
   "id": "c8396f385d81dfc0"
  },
  {
   "cell_type": "code",
   "execution_count": 96,
   "outputs": [
    {
     "name": "stdout",
     "output_type": "stream",
     "text": [
      "-5 -1 0\n"
     ]
    }
   ],
   "source": [
    "nums = list(map(int, input().split()))\n",
    "nums.sort()\n",
    "print(* nums[:3])"
   ],
   "metadata": {
    "collapsed": false,
    "ExecuteTime": {
     "end_time": "2024-08-02T08:16:29.806505600Z",
     "start_time": "2024-08-02T08:16:25.767202400Z"
    }
   },
   "id": "47c4d68f0604a7c0"
  },
  {
   "cell_type": "code",
   "execution_count": 98,
   "outputs": [
    {
     "name": "stdout",
     "output_type": "stream",
     "text": [
      "8 11 0 3 5 False\n"
     ]
    }
   ],
   "source": [
    "nums = list(map(int, input().split()))\n",
    "nums.append(nums.pop() % 2 == 1)\n",
    "print(*nums)"
   ],
   "metadata": {
    "collapsed": false,
    "ExecuteTime": {
     "end_time": "2024-08-02T08:17:43.701217600Z",
     "start_time": "2024-08-02T08:17:42.805381900Z"
    }
   },
   "id": "d581348e5bc15682"
  },
  {
   "cell_type": "code",
   "execution_count": 99,
   "outputs": [
    {
     "name": "stdout",
     "output_type": "stream",
     "text": [
      "4\n"
     ]
    }
   ],
   "source": [
    "print(list(map(int, input().split())).count(2))"
   ],
   "metadata": {
    "collapsed": false,
    "ExecuteTime": {
     "end_time": "2024-08-02T08:19:07.927173300Z",
     "start_time": "2024-08-02T08:19:04.882239700Z"
    }
   },
   "id": "67f9e0a56b2b5b1a"
  },
  {
   "cell_type": "code",
   "execution_count": 103,
   "outputs": [
    {
     "name": "stdout",
     "output_type": "stream",
     "text": [
      "Дон Енисей Лена Обь\n"
     ]
    }
   ],
   "source": [
    "print(*sorted(input().split())[1:])"
   ],
   "metadata": {
    "collapsed": false,
    "ExecuteTime": {
     "end_time": "2024-08-02T08:21:29.040748200Z",
     "start_time": "2024-08-02T08:21:28.389536700Z"
    }
   },
   "id": "cd4966f9a03b232a"
  },
  {
   "cell_type": "markdown",
   "source": [
    "<h2>Вложенные списки</h2>"
   ],
   "metadata": {
    "collapsed": false
   },
   "id": "7e78e13a9b927e9e"
  },
  {
   "cell_type": "code",
   "execution_count": 104,
   "outputs": [],
   "source": [
    "line = [1, 4, 51, 123]"
   ],
   "metadata": {
    "collapsed": false,
    "ExecuteTime": {
     "end_time": "2024-08-02T08:29:25.089763700Z",
     "start_time": "2024-08-02T08:29:25.060002500Z"
    }
   },
   "id": "254a67aa32417ddc"
  },
  {
   "cell_type": "code",
   "execution_count": 106,
   "outputs": [],
   "source": [
    "img = [[1, 2, 3, 4], [5, 6, 7, 8], [9, 10, 12, 34], [1, 2, 4, 5]]"
   ],
   "metadata": {
    "collapsed": false,
    "ExecuteTime": {
     "end_time": "2024-08-02T08:30:10.351093200Z",
     "start_time": "2024-08-02T08:30:10.328546300Z"
    }
   },
   "id": "9188163a68b4d069"
  },
  {
   "cell_type": "code",
   "execution_count": 108,
   "outputs": [
    {
     "data": {
      "text/plain": "[1, 2, 3, 4]"
     },
     "execution_count": 108,
     "metadata": {},
     "output_type": "execute_result"
    }
   ],
   "source": [
    "img[0]"
   ],
   "metadata": {
    "collapsed": false,
    "ExecuteTime": {
     "end_time": "2024-08-02T08:31:20.319961400Z",
     "start_time": "2024-08-02T08:31:20.307913500Z"
    }
   },
   "id": "9df73e39085d57fc"
  },
  {
   "cell_type": "code",
   "execution_count": 109,
   "outputs": [
    {
     "data": {
      "text/plain": "2"
     },
     "execution_count": 109,
     "metadata": {},
     "output_type": "execute_result"
    }
   ],
   "source": [
    "img[0][1]"
   ],
   "metadata": {
    "collapsed": false,
    "ExecuteTime": {
     "end_time": "2024-08-02T08:31:33.413381200Z",
     "start_time": "2024-08-02T08:31:33.373808500Z"
    }
   },
   "id": "1c2bace5dc705271"
  },
  {
   "cell_type": "code",
   "execution_count": 110,
   "outputs": [],
   "source": [
    "img[1] = [0, 0, 0, 0]"
   ],
   "metadata": {
    "collapsed": false,
    "ExecuteTime": {
     "end_time": "2024-08-02T08:31:58.523808500Z",
     "start_time": "2024-08-02T08:31:58.489268100Z"
    }
   },
   "id": "563d3e97790f0f32"
  },
  {
   "cell_type": "code",
   "execution_count": 111,
   "outputs": [],
   "source": [
    " img[1][:] = [1] * 4"
   ],
   "metadata": {
    "collapsed": false,
    "ExecuteTime": {
     "end_time": "2024-08-02T08:34:24.158689600Z",
     "start_time": "2024-08-02T08:34:24.127598600Z"
    }
   },
   "id": "aa167f968d0b708f"
  },
  {
   "cell_type": "code",
   "execution_count": 112,
   "outputs": [
    {
     "data": {
      "text/plain": "[[1, 2, 3, 4], [1, 1, 1, 1], [9, 10, 12, 34], [1, 2, 4, 5]]"
     },
     "execution_count": 112,
     "metadata": {},
     "output_type": "execute_result"
    }
   ],
   "source": [
    "img"
   ],
   "metadata": {
    "collapsed": false,
    "ExecuteTime": {
     "end_time": "2024-08-02T08:34:27.171397400Z",
     "start_time": "2024-08-02T08:34:27.138155300Z"
    }
   },
   "id": "2fff8c46d61a67ca"
  },
  {
   "cell_type": "code",
   "execution_count": 113,
   "outputs": [],
   "source": [
    "t = [[\"Люблю\", \"тебя\", \"Петра\", \"творенье\"],\n",
    "     [\"Люблю\", \"твой\", \"строгий\", \"стройный\", \"вид\"],\n",
    "     [\"Невы\", \"державное\", \"теченье\"],\n",
    "     [\"Береговой\", \"ее\", \"гранит\"]\n",
    "     ]"
   ],
   "metadata": {
    "collapsed": false,
    "ExecuteTime": {
     "end_time": "2024-08-02T08:37:12.246667900Z",
     "start_time": "2024-08-02T08:37:12.210111400Z"
    }
   },
   "id": "99fe588c14a9d96"
  },
  {
   "cell_type": "code",
   "execution_count": 114,
   "outputs": [
    {
     "name": "stdout",
     "output_type": "stream",
     "text": [
      "Люблю тебя Петра творенье\n",
      "Люблю твой строгий стройный вид\n",
      "Невы державное теченье\n",
      "Береговой ее гранит\n"
     ]
    }
   ],
   "source": [
    "for i in t:\n",
    "    print(*i)"
   ],
   "metadata": {
    "collapsed": false,
    "ExecuteTime": {
     "end_time": "2024-08-02T08:37:30.558558Z",
     "start_time": "2024-08-02T08:37:30.512997700Z"
    }
   },
   "id": "995867ea605ff3d8"
  },
  {
   "cell_type": "code",
   "execution_count": 115,
   "outputs": [],
   "source": [
    "A = [[[True, False], [1, 2, 3]], [\"матрица\", \"вектор\"]]"
   ],
   "metadata": {
    "collapsed": false,
    "ExecuteTime": {
     "end_time": "2024-08-02T08:38:25.944659300Z",
     "start_time": "2024-08-02T08:38:25.914604Z"
    }
   },
   "id": "af257cf12306d7b7"
  },
  {
   "cell_type": "code",
   "execution_count": 116,
   "outputs": [
    {
     "name": "stdout",
     "output_type": "stream",
     "text": [
      "[[True, False], [1, 2, 3]]\n",
      "['матрица', 'вектор']\n"
     ]
    }
   ],
   "source": [
    "for i in A:\n",
    "    print(i)"
   ],
   "metadata": {
    "collapsed": false,
    "ExecuteTime": {
     "end_time": "2024-08-02T08:38:36.237559700Z",
     "start_time": "2024-08-02T08:38:36.200999200Z"
    }
   },
   "id": "4ea1a70f8754985"
  },
  {
   "cell_type": "code",
   "execution_count": 117,
   "outputs": [],
   "source": [
    "#Task"
   ],
   "metadata": {
    "collapsed": false,
    "ExecuteTime": {
     "end_time": "2024-08-02T08:39:16.045425500Z",
     "start_time": "2024-08-02T08:39:16.033906700Z"
    }
   },
   "id": "8aa6450a726a1621"
  },
  {
   "cell_type": "code",
   "execution_count": 118,
   "outputs": [
    {
     "name": "stdout",
     "output_type": "stream",
     "text": [
      "[5.4, 6.7, 10.4, [8, 11]]\n"
     ]
    }
   ],
   "source": [
    "lst = [5.4, 6.7, 10.4]\n",
    "digs = list(map(int, input().split()))\n",
    "lst.append(digs)\n",
    "print(lst)"
   ],
   "metadata": {
    "collapsed": false,
    "ExecuteTime": {
     "end_time": "2024-08-02T08:39:52.337181700Z",
     "start_time": "2024-08-02T08:39:50.351117500Z"
    }
   },
   "id": "9624fb36066c2402"
  },
  {
   "cell_type": "code",
   "execution_count": 119,
   "outputs": [
    {
     "name": "stdout",
     "output_type": "stream",
     "text": [
      "[['Мороз', 'и', 'солнце', 'день', 'чудесный'], ['Еще', 'ты', 'дремлешь', 'друг', 'прелестный'], ['Пора', 'красавица', 'проснись']]\n"
     ]
    }
   ],
   "source": [
    "a = input().split()\n",
    "b = input().split()\n",
    "c = input().split()\n",
    "lst = [a, b, c]\n",
    "print(lst)"
   ],
   "metadata": {
    "collapsed": false,
    "ExecuteTime": {
     "end_time": "2024-08-02T08:41:31.346333600Z",
     "start_time": "2024-08-02T08:41:21.213573600Z"
    }
   },
   "id": "eedbf215717f1c82"
  },
  {
   "cell_type": "code",
   "execution_count": 120,
   "outputs": [
    {
     "name": "stdout",
     "output_type": "stream",
     "text": [
      "1 -4 5\n"
     ]
    }
   ],
   "source": [
    "matrix = [list(map(int, input().split())) for _ in range(3)]\n",
    "print(matrix[0][-1], matrix[1][-1], matrix[2][-1])"
   ],
   "metadata": {
    "collapsed": false,
    "ExecuteTime": {
     "end_time": "2024-08-02T08:44:10.344286500Z",
     "start_time": "2024-08-02T08:44:02.058571400Z"
    }
   },
   "id": "8cbdc63dbf8a6195"
  },
  {
   "cell_type": "code",
   "execution_count": 1,
   "outputs": [
    {
     "name": "stdout",
     "output_type": "stream",
     "text": [
      "True\n"
     ]
    }
   ],
   "source": [
    "t = [[\"Скажи-ка\", \"дядя\", \"ведь\", \"не\", \"даром\"],\n",
    "    [\"Я\", \"Python\", \"выучил\", \"с\", \"каналом\"],\n",
    "    [\"Балакирев\", \"что\", \"раздавал?\"]]\n",
    "word = input()\n",
    "print(word in sum(t, []))"
   ],
   "metadata": {
    "collapsed": false,
    "ExecuteTime": {
     "end_time": "2024-08-02T08:49:11.017736300Z",
     "start_time": "2024-08-02T08:49:08.031644900Z"
    }
   },
   "id": "38ace87c1d572775"
  }
 ],
 "metadata": {
  "kernelspec": {
   "display_name": "Python 3",
   "language": "python",
   "name": "python3"
  },
  "language_info": {
   "codemirror_mode": {
    "name": "ipython",
    "version": 2
   },
   "file_extension": ".py",
   "mimetype": "text/x-python",
   "name": "python",
   "nbconvert_exporter": "python",
   "pygments_lexer": "ipython2",
   "version": "2.7.6"
  }
 },
 "nbformat": 4,
 "nbformat_minor": 5
}
