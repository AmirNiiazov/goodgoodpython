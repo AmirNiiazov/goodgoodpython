{
 "cells": [
  {
   "cell_type": "code",
   "execution_count": 1,
   "id": "initial_id",
   "metadata": {
    "collapsed": true,
    "ExecuteTime": {
     "end_time": "2024-06-30T19:07:24.706048100Z",
     "start_time": "2024-06-30T19:07:24.696518500Z"
    }
   },
   "outputs": [],
   "source": [
    "s1 = 'wefasdf'"
   ]
  },
  {
   "cell_type": "code",
   "execution_count": 2,
   "outputs": [
    {
     "name": "stdout",
     "output_type": "stream",
     "text": [
      "wefasdf\n"
     ]
    }
   ],
   "source": [
    "print(s1)"
   ],
   "metadata": {
    "collapsed": false,
    "ExecuteTime": {
     "end_time": "2024-06-30T19:07:31.009669500Z",
     "start_time": "2024-06-30T19:07:31.004637Z"
    }
   },
   "id": "ad7635de4f1db8d8"
  },
  {
   "cell_type": "code",
   "execution_count": 3,
   "outputs": [
    {
     "name": "stdout",
     "output_type": "stream",
     "text": [
      "\n",
      "sdafsdfsdf\n",
      "asdf\n",
      "asdf\n",
      "asdf\n",
      "asdf\n",
      "asdf\n"
     ]
    }
   ],
   "source": [
    "s3 = '''\n",
    "sdafsdfsdf\n",
    "asdf\n",
    "asdf\n",
    "asdf\n",
    "asdf\n",
    "asdf'''\n",
    "print(s3)"
   ],
   "metadata": {
    "collapsed": false,
    "ExecuteTime": {
     "end_time": "2024-06-30T19:09:36.262181800Z",
     "start_time": "2024-06-30T19:09:36.257669900Z"
    }
   },
   "id": "ccbec9f130fa2732"
  },
  {
   "cell_type": "code",
   "execution_count": 5,
   "outputs": [
    {
     "name": "stdout",
     "output_type": "stream",
     "text": [
      "b'\\nsdafsdfsdf\\nasdf\\nasdf\\nasdf\\nasdf\\nasdf'\n"
     ]
    }
   ],
   "source": [
    "print(bytes(s3, encoding='utf-8'))"
   ],
   "metadata": {
    "collapsed": false,
    "ExecuteTime": {
     "end_time": "2024-06-30T19:10:01.294910600Z",
     "start_time": "2024-06-30T19:10:01.293397Z"
    }
   },
   "id": "79848b3486e2d66a"
  },
  {
   "cell_type": "code",
   "execution_count": 6,
   "outputs": [
    {
     "data": {
      "text/plain": "'\\nsdafsdfsdf\\nasdf\\nasdf\\nasdf\\nasdf\\nasdf'"
     },
     "execution_count": 6,
     "metadata": {},
     "output_type": "execute_result"
    }
   ],
   "source": [
    "s3"
   ],
   "metadata": {
    "collapsed": false,
    "ExecuteTime": {
     "end_time": "2024-06-30T19:10:18.844192800Z",
     "start_time": "2024-06-30T19:10:18.832603300Z"
    }
   },
   "id": "76a4c21b338b0a71"
  },
  {
   "cell_type": "code",
   "execution_count": 7,
   "outputs": [
    {
     "data": {
      "text/plain": "'wefasdf'"
     },
     "execution_count": 7,
     "metadata": {},
     "output_type": "execute_result"
    }
   ],
   "source": [
    "s1"
   ],
   "metadata": {
    "collapsed": false,
    "ExecuteTime": {
     "end_time": "2024-06-30T19:10:56.568274800Z",
     "start_time": "2024-06-30T19:10:56.563252100Z"
    }
   },
   "id": "f81a3524f9b2be0b"
  },
  {
   "cell_type": "code",
   "execution_count": 11,
   "outputs": [
    {
     "data": {
      "text/plain": "'wefasdfwefasdfwefasdfwefasdfwefasdf'"
     },
     "execution_count": 11,
     "metadata": {},
     "output_type": "execute_result"
    }
   ],
   "source": [
    "s1 * 5"
   ],
   "metadata": {
    "collapsed": false,
    "ExecuteTime": {
     "end_time": "2024-06-30T19:11:20.980410Z",
     "start_time": "2024-06-30T19:11:20.977896400Z"
    }
   },
   "id": "f08ed2adee74c46f"
  },
  {
   "cell_type": "code",
   "execution_count": 12,
   "outputs": [
    {
     "data": {
      "text/plain": "36"
     },
     "execution_count": 12,
     "metadata": {},
     "output_type": "execute_result"
    }
   ],
   "source": [
    "len(s3)"
   ],
   "metadata": {
    "collapsed": false,
    "ExecuteTime": {
     "end_time": "2024-06-30T19:11:24.213538700Z",
     "start_time": "2024-06-30T19:11:24.197518400Z"
    }
   },
   "id": "91de7ee432ceb37"
  },
  {
   "cell_type": "code",
   "execution_count": 15,
   "outputs": [
    {
     "data": {
      "text/plain": "1057"
     },
     "execution_count": 15,
     "metadata": {},
     "output_type": "execute_result"
    }
   ],
   "source": [
    "ord('С')"
   ],
   "metadata": {
    "collapsed": false,
    "ExecuteTime": {
     "end_time": "2024-06-30T19:12:00.224967700Z",
     "start_time": "2024-06-30T19:12:00.221452600Z"
    }
   },
   "id": "183f5c1125f9b56d"
  },
  {
   "cell_type": "code",
   "execution_count": 21,
   "outputs": [
    {
     "data": {
      "text/plain": "'ᘂ'"
     },
     "execution_count": 21,
     "metadata": {},
     "output_type": "execute_result"
    }
   ],
   "source": [
    "chr(5634)"
   ],
   "metadata": {
    "collapsed": false,
    "ExecuteTime": {
     "end_time": "2024-06-30T19:12:29.583421500Z",
     "start_time": "2024-06-30T19:12:29.579907100Z"
    }
   },
   "id": "f6b7bed563162874"
  },
  {
   "cell_type": "code",
   "execution_count": 23,
   "outputs": [
    {
     "data": {
      "text/plain": "True"
     },
     "execution_count": 23,
     "metadata": {},
     "output_type": "execute_result"
    }
   ],
   "source": [
    "'rrr' >= 'rrr'"
   ],
   "metadata": {
    "collapsed": false,
    "ExecuteTime": {
     "end_time": "2024-06-30T19:12:45.930699100Z",
     "start_time": "2024-06-30T19:12:45.926184200Z"
    }
   },
   "id": "637ede5ce363b8a3"
  },
  {
   "cell_type": "code",
   "execution_count": 24,
   "outputs": [
    {
     "ename": "SyntaxError",
     "evalue": "invalid decimal literal (2637136739.py, line 1)",
     "output_type": "error",
     "traceback": [
      "\u001B[1;36m  Cell \u001B[1;32mIn[24], line 1\u001B[1;36m\u001B[0m\n\u001B[1;33m    5 + 4i\u001B[0m\n\u001B[1;37m        ^\u001B[0m\n\u001B[1;31mSyntaxError\u001B[0m\u001B[1;31m:\u001B[0m invalid decimal literal\n"
     ]
    }
   ],
   "source": [
    "5 + 4i"
   ],
   "metadata": {
    "collapsed": false,
    "ExecuteTime": {
     "end_time": "2024-06-30T19:13:17.189128700Z",
     "start_time": "2024-06-30T19:13:17.187617200Z"
    }
   },
   "id": "4b259dab7fa556b3"
  },
  {
   "cell_type": "code",
   "execution_count": 26,
   "outputs": [
    {
     "data": {
      "text/plain": "complex"
     },
     "execution_count": 26,
     "metadata": {},
     "output_type": "execute_result"
    }
   ],
   "source": [
    "type(4+5j)"
   ],
   "metadata": {
    "collapsed": false,
    "ExecuteTime": {
     "end_time": "2024-06-30T19:14:04.623918300Z",
     "start_time": "2024-06-30T19:14:04.618407500Z"
    }
   },
   "id": "52705b07a749bb04"
  },
  {
   "cell_type": "code",
   "execution_count": 33,
   "outputs": [
    {
     "name": "stdout",
     "output_type": "stream",
     "text": [
      "obj1 > obj2 = False | obj1 < obj2 = False | obj1 == obj2 = False | obj1 False | obj1 <= obj2 = False | obj1 >= obj2 = False\n"
     ]
    }
   ],
   "source": [
    "class MyClass:\n",
    "    def __init__(self, value):\n",
    "        self.value = value\n",
    "        \n",
    "    def __lt__(self, other):\n",
    "        return False\n",
    "    \n",
    "    def __gt__(self, other):\n",
    "        return False\n",
    "    \n",
    "    def __ge__(self, other):\n",
    "        return False\n",
    "    \n",
    "    def __le__(self, other):\n",
    "        return False\n",
    "    \n",
    "    def __eq__(self, other):\n",
    "        return False\n",
    "    \n",
    "    def __ne__(self, other):\n",
    "        return False\n",
    "\n",
    "obj1 = MyClass(10)\n",
    "obj2 = MyClass(20)\n",
    "\n",
    "print(f'{obj1 > obj2 = } | {obj1 < obj2 = } | {obj1 == obj2 = } | {obj1 != obj2 = } | {obj1 <= obj2 = } | {obj1 >= obj2 = }') # Output: False False False"
   ],
   "metadata": {
    "collapsed": false,
    "ExecuteTime": {
     "end_time": "2024-06-30T19:19:33.929983400Z",
     "start_time": "2024-06-30T19:19:33.926975100Z"
    }
   },
   "id": "69443473a70d49af"
  },
  {
   "cell_type": "code",
   "execution_count": 35,
   "outputs": [
    {
     "name": "stdout",
     "output_type": "stream",
     "text": [
      "sdfgdfg sdfgdfg\n"
     ]
    }
   ],
   "source": [
    "print(input() + ' ' + input())"
   ],
   "metadata": {
    "collapsed": false,
    "ExecuteTime": {
     "end_time": "2024-06-30T19:22:55.622820700Z",
     "start_time": "2024-06-30T19:22:52.408110900Z"
    }
   },
   "id": "814aab68ac6e848b"
  },
  {
   "cell_type": "code",
   "execution_count": 43,
   "outputs": [
    {
     "name": "stdout",
     "output_type": "stream",
     "text": [
      "asdf asdf asdfg asdfg asdfg \n"
     ]
    }
   ],
   "source": [
    "a, b = map(str, input().split())\n",
    "print((a + ' ') * 2 + (b + ' ') * 3)"
   ],
   "metadata": {
    "collapsed": false,
    "ExecuteTime": {
     "end_time": "2024-06-30T19:29:59.023075300Z",
     "start_time": "2024-06-30T19:29:57.255746Z"
    }
   },
   "id": "10c4958677845e37"
  },
  {
   "cell_type": "code",
   "execution_count": 46,
   "outputs": [
    {
     "name": "stdout",
     "output_type": "stream",
     "text": [
      "Переменная a = 4, переменная b = 5\n"
     ]
    }
   ],
   "source": [
    "a, b = input().split()\n",
    "print(\"Переменная a = \" + a + \", переменная b = \" + b)"
   ],
   "metadata": {
    "collapsed": false,
    "ExecuteTime": {
     "end_time": "2024-06-30T19:33:34.272121600Z",
     "start_time": "2024-06-30T19:33:32.939392900Z"
    }
   },
   "id": "fb1e28e839d5ea60"
  },
  {
   "cell_type": "code",
   "execution_count": 47,
   "outputs": [
    {
     "name": "stdout",
     "output_type": "stream",
     "text": [
      "qrtgeg. Длина: 6\n"
     ]
    }
   ],
   "source": [
    "a = input()\n",
    "print(f\"Строка: {a}. Длина: {len(a)}\")"
   ],
   "metadata": {
    "collapsed": false,
    "ExecuteTime": {
     "end_time": "2024-06-30T19:35:02.129404700Z",
     "start_time": "2024-06-30T19:35:01.076019Z"
    }
   },
   "id": "dc0e19bff6ef959c"
  },
  {
   "cell_type": "code",
   "execution_count": 48,
   "outputs": [
    {
     "name": "stdout",
     "output_type": "stream",
     "text": [
      "False False False True\n"
     ]
    }
   ],
   "source": [
    "a, b = input().split()\n",
    "print(a in b, a == b, a > b, a < b)"
   ],
   "metadata": {
    "collapsed": false,
    "ExecuteTime": {
     "end_time": "2024-06-30T19:39:12.123707100Z",
     "start_time": "2024-06-30T19:39:10.058139Z"
    }
   },
   "id": "9398ef892a948716"
  },
  {
   "cell_type": "code",
   "execution_count": 49,
   "outputs": [
    {
     "name": "stdout",
     "output_type": "stream",
     "text": [
      "Коды: g = 103, r = 114\n"
     ]
    }
   ],
   "source": [
    "a,b = input().split()\n",
    "print(f\"Коды: {a} = {ord(a)}, {b} = {ord(b)}\")"
   ],
   "metadata": {
    "collapsed": false,
    "ExecuteTime": {
     "end_time": "2024-06-30T19:40:56.570794600Z",
     "start_time": "2024-06-30T19:40:54.692755400Z"
    }
   },
   "id": "8b1e9752026c4c82"
  },
  {
   "cell_type": "markdown",
   "source": [
    "<h2>Срезы</h2>"
   ],
   "metadata": {
    "collapsed": false
   },
   "id": "295d160e97a3abec"
  },
  {
   "cell_type": "code",
   "execution_count": 50,
   "outputs": [],
   "source": [
    "s = 'hello python'"
   ],
   "metadata": {
    "collapsed": false,
    "ExecuteTime": {
     "end_time": "2024-06-30T19:46:53.906032600Z",
     "start_time": "2024-06-30T19:46:53.891006700Z"
    }
   },
   "id": "887d9ae21222062"
  },
  {
   "cell_type": "code",
   "execution_count": 56,
   "outputs": [
    {
     "ename": "IndexError",
     "evalue": "string index out of range",
     "output_type": "error",
     "traceback": [
      "\u001B[1;31m---------------------------------------------------------------------------\u001B[0m",
      "\u001B[1;31mIndexError\u001B[0m                                Traceback (most recent call last)",
      "Cell \u001B[1;32mIn[56], line 1\u001B[0m\n\u001B[1;32m----> 1\u001B[0m \u001B[43ms\u001B[49m\u001B[43m[\u001B[49m\u001B[38;5;241;43m-\u001B[39;49m\u001B[38;5;241;43m13\u001B[39;49m\u001B[43m]\u001B[49m\n",
      "\u001B[1;31mIndexError\u001B[0m: string index out of range"
     ]
    }
   ],
   "source": [
    "s[-13]"
   ],
   "metadata": {
    "collapsed": false,
    "ExecuteTime": {
     "end_time": "2024-06-30T19:47:17.213556200Z",
     "start_time": "2024-06-30T19:47:17.213050400Z"
    }
   },
   "id": "96963fe2da38c39f"
  },
  {
   "cell_type": "code",
   "execution_count": 57,
   "outputs": [
    {
     "ename": "IndexError",
     "evalue": "string index out of range",
     "output_type": "error",
     "traceback": [
      "\u001B[1;31m---------------------------------------------------------------------------\u001B[0m",
      "\u001B[1;31mIndexError\u001B[0m                                Traceback (most recent call last)",
      "Cell \u001B[1;32mIn[57], line 1\u001B[0m\n\u001B[1;32m----> 1\u001B[0m \u001B[38;5;124;43m'\u001B[39;49m\u001B[38;5;124;43m'\u001B[39;49m\u001B[43m[\u001B[49m\u001B[38;5;241;43m-\u001B[39;49m\u001B[38;5;241;43m1\u001B[39;49m\u001B[43m]\u001B[49m\n",
      "\u001B[1;31mIndexError\u001B[0m: string index out of range"
     ]
    }
   ],
   "source": [
    "''[-1]"
   ],
   "metadata": {
    "collapsed": false,
    "ExecuteTime": {
     "end_time": "2024-06-30T19:47:38.021528900Z",
     "start_time": "2024-06-30T19:47:38.014146200Z"
    }
   },
   "id": "5e0e1e084681e64e"
  },
  {
   "cell_type": "code",
   "execution_count": 59,
   "outputs": [
    {
     "data": {
      "text/plain": "'pn'"
     },
     "execution_count": 59,
     "metadata": {},
     "output_type": "execute_result"
    }
   ],
   "source": [
    "\"panda\"[0:3:2]"
   ],
   "metadata": {
    "collapsed": false,
    "ExecuteTime": {
     "end_time": "2024-06-30T19:48:24.314910500Z",
     "start_time": "2024-06-30T19:48:24.308472500Z"
    }
   },
   "id": "ada4d9a430939215"
  },
  {
   "cell_type": "code",
   "execution_count": 60,
   "outputs": [],
   "source": [
    "a = ('asdasd')"
   ],
   "metadata": {
    "collapsed": false,
    "ExecuteTime": {
     "end_time": "2024-06-30T19:49:22.107977600Z",
     "start_time": "2024-06-30T19:49:22.105465900Z"
    }
   },
   "id": "8191911bce1196e6"
  },
  {
   "cell_type": "code",
   "execution_count": 62,
   "outputs": [],
   "source": [
    "s = a[:]"
   ],
   "metadata": {
    "collapsed": false,
    "ExecuteTime": {
     "end_time": "2024-06-30T19:49:34.234185200Z",
     "start_time": "2024-06-30T19:49:34.226181400Z"
    }
   },
   "id": "3e571fea9d637f56"
  },
  {
   "cell_type": "code",
   "execution_count": 66,
   "outputs": [
    {
     "data": {
      "text/plain": "True"
     },
     "execution_count": 66,
     "metadata": {},
     "output_type": "execute_result"
    }
   ],
   "source": [
    "a is s"
   ],
   "metadata": {
    "collapsed": false,
    "ExecuteTime": {
     "end_time": "2024-06-30T19:49:55.676637Z",
     "start_time": "2024-06-30T19:49:55.672125500Z"
    }
   },
   "id": "aa52f1370483aa27"
  },
  {
   "cell_type": "code",
   "execution_count": 67,
   "outputs": [
    {
     "data": {
      "text/plain": "'asdasd'"
     },
     "execution_count": 67,
     "metadata": {},
     "output_type": "execute_result"
    }
   ],
   "source": [
    "a"
   ],
   "metadata": {
    "collapsed": false,
    "ExecuteTime": {
     "end_time": "2024-06-30T19:50:00.435628900Z",
     "start_time": "2024-06-30T19:50:00.430599300Z"
    }
   },
   "id": "c1091e23281160ed"
  },
  {
   "cell_type": "code",
   "execution_count": 68,
   "outputs": [],
   "source": [
    "f = 'asdasd'"
   ],
   "metadata": {
    "collapsed": false,
    "ExecuteTime": {
     "end_time": "2024-06-30T19:50:07.049589800Z",
     "start_time": "2024-06-30T19:50:07.045065700Z"
    }
   },
   "id": "93f8b19562a31f7"
  },
  {
   "cell_type": "code",
   "execution_count": 72,
   "outputs": [
    {
     "data": {
      "text/plain": "(2582626979968, 2582626979968)"
     },
     "execution_count": 72,
     "metadata": {},
     "output_type": "execute_result"
    }
   ],
   "source": [
    "id(a), id(f)"
   ],
   "metadata": {
    "collapsed": false,
    "ExecuteTime": {
     "end_time": "2024-06-30T19:50:31.999656500Z",
     "start_time": "2024-06-30T19:50:31.995530Z"
    }
   },
   "id": "67823461cd9d1944"
  },
  {
   "cell_type": "code",
   "execution_count": 73,
   "outputs": [
    {
     "data": {
      "text/plain": "2582626979968"
     },
     "execution_count": 73,
     "metadata": {},
     "output_type": "execute_result"
    }
   ],
   "source": [
    "id(s)"
   ],
   "metadata": {
    "collapsed": false,
    "ExecuteTime": {
     "end_time": "2024-06-30T19:50:37.249218100Z",
     "start_time": "2024-06-30T19:50:37.233810Z"
    }
   },
   "id": "b27e6aff365c266a"
  },
  {
   "cell_type": "code",
   "execution_count": 77,
   "outputs": [
    {
     "data": {
      "text/plain": "('asdasd', 'sad')"
     },
     "execution_count": 77,
     "metadata": {},
     "output_type": "execute_result"
    }
   ],
   "source": [
    "s, s[1::2]"
   ],
   "metadata": {
    "collapsed": false,
    "ExecuteTime": {
     "end_time": "2024-06-30T19:55:19.545205700Z",
     "start_time": "2024-06-30T19:55:19.531183400Z"
    }
   },
   "id": "56e3aa508914cb42"
  },
  {
   "cell_type": "code",
   "execution_count": 79,
   "outputs": [
    {
     "name": "stdout",
     "output_type": "stream",
     "text": [
      "hn\n"
     ]
    }
   ],
   "source": [
    "print((value:= input())[0] + value[-1]) "
   ],
   "metadata": {
    "collapsed": false,
    "ExecuteTime": {
     "end_time": "2024-06-30T19:58:56.640778Z",
     "start_time": "2024-06-30T19:58:52.760194700Z"
    }
   },
   "id": "12f6b2f3f09fbc51"
  },
  {
   "cell_type": "code",
   "execution_count": 80,
   "outputs": [
    {
     "name": "stdout",
     "output_type": "stream",
     "text": [
      "asdf\n"
     ]
    }
   ],
   "source": [
    "print(input()[:4])"
   ],
   "metadata": {
    "collapsed": false,
    "ExecuteTime": {
     "end_time": "2024-06-30T20:01:32.226939800Z",
     "start_time": "2024-06-30T20:01:30.877608400Z"
    }
   },
   "id": "72bc8e42ff3f5245"
  },
  {
   "cell_type": "code",
   "execution_count": 81,
   "outputs": [
    {
     "name": "stdout",
     "output_type": "stream",
     "text": [
      "fdc\n"
     ]
    }
   ],
   "source": [
    "print(input()[-3:])"
   ],
   "metadata": {
    "collapsed": false,
    "ExecuteTime": {
     "end_time": "2024-06-30T20:01:50.856554800Z",
     "start_time": "2024-06-30T20:01:46.581593600Z"
    }
   },
   "id": "8f33c7c571fd01fd"
  },
  {
   "cell_type": "code",
   "execution_count": 83,
   "outputs": [
    {
     "name": "stdout",
     "output_type": "stream",
     "text": [
      "aaie\n"
     ]
    }
   ],
   "source": [
    "print(input()[1::2])"
   ],
   "metadata": {
    "collapsed": false,
    "ExecuteTime": {
     "end_time": "2024-06-30T20:03:39.135262500Z",
     "start_time": "2024-06-30T20:03:36.569351300Z"
    }
   },
   "id": "c9758fdcb9c00734"
  },
  {
   "cell_type": "code",
   "execution_count": 84,
   "outputs": [
    {
     "name": "stdout",
     "output_type": "stream",
     "text": [
      "hlo yhn\n"
     ]
    }
   ],
   "source": [
    "a = input()\n",
    "b = input()\n",
    "print(a[::2], b[1::2])"
   ],
   "metadata": {
    "collapsed": false,
    "ExecuteTime": {
     "end_time": "2024-06-30T20:04:40.553618100Z",
     "start_time": "2024-06-30T20:04:36.816062200Z"
    }
   },
   "id": "90e649ec960121b8"
  },
  {
   "cell_type": "code",
   "execution_count": 87,
   "outputs": [
    {
     "name": "stdout",
     "output_type": "stream",
     "text": [
      "karba\n"
     ]
    }
   ],
   "source": [
    "print(input()[::-1][-5:])"
   ],
   "metadata": {
    "collapsed": false,
    "ExecuteTime": {
     "end_time": "2024-06-30T20:07:16.499905900Z",
     "start_time": "2024-06-30T20:07:14.205934Z"
    }
   },
   "id": "d9902de1fa7488c3"
  },
  {
   "cell_type": "code",
   "execution_count": 88,
   "outputs": [
    {
     "name": "stdout",
     "output_type": "stream",
     "text": [
      "balak\n"
     ]
    }
   ],
   "source": [
    "a, b = input().split()\n",
    "print(b[:len(a)])"
   ],
   "metadata": {
    "collapsed": false,
    "ExecuteTime": {
     "end_time": "2024-06-30T20:09:30.019320900Z",
     "start_time": "2024-06-30T20:09:26.144011700Z"
    }
   },
   "id": "7a7ed72f55f39692"
  },
  {
   "cell_type": "code",
   "execution_count": 90,
   "outputs": [
    {
     "name": "stdout",
     "output_type": "stream",
     "text": [
      "False\n"
     ]
    }
   ],
   "source": [
    "a, b = input().split()\n",
    "a = a[:len(b)]\n",
    "print(a[1::2] == b[1::2])"
   ],
   "metadata": {
    "collapsed": false,
    "ExecuteTime": {
     "end_time": "2024-06-30T20:13:05.572594Z",
     "start_time": "2024-06-30T20:13:02.491453700Z"
    }
   },
   "id": "5d01b3ec1697aa4b"
  },
  {
   "cell_type": "code",
   "execution_count": null,
   "outputs": [],
   "source": [],
   "metadata": {
    "collapsed": false
   },
   "id": "b93db7350c9bd5eb"
  }
 ],
 "metadata": {
  "kernelspec": {
   "display_name": "Python 3",
   "language": "python",
   "name": "python3"
  },
  "language_info": {
   "codemirror_mode": {
    "name": "ipython",
    "version": 2
   },
   "file_extension": ".py",
   "mimetype": "text/x-python",
   "name": "python",
   "nbconvert_exporter": "python",
   "pygments_lexer": "ipython2",
   "version": "2.7.6"
  }
 },
 "nbformat": 4,
 "nbformat_minor": 5
}
