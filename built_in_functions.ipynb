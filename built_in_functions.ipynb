{
 "cells": [
  {
   "cell_type": "code",
   "execution_count": 1,
   "id": "initial_id",
   "metadata": {
    "collapsed": true,
    "ExecuteTime": {
     "end_time": "2024-09-19T06:11:48.665116600Z",
     "start_time": "2024-09-19T06:11:48.653381800Z"
    }
   },
   "outputs": [
    {
     "name": "stdout",
     "output_type": "stream",
     "text": [
      "2 4 6 8\n"
     ]
    }
   ],
   "source": [
    "a = [1, 2, 3, 4, 5, 6, 7, 8]\n",
    "b = filter(lambda x: x%2 == 0, a)\n",
    "print(*b)"
   ]
  },
  {
   "cell_type": "code",
   "execution_count": 9,
   "outputs": [
    {
     "name": "stdout",
     "output_type": "stream",
     "text": [
      "2 3 5 7\n"
     ]
    }
   ],
   "source": [
    "a = [1, 2, 3, 4, 5, 6, 7, 8]\n",
    "\n",
    "def is_prime(x):\n",
    "    d = x - 1\n",
    "    if d <= 0:\n",
    "        return False\n",
    "    while d > 1:\n",
    "        if x % d == 0:\n",
    "            return False\n",
    "        d -= 1\n",
    "    return True\n",
    "\n",
    "b = filter(is_prime, a)\n",
    "print(*b)"
   ],
   "metadata": {
    "collapsed": false,
    "ExecuteTime": {
     "end_time": "2024-09-19T06:17:01.528726700Z",
     "start_time": "2024-09-19T06:17:01.525271Z"
    }
   },
   "id": "b073f752f9415aaa"
  },
  {
   "cell_type": "code",
   "execution_count": 10,
   "outputs": [
    {
     "name": "stdout",
     "output_type": "stream",
     "text": [
      "asdfdsf hteheg\n"
     ]
    }
   ],
   "source": [
    "a = ('asfas1', 'asdfdsf', 'hteheg')\n",
    "print(*filter(str.isalpha, a))"
   ],
   "metadata": {
    "collapsed": false,
    "ExecuteTime": {
     "end_time": "2024-09-19T06:17:49.385983500Z",
     "start_time": "2024-09-19T06:17:49.383959100Z"
    }
   },
   "id": "7e70a968791742f"
  },
  {
   "cell_type": "code",
   "execution_count": 12,
   "outputs": [
    {
     "name": "stdout",
     "output_type": "stream",
     "text": [
      "3 5 7\n"
     ]
    }
   ],
   "source": [
    "a = [1, 2, 3, 4, 5, 6, 7, 8]\n",
    "b = filter(lambda x: x % 2 != 0, filter(is_prime, a))\n",
    "print(*b)"
   ],
   "metadata": {
    "collapsed": false,
    "ExecuteTime": {
     "end_time": "2024-09-19T06:18:45.476283400Z",
     "start_time": "2024-09-19T06:18:45.472771800Z"
    }
   },
   "id": "9709ace4abc8e51e"
  },
  {
   "cell_type": "code",
   "execution_count": 16,
   "outputs": [
    {
     "name": "stdout",
     "output_type": "stream",
     "text": [
      "Ульяновск\n",
      "Хабаровск\n",
      "Владивосток\n",
      "None None None\n"
     ]
    }
   ],
   "source": [
    "s = input().split()\n",
    "b = filter(lambda x: len(x) > 5, s)\n",
    "for _ in range(3):\n",
    "    print(next(b), end=' ')"
   ],
   "metadata": {
    "collapsed": false,
    "ExecuteTime": {
     "end_time": "2024-09-19T06:22:49.192787700Z",
     "start_time": "2024-09-19T06:22:47.868879100Z"
    }
   },
   "id": "4eb7d962761c6d75"
  },
  {
   "cell_type": "code",
   "execution_count": 26,
   "outputs": [
    {
     "name": "stdout",
     "output_type": "stream",
     "text": [
      "зонт палатка котелок\n"
     ]
    }
   ],
   "source": [
    "lst_in = ['зонт=1000',\n",
    "          'палатка=10000',\n",
    "          'спички=22',\n",
    "          'котелок=543']\n",
    "\n",
    "t = tuple(map(lambda x: tuple(x.split('=')), lst_in))\n",
    "f = filter(lambda x: int(x[1]) > 500, t)\n",
    "print(*(x for x, w in f))"
   ],
   "metadata": {
    "collapsed": false,
    "ExecuteTime": {
     "end_time": "2024-09-19T06:28:37.631797900Z",
     "start_time": "2024-09-19T06:28:37.630287700Z"
    }
   },
   "id": "9894e7111efa91"
  },
  {
   "cell_type": "code",
   "execution_count": 29,
   "outputs": [
    {
     "name": "stdout",
     "output_type": "stream",
     "text": [
      "11 -23\n"
     ]
    }
   ],
   "source": [
    "num2s = filter(lambda x: len(x.replace('-', '')) == 2 , input().split())\n",
    "print(*num2s)"
   ],
   "metadata": {
    "collapsed": false,
    "ExecuteTime": {
     "end_time": "2024-09-19T06:36:52.485551600Z",
     "start_time": "2024-09-19T06:36:52.037305200Z"
    }
   },
   "id": "7ca1b3149523ddb"
  },
  {
   "cell_type": "code",
   "execution_count": 32,
   "outputs": [
    {
     "name": "stdout",
     "output_type": "stream",
     "text": [
      "2 10\n"
     ]
    }
   ],
   "source": [
    "s1 = map(int, input().split())\n",
    "s2 = map(int, input().split())\n",
    "\n",
    "set_uniq = set(s1) & set(s2)\n",
    "print(*sorted(filter(lambda x: x % 2 == 0, set_uniq)))"
   ],
   "metadata": {
    "collapsed": false,
    "ExecuteTime": {
     "end_time": "2024-09-19T06:40:27.912730500Z",
     "start_time": "2024-09-19T06:40:22.687588600Z"
    }
   },
   "id": "c8511021813ad76c"
  },
  {
   "cell_type": "code",
   "execution_count": 35,
   "outputs": [
    {
     "name": "stdout",
     "output_type": "stream",
     "text": [
      "abc@it.ru biba123@list.ru sc_lib@list.ru\n"
     ]
    }
   ],
   "source": [
    "import string\n",
    "\n",
    "emails = input().split()\n",
    "letters_and_digits=string.ascii_lowercase + string.digits + '_@.'\n",
    "\n",
    "def check_email(email):\n",
    "    if not set(email).issubset(letters_and_digits):\n",
    "        return False\n",
    "    if '@' not in email:\n",
    "        return False\n",
    "    if '.' not in email.split('@')[1]:\n",
    "        return False\n",
    "    return True\n",
    "\n",
    "print(*filter(check_email, emails))"
   ],
   "metadata": {
    "collapsed": false,
    "ExecuteTime": {
     "end_time": "2024-09-19T06:47:40.520928500Z",
     "start_time": "2024-09-19T06:47:39.792940700Z"
    }
   },
   "id": "fae97d27cd35ced0"
  },
  {
   "cell_type": "code",
   "execution_count": 15,
   "outputs": [
    {
     "name": "stdout",
     "output_type": "stream",
     "text": [
      "(1, 5)\n",
      "(2, 6)\n",
      "(3, 7)\n"
     ]
    }
   ],
   "source": [
    "a = [1, 2, 3, 4]\n",
    "b = [5, 6, 7]\n",
    "z = zip(a, b)\n",
    "for i in z:\n",
    "    print(i)"
   ],
   "metadata": {
    "collapsed": false,
    "ExecuteTime": {
     "end_time": "2024-09-22T13:11:08.997274400Z",
     "start_time": "2024-09-22T13:11:08.995760300Z"
    }
   },
   "id": "47a938e3aceaa9bd"
  },
  {
   "cell_type": "code",
   "execution_count": 3,
   "outputs": [],
   "source": [
    "for i in z:\n",
    "    print(i)"
   ],
   "metadata": {
    "collapsed": false,
    "ExecuteTime": {
     "end_time": "2024-09-22T13:06:37.915438100Z",
     "start_time": "2024-09-22T13:06:37.909407100Z"
    }
   },
   "id": "68fe1465738d188d"
  },
  {
   "cell_type": "code",
   "execution_count": 9,
   "outputs": [
    {
     "data": {
      "text/plain": "(zip, object)"
     },
     "execution_count": 9,
     "metadata": {},
     "output_type": "execute_result"
    }
   ],
   "source": [
    "z.__class__.__mro__"
   ],
   "metadata": {
    "collapsed": false,
    "ExecuteTime": {
     "end_time": "2024-09-22T13:08:12.771230800Z",
     "start_time": "2024-09-22T13:08:12.768169Z"
    }
   },
   "id": "4ffcc0d02156199c"
  },
  {
   "cell_type": "code",
   "execution_count": 17,
   "outputs": [
    {
     "name": "stdout",
     "output_type": "stream",
     "text": [
      "1 [5, 'a']\n",
      "2 [6, 's']\n",
      "3 [7, 'd']\n"
     ]
    }
   ],
   "source": [
    "c = 'asdfasdfdff'\n",
    "for x, *y in zip(a, b, c):\n",
    "    print(x, y )"
   ],
   "metadata": {
    "collapsed": false,
    "ExecuteTime": {
     "end_time": "2024-09-22T13:11:49.127159400Z",
     "start_time": "2024-09-22T13:11:49.122642400Z"
    }
   },
   "id": "38edc56bfe896bec"
  },
  {
   "cell_type": "code",
   "execution_count": 18,
   "outputs": [
    {
     "name": "stdout",
     "output_type": "stream",
     "text": [
      "(1, 2, 3, 4) (5, 6, 7, 8) ('p', 'y', 't', 'h')\n"
     ]
    }
   ],
   "source": [
    "a = [1, 2, 3, 4]\n",
    "b = [5, 6, 7, 8]\n",
    "c = 'python'\n",
    "\n",
    "z = zip(a, b, c)\n",
    "lz = list(z)\n",
    "t1, t2, t3 = zip(*lz)\n",
    "print(t1, t2, t3)"
   ],
   "metadata": {
    "collapsed": false,
    "ExecuteTime": {
     "end_time": "2024-09-22T13:13:28.329868600Z",
     "start_time": "2024-09-22T13:13:28.323345100Z"
    }
   },
   "id": "f8cdb969411f340e"
  },
  {
   "cell_type": "code",
   "execution_count": null,
   "outputs": [],
   "source": [
    "num_1 = tuple(map(int,input().split()))\n",
    "num_2 = tuple(map(int,input().split()))\n",
    "\n",
    "itr = map(lambda multy: multy[0] * multy[1], zip(num_1, num_2))\n",
    "print(*(next(itr) for x in range(3)))"
   ],
   "metadata": {
    "collapsed": false
   },
   "id": "281e760e62d5d7ed"
  },
  {
   "cell_type": "code",
   "execution_count": 26,
   "outputs": [
    {
     "name": "stdout",
     "output_type": "stream",
     "text": [
      "1 2 3\n",
      "3 4 5\n",
      "7 8 9\n",
      "9 7 5\n"
     ]
    }
   ],
   "source": [
    "lst_in = ['1 2 3 4 5 6', '3 4 5 6', '7 8 9', '9 7 5 3 2']\n",
    "lst_in = [s.replace(' ', '') for s in lst_in]\n",
    "for i in zip(*zip(*lst_in)):\n",
    "    print(*i)"
   ],
   "metadata": {
    "collapsed": false,
    "ExecuteTime": {
     "end_time": "2024-09-22T13:21:37.193973100Z",
     "start_time": "2024-09-22T13:21:37.189953300Z"
    }
   },
   "id": "a946c9b62692f171"
  },
  {
   "cell_type": "code",
   "execution_count": 37,
   "outputs": [],
   "source": [
    "words = input().split()\n",
    "z = zip(*[iter(words)]*3)\n",
    "for i in z:\n",
    "    print(*i)"
   ],
   "metadata": {
    "collapsed": false,
    "ExecuteTime": {
     "end_time": "2024-09-22T13:30:42.275700700Z",
     "start_time": "2024-09-22T13:30:40.572383600Z"
    }
   },
   "id": "527db225f2bf7736"
  },
  {
   "cell_type": "markdown",
   "source": [],
   "metadata": {
    "collapsed": false
   },
   "id": "f029a121ea36dee4"
  },
  {
   "cell_type": "code",
   "execution_count": 39,
   "outputs": [
    {
     "name": "stdout",
     "output_type": "stream",
     "text": [
      "('S', 0) ('e', 1) ('r', 2) ('g', 3) ('e', 4) ('y', 5) (' ', 6) ('B', 7) ('a', 8) ('l', 9)\n"
     ]
    }
   ],
   "source": [
    "s = input()\n",
    "s = \"Sergey Balakirev\"\n",
    "lst = list(zip(s, range(10)))\n",
    "print(*lst)"
   ],
   "metadata": {
    "collapsed": false,
    "ExecuteTime": {
     "end_time": "2024-09-22T13:34:41.698470400Z",
     "start_time": "2024-09-22T13:34:40.912620600Z"
    }
   },
   "id": "9a1859f453564e37"
  },
  {
   "cell_type": "code",
   "execution_count": 47,
   "outputs": [
    {
     "name": "stdout",
     "output_type": "stream",
     "text": [
      "[3, 2, 2, 1, 1]\n"
     ]
    }
   ],
   "source": [
    "a = [1, 2, 3, 2, 1]\n",
    "print(sorted(a, reverse=True))"
   ],
   "metadata": {
    "collapsed": false,
    "ExecuteTime": {
     "end_time": "2024-09-22T13:45:45.715994Z",
     "start_time": "2024-09-22T13:45:45.711986600Z"
    }
   },
   "id": "4bf6084e54c5ca21"
  },
  {
   "cell_type": "code",
   "execution_count": 49,
   "outputs": [
    {
     "name": "stdout",
     "output_type": "stream",
     "text": [
      "['дерево', 'дом', 'дорога', 'река']\n"
     ]
    }
   ],
   "source": [
    "d = {'river': \"река\", 'house': \"дом\", 'tree': \"дерево\", 'road': \"дорога\"}\n",
    "print(sorted(d.values()))"
   ],
   "metadata": {
    "collapsed": false,
    "ExecuteTime": {
     "end_time": "2024-09-22T13:47:41.823522300Z",
     "start_time": "2024-09-22T13:47:41.818502700Z"
    }
   },
   "id": "52e389448591a7cd"
  },
  {
   "cell_type": "code",
   "execution_count": null,
   "outputs": [],
   "source": [
    "lst = list(map(int, input().split()))\n",
    "tp_lst = tuple(sorted(lst))\n",
    "lst.sort()"
   ],
   "metadata": {
    "collapsed": false
   },
   "id": "8e05352626bf54db"
  },
  {
   "cell_type": "code",
   "execution_count": null,
   "outputs": [],
   "source": [
    "def get_sort(d):\n",
    "    return dict(sorted(d.items(), reverse=True)).values()\n",
    "    # return [d[i] for i in sorted(d, reverse=True)]"
   ],
   "metadata": {
    "collapsed": false
   },
   "id": "184abf4eb0f228e4"
  },
  {
   "cell_type": "code",
   "execution_count": 57,
   "outputs": [
    {
     "ename": "ValueError",
     "evalue": "invalid literal for int() with base 10: 'nums'",
     "output_type": "error",
     "traceback": [
      "\u001B[1;31m---------------------------------------------------------------------------\u001B[0m",
      "\u001B[1;31mValueError\u001B[0m                                Traceback (most recent call last)",
      "Cell \u001B[1;32mIn[57], line 2\u001B[0m\n\u001B[0;32m      1\u001B[0m nums \u001B[38;5;241m=\u001B[39m \u001B[38;5;28mmap\u001B[39m(\u001B[38;5;28mint\u001B[39m, \u001B[38;5;28minput\u001B[39m()\u001B[38;5;241m.\u001B[39msplit())\n\u001B[1;32m----> 2\u001B[0m \u001B[38;5;28mprint\u001B[39m(\u001B[38;5;241m*\u001B[39m\u001B[38;5;28msorted\u001B[39m(\u001B[38;5;28;43mset\u001B[39;49m\u001B[43m(\u001B[49m\u001B[43mnums\u001B[49m\u001B[43m)\u001B[49m, reverse\u001B[38;5;241m=\u001B[39m\u001B[38;5;28;01mTrue\u001B[39;00m)[:\u001B[38;5;241m4\u001B[39m])\n",
      "\u001B[1;31mValueError\u001B[0m: invalid literal for int() with base 10: 'nums'"
     ]
    }
   ],
   "source": [
    "nums = map(int, input().split())\n",
    "print(*sorted(set(nums), reverse=True)[:4])"
   ],
   "metadata": {
    "collapsed": false,
    "ExecuteTime": {
     "end_time": "2024-09-22T13:57:39.967618Z",
     "start_time": "2024-09-22T13:57:39.379166800Z"
    }
   },
   "id": "89defc184a10bc74"
  },
  {
   "cell_type": "code",
   "execution_count": 58,
   "outputs": [
    {
     "name": "stdout",
     "output_type": "stream",
     "text": [
      "67 14 9 11 10 3\n"
     ]
    }
   ],
   "source": [
    "n1 = tuple(map(int, input().split()))\n",
    "n2 = tuple(map(int, input().split()))\n",
    "\n",
    "print(*[x + y for x, y in zip(sorted(n1), sorted(n2, reverse=True))])"
   ],
   "metadata": {
    "collapsed": false,
    "ExecuteTime": {
     "end_time": "2024-09-22T13:58:59.232090100Z",
     "start_time": "2024-09-22T13:58:52.182250Z"
    }
   },
   "id": "23761499c7da8fc0"
  },
  {
   "cell_type": "code",
   "execution_count": 80,
   "outputs": [
    {
     "name": "stdout",
     "output_type": "stream",
     "text": [
      "{120000: 'смартфон', 2: 'яблоко', 560: 'сумка', 2500: 'брюки', 10: 'линейка', 500: 'бумага'}\n",
      "['яблоко', 'линейка', 'бумага', 'сумка', 'брюки', 'смартфон']\n"
     ]
    }
   ],
   "source": [
    "lst_in = ['смартфон:120000', 'яблоко:2', 'сумка:560', 'брюки:2500', 'линейка:10', 'бумага:500']\n",
    "\n",
    "d = {int(key):val for x in lst_in for val, key in [x.split(':')]}\n",
    "\n",
    "def get_cheap(d):\n",
    "    return [d[x] for x in sorted(d)]\n",
    "\n",
    "print(get_cheap(d))"
   ],
   "metadata": {
    "collapsed": false,
    "ExecuteTime": {
     "end_time": "2024-09-22T14:10:29.172907400Z",
     "start_time": "2024-09-22T14:10:29.169229900Z"
    }
   },
   "id": "db025b9a84fb6a39"
  },
  {
   "cell_type": "code",
   "execution_count": 81,
   "outputs": [],
   "source": [
    "a = [4, 3, -10, 1, 7, 12]"
   ],
   "metadata": {
    "collapsed": false,
    "ExecuteTime": {
     "end_time": "2024-09-22T18:35:03.051860400Z",
     "start_time": "2024-09-22T18:35:03.044755700Z"
    }
   },
   "id": "7eacfd60a1b68916"
  },
  {
   "cell_type": "code",
   "execution_count": 82,
   "outputs": [],
   "source": [
    "def is_odd(x):\n",
    "    return x % 2\n",
    "\n",
    "b = sorted(a, key=is_odd)"
   ],
   "metadata": {
    "collapsed": false,
    "ExecuteTime": {
     "end_time": "2024-09-22T18:35:34.523286200Z",
     "start_time": "2024-09-22T18:35:34.511771400Z"
    }
   },
   "id": "68fe87c56b4135d1"
  },
  {
   "cell_type": "code",
   "execution_count": 83,
   "outputs": [
    {
     "data": {
      "text/plain": "[4, -10, 12, 3, 1, 7]"
     },
     "execution_count": 83,
     "metadata": {},
     "output_type": "execute_result"
    }
   ],
   "source": [
    "b"
   ],
   "metadata": {
    "collapsed": false,
    "ExecuteTime": {
     "end_time": "2024-09-22T18:35:36.180924400Z",
     "start_time": "2024-09-22T18:35:36.169573500Z"
    }
   },
   "id": "b03285a0242839c5"
  },
  {
   "cell_type": "code",
   "execution_count": 84,
   "outputs": [],
   "source": [
    "def key_sort(x):\n",
    "    return x if x % 2 == 0 else 100 + x\n",
    "\n",
    "b = sorted(a, key=key_sort)"
   ],
   "metadata": {
    "collapsed": false,
    "ExecuteTime": {
     "end_time": "2024-09-22T18:37:39.963396Z",
     "start_time": "2024-09-22T18:37:39.955373100Z"
    }
   },
   "id": "f360452a267de632"
  },
  {
   "cell_type": "code",
   "execution_count": 85,
   "outputs": [
    {
     "data": {
      "text/plain": "[-10, 4, 12, 1, 3, 7]"
     },
     "execution_count": 85,
     "metadata": {},
     "output_type": "execute_result"
    }
   ],
   "source": [
    "b"
   ],
   "metadata": {
    "collapsed": false,
    "ExecuteTime": {
     "end_time": "2024-09-22T18:37:41.270149600Z",
     "start_time": "2024-09-22T18:37:41.250072200Z"
    }
   },
   "id": "8cdce83f1b7c3277"
  },
  {
   "cell_type": "code",
   "execution_count": 86,
   "outputs": [
    {
     "name": "stdout",
     "output_type": "stream",
     "text": [
      "[-10, 4, 12, 1, 3, 7]\n"
     ]
    }
   ],
   "source": [
    "print(sorted(a, key=lambda x: (x % 2, x)))"
   ],
   "metadata": {
    "collapsed": false,
    "ExecuteTime": {
     "end_time": "2024-09-22T18:38:06.655723600Z",
     "start_time": "2024-09-22T18:38:06.644694500Z"
    }
   },
   "id": "88957b2722de1724"
  },
  {
   "cell_type": "code",
   "execution_count": 90,
   "outputs": [
    {
     "name": "stdout",
     "output_type": "stream",
     "text": [
      "['Тверь', 'Псков', 'Москва', 'Рязань', 'Смоленск']\n"
     ]
    }
   ],
   "source": [
    "lst = [\"Москва\", \"Тверь\", \"Смоленск\", \"Псков\", \"Рязань\"]\n",
    "print(sorted(lst, key=len))"
   ],
   "metadata": {
    "collapsed": false,
    "ExecuteTime": {
     "end_time": "2024-09-22T18:41:32.821759200Z",
     "start_time": "2024-09-22T18:41:32.818616900Z"
    }
   },
   "id": "e3c75f7f2eac3117"
  },
  {
   "cell_type": "code",
   "execution_count": 92,
   "outputs": [
    {
     "name": "stdout",
     "output_type": "stream",
     "text": [
      "['Москва', 'Псков', 'Рязань', 'Смоленск', 'Тверь']\n"
     ]
    }
   ],
   "source": [
    "lst = [\"Москва\", \"Тверь\", \"Смоленск\", \"Псков\", \"Рязань\"]\n",
    "print(sorted(lst, key=lambda x: x[0]))"
   ],
   "metadata": {
    "collapsed": false,
    "ExecuteTime": {
     "end_time": "2024-09-22T18:42:11.198410200Z",
     "start_time": "2024-09-22T18:42:11.190375100Z"
    }
   },
   "id": "34131a999b9b9a4d"
  },
  {
   "cell_type": "code",
   "execution_count": 94,
   "outputs": [
    {
     "name": "stdout",
     "output_type": "stream",
     "text": [
      "[('Евгений Онегин', 'Пушкин А.С.', 200), ('Мастер и Маргарита', 'Булгаков М.А.', 500), ('Мертвые души', 'Гоголь Н.В.', 190), ('Муму', 'Тургенев И.С.', 250)]\n"
     ]
    }
   ],
   "source": [
    "books = (\n",
    "    (\"Евгений Онегин\", \"Пушкин А.С.\", 200),\n",
    "    (\"Муму\", \"Тургенев И.С.\", 250),\n",
    "    (\"Мастер и Маргарита\", \"Булгаков М.А.\", 500),\n",
    "    (\"Мертвые души\", \"Гоголь Н.В.\", 190)\n",
    ")\n",
    "b = sorted(books)\n",
    "print(b)"
   ],
   "metadata": {
    "collapsed": false,
    "ExecuteTime": {
     "end_time": "2024-09-22T18:42:55.631436400Z",
     "start_time": "2024-09-22T18:42:55.627912400Z"
    }
   },
   "id": "4d1880a8a2acb6a5"
  },
  {
   "cell_type": "code",
   "execution_count": null,
   "outputs": [],
   "source": [
    "rivers = input().split()\n",
    "print(sorted(rivers, key=len, reverse=True))"
   ],
   "metadata": {
    "collapsed": false
   },
   "id": "d753b9bd5ba458d"
  },
  {
   "cell_type": "code",
   "execution_count": 97,
   "outputs": [
    {
     "name": "stdout",
     "output_type": "stream",
     "text": [
      "котелок зеркальце зажигалка спички ножницы\n"
     ]
    }
   ],
   "source": [
    "lst_in = [\n",
    "          'ножницы=100',\n",
    "          'котелок=500',\n",
    "          'спички=20',\n",
    "          'зажигалка=40',\n",
    "          'зеркальце=50'\n",
    "         ]\n",
    "# d = {key: int(val) for x in lst_in for key, val in [x.split('=')]}\n",
    "d = dict(c.split('=') for c in lst_in)\n",
    "b = sorted(d.keys(), key=lambda x: d[x], reverse=True)\n",
    "print(*b)"
   ],
   "metadata": {
    "collapsed": false,
    "ExecuteTime": {
     "end_time": "2024-09-22T18:47:52.149153400Z",
     "start_time": "2024-09-22T18:47:52.144643200Z"
    }
   },
   "id": "d6cba95519d1979f"
  },
  {
   "cell_type": "code",
   "execution_count": null,
   "outputs": [],
   "source": [
    "r_notes = ('до', 'ре', 'ми', 'фа', 'соль', 'ля', 'си')\n",
    "notes = input().split()\n",
    "print(*sorted(notes, key=lambda x: r_notes.index(x)))\n",
    "\n",
    "# print(*sorted(input().split(), key=lambda x: ('до', 'ре', 'ми', 'фа', 'соль', 'ля', 'си').index(x)))"
   ],
   "metadata": {
    "collapsed": false
   },
   "id": "d5e0e6c1ef498a15"
  },
  {
   "cell_type": "code",
   "execution_count": 116,
   "outputs": [
    {
     "name": "stdout",
     "output_type": "stream",
     "text": [
      "(('Имя', 'Зачет', 'Оценка', 'Номер'), ('Портос', 'Да', 5, 1), ('Арамис', 'Да', 3, 2), ('Атос', 'Да', 4, 3), (\"д'Артаньян\", 'Нет', 2, 4), ('Балакирев', 'Нет', 1, 5))\n"
     ]
    }
   ],
   "source": [
    "lst_in = [\n",
    "          'Номер;Имя;Оценка;Зачет',\n",
    "          '1;Портос;5;Да',\n",
    "          '2;Арамис;3;Да',\n",
    "          '3;Атос;4;Да',\n",
    "          '4;д\\'Артаньян;2;Нет',\n",
    "          '5;Балакирев;1;Нет'\n",
    "         ]\n",
    "mask = [3, 0, 2, 1]\n",
    "\n",
    "t_sorted = tuple(tuple(int(s) if s.isdigit() else s for s in x.split(';')) for x in lst_in)\n",
    "t_sorted = tuple(tuple(x) for x in [sorted(x, key=lambda i: mask[x.index(i)]) for x in t_sorted])\n",
    "print(t_sorted)\n",
    "# lst = [tuple(lst_in[0].split(';'))]\n",
    "# for x in lst_in[1:]:\n",
    "#     a, b, c, d = x.split(';')\n",
    "#     lst.append((int(a), b,int(c), d))\n",
    "# tr = tuple(lst)\n",
    "# \n",
    "# n = [3, 0, 2, 1]\n",
    "# t_sorted = sorted(tr[1:], key=lambda x: n.index(tr.index(x)))\n",
    "# print(tr)"
   ],
   "metadata": {
    "collapsed": false,
    "ExecuteTime": {
     "end_time": "2024-09-22T19:07:31.814997Z",
     "start_time": "2024-09-22T19:07:31.811480100Z"
    }
   },
   "id": "efe622a516bd37f8"
  },
  {
   "cell_type": "code",
   "execution_count": 119,
   "outputs": [
    {
     "name": "stdout",
     "output_type": "stream",
     "text": [
      "[['Балакирев', 'рядовой'], ['Портос', 'прапорщик'], ['Атос', 'лейтенант'], ['Арамис', 'лейтенант'], [\"д'Артаньян\", 'капитан']]\n"
     ]
    }
   ],
   "source": [
    "lst_in = ['Атос=лейтенант', 'Портос=прапорщик', \"д'Артаньян=капитан\",\n",
    "          'Арамис=лейтенант', 'Балакирев=рядовой']\n",
    "rank = ['рядовой', 'сержант', 'старшина', 'прапорщик', 'лейтенант',\n",
    "        'капитан', 'майор', 'подполковник', 'полковник']\n",
    "\n",
    "lst = [x.split('=') for x in lst_in]\n",
    "print(sorted(lst, key=lambda x: rank.index(x[1])))"
   ],
   "metadata": {
    "collapsed": false,
    "ExecuteTime": {
     "end_time": "2024-09-22T19:11:34.871659400Z",
     "start_time": "2024-09-22T19:11:34.867149Z"
    }
   },
   "id": "59496d267ac6073d"
  }
 ],
 "metadata": {
  "kernelspec": {
   "display_name": "Python 3",
   "language": "python",
   "name": "python3"
  },
  "language_info": {
   "codemirror_mode": {
    "name": "ipython",
    "version": 2
   },
   "file_extension": ".py",
   "mimetype": "text/x-python",
   "name": "python",
   "nbconvert_exporter": "python",
   "pygments_lexer": "ipython2",
   "version": "2.7.6"
  }
 },
 "nbformat": 4,
 "nbformat_minor": 5
}
