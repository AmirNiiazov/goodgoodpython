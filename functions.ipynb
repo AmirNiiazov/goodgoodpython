{
 "cells": [
  {
   "cell_type": "code",
   "execution_count": 6,
   "metadata": {
    "collapsed": true,
    "ExecuteTime": {
     "end_time": "2024-08-27T17:15:04.956400800Z",
     "start_time": "2024-08-27T17:15:04.949879400Z"
    }
   },
   "outputs": [
    {
     "data": {
      "text/plain": "<function print(*args, sep=' ', end='\\n', file=None, flush=False)>"
     },
     "execution_count": 6,
     "metadata": {},
     "output_type": "execute_result"
    }
   ],
   "source": [
    "print"
   ]
  },
  {
   "cell_type": "code",
   "execution_count": 3,
   "outputs": [
    {
     "name": "stdout",
     "output_type": "stream",
     "text": [
      "hello\n"
     ]
    }
   ],
   "source": [
    "f('hello')"
   ],
   "metadata": {
    "collapsed": false,
    "ExecuteTime": {
     "end_time": "2024-08-27T17:14:38.356864900Z",
     "start_time": "2024-08-27T17:14:38.301681200Z"
    }
   }
  },
  {
   "cell_type": "code",
   "execution_count": 4,
   "outputs": [
    {
     "data": {
      "text/plain": "<function print(*args, sep=' ', end='\\n', file=None, flush=False)>"
     },
     "execution_count": 4,
     "metadata": {},
     "output_type": "execute_result"
    }
   ],
   "source": [
    "f"
   ],
   "metadata": {
    "collapsed": false,
    "ExecuteTime": {
     "end_time": "2024-08-27T17:14:45.328225300Z",
     "start_time": "2024-08-27T17:14:45.315223100Z"
    }
   }
  },
  {
   "cell_type": "code",
   "execution_count": 5,
   "outputs": [
    {
     "data": {
      "text/plain": "<function print(*args, sep=' ', end='\\n', file=None, flush=False)>"
     },
     "execution_count": 5,
     "metadata": {},
     "output_type": "execute_result"
    }
   ],
   "source": [
    "print"
   ],
   "metadata": {
    "collapsed": false,
    "ExecuteTime": {
     "end_time": "2024-08-27T17:14:50.999444400Z",
     "start_time": "2024-08-27T17:14:50.974920700Z"
    }
   }
  },
  {
   "cell_type": "code",
   "execution_count": 7,
   "outputs": [],
   "source": [
    "print = ';asdfnsdf'"
   ],
   "metadata": {
    "collapsed": false,
    "ExecuteTime": {
     "end_time": "2024-08-27T17:15:17.024306300Z",
     "start_time": "2024-08-27T17:15:17.013785100Z"
    }
   }
  },
  {
   "cell_type": "code",
   "execution_count": 12,
   "outputs": [],
   "source": [
    "print = print"
   ],
   "metadata": {
    "collapsed": false,
    "ExecuteTime": {
     "end_time": "2024-08-27T17:17:18.094002900Z",
     "start_time": "2024-08-27T17:17:18.087993500Z"
    }
   }
  },
  {
   "cell_type": "code",
   "execution_count": 1,
   "outputs": [],
   "source": [
    "def send_mail():\n",
    "    text = 'mail'\n",
    "    print(text)"
   ],
   "metadata": {
    "collapsed": false,
    "ExecuteTime": {
     "end_time": "2024-08-27T17:17:32.423363600Z",
     "start_time": "2024-08-27T17:17:32.418006Z"
    }
   }
  },
  {
   "cell_type": "code",
   "execution_count": 2,
   "outputs": [
    {
     "name": "stdout",
     "output_type": "stream",
     "text": [
      "mail\n"
     ]
    }
   ],
   "source": [
    "send_mail()"
   ],
   "metadata": {
    "collapsed": false,
    "ExecuteTime": {
     "end_time": "2024-08-27T17:17:33.457482300Z",
     "start_time": "2024-08-27T17:17:33.452482100Z"
    }
   }
  },
  {
   "cell_type": "code",
   "execution_count": 3,
   "outputs": [
    {
     "data": {
      "text/plain": "<function print(*args, sep=' ', end='\\n', file=None, flush=False)>"
     },
     "execution_count": 3,
     "metadata": {},
     "output_type": "execute_result"
    }
   ],
   "source": [
    "print"
   ],
   "metadata": {
    "collapsed": false,
    "ExecuteTime": {
     "end_time": "2024-08-27T17:24:16.631494100Z",
     "start_time": "2024-08-27T17:24:16.604492Z"
    }
   }
  },
  {
   "cell_type": "code",
   "execution_count": 4,
   "outputs": [
    {
     "data": {
      "text/plain": "<function len(obj, /)>"
     },
     "execution_count": 4,
     "metadata": {},
     "output_type": "execute_result"
    }
   ],
   "source": [
    "len"
   ],
   "metadata": {
    "collapsed": false,
    "ExecuteTime": {
     "end_time": "2024-08-27T17:24:18.119811800Z",
     "start_time": "2024-08-27T17:24:18.113565500Z"
    }
   }
  },
  {
   "cell_type": "code",
   "execution_count": null,
   "outputs": [],
   "source": [
    "def make_dirty():\n",
    "    print(\"It's my first function\")"
   ],
   "metadata": {
    "collapsed": false
   }
  },
  {
   "cell_type": "code",
   "execution_count": null,
   "outputs": [],
   "source": [
    "def greetings():\n",
    "    name, surname = input().split()\n",
    "    print(f'Уважаемый, {name} {surname}! Вы верно выполнили это задание!')"
   ],
   "metadata": {
    "collapsed": false
   }
  },
  {
   "cell_type": "code",
   "execution_count": null,
   "outputs": [],
   "source": [
    "def show_weight(weight):\n",
    "    print(f\"Предмет имеет вес: {weight} кг.\")\n",
    "\n",
    "\n",
    "show_weight(input())"
   ],
   "metadata": {
    "collapsed": false
   }
  },
  {
   "cell_type": "code",
   "execution_count": 5,
   "outputs": [
    {
     "ename": "ValueError",
     "evalue": "max() arg is an empty sequence",
     "output_type": "error",
     "traceback": [
      "\u001B[1;31m---------------------------------------------------------------------------\u001B[0m",
      "\u001B[1;31mValueError\u001B[0m                                Traceback (most recent call last)",
      "Cell \u001B[1;32mIn[5], line 5\u001B[0m\n\u001B[0;32m      1\u001B[0m \u001B[38;5;28;01mdef\u001B[39;00m \u001B[38;5;21mget_min_max_sum\u001B[39m(lst):\n\u001B[0;32m      2\u001B[0m     \u001B[38;5;28mprint\u001B[39m(\u001B[38;5;124mf\u001B[39m\u001B[38;5;124m\"\u001B[39m\u001B[38;5;124mMin = \u001B[39m\u001B[38;5;132;01m{\u001B[39;00m\u001B[38;5;28mmin\u001B[39m(lst)\u001B[38;5;132;01m}\u001B[39;00m\u001B[38;5;124m, max = \u001B[39m\u001B[38;5;132;01m{\u001B[39;00m\u001B[38;5;28mmax\u001B[39m(lst)\u001B[38;5;132;01m}\u001B[39;00m\u001B[38;5;124m, sum = \u001B[39m\u001B[38;5;132;01m{\u001B[39;00m\u001B[38;5;28msum\u001B[39m(lst)\u001B[38;5;132;01m}\u001B[39;00m\u001B[38;5;124m\"\u001B[39m)\n\u001B[1;32m----> 5\u001B[0m \u001B[43mget_min_max_sum\u001B[49m\u001B[43m(\u001B[49m\u001B[38;5;28;43mmap\u001B[39;49m\u001B[43m(\u001B[49m\u001B[38;5;28;43mint\u001B[39;49m\u001B[43m,\u001B[49m\u001B[43m \u001B[49m\u001B[38;5;28;43minput\u001B[39;49m\u001B[43m(\u001B[49m\u001B[43m)\u001B[49m\u001B[38;5;241;43m.\u001B[39;49m\u001B[43msplit\u001B[49m\u001B[43m(\u001B[49m\u001B[43m)\u001B[49m\u001B[43m)\u001B[49m\u001B[43m)\u001B[49m\n",
      "Cell \u001B[1;32mIn[5], line 2\u001B[0m, in \u001B[0;36mget_min_max_sum\u001B[1;34m(lst)\u001B[0m\n\u001B[0;32m      1\u001B[0m \u001B[38;5;28;01mdef\u001B[39;00m \u001B[38;5;21mget_min_max_sum\u001B[39m(lst):\n\u001B[1;32m----> 2\u001B[0m     \u001B[38;5;28mprint\u001B[39m(\u001B[38;5;124mf\u001B[39m\u001B[38;5;124m\"\u001B[39m\u001B[38;5;124mMin = \u001B[39m\u001B[38;5;132;01m{\u001B[39;00m\u001B[38;5;28mmin\u001B[39m(lst)\u001B[38;5;132;01m}\u001B[39;00m\u001B[38;5;124m, max = \u001B[39m\u001B[38;5;132;01m{\u001B[39;00m\u001B[38;5;28;43mmax\u001B[39;49m\u001B[43m(\u001B[49m\u001B[43mlst\u001B[49m\u001B[43m)\u001B[49m\u001B[38;5;132;01m}\u001B[39;00m\u001B[38;5;124m, sum = \u001B[39m\u001B[38;5;132;01m{\u001B[39;00m\u001B[38;5;28msum\u001B[39m(lst)\u001B[38;5;132;01m}\u001B[39;00m\u001B[38;5;124m\"\u001B[39m)\n",
      "\u001B[1;31mValueError\u001B[0m: max() arg is an empty sequence"
     ]
    }
   ],
   "source": [
    "def get_min_max_sum(lst):\n",
    "    print(f\"Min = {min(lst)}, max = {max(lst)}, sum = {sum(lst)}\")\n",
    "\n",
    "\n",
    "get_min_max_sum(list(map(int, input().split())))"
   ],
   "metadata": {
    "collapsed": false,
    "ExecuteTime": {
     "end_time": "2024-08-27T17:32:22.471196Z",
     "start_time": "2024-08-27T17:32:18.212791800Z"
    }
   }
  },
  {
   "cell_type": "code",
   "execution_count": 6,
   "outputs": [
    {
     "name": "stdout",
     "output_type": "stream",
     "text": [
      "Периметр прямоугольника, равен 38\n"
     ]
    }
   ],
   "source": [
    "def find_perimiter(w, h):\n",
    "    print(f'Периметр прямоугольника, равен {(w + h) * 2}')\n",
    "\n",
    "\n",
    "find_perimiter(*[int(x) for x in input().split()])"
   ],
   "metadata": {
    "collapsed": false,
    "ExecuteTime": {
     "end_time": "2024-08-27T17:36:45.563479Z",
     "start_time": "2024-08-27T17:36:42.413655900Z"
    }
   }
  },
  {
   "cell_type": "code",
   "execution_count": null,
   "outputs": [],
   "source": [
    "def check_email(email):\n",
    "    chars = {'A', 'E', 'I', 'O', 'U', 'Y', 'B', 'C', 'D', 'F', 'G', 'H', 'J', 'K', 'L', 'M', 'N', 'P', 'Q', 'R', 'S',\n",
    "             'T', 'V', 'W', 'X', 'Y', 'Z', '0', '1', '2', '3', '4', '5', '6', '7', '8', '9', '_', 'a', 'e', 'i', 'o',\n",
    "             'u', 'y', 'b', 'c', 'd', 'f', 'g', 'h', 'j', 'k', 'l', 'm', 'n', 'p', 'q', 'r', 's', 't', 'v', 'w', 'x',\n",
    "             'y', 'z', '@', '.'}\n",
    "    flag = 'ДА'\n",
    "    if '.' not in email or '@' not in email:\n",
    "        flag = 'НЕТ'\n",
    "    if not set(email).issubset(chars):\n",
    "        flag = 'НЕТ'\n",
    "    print(flag)\n",
    "\n",
    "\n",
    "check_email(input())\n",
    "\n",
    "\n",
    "# def check_mail(mail):\n",
    "#     allow = set(\"abcdefghijklmnopqrstuvwxyz0123456789_@.\")\n",
    "#     nesessary = {\"@\", \".\"}\n",
    "#     print(\"ДА\") if nesessary < mail <= allow else print(\"НЕТ\")"
   ],
   "metadata": {
    "collapsed": false
   }
  },
  {
   "cell_type": "code",
   "execution_count": 4,
   "outputs": [
    {
     "name": "stdout",
     "output_type": "stream",
     "text": [
      "7.0 49\n"
     ]
    }
   ],
   "source": [
    "def send_mail():\n",
    "    text = 'mail'\n",
    "    print(text)\n",
    "\n",
    "\n",
    "def get_sqrt(x):\n",
    "    res = None if x < 0 else x ** 0.5\n",
    "    return res, x\n",
    "\n",
    "\n",
    "a, b = get_sqrt(49)\n",
    "print(a, b)"
   ],
   "metadata": {
    "collapsed": false,
    "ExecuteTime": {
     "end_time": "2024-08-28T05:18:20.164770400Z",
     "start_time": "2024-08-28T05:18:20.161762400Z"
    }
   }
  },
  {
   "cell_type": "code",
   "execution_count": 6,
   "outputs": [
    {
     "name": "stdout",
     "output_type": "stream",
     "text": [
      "12\n"
     ]
    }
   ],
   "source": [
    "def get_max(a, b):\n",
    "    return a if a > b else b\n",
    "\n",
    "\n",
    "print(get_max(12, 2))"
   ],
   "metadata": {
    "collapsed": false,
    "ExecuteTime": {
     "end_time": "2024-08-28T05:18:58.759009200Z",
     "start_time": "2024-08-28T05:18:58.747222300Z"
    }
   }
  },
  {
   "cell_type": "code",
   "execution_count": 8,
   "outputs": [
    {
     "name": "stdout",
     "output_type": "stream",
     "text": [
      "123\n"
     ]
    }
   ],
   "source": [
    "def get_max3(a, b, c):\n",
    "    return get_max(a, get_max(b, c))\n",
    "\n",
    "\n",
    "print(get_max3(123, 2, 43))"
   ],
   "metadata": {
    "collapsed": false,
    "ExecuteTime": {
     "end_time": "2024-08-28T05:23:36.933153200Z",
     "start_time": "2024-08-28T05:23:36.927100800Z"
    }
   }
  },
  {
   "cell_type": "code",
   "execution_count": null,
   "outputs": [],
   "source": [
    "def get_sq(n):\n",
    "    return n ** 2\n",
    "\n",
    "\n",
    "print(get_sq(float(input())))"
   ],
   "metadata": {
    "collapsed": false
   }
  },
  {
   "cell_type": "code",
   "execution_count": null,
   "outputs": [],
   "source": [
    "def is_triange(a, b, c):\n",
    "    return a + b > c and b + c > a and a + c > b"
   ],
   "metadata": {
    "collapsed": false
   }
  },
  {
   "cell_type": "code",
   "execution_count": null,
   "outputs": [],
   "source": [
    "def is_large(s):\n",
    "    return len(s) >= 3"
   ],
   "metadata": {
    "collapsed": false
   }
  },
  {
   "cell_type": "code",
   "execution_count": null,
   "outputs": [],
   "source": [
    "def is_chet(x):\n",
    "    return x % 2 == 0\n",
    "\n",
    "\n",
    "while True:\n",
    "    x = int(input())\n",
    "    if x == 1:\n",
    "        break\n",
    "    if is_chet(x):\n",
    "        print(x)\n",
    "# [print(i) for i in iter(input, '1') if chet(int(i))]"
   ],
   "metadata": {
    "collapsed": false
   }
  },
  {
   "cell_type": "code",
   "execution_count": null,
   "outputs": [],
   "source": [
    "def is_nechet(x):\n",
    "    return x % 2\n",
    "\n",
    "\n",
    "lst_d = list(map(int, input().split()))\n",
    "print(*[x for x in lst_d if is_nechet(x)])"
   ],
   "metadata": {
    "collapsed": false
   }
  },
  {
   "cell_type": "code",
   "execution_count": null,
   "outputs": [],
   "source": [
    "tp = input().strip()\n",
    "if tp == 'RECT':\n",
    "    def get_sq(l, w):\n",
    "        return l * w\n",
    "else:\n",
    "    def get_sq(l):\n",
    "        return l ** 2\n"
   ],
   "metadata": {
    "collapsed": false
   }
  },
  {
   "cell_type": "code",
   "execution_count": null,
   "outputs": [],
   "source": [
    "def check_len(x):\n",
    "    return len(x) >= 6\n",
    "\n",
    "\n",
    "print(*[x for x in input().split() if check_len(x)])"
   ],
   "metadata": {
    "collapsed": false
   }
  },
  {
   "cell_type": "code",
   "execution_count": 11,
   "outputs": [
    {
     "name": "stdout",
     "output_type": "stream",
     "text": [
      "Уфа Омск Тверь Лондон Воронеж\n"
     ]
    }
   ],
   "source": [
    "def foo(x):\n",
    "    return x, len(x)\n",
    "\n",
    "\n",
    "print(*sorted(d := {key: val for key, val in map(foo, input().split())}, key=d.get))"
   ],
   "metadata": {
    "collapsed": false,
    "ExecuteTime": {
     "end_time": "2024-08-28T05:43:14.468773600Z",
     "start_time": "2024-08-28T05:43:07.544177500Z"
    }
   }
  },
  {
   "cell_type": "code",
   "execution_count": 15,
   "outputs": [
    {
     "ename": "ValueError",
     "evalue": "min() arg is an empty sequence",
     "output_type": "error",
     "traceback": [
      "\u001B[1;31m---------------------------------------------------------------------------\u001B[0m",
      "\u001B[1;31mValueError\u001B[0m                                Traceback (most recent call last)",
      "Cell \u001B[1;32mIn[15], line 6\u001B[0m\n\u001B[0;32m      3\u001B[0m \u001B[38;5;28;01mdef\u001B[39;00m \u001B[38;5;21mmin_max_multy\u001B[39m(x, y):\n\u001B[0;32m      4\u001B[0m     \u001B[38;5;28;01mreturn\u001B[39;00m x \u001B[38;5;241m*\u001B[39m y\n\u001B[1;32m----> 6\u001B[0m \u001B[38;5;28mprint\u001B[39m(min_max_multy(\u001B[38;5;28mmax\u001B[39m(digs), \u001B[38;5;28;43mmin\u001B[39;49m\u001B[43m(\u001B[49m\u001B[43mdigs\u001B[49m\u001B[43m)\u001B[49m))\n",
      "\u001B[1;31mValueError\u001B[0m: min() arg is an empty sequence"
     ]
    }
   ],
   "source": [
    "digs = map(int, input().split())\n",
    "\n",
    "\n",
    "def min_max_multy(x, y):\n",
    "    return x * y\n",
    "\n",
    "\n",
    "print(min_max_multy(max(digs), min(digs)))"
   ],
   "metadata": {
    "collapsed": false,
    "ExecuteTime": {
     "end_time": "2024-08-28T05:49:28.382424300Z",
     "start_time": "2024-08-28T05:49:22.388087900Z"
    }
   }
  },
  {
   "cell_type": "code",
   "execution_count": 16,
   "outputs": [],
   "source": [
    "#Евклид для нахождения НОД\n",
    "def get_nod(a, b):\n",
    "    \"\"\"\n",
    "    Вычисляется НОД по алгоритму Евклида\n",
    "    :param a: Натуральное число a\n",
    "    :param b: Натуральное число b\n",
    "    :return: НОД\n",
    "    \"\"\"\n",
    "    while a != b:\n",
    "        if a > b:\n",
    "            a -= b\n",
    "        else:\n",
    "            b -= a\n",
    "\n",
    "    return a"
   ],
   "metadata": {
    "collapsed": false,
    "ExecuteTime": {
     "end_time": "2024-08-28T07:09:04.361983Z",
     "start_time": "2024-08-28T07:09:04.349418900Z"
    }
   }
  },
  {
   "cell_type": "code",
   "execution_count": 18,
   "outputs": [
    {
     "name": "stdout",
     "output_type": "stream",
     "text": [
      "3\n",
      "Help on function get_nod in module __main__:\n",
      "\n",
      "get_nod(a, b)\n",
      "    Вычисляется НОД по алгоритму Евклида\n",
      "    :param a: Натуральное число a\n",
      "    :param b: Натуральное число b\n",
      "    :return: НОД\n",
      "\n"
     ]
    }
   ],
   "source": [
    "print(get_nod(144, 123))\n",
    "help(get_nod)"
   ],
   "metadata": {
    "collapsed": false,
    "ExecuteTime": {
     "end_time": "2024-08-28T07:09:23.717579800Z",
     "start_time": "2024-08-28T07:09:23.710919300Z"
    }
   }
  },
  {
   "cell_type": "code",
   "execution_count": 25,
   "outputs": [
    {
     "name": "stdout",
     "output_type": "stream",
     "text": [
      "Начало теста\n",
      "Конец теста\n"
     ]
    }
   ],
   "source": [
    "def test_nod(func):\n",
    "    print('Начало теста')\n",
    "    assert func(28, 35) == 7\n",
    "    assert func(35, 100) == 5\n",
    "    assert func(180, 550) == 10\n",
    "    print('Конец теста')\n",
    "\n",
    "\n",
    "test_nod(get_nod)"
   ],
   "metadata": {
    "collapsed": false,
    "ExecuteTime": {
     "end_time": "2024-08-28T07:12:08.768057Z",
     "start_time": "2024-08-28T07:12:08.756002200Z"
    }
   }
  },
  {
   "cell_type": "code",
   "execution_count": 37,
   "outputs": [],
   "source": [
    "def get_nod_fast(a, b):\n",
    "    if a < b:\n",
    "        a, b = b, a\n",
    "    while b != 0:\n",
    "        a, b = b, a % b\n",
    "\n",
    "    return a"
   ],
   "metadata": {
    "collapsed": false,
    "ExecuteTime": {
     "end_time": "2024-08-28T07:20:36.184421900Z",
     "start_time": "2024-08-28T07:20:36.182421600Z"
    }
   }
  },
  {
   "cell_type": "code",
   "execution_count": 46,
   "outputs": [
    {
     "name": "stdout",
     "output_type": "stream",
     "text": [
      "(2, 2.026320695877075)\n"
     ]
    }
   ],
   "source": [
    "import time\n",
    "\n",
    "\n",
    "def check_time(func):\n",
    "    start = time.time()\n",
    "    res = func(100_000_000, 2)\n",
    "    end = time.time()\n",
    "\n",
    "    return res, end - start\n",
    "\n",
    "\n",
    "print(check_time(get_nod))"
   ],
   "metadata": {
    "collapsed": false,
    "ExecuteTime": {
     "end_time": "2024-08-28T07:21:13.116391400Z",
     "start_time": "2024-08-28T07:21:11.152817900Z"
    }
   }
  },
  {
   "cell_type": "code",
   "execution_count": 8,
   "outputs": [
    {
     "name": "stdout",
     "output_type": "stream",
     "text": [
      "120\n"
     ]
    }
   ],
   "source": [
    "def get_V(a, b, c, verbose=True):\n",
    "    if verbose:\n",
    "        print(f'{a = }, {b = }, {c = }')\n",
    "    return a * b * c\n",
    "\n",
    "\n",
    "v = get_V(4, 5, 6, False)\n",
    "print(v)"
   ],
   "metadata": {
    "collapsed": false,
    "ExecuteTime": {
     "end_time": "2024-08-29T07:30:52.752871400Z",
     "start_time": "2024-08-29T07:30:52.742131400Z"
    }
   }
  },
  {
   "cell_type": "code",
   "execution_count": 14,
   "outputs": [
    {
     "name": "stdout",
     "output_type": "stream",
     "text": [
      "True\n"
     ]
    }
   ],
   "source": [
    "def cmp_str(s1, s2, reg=False, trim=True):\n",
    "    if reg:\n",
    "        s1, s2 = s1.lower(), s2.lower()\n",
    "    if trim:\n",
    "        s1, s2 = s1.strip(), s2.strip()\n",
    "    return s1 == s2\n",
    "\n",
    "print(cmp_str('python  ', 'Python', reg=True))"
   ],
   "metadata": {
    "collapsed": false,
    "ExecuteTime": {
     "end_time": "2024-08-29T07:34:57.391849800Z",
     "start_time": "2024-08-29T07:34:57.382615200Z"
    }
   }
  },
  {
   "cell_type": "code",
   "execution_count": 18,
   "outputs": [
    {
     "name": "stdout",
     "output_type": "stream",
     "text": [
      "[1, 2]\n"
     ]
    }
   ],
   "source": [
    "def add_value(value, lst=None):\n",
    "    if lst is None:\n",
    "        lst = []\n",
    "    lst.append(value)\n",
    "    return lst\n",
    "\n",
    "l = add_value(1)\n",
    "l = add_value(2)\n",
    "print(l)"
   ],
   "metadata": {
    "collapsed": false,
    "ExecuteTime": {
     "end_time": "2024-08-29T07:42:46.285984400Z",
     "start_time": "2024-08-29T07:42:46.280460400Z"
    }
   }
  },
  {
   "cell_type": "code",
   "execution_count": null,
   "outputs": [],
   "source": [
    "def get_rect_value(l, w, tp=0):\n",
    "    return 2 * (l + w) if not tp else l * w"
   ],
   "metadata": {
    "collapsed": false
   }
  },
  {
   "cell_type": "code",
   "execution_count": 23,
   "outputs": [
    {
     "name": "stdout",
     "output_type": "stream",
     "text": [
      "True\n"
     ]
    }
   ],
   "source": [
    "def check_password(psw, chars=\"$%!?@#\"):\n",
    "    return  set(psw) & set(chars) and len(psw) > 7\n",
    "\n",
    "print(check_password('12345678!'))"
   ],
   "metadata": {
    "collapsed": false,
    "ExecuteTime": {
     "end_time": "2024-08-29T07:52:03.244178700Z",
     "start_time": "2024-08-29T07:52:03.239657500Z"
    }
   }
  },
  {
   "cell_type": "code",
   "execution_count": 25,
   "outputs": [
    {
     "name": "stdout",
     "output_type": "stream",
     "text": [
      "luchshiy-kurs-po-python!\n",
      "luchshiy+kurs+po+python!\n"
     ]
    }
   ],
   "source": [
    "def translate(s1, sep='-'):\n",
    "    s1 = s1.lower()\n",
    "    t = {'ё': 'yo', 'а': 'a', 'б': 'b', 'в': 'v', 'г': 'g', 'д': 'd', 'е': 'e', 'ж': 'zh',\n",
    "     'з': 'z', 'и': 'i', 'й': 'y', 'к': 'k', 'л': 'l', 'м': 'm', 'н': 'n', 'о': 'o', 'п': 'p',\n",
    "     'р': 'r', 'с': 's', 'т': 't', 'у': 'u', 'ф': 'f', 'х': 'h', 'ц': 'c', 'ч': 'ch', 'ш': 'sh',\n",
    "     'щ': 'shch', 'ъ': '', 'ы': 'y', 'ь': '', 'э': 'e', 'ю': 'yu', 'я': 'ya'}\n",
    "    lst = [t[x] if x in t.keys() else x for x in s1 ]\n",
    "    s2 = ''.join(lst)\n",
    "    s2 = s2.replace(' ', sep)\n",
    "    return s2\n",
    "\n",
    "\n",
    "inp = input()\n",
    "print(translate(inp))\n",
    "print(translate(inp, sep='+'))\n",
    "\n",
    "# def to_latin(text, sep='-'):\n",
    "#     t[' '] = sep\n",
    "#     return \"\".join([t.get(c, c) for c in text.lower()])"
   ],
   "metadata": {
    "collapsed": false,
    "ExecuteTime": {
     "end_time": "2024-08-29T08:00:40.206471Z",
     "start_time": "2024-08-29T08:00:39.784833600Z"
    }
   }
  },
  {
   "cell_type": "code",
   "execution_count": 26,
   "outputs": [
    {
     "name": "stdout",
     "output_type": "stream",
     "text": [
      "<h1>Работаем с функциями/<h1>\n",
      "<div>Работаем с функциями/<div>\n"
     ]
    }
   ],
   "source": [
    "def make_html(content, tag='h1'):\n",
    "    return f'<{tag}>{content}</{tag}>'\n",
    "\n",
    "inp = input()\n",
    "print(make_html(inp))\n",
    "print(make_html(inp, tag='div'))"
   ],
   "metadata": {
    "collapsed": false,
    "ExecuteTime": {
     "end_time": "2024-08-29T08:06:58.428107900Z",
     "start_time": "2024-08-29T08:06:53.680240600Z"
    }
   }
  },
  {
   "cell_type": "code",
   "execution_count": 28,
   "outputs": [
    {
     "name": "stdout",
     "output_type": "stream",
     "text": [
      "<DIV>asdf</DIV>\n",
      "<div>asdf</div>\n"
     ]
    }
   ],
   "source": [
    "def make_html(content, tag='h1', up=True):\n",
    "    if up:\n",
    "        tag = tag.upper()\n",
    "    return (f'<{tag}>{content}</{tag}>', f'<{uptag:=tag.upper()}>{s}</{uptag}>')[up]\n",
    "\n",
    "\n",
    "inp = input()\n",
    "print(make_html(inp, tag='div'))\n",
    "print(make_html(inp, tag='div', up=False))"
   ],
   "metadata": {
    "collapsed": false,
    "ExecuteTime": {
     "end_time": "2024-08-29T08:10:48.637721500Z",
     "start_time": "2024-08-29T08:10:47.537591200Z"
    }
   }
  },
  {
   "cell_type": "code",
   "execution_count": 30,
   "outputs": [
    {
     "name": "stdout",
     "output_type": "stream",
     "text": [
      "[4, 8, 12, 0]\n"
     ]
    }
   ],
   "source": [
    "def get_even(*args):\n",
    "    return [x for x in args if x % 2 == 0]\n",
    "\n",
    "\n",
    "print(get_even(45, 4, 8, 11, 12, 0))"
   ],
   "metadata": {
    "collapsed": false,
    "ExecuteTime": {
     "end_time": "2024-08-29T09:22:14.948031500Z",
     "start_time": "2024-08-29T09:22:14.941723500Z"
    }
   }
  },
  {
   "cell_type": "code",
   "execution_count": 33,
   "outputs": [
    {
     "name": "stdout",
     "output_type": "stream",
     "text": [
      "2\n"
     ]
    }
   ],
   "source": [
    "def get_biggest_city(*args):\n",
    "    return min(args, key=len)\n",
    "\n",
    "print(get_biggest_city('sdf', 'sdf', 'erwgrwg', '2'))"
   ],
   "metadata": {
    "collapsed": false,
    "ExecuteTime": {
     "end_time": "2024-08-29T09:25:25.269429Z",
     "start_time": "2024-08-29T09:25:25.265052600Z"
    }
   }
  },
  {
   "cell_type": "code",
   "execution_count": 57,
   "outputs": [
    {
     "name": "stdout",
     "output_type": "stream",
     "text": [
      "(45, False, 'Yellow', True, 10)\n",
      "(45, False, 'Yellow', True, 10)\n",
      "(9, False, 'Yellow', True)\n"
     ]
    }
   ],
   "source": [
    "def get_data_fig(*args, **kwargs):\n",
    "    res = (sum(args), *[kwargs[x] for x in ['tp', 'color', 'closed', 'width'] if x in kwargs.keys()])\n",
    "    return res\n",
    "\n",
    "print(get_data_fig(5, 4, 9, 9, 9, 9, tp=False, color='Yellow', closed=True, width=10))\n",
    "print(get_data_fig(5, 4, 9, 9, 9, 9, color='Yellow', tp=False, closed=True, width=10))\n",
    "print(get_data_fig(5, 4, color='Yellow', tp=False, closed=True))"
   ],
   "metadata": {
    "collapsed": false,
    "ExecuteTime": {
     "end_time": "2024-08-29T09:37:24.398601600Z",
     "start_time": "2024-08-29T09:37:24.393042900Z"
    }
   }
  },
  {
   "cell_type": "code",
   "execution_count": 62,
   "outputs": [
    {
     "name": "stdout",
     "output_type": "stream",
     "text": [
      "[0, 0, 0, 0]\n",
      "[0, 0, 0, 0, 0, 0, 0, 0]\n",
      "False\n"
     ]
    }
   ],
   "source": [
    "def is_isolate(row:list, matrix:list):\n",
    "    if '11' in ''.join(map(str, row)):\n",
    "        return False\n",
    "    row_id = matrix.index(row)\n",
    "    el_id = row.index(1)\n",
    "    circle = []\n",
    "    if row_id != 0:\n",
    "        circle += matrix[row_id-1][el_id-1 if el_id != 0 else 0: el_id+2]\n",
    "    if row_id + 1 != len(matrix):\n",
    "        circle += matrix[row_id+1][el_id-1 if el_id != 0 else 0: el_id+2]\n",
    "    return not (1 in circle)\n",
    "\n",
    "def verify(matrix):\n",
    "    for row in matrix:\n",
    "        if 1 in row:\n",
    "            if not is_isolate(row, matrix):\n",
    "                return False\n",
    "    return True\n",
    "\n",
    "print(verify([[1, 0, 0, 0, 0], [0, 0, 1, 0, 0], [0, 0, 0, 0, 0], [0, 1, 0, 1, 0], [0, 0, 0, 0, 0]]))"
   ],
   "metadata": {
    "collapsed": false
   }
  },
  {
   "cell_type": "code",
   "execution_count": null,
   "outputs": [],
   "source": [
    "def str_min(*args):\n",
    "    return min(args)\n",
    "\n",
    "def str_min3(*args):\n",
    "    return str_min(*args)\n",
    "\n",
    "def str_min4(*args):\n",
    "    return str_min(*args)"
   ],
   "metadata": {
    "collapsed": false
   }
  },
  {
   "cell_type": "code",
   "execution_count": 1,
   "outputs": [
    {
     "name": "stdout",
     "output_type": "stream",
     "text": [
      "1 [2, 3, 4]\n"
     ]
    }
   ],
   "source": [
    "x, *y = [1, 2, 3, 4]\n",
    "print(x, y)"
   ],
   "metadata": {
    "collapsed": false,
    "ExecuteTime": {
     "end_time": "2024-08-29T13:49:35.473505Z",
     "start_time": "2024-08-29T13:49:35.448560100Z"
    }
   }
  },
  {
   "cell_type": "code",
   "execution_count": 3,
   "outputs": [],
   "source": [
    "*x, y = 1, 2, 3"
   ],
   "metadata": {
    "collapsed": false,
    "ExecuteTime": {
     "end_time": "2024-08-29T13:51:01.511724500Z",
     "start_time": "2024-08-29T13:51:01.500672400Z"
    }
   }
  },
  {
   "cell_type": "code",
   "execution_count": 4,
   "outputs": [],
   "source": [
    "a = [1, 2, 3]"
   ],
   "metadata": {
    "collapsed": false,
    "ExecuteTime": {
     "end_time": "2024-08-29T13:51:12.628375700Z",
     "start_time": "2024-08-29T13:51:12.584285Z"
    }
   }
  },
  {
   "cell_type": "code",
   "execution_count": 5,
   "outputs": [
    {
     "data": {
      "text/plain": "(1, 2, 3)"
     },
     "execution_count": 5,
     "metadata": {},
     "output_type": "execute_result"
    }
   ],
   "source": [
    "(*a,)"
   ],
   "metadata": {
    "collapsed": false,
    "ExecuteTime": {
     "end_time": "2024-08-29T13:51:16.870262400Z",
     "start_time": "2024-08-29T13:51:16.857932200Z"
    }
   }
  },
  {
   "cell_type": "code",
   "execution_count": 8,
   "outputs": [
    {
     "name": "stdout",
     "output_type": "stream",
     "text": [
      "[-5, -4, -3, -2, -1, 0, 1, 2, 3, 4]\n"
     ]
    }
   ],
   "source": [
    "d = -5, 5\n",
    "print(list(range(*d)))"
   ],
   "metadata": {
    "collapsed": false,
    "ExecuteTime": {
     "end_time": "2024-08-29T14:01:10.290694500Z",
     "start_time": "2024-08-29T14:01:10.284179300Z"
    }
   }
  },
  {
   "cell_type": "code",
   "execution_count": 10,
   "outputs": [
    {
     "name": "stdout",
     "output_type": "stream",
     "text": [
      "[-5, -4, -3, -2, -1, 0, 1, 2, 3, 4]\n"
     ]
    }
   ],
   "source": [
    "print([*range(*d)])"
   ],
   "metadata": {
    "collapsed": false,
    "ExecuteTime": {
     "end_time": "2024-08-29T14:01:24.677604Z",
     "start_time": "2024-08-29T14:01:24.671588300Z"
    }
   }
  },
  {
   "cell_type": "code",
   "execution_count": null,
   "outputs": [],
   "source": [
    "*lst, x, y, z = input().split()\n",
    "print(*lst)"
   ],
   "metadata": {
    "collapsed": false
   }
  },
  {
   "cell_type": "code",
   "execution_count": null,
   "outputs": [],
   "source": [
    "print(tuple(*input().split()))"
   ],
   "metadata": {
    "collapsed": false
   }
  },
  {
   "cell_type": "code",
   "execution_count": null,
   "outputs": [],
   "source": [
    "a, b = map(int, input().split())\n",
    "print(*list(range(a, b+1)))"
   ],
   "metadata": {
    "collapsed": false
   }
  },
  {
   "cell_type": "code",
   "execution_count": null,
   "outputs": [],
   "source": [
    "nums = input().split()\n",
    "cities = input().split()\n",
    "lst = [*nums, *cities]\n",
    "print(*lst)"
   ],
   "metadata": {
    "collapsed": false
   }
  },
  {
   "cell_type": "code",
   "execution_count": null,
   "outputs": [],
   "source": [
    "menu = {'Главная': 'home', 'Архив': 'archive', 'Новости': 'news'}\n",
    "\n",
    "menu = {**menu, **{x.split('=')[0]: x.split('=')[1] for x in lst_in}}"
   ],
   "metadata": {
    "collapsed": false
   }
  }
 ],
 "metadata": {
  "kernelspec": {
   "display_name": "Python 3",
   "language": "python",
   "name": "python3"
  },
  "language_info": {
   "codemirror_mode": {
    "name": "ipython",
    "version": 2
   },
   "file_extension": ".py",
   "mimetype": "text/x-python",
   "name": "python",
   "nbconvert_exporter": "python",
   "pygments_lexer": "ipython2",
   "version": "2.7.6"
  }
 },
 "nbformat": 4,
 "nbformat_minor": 0
}
