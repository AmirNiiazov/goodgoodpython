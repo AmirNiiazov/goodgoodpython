{
 "cells": [
  {
   "cell_type": "code",
   "execution_count": 6,
   "metadata": {
    "collapsed": true,
    "ExecuteTime": {
     "end_time": "2024-08-27T17:15:04.956400800Z",
     "start_time": "2024-08-27T17:15:04.949879400Z"
    }
   },
   "outputs": [
    {
     "data": {
      "text/plain": "<function print(*args, sep=' ', end='\\n', file=None, flush=False)>"
     },
     "execution_count": 6,
     "metadata": {},
     "output_type": "execute_result"
    }
   ],
   "source": [
    "print"
   ]
  },
  {
   "cell_type": "code",
   "execution_count": 3,
   "outputs": [
    {
     "name": "stdout",
     "output_type": "stream",
     "text": [
      "hello\n"
     ]
    }
   ],
   "source": [
    "f('hello')"
   ],
   "metadata": {
    "collapsed": false,
    "ExecuteTime": {
     "end_time": "2024-08-27T17:14:38.356864900Z",
     "start_time": "2024-08-27T17:14:38.301681200Z"
    }
   }
  },
  {
   "cell_type": "code",
   "execution_count": 4,
   "outputs": [
    {
     "data": {
      "text/plain": "<function print(*args, sep=' ', end='\\n', file=None, flush=False)>"
     },
     "execution_count": 4,
     "metadata": {},
     "output_type": "execute_result"
    }
   ],
   "source": [
    "f"
   ],
   "metadata": {
    "collapsed": false,
    "ExecuteTime": {
     "end_time": "2024-08-27T17:14:45.328225300Z",
     "start_time": "2024-08-27T17:14:45.315223100Z"
    }
   }
  },
  {
   "cell_type": "code",
   "execution_count": 5,
   "outputs": [
    {
     "data": {
      "text/plain": "<function print(*args, sep=' ', end='\\n', file=None, flush=False)>"
     },
     "execution_count": 5,
     "metadata": {},
     "output_type": "execute_result"
    }
   ],
   "source": [
    "print"
   ],
   "metadata": {
    "collapsed": false,
    "ExecuteTime": {
     "end_time": "2024-08-27T17:14:50.999444400Z",
     "start_time": "2024-08-27T17:14:50.974920700Z"
    }
   }
  },
  {
   "cell_type": "code",
   "execution_count": 7,
   "outputs": [],
   "source": [
    "print = ';asdfnsdf'"
   ],
   "metadata": {
    "collapsed": false,
    "ExecuteTime": {
     "end_time": "2024-08-27T17:15:17.024306300Z",
     "start_time": "2024-08-27T17:15:17.013785100Z"
    }
   }
  },
  {
   "cell_type": "code",
   "execution_count": 12,
   "outputs": [],
   "source": [
    "print = print"
   ],
   "metadata": {
    "collapsed": false,
    "ExecuteTime": {
     "end_time": "2024-08-27T17:17:18.094002900Z",
     "start_time": "2024-08-27T17:17:18.087993500Z"
    }
   }
  },
  {
   "cell_type": "code",
   "execution_count": 1,
   "outputs": [],
   "source": [
    "def send_mail():\n",
    "    text = 'mail'\n",
    "    print(text)"
   ],
   "metadata": {
    "collapsed": false,
    "ExecuteTime": {
     "end_time": "2024-08-27T17:17:32.423363600Z",
     "start_time": "2024-08-27T17:17:32.418006Z"
    }
   }
  },
  {
   "cell_type": "code",
   "execution_count": 2,
   "outputs": [
    {
     "name": "stdout",
     "output_type": "stream",
     "text": [
      "mail\n"
     ]
    }
   ],
   "source": [
    "send_mail()"
   ],
   "metadata": {
    "collapsed": false,
    "ExecuteTime": {
     "end_time": "2024-08-27T17:17:33.457482300Z",
     "start_time": "2024-08-27T17:17:33.452482100Z"
    }
   }
  },
  {
   "cell_type": "code",
   "execution_count": 3,
   "outputs": [
    {
     "data": {
      "text/plain": "<function print(*args, sep=' ', end='\\n', file=None, flush=False)>"
     },
     "execution_count": 3,
     "metadata": {},
     "output_type": "execute_result"
    }
   ],
   "source": [
    "print"
   ],
   "metadata": {
    "collapsed": false,
    "ExecuteTime": {
     "end_time": "2024-08-27T17:24:16.631494100Z",
     "start_time": "2024-08-27T17:24:16.604492Z"
    }
   }
  },
  {
   "cell_type": "code",
   "execution_count": 4,
   "outputs": [
    {
     "data": {
      "text/plain": "<function len(obj, /)>"
     },
     "execution_count": 4,
     "metadata": {},
     "output_type": "execute_result"
    }
   ],
   "source": [
    "len"
   ],
   "metadata": {
    "collapsed": false,
    "ExecuteTime": {
     "end_time": "2024-08-27T17:24:18.119811800Z",
     "start_time": "2024-08-27T17:24:18.113565500Z"
    }
   }
  },
  {
   "cell_type": "code",
   "execution_count": null,
   "outputs": [],
   "source": [
    "def make_dirty():\n",
    "    print(\"It's my first function\")"
   ],
   "metadata": {
    "collapsed": false
   }
  },
  {
   "cell_type": "code",
   "execution_count": null,
   "outputs": [],
   "source": [
    "def greetings():\n",
    "    name, surname = input().split()\n",
    "    print(f'Уважаемый, {name} {surname}! Вы верно выполнили это задание!')"
   ],
   "metadata": {
    "collapsed": false
   }
  },
  {
   "cell_type": "code",
   "execution_count": null,
   "outputs": [],
   "source": [
    "def show_weight(weight):\n",
    "    print(f\"Предмет имеет вес: {weight} кг.\")\n",
    "\n",
    "\n",
    "show_weight(input())"
   ],
   "metadata": {
    "collapsed": false
   }
  },
  {
   "cell_type": "code",
   "execution_count": 5,
   "outputs": [
    {
     "ename": "ValueError",
     "evalue": "max() arg is an empty sequence",
     "output_type": "error",
     "traceback": [
      "\u001B[1;31m---------------------------------------------------------------------------\u001B[0m",
      "\u001B[1;31mValueError\u001B[0m                                Traceback (most recent call last)",
      "Cell \u001B[1;32mIn[5], line 5\u001B[0m\n\u001B[0;32m      1\u001B[0m \u001B[38;5;28;01mdef\u001B[39;00m \u001B[38;5;21mget_min_max_sum\u001B[39m(lst):\n\u001B[0;32m      2\u001B[0m     \u001B[38;5;28mprint\u001B[39m(\u001B[38;5;124mf\u001B[39m\u001B[38;5;124m\"\u001B[39m\u001B[38;5;124mMin = \u001B[39m\u001B[38;5;132;01m{\u001B[39;00m\u001B[38;5;28mmin\u001B[39m(lst)\u001B[38;5;132;01m}\u001B[39;00m\u001B[38;5;124m, max = \u001B[39m\u001B[38;5;132;01m{\u001B[39;00m\u001B[38;5;28mmax\u001B[39m(lst)\u001B[38;5;132;01m}\u001B[39;00m\u001B[38;5;124m, sum = \u001B[39m\u001B[38;5;132;01m{\u001B[39;00m\u001B[38;5;28msum\u001B[39m(lst)\u001B[38;5;132;01m}\u001B[39;00m\u001B[38;5;124m\"\u001B[39m)\n\u001B[1;32m----> 5\u001B[0m \u001B[43mget_min_max_sum\u001B[49m\u001B[43m(\u001B[49m\u001B[38;5;28;43mmap\u001B[39;49m\u001B[43m(\u001B[49m\u001B[38;5;28;43mint\u001B[39;49m\u001B[43m,\u001B[49m\u001B[43m \u001B[49m\u001B[38;5;28;43minput\u001B[39;49m\u001B[43m(\u001B[49m\u001B[43m)\u001B[49m\u001B[38;5;241;43m.\u001B[39;49m\u001B[43msplit\u001B[49m\u001B[43m(\u001B[49m\u001B[43m)\u001B[49m\u001B[43m)\u001B[49m\u001B[43m)\u001B[49m\n",
      "Cell \u001B[1;32mIn[5], line 2\u001B[0m, in \u001B[0;36mget_min_max_sum\u001B[1;34m(lst)\u001B[0m\n\u001B[0;32m      1\u001B[0m \u001B[38;5;28;01mdef\u001B[39;00m \u001B[38;5;21mget_min_max_sum\u001B[39m(lst):\n\u001B[1;32m----> 2\u001B[0m     \u001B[38;5;28mprint\u001B[39m(\u001B[38;5;124mf\u001B[39m\u001B[38;5;124m\"\u001B[39m\u001B[38;5;124mMin = \u001B[39m\u001B[38;5;132;01m{\u001B[39;00m\u001B[38;5;28mmin\u001B[39m(lst)\u001B[38;5;132;01m}\u001B[39;00m\u001B[38;5;124m, max = \u001B[39m\u001B[38;5;132;01m{\u001B[39;00m\u001B[38;5;28;43mmax\u001B[39;49m\u001B[43m(\u001B[49m\u001B[43mlst\u001B[49m\u001B[43m)\u001B[49m\u001B[38;5;132;01m}\u001B[39;00m\u001B[38;5;124m, sum = \u001B[39m\u001B[38;5;132;01m{\u001B[39;00m\u001B[38;5;28msum\u001B[39m(lst)\u001B[38;5;132;01m}\u001B[39;00m\u001B[38;5;124m\"\u001B[39m)\n",
      "\u001B[1;31mValueError\u001B[0m: max() arg is an empty sequence"
     ]
    }
   ],
   "source": [
    "def get_min_max_sum(lst):\n",
    "    print(f\"Min = {min(lst)}, max = {max(lst)}, sum = {sum(lst)}\")\n",
    "\n",
    "\n",
    "get_min_max_sum(list(map(int, input().split())))"
   ],
   "metadata": {
    "collapsed": false,
    "ExecuteTime": {
     "end_time": "2024-08-27T17:32:22.471196Z",
     "start_time": "2024-08-27T17:32:18.212791800Z"
    }
   }
  },
  {
   "cell_type": "code",
   "execution_count": 6,
   "outputs": [
    {
     "name": "stdout",
     "output_type": "stream",
     "text": [
      "Периметр прямоугольника, равен 38\n"
     ]
    }
   ],
   "source": [
    "def find_perimiter(w, h):\n",
    "    print(f'Периметр прямоугольника, равен {(w + h) * 2}')\n",
    "\n",
    "\n",
    "find_perimiter(*[int(x) for x in input().split()])"
   ],
   "metadata": {
    "collapsed": false,
    "ExecuteTime": {
     "end_time": "2024-08-27T17:36:45.563479Z",
     "start_time": "2024-08-27T17:36:42.413655900Z"
    }
   }
  },
  {
   "cell_type": "code",
   "execution_count": null,
   "outputs": [],
   "source": [
    "def check_email(email):\n",
    "    chars = {'A', 'E', 'I', 'O', 'U', 'Y', 'B', 'C', 'D', 'F', 'G', 'H', 'J', 'K', 'L', 'M', 'N', 'P', 'Q', 'R', 'S',\n",
    "             'T', 'V', 'W', 'X', 'Y', 'Z', '0', '1', '2', '3', '4', '5', '6', '7', '8', '9', '_', 'a', 'e', 'i', 'o',\n",
    "             'u', 'y', 'b', 'c', 'd', 'f', 'g', 'h', 'j', 'k', 'l', 'm', 'n', 'p', 'q', 'r', 's', 't', 'v', 'w', 'x',\n",
    "             'y', 'z', '@', '.'}\n",
    "    flag = 'ДА'\n",
    "    if '.' not in email or '@' not in email:\n",
    "        flag = 'НЕТ'\n",
    "    if not set(email).issubset(chars):\n",
    "        flag = 'НЕТ'\n",
    "    print(flag)\n",
    "\n",
    "\n",
    "check_email(input())\n",
    "\n",
    "\n",
    "# def check_mail(mail):\n",
    "#     allow = set(\"abcdefghijklmnopqrstuvwxyz0123456789_@.\")\n",
    "#     nesessary = {\"@\", \".\"}\n",
    "#     print(\"ДА\") if nesessary < mail <= allow else print(\"НЕТ\")"
   ],
   "metadata": {
    "collapsed": false
   }
  },
  {
   "cell_type": "code",
   "execution_count": 4,
   "outputs": [
    {
     "name": "stdout",
     "output_type": "stream",
     "text": [
      "7.0 49\n"
     ]
    }
   ],
   "source": [
    "def send_mail():\n",
    "    text = 'mail'\n",
    "    print(text)\n",
    "\n",
    "\n",
    "def get_sqrt(x):\n",
    "    res = None if x < 0 else x ** 0.5\n",
    "    return res, x\n",
    "\n",
    "\n",
    "a, b = get_sqrt(49)\n",
    "print(a, b)"
   ],
   "metadata": {
    "collapsed": false,
    "ExecuteTime": {
     "end_time": "2024-08-28T05:18:20.164770400Z",
     "start_time": "2024-08-28T05:18:20.161762400Z"
    }
   }
  },
  {
   "cell_type": "code",
   "execution_count": 6,
   "outputs": [
    {
     "name": "stdout",
     "output_type": "stream",
     "text": [
      "12\n"
     ]
    }
   ],
   "source": [
    "def get_max(a, b):\n",
    "    return a if a > b else b\n",
    "\n",
    "\n",
    "print(get_max(12, 2))"
   ],
   "metadata": {
    "collapsed": false,
    "ExecuteTime": {
     "end_time": "2024-08-28T05:18:58.759009200Z",
     "start_time": "2024-08-28T05:18:58.747222300Z"
    }
   }
  },
  {
   "cell_type": "code",
   "execution_count": 8,
   "outputs": [
    {
     "name": "stdout",
     "output_type": "stream",
     "text": [
      "123\n"
     ]
    }
   ],
   "source": [
    "def get_max3(a, b, c):\n",
    "    return get_max(a, get_max(b, c))\n",
    "\n",
    "\n",
    "print(get_max3(123, 2, 43))"
   ],
   "metadata": {
    "collapsed": false,
    "ExecuteTime": {
     "end_time": "2024-08-28T05:23:36.933153200Z",
     "start_time": "2024-08-28T05:23:36.927100800Z"
    }
   }
  },
  {
   "cell_type": "code",
   "execution_count": null,
   "outputs": [],
   "source": [
    "def get_sq(n):\n",
    "    return n ** 2\n",
    "\n",
    "\n",
    "print(get_sq(float(input())))"
   ],
   "metadata": {
    "collapsed": false
   }
  },
  {
   "cell_type": "code",
   "execution_count": null,
   "outputs": [],
   "source": [
    "def is_triange(a, b, c):\n",
    "    return a + b > c and b + c > a and a + c > b"
   ],
   "metadata": {
    "collapsed": false
   }
  },
  {
   "cell_type": "code",
   "execution_count": null,
   "outputs": [],
   "source": [
    "def is_large(s):\n",
    "    return len(s) >= 3"
   ],
   "metadata": {
    "collapsed": false
   }
  },
  {
   "cell_type": "code",
   "execution_count": null,
   "outputs": [],
   "source": [
    "def is_chet(x):\n",
    "    return x % 2 == 0\n",
    "\n",
    "\n",
    "while True:\n",
    "    x = int(input())\n",
    "    if x == 1:\n",
    "        break\n",
    "    if is_chet(x):\n",
    "        print(x)\n",
    "# [print(i) for i in iter(input, '1') if chet(int(i))]"
   ],
   "metadata": {
    "collapsed": false
   }
  },
  {
   "cell_type": "code",
   "execution_count": null,
   "outputs": [],
   "source": [
    "def is_nechet(x):\n",
    "    return x % 2\n",
    "\n",
    "\n",
    "lst_d = list(map(int, input().split()))\n",
    "print(*[x for x in lst_d if is_nechet(x)])"
   ],
   "metadata": {
    "collapsed": false
   }
  },
  {
   "cell_type": "code",
   "execution_count": null,
   "outputs": [],
   "source": [
    "tp = input().strip()\n",
    "if tp == 'RECT':\n",
    "    def get_sq(l, w):\n",
    "        return l * w\n",
    "else:\n",
    "    def get_sq(l):\n",
    "        return l ** 2\n"
   ],
   "metadata": {
    "collapsed": false
   }
  },
  {
   "cell_type": "code",
   "execution_count": null,
   "outputs": [],
   "source": [
    "def check_len(x):\n",
    "    return len(x) >= 6\n",
    "\n",
    "\n",
    "print(*[x for x in input().split() if check_len(x)])"
   ],
   "metadata": {
    "collapsed": false
   }
  },
  {
   "cell_type": "code",
   "execution_count": 11,
   "outputs": [
    {
     "name": "stdout",
     "output_type": "stream",
     "text": [
      "Уфа Омск Тверь Лондон Воронеж\n"
     ]
    }
   ],
   "source": [
    "def foo(x):\n",
    "    return x, len(x)\n",
    "\n",
    "\n",
    "print(*sorted(d := {key: val for key, val in map(foo, input().split())}, key=d.get))"
   ],
   "metadata": {
    "collapsed": false,
    "ExecuteTime": {
     "end_time": "2024-08-28T05:43:14.468773600Z",
     "start_time": "2024-08-28T05:43:07.544177500Z"
    }
   }
  },
  {
   "cell_type": "code",
   "execution_count": 15,
   "outputs": [
    {
     "ename": "ValueError",
     "evalue": "min() arg is an empty sequence",
     "output_type": "error",
     "traceback": [
      "\u001B[1;31m---------------------------------------------------------------------------\u001B[0m",
      "\u001B[1;31mValueError\u001B[0m                                Traceback (most recent call last)",
      "Cell \u001B[1;32mIn[15], line 6\u001B[0m\n\u001B[0;32m      3\u001B[0m \u001B[38;5;28;01mdef\u001B[39;00m \u001B[38;5;21mmin_max_multy\u001B[39m(x, y):\n\u001B[0;32m      4\u001B[0m     \u001B[38;5;28;01mreturn\u001B[39;00m x \u001B[38;5;241m*\u001B[39m y\n\u001B[1;32m----> 6\u001B[0m \u001B[38;5;28mprint\u001B[39m(min_max_multy(\u001B[38;5;28mmax\u001B[39m(digs), \u001B[38;5;28;43mmin\u001B[39;49m\u001B[43m(\u001B[49m\u001B[43mdigs\u001B[49m\u001B[43m)\u001B[49m))\n",
      "\u001B[1;31mValueError\u001B[0m: min() arg is an empty sequence"
     ]
    }
   ],
   "source": [
    "digs = map(int, input().split())\n",
    "\n",
    "\n",
    "def min_max_multy(x, y):\n",
    "    return x * y\n",
    "\n",
    "\n",
    "print(min_max_multy(max(digs), min(digs)))"
   ],
   "metadata": {
    "collapsed": false,
    "ExecuteTime": {
     "end_time": "2024-08-28T05:49:28.382424300Z",
     "start_time": "2024-08-28T05:49:22.388087900Z"
    }
   }
  },
  {
   "cell_type": "code",
   "execution_count": 16,
   "outputs": [],
   "source": [
    "#Евклид для нахождения НОД\n",
    "def get_nod(a, b):\n",
    "    \"\"\"\n",
    "    Вычисляется НОД по алгоритму Евклида\n",
    "    :param a: Натуральное число a\n",
    "    :param b: Натуральное число b\n",
    "    :return: НОД\n",
    "    \"\"\"\n",
    "    while a != b:\n",
    "        if a > b:\n",
    "            a -= b\n",
    "        else:\n",
    "            b -= a\n",
    "\n",
    "    return a"
   ],
   "metadata": {
    "collapsed": false,
    "ExecuteTime": {
     "end_time": "2024-08-28T07:09:04.361983Z",
     "start_time": "2024-08-28T07:09:04.349418900Z"
    }
   }
  },
  {
   "cell_type": "code",
   "execution_count": 18,
   "outputs": [
    {
     "name": "stdout",
     "output_type": "stream",
     "text": [
      "3\n",
      "Help on function get_nod in module __main__:\n",
      "\n",
      "get_nod(a, b)\n",
      "    Вычисляется НОД по алгоритму Евклида\n",
      "    :param a: Натуральное число a\n",
      "    :param b: Натуральное число b\n",
      "    :return: НОД\n"
     ]
    }
   ],
   "source": [
    "print(get_nod(144, 123))\n",
    "help(get_nod)"
   ],
   "metadata": {
    "collapsed": false,
    "ExecuteTime": {
     "end_time": "2024-08-28T07:09:23.717579800Z",
     "start_time": "2024-08-28T07:09:23.710919300Z"
    }
   }
  },
  {
   "cell_type": "code",
   "execution_count": 25,
   "outputs": [
    {
     "name": "stdout",
     "output_type": "stream",
     "text": [
      "Начало теста\n",
      "Конец теста\n"
     ]
    }
   ],
   "source": [
    "def test_nod(func):\n",
    "    print('Начало теста')\n",
    "    assert func(28, 35) == 7\n",
    "    assert func(35, 100) == 5\n",
    "    assert func(180, 550) == 10\n",
    "    print('Конец теста')\n",
    "\n",
    "\n",
    "test_nod(get_nod)"
   ],
   "metadata": {
    "collapsed": false,
    "ExecuteTime": {
     "end_time": "2024-08-28T07:12:08.768057Z",
     "start_time": "2024-08-28T07:12:08.756002200Z"
    }
   }
  },
  {
   "cell_type": "code",
   "execution_count": 37,
   "outputs": [],
   "source": [
    "def get_nod_fast(a, b):\n",
    "    if a < b:\n",
    "        a, b = b, a\n",
    "    while b != 0:\n",
    "        a, b = b, a % b\n",
    "\n",
    "    return a"
   ],
   "metadata": {
    "collapsed": false,
    "ExecuteTime": {
     "end_time": "2024-08-28T07:20:36.184421900Z",
     "start_time": "2024-08-28T07:20:36.182421600Z"
    }
   }
  },
  {
   "cell_type": "code",
   "execution_count": 46,
   "outputs": [
    {
     "name": "stdout",
     "output_type": "stream",
     "text": [
      "(2, 2.026320695877075)\n"
     ]
    }
   ],
   "source": [
    "import time\n",
    "\n",
    "\n",
    "def check_time(func):\n",
    "    start = time.time()\n",
    "    res = func(100_000_000, 2)\n",
    "    end = time.time()\n",
    "\n",
    "    return res, end - start\n",
    "\n",
    "\n",
    "print(check_time(get_nod))"
   ],
   "metadata": {
    "collapsed": false,
    "ExecuteTime": {
     "end_time": "2024-08-28T07:21:13.116391400Z",
     "start_time": "2024-08-28T07:21:11.152817900Z"
    }
   }
  },
  {
   "cell_type": "code",
   "execution_count": 8,
   "outputs": [
    {
     "name": "stdout",
     "output_type": "stream",
     "text": [
      "120\n"
     ]
    }
   ],
   "source": [
    "def get_V(a, b, c, verbose=True):\n",
    "    if verbose:\n",
    "        print(f'{a = }, {b = }, {c = }')\n",
    "    return a * b * c\n",
    "\n",
    "\n",
    "v = get_V(4, 5, 6, False)\n",
    "print(v)"
   ],
   "metadata": {
    "collapsed": false,
    "ExecuteTime": {
     "end_time": "2024-08-29T07:30:52.752871400Z",
     "start_time": "2024-08-29T07:30:52.742131400Z"
    }
   }
  },
  {
   "cell_type": "code",
   "execution_count": 14,
   "outputs": [
    {
     "name": "stdout",
     "output_type": "stream",
     "text": [
      "True\n"
     ]
    }
   ],
   "source": [
    "def cmp_str(s1, s2, reg=False, trim=True):\n",
    "    if reg:\n",
    "        s1, s2 = s1.lower(), s2.lower()\n",
    "    if trim:\n",
    "        s1, s2 = s1.strip(), s2.strip()\n",
    "    return s1 == s2\n",
    "\n",
    "print(cmp_str('python  ', 'Python', reg=True))"
   ],
   "metadata": {
    "collapsed": false,
    "ExecuteTime": {
     "end_time": "2024-08-29T07:34:57.391849800Z",
     "start_time": "2024-08-29T07:34:57.382615200Z"
    }
   }
  },
  {
   "cell_type": "code",
   "execution_count": 18,
   "outputs": [
    {
     "name": "stdout",
     "output_type": "stream",
     "text": [
      "[1, 2]\n"
     ]
    }
   ],
   "source": [
    "def add_value(value, lst=None):\n",
    "    if lst is None:\n",
    "        lst = []\n",
    "    lst.append(value)\n",
    "    return lst\n",
    "\n",
    "l = add_value(1)\n",
    "l = add_value(2)\n",
    "print(l)"
   ],
   "metadata": {
    "collapsed": false,
    "ExecuteTime": {
     "end_time": "2024-08-29T07:42:46.285984400Z",
     "start_time": "2024-08-29T07:42:46.280460400Z"
    }
   }
  },
  {
   "cell_type": "code",
   "execution_count": null,
   "outputs": [],
   "source": [
    "def get_rect_value(l, w, tp=0):\n",
    "    return 2 * (l + w) if not tp else l * w"
   ],
   "metadata": {
    "collapsed": false
   }
  },
  {
   "cell_type": "code",
   "execution_count": 23,
   "outputs": [
    {
     "name": "stdout",
     "output_type": "stream",
     "text": [
      "True\n"
     ]
    }
   ],
   "source": [
    "def check_password(psw, chars=\"$%!?@#\"):\n",
    "    return  set(psw) & set(chars) and len(psw) > 7\n",
    "\n",
    "print(check_password('12345678!'))"
   ],
   "metadata": {
    "collapsed": false,
    "ExecuteTime": {
     "end_time": "2024-08-29T07:52:03.244178700Z",
     "start_time": "2024-08-29T07:52:03.239657500Z"
    }
   }
  },
  {
   "cell_type": "code",
   "execution_count": 25,
   "outputs": [
    {
     "name": "stdout",
     "output_type": "stream",
     "text": [
      "luchshiy-kurs-po-python!\n",
      "luchshiy+kurs+po+python!\n"
     ]
    }
   ],
   "source": [
    "def translate(s1, sep='-'):\n",
    "    s1 = s1.lower()\n",
    "    t = {'ё': 'yo', 'а': 'a', 'б': 'b', 'в': 'v', 'г': 'g', 'д': 'd', 'е': 'e', 'ж': 'zh',\n",
    "     'з': 'z', 'и': 'i', 'й': 'y', 'к': 'k', 'л': 'l', 'м': 'm', 'н': 'n', 'о': 'o', 'п': 'p',\n",
    "     'р': 'r', 'с': 's', 'т': 't', 'у': 'u', 'ф': 'f', 'х': 'h', 'ц': 'c', 'ч': 'ch', 'ш': 'sh',\n",
    "     'щ': 'shch', 'ъ': '', 'ы': 'y', 'ь': '', 'э': 'e', 'ю': 'yu', 'я': 'ya'}\n",
    "    lst = [t[x] if x in t.keys() else x for x in s1 ]\n",
    "    s2 = ''.join(lst)\n",
    "    s2 = s2.replace(' ', sep)\n",
    "    return s2\n",
    "\n",
    "\n",
    "# inp = input()\n",
    "print(translate(inp))\n",
    "print(translate(inp, sep='+'))\n",
    "\n",
    "# def to_latin(text, sep='-'):\n",
    "#     t[' '] = sep\n",
    "#     return \"\".join([t.get(c, c) for c in text.lower()])"
   ],
   "metadata": {
    "collapsed": false,
    "ExecuteTime": {
     "end_time": "2024-08-29T08:00:40.206471Z",
     "start_time": "2024-08-29T08:00:39.784833600Z"
    }
   }
  },
  {
   "cell_type": "code",
   "execution_count": 26,
   "outputs": [
    {
     "name": "stdout",
     "output_type": "stream",
     "text": [
      "<h1>Работаем с функциями/<h1>\n",
      "<div>Работаем с функциями/<div>\n"
     ]
    }
   ],
   "source": [
    "def make_html(content, tag='h1'):\n",
    "    return f'<{tag}>{content}</{tag}>'\n",
    "\n",
    "# inp = input()\n",
    "print(make_html(inp))\n",
    "print(make_html(inp, tag='div'))"
   ],
   "metadata": {
    "collapsed": false,
    "ExecuteTime": {
     "end_time": "2024-08-29T08:06:58.428107900Z",
     "start_time": "2024-08-29T08:06:53.680240600Z"
    }
   }
  },
  {
   "cell_type": "code",
   "execution_count": 28,
   "outputs": [
    {
     "name": "stdout",
     "output_type": "stream",
     "text": [
      "<DIV>asdf</DIV>\n",
      "<div>asdf</div>\n"
     ]
    }
   ],
   "source": [
    "def make_html(content, tag='h1', up=True):\n",
    "    if up:\n",
    "        tag = tag.upper()\n",
    "    return (f'<{tag}>{content}</{tag}>', f'<{uptag:=tag.upper()}>{s}</{uptag}>')[up]\n",
    "\n",
    "\n",
    "# inp = input()\n",
    "print(make_html(inp, tag='div'))\n",
    "print(make_html(inp, tag='div', up=False))"
   ],
   "metadata": {
    "collapsed": false,
    "ExecuteTime": {
     "end_time": "2024-08-29T08:10:48.637721500Z",
     "start_time": "2024-08-29T08:10:47.537591200Z"
    }
   }
  },
  {
   "cell_type": "code",
   "execution_count": 30,
   "outputs": [
    {
     "name": "stdout",
     "output_type": "stream",
     "text": [
      "[4, 8, 12, 0]\n"
     ]
    }
   ],
   "source": [
    "def get_even(*args):\n",
    "    return [x for x in args if x % 2 == 0]\n",
    "\n",
    "\n",
    "print(get_even(45, 4, 8, 11, 12, 0))"
   ],
   "metadata": {
    "collapsed": false,
    "ExecuteTime": {
     "end_time": "2024-08-29T09:22:14.948031500Z",
     "start_time": "2024-08-29T09:22:14.941723500Z"
    }
   }
  },
  {
   "cell_type": "code",
   "execution_count": 33,
   "outputs": [
    {
     "name": "stdout",
     "output_type": "stream",
     "text": [
      "2\n"
     ]
    }
   ],
   "source": [
    "def get_biggest_city(*args):\n",
    "    return min(args, key=len)\n",
    "\n",
    "print(get_biggest_city('sdf', 'sdf', 'erwgrwg', '2'))"
   ],
   "metadata": {
    "collapsed": false,
    "ExecuteTime": {
     "end_time": "2024-08-29T09:25:25.269429Z",
     "start_time": "2024-08-29T09:25:25.265052600Z"
    }
   }
  },
  {
   "cell_type": "code",
   "execution_count": 57,
   "outputs": [
    {
     "name": "stdout",
     "output_type": "stream",
     "text": [
      "(45, False, 'Yellow', True, 10)\n",
      "(45, False, 'Yellow', True, 10)\n",
      "(9, False, 'Yellow', True)\n"
     ]
    }
   ],
   "source": [
    "def get_data_fig(*args, **kwargs):\n",
    "    res = (sum(args), *[kwargs[x] for x in ['tp', 'color', 'closed', 'width'] if x in kwargs.keys()])\n",
    "    return res\n",
    "\n",
    "print(get_data_fig(5, 4, 9, 9, 9, 9, tp=False, color='Yellow', closed=True, width=10))\n",
    "print(get_data_fig(5, 4, 9, 9, 9, 9, color='Yellow', tp=False, closed=True, width=10))\n",
    "print(get_data_fig(5, 4, color='Yellow', tp=False, closed=True))"
   ],
   "metadata": {
    "collapsed": false,
    "ExecuteTime": {
     "end_time": "2024-08-29T09:37:24.398601600Z",
     "start_time": "2024-08-29T09:37:24.393042900Z"
    }
   }
  },
  {
   "cell_type": "code",
   "execution_count": 62,
   "outputs": [
    {
     "name": "stdout",
     "output_type": "stream",
     "text": [
      "[0, 0, 0, 0]\n",
      "[0, 0, 0, 0, 0, 0, 0, 0]\n",
      "False\n"
     ]
    }
   ],
   "source": [
    "def is_isolate(row:list, matrix:list):\n",
    "    if '11' in ''.join(map(str, row)):\n",
    "        return False\n",
    "    row_id = matrix.index(row)\n",
    "    el_id = row.index(1)\n",
    "    circle = []\n",
    "    if row_id != 0:\n",
    "        circle += matrix[row_id-1][el_id-1 if el_id != 0 else 0: el_id+2]\n",
    "    if row_id + 1 != len(matrix):\n",
    "        circle += matrix[row_id+1][el_id-1 if el_id != 0 else 0: el_id+2]\n",
    "    return not (1 in circle)\n",
    "\n",
    "def verify(matrix):\n",
    "    for row in matrix:\n",
    "        if 1 in row:\n",
    "            if not is_isolate(row, matrix):\n",
    "                return False\n",
    "    return True\n",
    "\n",
    "print(verify([[1, 0, 0, 0, 0], [0, 0, 1, 0, 0], [0, 0, 0, 0, 0], [0, 1, 0, 1, 0], [0, 0, 0, 0, 0]]))"
   ],
   "metadata": {
    "collapsed": false
   }
  },
  {
   "cell_type": "code",
   "execution_count": null,
   "outputs": [],
   "source": [
    "def str_min(*args):\n",
    "    return min(args)\n",
    "\n",
    "def str_min3(*args):\n",
    "    return str_min(*args)\n",
    "\n",
    "def str_min4(*args):\n",
    "    return str_min(*args)"
   ],
   "metadata": {
    "collapsed": false
   }
  },
  {
   "cell_type": "code",
   "execution_count": 1,
   "outputs": [
    {
     "name": "stdout",
     "output_type": "stream",
     "text": [
      "1 [2, 3, 4]\n"
     ]
    }
   ],
   "source": [
    "x, *y = [1, 2, 3, 4]\n",
    "print(x, y)"
   ],
   "metadata": {
    "collapsed": false,
    "ExecuteTime": {
     "end_time": "2024-08-29T13:49:35.473505Z",
     "start_time": "2024-08-29T13:49:35.448560100Z"
    }
   }
  },
  {
   "cell_type": "code",
   "execution_count": 3,
   "outputs": [],
   "source": [
    "*x, y = 1, 2, 3"
   ],
   "metadata": {
    "collapsed": false,
    "ExecuteTime": {
     "end_time": "2024-08-29T13:51:01.511724500Z",
     "start_time": "2024-08-29T13:51:01.500672400Z"
    }
   }
  },
  {
   "cell_type": "code",
   "execution_count": 4,
   "outputs": [],
   "source": [
    "a = [1, 2, 3]"
   ],
   "metadata": {
    "collapsed": false,
    "ExecuteTime": {
     "end_time": "2024-08-29T13:51:12.628375700Z",
     "start_time": "2024-08-29T13:51:12.584285Z"
    }
   }
  },
  {
   "cell_type": "code",
   "execution_count": 5,
   "outputs": [
    {
     "data": {
      "text/plain": "(1, 2, 3)"
     },
     "execution_count": 5,
     "metadata": {},
     "output_type": "execute_result"
    }
   ],
   "source": [
    "(*a,)"
   ],
   "metadata": {
    "collapsed": false,
    "ExecuteTime": {
     "end_time": "2024-08-29T13:51:16.870262400Z",
     "start_time": "2024-08-29T13:51:16.857932200Z"
    }
   }
  },
  {
   "cell_type": "code",
   "execution_count": 8,
   "outputs": [
    {
     "name": "stdout",
     "output_type": "stream",
     "text": [
      "[-5, -4, -3, -2, -1, 0, 1, 2, 3, 4]\n"
     ]
    }
   ],
   "source": [
    "d = -5, 5\n",
    "print(list(range(*d)))"
   ],
   "metadata": {
    "collapsed": false,
    "ExecuteTime": {
     "end_time": "2024-08-29T14:01:10.290694500Z",
     "start_time": "2024-08-29T14:01:10.284179300Z"
    }
   }
  },
  {
   "cell_type": "code",
   "execution_count": 10,
   "outputs": [
    {
     "name": "stdout",
     "output_type": "stream",
     "text": [
      "[-5, -4, -3, -2, -1, 0, 1, 2, 3, 4]\n"
     ]
    }
   ],
   "source": [
    "print([*range(*d)])"
   ],
   "metadata": {
    "collapsed": false,
    "ExecuteTime": {
     "end_time": "2024-08-29T14:01:24.677604Z",
     "start_time": "2024-08-29T14:01:24.671588300Z"
    }
   }
  },
  {
   "cell_type": "code",
   "execution_count": null,
   "outputs": [],
   "source": [
    "*lst, x, y, z = input().split()\n",
    "print(*lst)"
   ],
   "metadata": {
    "collapsed": false
   }
  },
  {
   "cell_type": "code",
   "execution_count": null,
   "outputs": [],
   "source": [
    "print(tuple(*input().split()))"
   ],
   "metadata": {
    "collapsed": false
   }
  },
  {
   "cell_type": "code",
   "execution_count": null,
   "outputs": [],
   "source": [
    "a, b = map(int, input().split())\n",
    "print(*list(range(a, b+1)))"
   ],
   "metadata": {
    "collapsed": false
   }
  },
  {
   "cell_type": "code",
   "execution_count": null,
   "outputs": [],
   "source": [
    "nums = input().split()\n",
    "cities = input().split()\n",
    "lst = [*nums, *cities]\n",
    "print(*lst)"
   ],
   "metadata": {
    "collapsed": false
   }
  },
  {
   "cell_type": "code",
   "execution_count": null,
   "outputs": [],
   "source": [
    "menu = {'Главная': 'home', 'Архив': 'archive', 'Новости': 'news'}\n",
    "\n",
    "menu = {**menu, **{x.split('=')[0]: x.split('=')[1] for x in lst_in}}"
   ],
   "metadata": {
    "collapsed": false
   }
  },
  {
   "cell_type": "code",
   "execution_count": null,
   "outputs": [],
   "source": [],
   "metadata": {
    "collapsed": false
   }
  },
  {
   "cell_type": "code",
   "execution_count": 6,
   "outputs": [
    {
     "name": "stdout",
     "output_type": "stream",
     "text": [
      "1\n",
      "2\n",
      "3\n",
      "4\n",
      "4\n",
      "3\n",
      "2\n",
      "1\n"
     ]
    }
   ],
   "source": [
    "def recrursive(value):\n",
    "    print(value)\n",
    "    if value < 4:\n",
    "        recrursive(value+1)\n",
    "    print(value)\n",
    "recrursive(1)"
   ],
   "metadata": {
    "collapsed": false,
    "ExecuteTime": {
     "end_time": "2024-09-03T06:41:19.695911300Z",
     "start_time": "2024-09-03T06:41:19.691320700Z"
    }
   }
  },
  {
   "cell_type": "code",
   "execution_count": 10,
   "outputs": [
    {
     "name": "stdout",
     "output_type": "stream",
     "text": [
      "720\n"
     ]
    }
   ],
   "source": [
    "def factorial(value):\n",
    "    if value <= 0:\n",
    "        return 1\n",
    "    return value * factorial(value-1)\n",
    "\n",
    "print(factorial(6))"
   ],
   "metadata": {
    "collapsed": false,
    "ExecuteTime": {
     "end_time": "2024-09-03T06:43:48.405801600Z",
     "start_time": "2024-09-03T06:43:48.400280400Z"
    }
   }
  },
  {
   "cell_type": "code",
   "execution_count": 16,
   "outputs": [
    {
     "name": "stdout",
     "output_type": "stream",
     "text": [
      " C:\n",
      "  Python39\n",
      "   python.exe python.ini\n",
      "  Program Files\n",
      "   Java\n",
      "    README.txt Welcome.html java.exe\n",
      "   MATLAB\n",
      "    matlab.bat matlab.exe mcc.bat\n",
      "  Windows\n",
      "   System32\n",
      "    acledit.dll aclui.dll zipfldr.dll\n"
     ]
    }
   ],
   "source": [
    "F = {\n",
    "    'C:': {\n",
    "        'Python39': ['python.exe', 'python.ini'],\n",
    "        'Program Files': {\n",
    "            'Java': ['README.txt', 'Welcome.html', 'java.exe'],\n",
    "            'MATLAB': ['matlab.bat', 'matlab.exe', 'mcc.bat']\n",
    "        },\n",
    "        'Windows': {\n",
    "            'System32': ['acledit.dll', 'aclui.dll', 'zipfldr.dll']\n",
    "        }\n",
    "    }\n",
    "}\n",
    "\n",
    "def tree(path, depth=0):\n",
    "    for f in path:\n",
    "        print(\" \"*depth, f)\n",
    "        if isinstance(path[f], dict):\n",
    "            tree(path[f], depth + 1)\n",
    "        else:\n",
    "            print(\" \" * (depth + 1), ' '.join(path[f]))\n",
    "            \n",
    "            \n",
    "tree(F)"
   ],
   "metadata": {
    "collapsed": false,
    "ExecuteTime": {
     "end_time": "2024-09-03T06:48:32.074230700Z",
     "start_time": "2024-09-03T06:48:32.067715Z"
    }
   }
  },
  {
   "cell_type": "code",
   "execution_count": null,
   "outputs": [],
   "source": [
    "n = int(input())\n",
    "\n",
    "def get_rec_N(n):\n",
    "    if n == 0:\n",
    "        return \n",
    "    get_rec_N(n-1)\n",
    "    print(n)"
   ],
   "metadata": {
    "collapsed": false
   }
  },
  {
   "cell_type": "code",
   "execution_count": null,
   "outputs": [],
   "source": [
    "nums = tuple(map(int, input().split()))\n",
    "def get_rec_sum(nums):\n",
    "    if len(nums) == 1:\n",
    "        return nums[0]\n",
    "    return n[0] + get_rec_sum(nums[1:])\n"
   ],
   "metadata": {
    "collapsed": false
   }
  },
  {
   "cell_type": "code",
   "execution_count": 38,
   "outputs": [
    {
     "name": "stdout",
     "output_type": "stream",
     "text": [
      "[1, 1, 2, 3, 5, 8, 13]\n"
     ]
    }
   ],
   "source": [
    "\n",
    "def fib_rec(N, f=[1, 1]):\n",
    "    if len(f) == N:\n",
    "        return f\n",
    "    return fib_rec(N, f+[f[-1]+f[-2]])\n",
    "\n",
    "print(fib_rec(7))"
   ],
   "metadata": {
    "collapsed": false,
    "ExecuteTime": {
     "end_time": "2024-09-03T07:16:03.688989800Z",
     "start_time": "2024-09-03T07:16:03.665654600Z"
    }
   }
  },
  {
   "cell_type": "code",
   "execution_count": null,
   "outputs": [],
   "source": [
    "n = int(input())\n",
    "def fact_rec(n):\n",
    "    if n == 0:\n",
    "        return 1\n",
    "    return n * fact_rec(n-1)"
   ],
   "metadata": {
    "collapsed": false
   }
  },
  {
   "cell_type": "code",
   "execution_count": 37,
   "outputs": [
    {
     "name": "stdout",
     "output_type": "stream",
     "text": [
      "[1, 2, True, False, 'Москва', 'Уфа', 100, 101, 'True', -2, -1, 7.89]\n"
     ]
    }
   ],
   "source": [
    "d = [1, 2, [True, False], [\"Москва\", \"Уфа\", [100, 101], ['True', [-2, -1]]], 7.89]\n",
    "\n",
    "def get_line_list(d, a=[]):\n",
    "    for i in d:\n",
    "        if isinstance(i, list):\n",
    "            get_line_list(i, a)\n",
    "        else:\n",
    "            a.append(i)\n",
    "    return a\n",
    "\n",
    "print(get_line_list(d))\n",
    "        "
   ],
   "metadata": {
    "collapsed": false,
    "ExecuteTime": {
     "end_time": "2024-09-03T07:13:38.349646500Z",
     "start_time": "2024-09-03T07:13:38.347640Z"
    }
   }
  },
  {
   "cell_type": "code",
   "execution_count": null,
   "outputs": [],
   "source": [
    "N = int(input())\n",
    "\n",
    "\n",
    "def get_path(n):\n",
    "    return n if n in (1, 2) else get_path(n - 1) + get_path(n - 2)\n",
    "\n",
    "print(get_path(N))"
   ],
   "metadata": {
    "collapsed": false
   }
  },
  {
   "cell_type": "code",
   "execution_count": null,
   "outputs": [],
   "source": [],
   "metadata": {
    "collapsed": false
   }
  },
  {
   "cell_type": "code",
   "execution_count": null,
   "outputs": [],
   "source": [
    "a = list(map(int, input().split()))\n",
    "\n",
    "def merge_list(a, b):\n",
    "    c = []\n",
    "    N = len(a)\n",
    "    M = len(b)\n",
    "    \n",
    "    i = 0\n",
    "    j = 0\n",
    "    while i < N and j < M:\n",
    "        if a[i] <= b[j]:\n",
    "            c.append(a[i])\n",
    "            i += 1\n",
    "        else:\n",
    "            c.append(b[j])\n",
    "            j += 1\n",
    "    \n",
    "    c += a[i:] + b[j:]\n",
    "    return c\n",
    "\n",
    "\n",
    "def merge_sort(lst):\n",
    "    N1 = len(a) // 2\n",
    "    a1 = a[:N1]\n",
    "    a2 = a[N1:]\n",
    "    \n",
    "    if len(a1) > 1:\n",
    "        a1 = merge_sort(a1)\n",
    "    if len(a2) > 1:\n",
    "        a2 = merge_sort(a2)\n",
    "    \n",
    "    return merge_list(a1, a2)\n",
    "        "
   ],
   "metadata": {
    "collapsed": false
   }
  },
  {
   "cell_type": "code",
   "execution_count": null,
   "outputs": [],
   "source": [],
   "metadata": {
    "collapsed": false
   }
  },
  {
   "cell_type": "code",
   "execution_count": 1,
   "outputs": [
    {
     "name": "stdout",
     "output_type": "stream",
     "text": [
      "3\n"
     ]
    }
   ],
   "source": [
    "s = lambda a, b: a + b\n",
    "print(s(1, 2))"
   ],
   "metadata": {
    "collapsed": false,
    "ExecuteTime": {
     "end_time": "2024-09-03T16:24:27.944538200Z",
     "start_time": "2024-09-03T16:24:27.931919500Z"
    }
   }
  },
  {
   "cell_type": "code",
   "execution_count": 3,
   "outputs": [
    {
     "name": "stdout",
     "output_type": "stream",
     "text": [
      "lambda\n"
     ]
    }
   ],
   "source": [
    "a = [4, 5, lambda: print(\"lambda\"), 7, 8]\n",
    "a[2]()"
   ],
   "metadata": {
    "collapsed": false,
    "ExecuteTime": {
     "end_time": "2024-09-03T16:25:07.383440Z",
     "start_time": "2024-09-03T16:25:07.358403900Z"
    }
   }
  },
  {
   "cell_type": "code",
   "execution_count": 7,
   "outputs": [
    {
     "name": "stdout",
     "output_type": "stream",
     "text": [
      "4 4 -6 6\n"
     ]
    }
   ],
   "source": [
    "lst = [4, 5, -3, 4, -6, 6, 7]\n",
    "print(*filter(lambda x: x % 2 == 0, lst))\n"
   ],
   "metadata": {
    "collapsed": false,
    "ExecuteTime": {
     "end_time": "2024-09-03T16:27:24.715713100Z",
     "start_time": "2024-09-03T16:27:24.679144800Z"
    }
   }
  },
  {
   "cell_type": "code",
   "execution_count": null,
   "outputs": [],
   "source": [
    "get_sq = lambda x: x**2\n"
   ],
   "metadata": {
    "collapsed": false
   }
  },
  {
   "cell_type": "code",
   "execution_count": 8,
   "outputs": [],
   "source": [
    "get_div = lambda a, b: a / b if b != 0 else None"
   ],
   "metadata": {
    "collapsed": false,
    "ExecuteTime": {
     "end_time": "2024-09-03T16:33:00.108317100Z",
     "start_time": "2024-09-03T16:33:00.092806900Z"
    }
   }
  },
  {
   "cell_type": "code",
   "execution_count": null,
   "outputs": [],
   "source": [
    "def filter_lst(it, key=None):\n",
    "    if key is None:\n",
    "        return tuple(it)\n",
    "\n",
    "    res = ()\n",
    "    for x in it:\n",
    "        if key(x):\n",
    "            res += (x,)\n",
    "\n",
    "    return res\n",
    "\n",
    "digs = list(map(int, input().split()))\n",
    "\n",
    "print(*filter_lst(digs))\n",
    "print(*filter_lst(digs, lambda x: x < 0))\n",
    "print(*filter_lst(digs, lambda x: x >= 0))\n",
    "print(*filter_lst(digs, lambda x: 5 >= x >= 3))"
   ],
   "metadata": {
    "collapsed": false
   }
  },
  {
   "cell_type": "code",
   "execution_count": 19,
   "outputs": [
    {
     "name": "stdout",
     "output_type": "stream",
     "text": [
      "14\n"
     ]
    }
   ],
   "source": [
    "# x = 1\n",
    "\n",
    "def ppr():\n",
    "    global x\n",
    "    x  += 1\n",
    "    \n",
    "ppr()\n",
    "print(x)"
   ],
   "metadata": {
    "collapsed": false,
    "ExecuteTime": {
     "end_time": "2024-09-04T06:47:26.099092800Z",
     "start_time": "2024-09-04T06:47:26.095577700Z"
    }
   }
  },
  {
   "cell_type": "code",
   "execution_count": 25,
   "outputs": [
    {
     "name": "stdout",
     "output_type": "stream",
     "text": [
      "inner 2\n",
      "outer 2\n",
      "global 0\n"
     ]
    }
   ],
   "source": [
    "y = 0\n",
    "\n",
    "def outer():\n",
    "    y = 1\n",
    "    def inner():\n",
    "        nonlocal y\n",
    "        y = 2\n",
    "        print(f'inner {y}')\n",
    "    \n",
    "    inner()\n",
    "    print(f'outer {y}')\n",
    "    \n",
    "outer()\n",
    "print(f'global {y}')"
   ],
   "metadata": {
    "collapsed": false,
    "ExecuteTime": {
     "end_time": "2024-09-04T06:50:07.428049100Z",
     "start_time": "2024-09-04T06:50:07.409561900Z"
    }
   }
  },
  {
   "cell_type": "code",
   "execution_count": 30,
   "outputs": [
    {
     "name": "stdout",
     "output_type": "stream",
     "text": [
      "3\n"
     ]
    }
   ],
   "source": [
    "WIDTH = int(input())\n",
    "\n",
    "\n",
    "def func1():\n",
    "    global WIDTH\n",
    "    WIDTH += 1\n",
    "    return WIDTH\n",
    "\n",
    "\n",
    "print(func1())"
   ],
   "metadata": {
    "collapsed": false,
    "ExecuteTime": {
     "end_time": "2024-09-04T06:54:00.052056200Z",
     "start_time": "2024-09-04T06:53:59.171774700Z"
    }
   }
  },
  {
   "cell_type": "code",
   "execution_count": 31,
   "outputs": [
    {
     "name": "stdout",
     "output_type": "stream",
     "text": [
      "3\n"
     ]
    }
   ],
   "source": [
    "print(globals()['WIDTH'])"
   ],
   "metadata": {
    "collapsed": false,
    "ExecuteTime": {
     "end_time": "2024-09-04T06:54:01.413084100Z",
     "start_time": "2024-09-04T06:54:01.408738Z"
    }
   }
  },
  {
   "cell_type": "code",
   "execution_count": null,
   "outputs": [],
   "source": [
    "def func1():\n",
    "    msg = input()\n",
    "\n",
    "\n",
    "    def func2():\n",
    "        nonlocal msg\n",
    "        msg = input()\n",
    "        print(msg)\n",
    "\n",
    "\n",
    "    func2()        \n",
    "    print(msg)\n",
    "\n",
    "\n",
    "func1()"
   ],
   "metadata": {
    "collapsed": false
   }
  },
  {
   "cell_type": "code",
   "execution_count": null,
   "outputs": [],
   "source": [
    "def create_global(x):\n",
    "    global TOTAL\n",
    "    TOTAL = x"
   ],
   "metadata": {
    "collapsed": false
   }
  },
  {
   "cell_type": "code",
   "execution_count": 38,
   "outputs": [
    {
     "name": "stdout",
     "output_type": "stream",
     "text": [
      "<function say_name.<locals>.say_goodbye at 0x00000236586E7B00> <function say_name.<locals>.say_goodbye at 0x00000236586E6E80>\n"
     ]
    }
   ],
   "source": [
    "def say_name(name):\n",
    "    def say_goodbye():\n",
    "        print(\"dont say goodbye\", name)\n",
    "    \n",
    "    return say_goodbye\n",
    "    \n",
    "f = say_name('name')\n",
    "f2 = say_name('name')\n",
    "print(f, f2)\n"
   ],
   "metadata": {
    "collapsed": false,
    "ExecuteTime": {
     "end_time": "2024-09-04T07:20:38.255899500Z",
     "start_time": "2024-09-04T07:20:38.200919300Z"
    }
   }
  },
  {
   "cell_type": "code",
   "execution_count": 39,
   "outputs": [
    {
     "name": "stdout",
     "output_type": "stream",
     "text": [
      "11 1\n",
      "12 2\n",
      "13 3\n",
      "14 4\n"
     ]
    }
   ],
   "source": [
    "def counter(start=0):\n",
    "    def step():\n",
    "        nonlocal start\n",
    "        start += 1\n",
    "        return start\n",
    "    return step\n",
    "\n",
    "c1 = counter(10)\n",
    "c2 = counter()\n",
    "print(c1(), c2())\n",
    "print(c1(), c2())\n",
    "print(c1(), c2())\n",
    "print(c1(), c2())"
   ],
   "metadata": {
    "collapsed": false,
    "ExecuteTime": {
     "end_time": "2024-09-04T07:21:44.937856Z",
     "start_time": "2024-09-04T07:21:44.890903100Z"
    }
   }
  },
  {
   "cell_type": "code",
   "execution_count": 47,
   "outputs": [
    {
     "name": "stdout",
     "output_type": "stream",
     "text": [
      "dfgfdgd\n",
      "asdfgsdf !? , .\n"
     ]
    }
   ],
   "source": [
    "def strip_string(strip_chars=\" \"):\n",
    "    def do_string(string):\n",
    "        return string.strip(strip_chars)\n",
    "    return do_string\n",
    "\n",
    "strip1 = strip_string()\n",
    "strip2 = strip_string('.,?!; ')\n",
    "print(strip2(' dfgfdgd!? , .'))\n",
    "print(strip1(' asdfgsdf !? , .'))\n"
   ],
   "metadata": {
    "collapsed": false,
    "ExecuteTime": {
     "end_time": "2024-09-04T07:25:11.361567400Z",
     "start_time": "2024-09-04T07:25:11.349386400Z"
    }
   }
  },
  {
   "cell_type": "code",
   "execution_count": 49,
   "outputs": [
    {
     "name": "stdout",
     "output_type": "stream",
     "text": [
      "9\n"
     ]
    }
   ],
   "source": [
    "def counter_add():\n",
    "    def inner(x):\n",
    "        x += 5\n",
    "        return x\n",
    "    return inner\n",
    "\n",
    "cnt = counter_add()\n",
    "print(cnt(int(input())))"
   ],
   "metadata": {
    "collapsed": false,
    "ExecuteTime": {
     "end_time": "2024-09-04T07:28:07.092680400Z",
     "start_time": "2024-09-04T07:28:06.056758100Z"
    }
   }
  },
  {
   "cell_type": "code",
   "execution_count": null,
   "outputs": [],
   "source": [
    "def counter_add(n):\n",
    "    def inner(x):\n",
    "        return x + n\n",
    "    return inner\n",
    "\n",
    "\n",
    "cnt = counter_add(2)\n",
    "print(cnt(int(input())))"
   ],
   "metadata": {
    "collapsed": false
   }
  },
  {
   "cell_type": "code",
   "execution_count": null,
   "outputs": [],
   "source": [
    "def outer():\n",
    "    def inner(string):\n",
    "        return f'<h1>{string}</h1>'\n",
    "    return inner\n",
    "\n",
    "cnt = outer()\n",
    "print(cnt(input()))"
   ],
   "metadata": {
    "collapsed": false
   }
  },
  {
   "cell_type": "code",
   "execution_count": null,
   "outputs": [],
   "source": [
    "def outer(tag):\n",
    "    def inner(string):\n",
    "        return f'<{tag}>{string}</{tag}>'\n",
    "    return inner\n",
    "\n",
    "cnt = outer()\n",
    "print(cnt(input()))"
   ],
   "metadata": {
    "collapsed": false
   }
  },
  {
   "cell_type": "code",
   "execution_count": 52,
   "outputs": [
    {
     "name": "stdout",
     "output_type": "stream",
     "text": [
      "[1, 2, 3, 4]\n"
     ]
    }
   ],
   "source": [
    "def outer(tp):\n",
    "    types = {'list': list, 'tuple': tuple, 'set': set}\n",
    "    def inner(string):\n",
    "        return types[tp](map(int, string.split()))\n",
    "    return inner\n",
    "\n",
    "f = outer(input())\n",
    "print(f(input()))"
   ],
   "metadata": {
    "collapsed": false,
    "ExecuteTime": {
     "end_time": "2024-09-04T07:36:17.161575600Z",
     "start_time": "2024-09-04T07:36:13.184399800Z"
    }
   }
  },
  {
   "cell_type": "code",
   "execution_count": 62,
   "outputs": [
    {
     "name": "stdout",
     "output_type": "stream",
     "text": [
      "----asfsadfdf----\n",
      "tittle sdfs\n",
      "-----sadfsdfdsfgf----\n"
     ]
    }
   ],
   "source": [
    "def func_decorator(func):\n",
    "    def wrapper(*args, **kwargs):\n",
    "        print(\"----asfsadfdf----\")\n",
    "        res = func(*args, **kwargs)\n",
    "        print('-----sadfsdfdsfgf----')\n",
    "        return res\n",
    "    return wrapper\n",
    "\n",
    "# @func_decorator\n",
    "def some_func(title, fsdf):\n",
    "    print(title, fsdf)\n",
    "    return title\n",
    "   \n",
    "some_func = func_decorator(some_func) \n",
    "some_func('tittle', 'sdfs')"
   ],
   "metadata": {
    "collapsed": false,
    "ExecuteTime": {
     "end_time": "2024-09-04T07:46:52.182284100Z",
     "start_time": "2024-09-04T07:46:52.170795100Z"
    }
   }
  },
  {
   "cell_type": "code",
   "execution_count": 77,
   "outputs": [
    {
     "name": "stdout",
     "output_type": "stream",
     "text": [
      "time: 145225900\n",
      "2\n",
      "time: 1500\n",
      "2\n"
     ]
    }
   ],
   "source": [
    "import time\n",
    "\n",
    "def test_time(func):\n",
    "    def wrapper(*args, **kwargs):\n",
    "        start = time.perf_counter_ns()\n",
    "        res = func(*args, **kwargs)\n",
    "        end = time.perf_counter_ns()\n",
    "        print(f\"time: {end-start}\")\n",
    "        return res\n",
    "    return wrapper\n",
    "\n",
    "\n",
    "@test_time\n",
    "def get_nod(a, b):\n",
    "    while a!=b:\n",
    "        if a > b:\n",
    "            a -= b\n",
    "        else:\n",
    "            b -= a\n",
    "    return a\n",
    "\n",
    "\n",
    "@test_time\n",
    "def get_fast_nod(a, b):\n",
    "    if a < b:\n",
    "        a, b = b, a\n",
    "    while b:\n",
    "        a, b = b, a % b\n",
    "    \n",
    "    return a\n",
    "\n",
    "\n",
    "print(get_nod(123234524, 34))\n",
    "print(get_fast_nod(123234524, 34))"
   ],
   "metadata": {
    "collapsed": false,
    "ExecuteTime": {
     "end_time": "2024-09-04T07:58:15.736704300Z",
     "start_time": "2024-09-04T07:58:15.594298700Z"
    }
   }
  },
  {
   "cell_type": "code",
   "execution_count": null,
   "outputs": [],
   "source": [
    "def func_show(func):\n",
    "    def wrapper(*args, **kwargs):\n",
    "        res = func(*args, **kwargs)\n",
    "        print(f'Площадь прямоугольника: {res}')\n",
    "        return res\n",
    "    return wrapper\n",
    "\n",
    "\n",
    "def get_sq(width, height):\n",
    "    return width * height"
   ],
   "metadata": {
    "collapsed": false
   }
  },
  {
   "cell_type": "code",
   "execution_count": 79,
   "outputs": [
    {
     "name": "stdout",
     "output_type": "stream",
     "text": [
      "1. asdf\n",
      "2. asdf\n",
      "3. asdfds\n",
      "4. fasfsdf\n"
     ]
    },
    {
     "data": {
      "text/plain": "['asdf', 'asdf', 'asdfds', 'fasfsdf']"
     },
     "execution_count": 79,
     "metadata": {},
     "output_type": "execute_result"
    }
   ],
   "source": [
    "from functools import wraps\n",
    "\n",
    "def show_menu(func):\n",
    "    @wraps(func)\n",
    "    def wrapper(*args, **kwargs):\n",
    "        for idx, obj in enumerate(func(*args, **kwargs),start=1):\n",
    "            print(f'{idx}. {obj}')\n",
    "    return wrapper\n",
    "\n",
    "\n",
    "menu = input()\n",
    "\n",
    "\n",
    "@show_menu\n",
    "def get_menu(s):\n",
    "    return s.split()\n",
    "\n",
    "get_menu(menu)"
   ],
   "metadata": {
    "collapsed": false,
    "ExecuteTime": {
     "end_time": "2024-09-04T08:09:03.898039800Z",
     "start_time": "2024-09-04T08:09:02.000624800Z"
    }
   }
  },
  {
   "cell_type": "code",
   "execution_count": 81,
   "outputs": [
    {
     "name": "stdout",
     "output_type": "stream",
     "text": [
      "12 34 34 54\n"
     ]
    }
   ],
   "source": [
    "def sort_ascend(func):\n",
    "    @wraps(func)\n",
    "    def wrapper(*args, **kwargs):\n",
    "        res = func(*args, **kwargs)\n",
    "        return sorted(res)\n",
    "    return wrapper\n",
    "\n",
    "\n",
    "@sort_ascend\n",
    "def get_list(s):\n",
    "    return list(map(int, s.split()))\n",
    "\n",
    "\n",
    "print(*get_list(input()))"
   ],
   "metadata": {
    "collapsed": false,
    "ExecuteTime": {
     "end_time": "2024-09-04T08:20:22.909042Z",
     "start_time": "2024-09-04T08:20:19.639111600Z"
    }
   }
  },
  {
   "cell_type": "code",
   "execution_count": null,
   "outputs": [],
   "source": [
    "s1 = input()\n",
    "s2 = input()\n",
    "\n",
    "def make_dict(func):\n",
    "    @wraps(func)\n",
    "    def wrapper(*args, **kwargs):\n",
    "        lst1, lst2 = func(*args, **kwargs)\n",
    "        return dict(zip(lst1, lst2))\n",
    "    return wrapper\n",
    "\n",
    "\n",
    "@make_dict\n",
    "def get_list(s1, s2):\n",
    "    return s1.split(), s2.split()\n",
    "\n",
    "print(sorted(*get_list(s1, s2).items()))"
   ],
   "metadata": {
    "collapsed": false
   }
  },
  {
   "cell_type": "code",
   "execution_count": 90,
   "outputs": [],
   "source": [
    "t = {'ё': 'yo', 'а': 'a', 'б': 'b', 'в': 'v', 'г': 'g', 'д': 'd', 'е': 'e', 'ж': 'zh',\n",
    "     'з': 'z', 'и': 'i', 'й': 'y', 'к': 'k', 'л': 'l', 'м': 'm', 'н': 'n', 'о': 'o', 'п': 'p',\n",
    "     'р': 'r', 'с': 's', 'т': 't', 'у': 'u', 'ф': 'f', 'х': 'h', 'ц': 'c', 'ч': 'ch', 'ш': 'sh',\n",
    "     'щ': 'shch', 'ъ': '', 'ы': 'y', 'ь': '', 'э': 'e', 'ю': 'yu', 'я': 'ya'}\n",
    "\n",
    "def remove_defice(func):\n",
    "    @wraps(func)\n",
    "    def wrapper(*args, **kwargs):\n",
    "        res: str = func(*args, **kwargs)\n",
    "        \n",
    "        while '--' in res:\n",
    "            res = res.replace('--', '-')\n",
    "        return res\n",
    "    return wrapper\n",
    "\n",
    "\n",
    "@remove_defice\n",
    "def change_alphabet(s: str):\n",
    "    res = ''\n",
    "    for i in s.lower():\n",
    "        if i in t:\n",
    "            res += t[i]\n",
    "        elif i in \" : ;.,_\" :\n",
    "            res += '-'\n",
    "        else:\n",
    "            res += i\n",
    "    return res\n",
    "\n",
    "print(change_alphabet(input()))\n"
   ],
   "metadata": {
    "collapsed": false,
    "ExecuteTime": {
     "end_time": "2024-09-04T08:36:16.766550500Z",
     "start_time": "2024-09-04T08:36:16.754180600Z"
    }
   }
  },
  {
   "cell_type": "code",
   "execution_count": 115,
   "outputs": [
    {
     "name": "stdout",
     "output_type": "stream",
     "text": [
      "0.4999566978958203\n",
      "sin_df\n"
     ]
    }
   ],
   "source": [
    "import math\n",
    "\n",
    "\n",
    "def df_decorator(dx=0.1):\n",
    "    def func_decorator(func):\n",
    "        @wraps(func)\n",
    "        def wrapper(x, *args, **kwargs):\n",
    "            res = (func(x + dx, *args, **kwargs) - func(x, *args, **kwargs)) / dx\n",
    "            return res\n",
    "        return wrapper\n",
    "    return func_decorator\n",
    "\n",
    "\n",
    "@df_decorator(dx=0.0001)\n",
    "def sin_df(x):\n",
    "    return math.sin(x)\n",
    "\n",
    "# sin_df = df_decorator(dx=0.0001)(sin_df)\n",
    "\n",
    "print(sin_df(math.pi/3))\n",
    "print(sin_df.__name__)"
   ],
   "metadata": {
    "collapsed": false,
    "ExecuteTime": {
     "end_time": "2024-09-04T11:01:42.521622900Z",
     "start_time": "2024-09-04T11:01:42.509571200Z"
    }
   }
  },
  {
   "cell_type": "code",
   "execution_count": 119,
   "outputs": [
    {
     "name": "stdout",
     "output_type": "stream",
     "text": [
      "124817\n"
     ]
    }
   ],
   "source": [
    "s = input()\n",
    "\n",
    "def start_decorator(start=0):\n",
    "    def inner(func):\n",
    "        @wraps(func)\n",
    "        def wrapper(*args, **kwargs):\n",
    "            return func(*args, **kwargs) + start\n",
    "        return wrapper\n",
    "    return inner\n",
    "\n",
    "\n",
    "@start_decorator(start=5)\n",
    "def get_sum(s):\n",
    "    return sum(map(int, s.split()))\n",
    "\n",
    "print(get_sum(s))"
   ],
   "metadata": {
    "collapsed": false,
    "ExecuteTime": {
     "end_time": "2024-09-04T11:12:35.128530800Z",
     "start_time": "2024-09-04T11:12:33.166235100Z"
    }
   }
  },
  {
   "cell_type": "code",
   "execution_count": 121,
   "outputs": [
    {
     "name": "stdout",
     "output_type": "stream",
     "text": [
      "<h1>fgasdfdsfadgsfaads</h1>\n"
     ]
    }
   ],
   "source": [
    "s = input()\n",
    "\n",
    "tag_decorator = lambda tag='h1': lambda func: lambda *args, **kwargs: f'<{tag}>{func(*args, **kwargs)}</{tag}>'\n",
    "\n",
    "# def tag_decorator(tag='h1'):\n",
    "#     def inner(func):\n",
    "#         @wraps(func)\n",
    "#         def wrapper(*args, **kwargs):\n",
    "#             res = func(*args, **kwargs)\n",
    "#             return f'<{tag}>{res}</{tag}>'\n",
    "#         return wrapper\n",
    "#     return inner\n",
    "\n",
    "\n",
    "@tag_decorator()\n",
    "def make_lower(s):\n",
    "    return s.lower()\n",
    "\n",
    "print(make_lower(s))"
   ],
   "metadata": {
    "collapsed": false,
    "ExecuteTime": {
     "end_time": "2024-09-04T11:17:47.792371100Z",
     "start_time": "2024-09-04T11:17:44.569602900Z"
    }
   }
  },
  {
   "cell_type": "code",
   "execution_count": 123,
   "outputs": [
    {
     "name": "stdout",
     "output_type": "stream",
     "text": [
      "dekoratory-eto-kruto-\n"
     ]
    }
   ],
   "source": [
    "t = {'ё': 'yo', 'а': 'a', 'б': 'b', 'в': 'v', 'г': 'g', 'д': 'd', 'е': 'e', 'ж': 'zh',\n",
    "     'з': 'z', 'и': 'i', 'й': 'y', 'к': 'k', 'л': 'l', 'м': 'm', 'н': 'n', 'о': 'o', 'п': 'p',\n",
    "     'р': 'r', 'с': 's', 'т': 't', 'у': 'u', 'ф': 'f', 'х': 'h', 'ц': 'c', 'ч': 'ch', 'ш': 'sh',\n",
    "     'щ': 'shch', 'ъ': '', 'ы': 'y', 'ь': '', 'э': 'e', 'ю': 'yu', 'я': 'ya'}\n",
    "\n",
    "\n",
    "def replace_symbols_decorator(chars=' !?'):\n",
    "    def inner(func):\n",
    "        @wraps(func)\n",
    "        def wrapper(*args, **kwargs):\n",
    "            res = func(*args, **kwargs)\n",
    "            for i in res:\n",
    "                if i in chars:\n",
    "                    res = res.replace(i, '-')\n",
    "            while '--' in res:\n",
    "                res = res.replace('--', '-')\n",
    "            return res\n",
    "        return wrapper\n",
    "    return inner\n",
    "\n",
    "\n",
    "@replace_symbols_decorator(chars=\"?!:;,. \")\n",
    "def transcript(s):\n",
    "    res = ''\n",
    "    for i in s.lower():\n",
    "        if i in t:\n",
    "            res += t[i]\n",
    "        else:\n",
    "            res += i\n",
    "    return res\n",
    "\n",
    "\n",
    "print(transcript(input()))"
   ],
   "metadata": {
    "collapsed": false,
    "ExecuteTime": {
     "end_time": "2024-09-04T11:24:37.743427300Z",
     "start_time": "2024-09-04T11:24:36.402779600Z"
    }
   }
  },
  {
   "cell_type": "code",
   "execution_count": null,
   "outputs": [],
   "source": [
    "def sum_decorator(func):\n",
    "    @wraps(func)\n",
    "    def wrapper(*args, **kwargs):\n",
    "        return sum(func(*args, **kwargs))\n",
    "    return wrapper\n",
    "\n",
    "\n",
    "@sum_decorator\n",
    "def get_list(x):\n",
    "    '''Функция для формирования списка целых значений'''\n",
    "    return list(map(int, input().split()))\n",
    "\n"
   ],
   "metadata": {
    "collapsed": false
   }
  }
 ],
 "metadata": {
  "kernelspec": {
   "display_name": "Python 3",
   "language": "python",
   "name": "python3"
  },
  "language_info": {
   "codemirror_mode": {
    "name": "ipython",
    "version": 2
   },
   "file_extension": ".py",
   "mimetype": "text/x-python",
   "name": "python",
   "nbconvert_exporter": "python",
   "pygments_lexer": "ipython2",
   "version": "2.7.6"
  }
 },
 "nbformat": 4,
 "nbformat_minor": 0
}
