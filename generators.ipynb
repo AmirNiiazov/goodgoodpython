{
 "cells": [
  {
   "cell_type": "code",
   "execution_count": 24,
   "id": "initial_id",
   "metadata": {
    "collapsed": true,
    "ExecuteTime": {
     "end_time": "2024-09-12T11:46:51.312635100Z",
     "start_time": "2024-09-12T11:46:51.310629600Z"
    }
   },
   "outputs": [],
   "source": [
    "a = (x**2 for x in range(6))"
   ]
  },
  {
   "cell_type": "code",
   "execution_count": 20,
   "outputs": [
    {
     "data": {
      "text/plain": "<generator object <genexpr> at 0x0000023279F76F60>"
     },
     "execution_count": 20,
     "metadata": {},
     "output_type": "execute_result"
    }
   ],
   "source": [
    "a"
   ],
   "metadata": {
    "collapsed": false,
    "ExecuteTime": {
     "end_time": "2024-09-12T11:46:14.754372600Z",
     "start_time": "2024-09-12T11:46:14.752235300Z"
    }
   },
   "id": "7947c225b13bd903"
  },
  {
   "cell_type": "code",
   "execution_count": 14,
   "outputs": [
    {
     "ename": "StopIteration",
     "evalue": "",
     "output_type": "error",
     "traceback": [
      "\u001B[1;31m---------------------------------------------------------------------------\u001B[0m",
      "\u001B[1;31mStopIteration\u001B[0m                             Traceback (most recent call last)",
      "Cell \u001B[1;32mIn[14], line 1\u001B[0m\n\u001B[1;32m----> 1\u001B[0m \u001B[38;5;28;43mnext\u001B[39;49m\u001B[43m(\u001B[49m\u001B[43ma\u001B[49m\u001B[43m)\u001B[49m\n",
      "\u001B[1;31mStopIteration\u001B[0m: "
     ]
    }
   ],
   "source": [
    "next(a)"
   ],
   "metadata": {
    "collapsed": false,
    "ExecuteTime": {
     "end_time": "2024-09-12T11:44:29.088725200Z",
     "start_time": "2024-09-12T11:44:29.080010900Z"
    }
   },
   "id": "62c111860b9de672"
  },
  {
   "cell_type": "code",
   "execution_count": 17,
   "outputs": [
    {
     "data": {
      "text/plain": "[0, 1, 4, 9, 16, 25]"
     },
     "execution_count": 17,
     "metadata": {},
     "output_type": "execute_result"
    }
   ],
   "source": [
    "list(a)"
   ],
   "metadata": {
    "collapsed": false,
    "ExecuteTime": {
     "end_time": "2024-09-12T11:46:03.486127600Z",
     "start_time": "2024-09-12T11:46:03.481103800Z"
    }
   },
   "id": "adede7dedda27862"
  },
  {
   "cell_type": "code",
   "execution_count": 19,
   "outputs": [
    {
     "data": {
      "text/plain": "{0, 1, 4, 9, 16, 25}"
     },
     "execution_count": 19,
     "metadata": {},
     "output_type": "execute_result"
    }
   ],
   "source": [
    "set(a)"
   ],
   "metadata": {
    "collapsed": false,
    "ExecuteTime": {
     "end_time": "2024-09-12T11:46:12.020648Z",
     "start_time": "2024-09-12T11:46:12.012077200Z"
    }
   },
   "id": "4a1831d8200ca360"
  },
  {
   "cell_type": "code",
   "execution_count": 25,
   "outputs": [
    {
     "data": {
      "text/plain": "{0: [1, 2, 3, 4, 5],\n 1: [1, 2, 3, 4, 5],\n 4: [1, 2, 3, 4, 5],\n 9: [1, 2, 3, 4, 5],\n 16: [1, 2, 3, 4, 5],\n 25: [1, 2, 3, 4, 5]}"
     },
     "execution_count": 25,
     "metadata": {},
     "output_type": "execute_result"
    }
   ],
   "source": [
    "dict.fromkeys(a)"
   ],
   "metadata": {
    "collapsed": false,
    "ExecuteTime": {
     "end_time": "2024-09-12T11:46:52.761297600Z",
     "start_time": "2024-09-12T11:46:52.759121800Z"
    }
   },
   "id": "ee58f886d3070fe8"
  },
  {
   "cell_type": "code",
   "execution_count": 2,
   "outputs": [
    {
     "ename": "MemoryError",
     "evalue": "",
     "output_type": "error",
     "traceback": [
      "\u001B[1;31m---------------------------------------------------------------------------\u001B[0m",
      "\u001B[1;31mMemoryError\u001B[0m                               Traceback (most recent call last)",
      "Cell \u001B[1;32mIn[2], line 1\u001B[0m\n\u001B[1;32m----> 1\u001B[0m lst \u001B[38;5;241m=\u001B[39m \u001B[38;5;28;43mlist\u001B[39;49m\u001B[43m(\u001B[49m\u001B[43m(\u001B[49m\u001B[38;5;28;43mrange\u001B[39;49m\u001B[43m(\u001B[49m\u001B[38;5;241;43m1000000000000\u001B[39;49m\u001B[43m)\u001B[49m\u001B[43m)\u001B[49m\u001B[43m)\u001B[49m\n",
      "\u001B[1;31mMemoryError\u001B[0m: "
     ]
    }
   ],
   "source": [
    "lst = list((range(1000000000000)))"
   ],
   "metadata": {
    "collapsed": false,
    "ExecuteTime": {
     "end_time": "2024-09-12T11:50:55.407621Z",
     "start_time": "2024-09-12T11:50:55.382637200Z"
    }
   },
   "id": "35e08a6f48a9083a"
  },
  {
   "cell_type": "code",
   "execution_count": 3,
   "outputs": [
    {
     "name": "stdout",
     "output_type": "stream",
     "text": [
      "0 1 2 3 4 5 6 7 8 9 10 11 12 13 14 15 16 17 18 19 20 21 22 23 24 25 26 27 28 29 30 31 32 33 34 35 36 37 38 39 40 41 42 43 44 45 46 47 48 49 50 "
     ]
    }
   ],
   "source": [
    "lst = (x for x in range(1000000000000))\n",
    "for i in lst:\n",
    "    print(i, end=' ')\n",
    "    if i == 50:\n",
    "        break"
   ],
   "metadata": {
    "collapsed": false,
    "ExecuteTime": {
     "end_time": "2024-09-12T11:51:57.279180400Z",
     "start_time": "2024-09-12T11:51:57.274138600Z"
    }
   },
   "id": "f0bd6353873560ca"
  },
  {
   "cell_type": "code",
   "execution_count": 5,
   "outputs": [
    {
     "data": {
      "text/plain": "(<generator object <genexpr> at 0x000001D64A95B370>,)"
     },
     "execution_count": 5,
     "metadata": {},
     "output_type": "execute_result"
    }
   ],
   "source": [
    "((x ** 2 for x in range(10)), )"
   ],
   "metadata": {
    "collapsed": false,
    "ExecuteTime": {
     "end_time": "2024-09-12T11:53:20.760925800Z",
     "start_time": "2024-09-12T11:53:20.753863700Z"
    }
   },
   "id": "440f8d6492eb1394"
  },
  {
   "cell_type": "code",
   "execution_count": null,
   "outputs": [],
   "source": [
    "gen = (x for x in range(2, 10001))"
   ],
   "metadata": {
    "collapsed": false
   },
   "id": "97f7086c6971c5b4"
  },
  {
   "cell_type": "code",
   "execution_count": null,
   "outputs": [],
   "source": [
    "a, b = map(int, input().split())\n",
    "tp = tuple((x**2 for x in range(a, b+1)))"
   ],
   "metadata": {
    "collapsed": false
   },
   "id": "8df5694443bca5eb"
  },
  {
   "cell_type": "code",
   "execution_count": 11,
   "outputs": [
    {
     "name": "stdout",
     "output_type": "stream",
     "text": [
      "3\n",
      "2\n",
      "1\n",
      "0\n",
      "1\n"
     ]
    }
   ],
   "source": [
    "a, b = map(int, input().split())\n",
    "gen = (abs(x) for x in range(a, b + 1))\n",
    "counter = 0\n",
    "for i in gen:\n",
    "    if counter == 5:\n",
    "        break\n",
    "    print(i)\n",
    "    counter += 1\n",
    "    "
   ],
   "metadata": {
    "collapsed": false,
    "ExecuteTime": {
     "end_time": "2024-09-12T11:59:14.598452200Z",
     "start_time": "2024-09-12T11:59:13.447371800Z"
    }
   },
   "id": "fbc7db3b3a867c51"
  },
  {
   "cell_type": "code",
   "execution_count": null,
   "outputs": [],
   "source": [
    "a = int(input())\n",
    "abs_gen = (abs(x) for x in range(-a, a+1))\n",
    "cube_gen = (x ** 3 for x in abs_gen)\n",
    "for i in range(4):\n",
    "    print(next(cube_gen), end=' ')"
   ],
   "metadata": {
    "collapsed": false
   },
   "id": "76175198c5b738b1"
  },
  {
   "cell_type": "code",
   "execution_count": 15,
   "outputs": [
    {
     "name": "stdout",
     "output_type": "stream",
     "text": [
      "aa ab ac ad ae af ag ah ai aj ak al am an ao ap aq ar as at au av aw ax ay az ba bb bc bd be bf bg bh bi bj bk bl bm bn bo bp bq br bs bt bu bv bw bx by\n"
     ]
    }
   ],
   "source": [
    "from string import ascii_lowercase\n",
    "\n",
    "\n",
    "gen = (f'{x}{y}' for x in ascii_lowercase for y in ascii_lowercase)\n",
    "print(*[next(gen) for _ in range(51)])"
   ],
   "metadata": {
    "collapsed": false,
    "ExecuteTime": {
     "end_time": "2024-09-12T12:07:53.994830300Z",
     "start_time": "2024-09-12T12:07:53.993318700Z"
    }
   },
   "id": "473b1bce974c02fe"
  },
  {
   "cell_type": "code",
   "execution_count": 17,
   "outputs": [
    {
     "name": "stdout",
     "output_type": "stream",
     "text": [
      "Москва Ульяновск Самара Уфа Омск Тула Москва Ульяновск Самара Уфа Омск Тула Москва Ульяновск Самара Уфа Омск Тула Москва Ульяновск Самара\n"
     ]
    }
   ],
   "source": [
    "cities = [\"Москва\", \"Ульяновск\", \"Самара\", \"Уфа\", \"Омск\", \"Тула\"]\n",
    "gen = (cities[x % 6] for x in range(1_000_000))\n",
    "print(*[next(gen) for _ in range(20)])"
   ],
   "metadata": {
    "collapsed": false,
    "ExecuteTime": {
     "end_time": "2024-09-12T12:09:52.338674600Z",
     "start_time": "2024-09-12T12:09:52.334164400Z"
    }
   },
   "id": "b8d901885b204066"
  },
  {
   "cell_type": "code",
   "execution_count": 22,
   "outputs": [
    {
     "name": "stdout",
     "output_type": "stream",
     "text": [
      "-2.0 -2.0 -2.0 -2.0 -2.0 -2.0 -2.0 -2.0 -2.0 -2.0 -2.0 -1.99 -1.99 -1.99 -1.99 -1.99 -1.99 -1.99 -1.98 -1.98\n"
     ]
    }
   ],
   "source": [
    "a, b = map(int, input().split())\n",
    "func_gen = ((0.5 * pow(x/100, 2) - 2.0) for x in range(100* a, 100* b+1))\n",
    "print(*[round(next(func_gen), 2) for _ in range(20)])"
   ],
   "metadata": {
    "collapsed": false,
    "ExecuteTime": {
     "end_time": "2024-09-12T12:15:07.426535800Z",
     "start_time": "2024-09-12T12:15:05.928894200Z"
    }
   },
   "id": "5133293c1e7cf31f"
  },
  {
   "cell_type": "code",
   "execution_count": 1,
   "outputs": [],
   "source": [
    "def get_list():\n",
    "    for x in [1, 2 ,3, 4]:\n",
    "        yield x"
   ],
   "metadata": {
    "collapsed": false,
    "ExecuteTime": {
     "end_time": "2024-09-18T06:38:42.713283800Z",
     "start_time": "2024-09-18T06:38:42.707669500Z"
    }
   },
   "id": "2c064dc4ecda745c"
  },
  {
   "cell_type": "code",
   "execution_count": 13,
   "outputs": [],
   "source": [
    "a = get_list()"
   ],
   "metadata": {
    "collapsed": false,
    "ExecuteTime": {
     "end_time": "2024-09-18T06:39:26.884544600Z",
     "start_time": "2024-09-18T06:39:26.881538400Z"
    }
   },
   "id": "e086519ad4f00007"
  },
  {
   "cell_type": "code",
   "execution_count": 14,
   "outputs": [
    {
     "name": "stdout",
     "output_type": "stream",
     "text": [
      "1\n",
      "2\n",
      "3\n",
      "4\n"
     ]
    }
   ],
   "source": [
    "for i in a:\n",
    "    print(i)"
   ],
   "metadata": {
    "collapsed": false,
    "ExecuteTime": {
     "end_time": "2024-09-18T06:39:33.824791900Z",
     "start_time": "2024-09-18T06:39:33.817275200Z"
    }
   },
   "id": "a270564c268244ee"
  },
  {
   "cell_type": "code",
   "execution_count": 15,
   "outputs": [],
   "source": [
    "def get_list():\n",
    "    for i in range(1, 10):\n",
    "        a = range(i, 11)\n",
    "        yield sum(a) / len(a)"
   ],
   "metadata": {
    "collapsed": false,
    "ExecuteTime": {
     "end_time": "2024-09-18T06:41:38.277809800Z",
     "start_time": "2024-09-18T06:41:38.269061300Z"
    }
   },
   "id": "556fa8ff2350631b"
  },
  {
   "cell_type": "code",
   "execution_count": 19,
   "outputs": [],
   "source": [
    "a = get_list()"
   ],
   "metadata": {
    "collapsed": false,
    "ExecuteTime": {
     "end_time": "2024-09-18T06:41:55.113896200Z",
     "start_time": "2024-09-18T06:41:55.112890900Z"
    }
   },
   "id": "85121108500a91dd"
  },
  {
   "cell_type": "code",
   "execution_count": 20,
   "outputs": [
    {
     "name": "stdout",
     "output_type": "stream",
     "text": [
      "5.5 6.0 6.5 7.0 7.5 8.0 8.5 9.0 9.5\n"
     ]
    }
   ],
   "source": [
    "print(*a)"
   ],
   "metadata": {
    "collapsed": false,
    "ExecuteTime": {
     "end_time": "2024-09-18T06:42:00.338810100Z",
     "start_time": "2024-09-18T06:42:00.334201Z"
    }
   },
   "id": "de532d04b74fea66"
  },
  {
   "cell_type": "code",
   "execution_count": 31,
   "outputs": [
    {
     "name": "stdout",
     "output_type": "stream",
     "text": [
      "[47, 93, 477, 831, 1050, 1151, 1552, 1663, 1705, 1952, 2020, 2285, 2698, 2888, 2909, 3016, 3149, 3236, 3378, 3401, 3487, 3560]\n"
     ]
    }
   ],
   "source": [
    "import os\n",
    "\n",
    "\n",
    "def find_word(f, word):\n",
    "    g_idx = 0\n",
    "    for line in f:\n",
    "        idx = 0\n",
    "        while idx != -1:\n",
    "            idx = line.find(word, idx)\n",
    "            if idx > -1:\n",
    "                yield g_idx + idx\n",
    "                idx += 1\n",
    "        g_idx += len(line)\n",
    "\n",
    "\n",
    "if os.path.exists('text.txt'):\n",
    "    with open('text.txt', encoding='utf-8') as f:\n",
    "        a = find_word(f, 'генератор')\n",
    "        print(list(a))\n",
    "else:\n",
    "    print('text.txt not found')"
   ],
   "metadata": {
    "collapsed": false,
    "ExecuteTime": {
     "end_time": "2024-09-18T06:49:00.988199Z",
     "start_time": "2024-09-18T06:49:00.985672400Z"
    }
   },
   "id": "8647c741f6e36e0e"
  },
  {
   "cell_type": "code",
   "execution_count": 39,
   "outputs": [
    {
     "name": "stdout",
     "output_type": "stream",
     "text": [
      "1 3 6 10 15\n"
     ]
    }
   ],
   "source": [
    "N = int(input())\n",
    "\n",
    "def get_sum(total):\n",
    "    for i in range(1, total+1):\n",
    "        a = range(i+1)\n",
    "        yield sum(a)\n",
    "        \n",
    "a = get_sum(N)\n",
    "print(*a)"
   ],
   "metadata": {
    "collapsed": false,
    "ExecuteTime": {
     "end_time": "2024-09-18T06:57:07.048814800Z",
     "start_time": "2024-09-18T06:56:13.879806900Z"
    }
   },
   "id": "41a81371831b9ce3"
  },
  {
   "cell_type": "code",
   "execution_count": 40,
   "outputs": [
    {
     "name": "stdout",
     "output_type": "stream",
     "text": [
      "1 1 1 3 5 9\n"
     ]
    }
   ],
   "source": [
    "N = int(input())\n",
    "\n",
    "def balaq_seq(max_len):\n",
    "    a, b, c = 1, 1, 1\n",
    "    for i in range(max_len):\n",
    "        yield a\n",
    "        a, b, c = b, c, a + b + c\n",
    "\n",
    "print(*balaq_seq(N))"
   ],
   "metadata": {
    "collapsed": false,
    "ExecuteTime": {
     "end_time": "2024-09-18T07:00:41.512633Z",
     "start_time": "2024-09-18T07:00:39.875630500Z"
    }
   },
   "id": "fab413f53c00f4b"
  },
  {
   "cell_type": "code",
   "execution_count": 42,
   "outputs": [
    {
     "name": "stdout",
     "output_type": "stream",
     "text": [
      "39OODNnpPB\n",
      "ForVN5AA$Q\n",
      "U!HVy7P1Lp\n",
      "wGJ9CAHPAE\n",
      "DIjx7PtvXS\n"
     ]
    }
   ],
   "source": [
    "from string import ascii_lowercase, ascii_uppercase\n",
    "chars = ascii_lowercase + ascii_uppercase + \"0123456789!?@#$*\"\n",
    "import random\n",
    "\n",
    "N = int(input())\n",
    "\n",
    "def get_password(N):\n",
    "    for i in range(N):\n",
    "        yield random.choice(chars)\n",
    "\n",
    "for i in range(5):\n",
    "    print(*get_password(N), sep='')"
   ],
   "metadata": {
    "collapsed": false,
    "ExecuteTime": {
     "end_time": "2024-09-18T07:04:30.843905900Z",
     "start_time": "2024-09-18T07:04:29.592128200Z"
    }
   },
   "id": "be5631db812bf20f"
  },
  {
   "cell_type": "code",
   "execution_count": 47,
   "outputs": [
    {
     "name": "stdout",
     "output_type": "stream",
     "text": [
      "RHbgg@mail.ru\n",
      "sImth@mail.ru\n",
      "ANjIP@mail.ru\n",
      "tswnh@mail.ru\n",
      "OGPyQ@mail.ru\n"
     ]
    }
   ],
   "source": [
    "from string import ascii_lowercase, ascii_uppercase\n",
    "chars = ascii_lowercase + ascii_uppercase\n",
    "\n",
    "\n",
    "N = int(input())\n",
    "\n",
    "def get_email(max_size):\n",
    "    yield ''.join(random.choice(chars) for _ in range(max_size)) + '@mail.ru'\n",
    "\n",
    "\n",
    "for _ in range(5):\n",
    "    print(*get_email(N))"
   ],
   "metadata": {
    "collapsed": false,
    "ExecuteTime": {
     "end_time": "2024-09-18T07:08:58.958102300Z",
     "start_time": "2024-09-18T07:08:57.386637Z"
    }
   },
   "id": "bf53704cf784fa3e"
  },
  {
   "cell_type": "code",
   "execution_count": 54,
   "outputs": [
    {
     "name": "stdout",
     "output_type": "stream",
     "text": [
      "2 3 5 7 11 13 17 19 23 29 31 37 41 43 47 53 59 61 67 71 "
     ]
    }
   ],
   "source": [
    "def is_prime(n):\n",
    "    if n <= 1:\n",
    "        return False\n",
    "    if n == 2:\n",
    "        return True\n",
    "    if n % 2 == 0:\n",
    "        return False\n",
    "\n",
    "    # Проверяем делители от 3 до sqrt(n) с шагом 2 (пропускаем четные)\n",
    "    limit = int(n ** 0.5) + 1\n",
    "    for i in range(3, limit, 2):\n",
    "        if n % i == 0:\n",
    "            return False\n",
    "    return True\n",
    "\n",
    "def get_simple_nums():\n",
    "    n = 2\n",
    "    while True:\n",
    "        if is_prime(n):\n",
    "            yield n\n",
    "        n += 1\n",
    "       \n",
    "a = get_simple_nums() \n",
    "for _ in range(20):\n",
    "    print(next(a), end=' ')"
   ],
   "metadata": {
    "collapsed": false,
    "ExecuteTime": {
     "end_time": "2024-09-18T07:21:00.964693800Z",
     "start_time": "2024-09-18T07:21:00.961178900Z"
    }
   },
   "id": "331051124e34df4e"
  },
  {
   "cell_type": "code",
   "execution_count": 60,
   "outputs": [],
   "source": [
    "b = map(int, input().split())"
   ],
   "metadata": {
    "collapsed": false,
    "ExecuteTime": {
     "end_time": "2024-09-18T07:45:21.486463900Z",
     "start_time": "2024-09-18T07:45:16.842139800Z"
    }
   },
   "id": "eda4683321145002"
  },
  {
   "cell_type": "code",
   "execution_count": 56,
   "outputs": [
    {
     "data": {
      "text/plain": "<map at 0x1b98aa48fd0>"
     },
     "execution_count": 56,
     "metadata": {},
     "output_type": "execute_result"
    }
   ],
   "source": [
    "b"
   ],
   "metadata": {
    "collapsed": false,
    "ExecuteTime": {
     "end_time": "2024-09-18T07:43:06.023823700Z",
     "start_time": "2024-09-18T07:43:06.002280200Z"
    }
   },
   "id": "76d598a2a343540a"
  },
  {
   "cell_type": "code",
   "execution_count": 62,
   "outputs": [
    {
     "name": "stdout",
     "output_type": "stream",
     "text": []
    }
   ],
   "source": [
    "print(*b)"
   ],
   "metadata": {
    "collapsed": false,
    "ExecuteTime": {
     "end_time": "2024-09-18T07:45:24.187461200Z",
     "start_time": "2024-09-18T07:45:24.182947600Z"
    }
   },
   "id": "bfdf7cab8163ec37"
  },
  {
   "cell_type": "code",
   "execution_count": 61,
   "outputs": [
    {
     "data": {
      "text/plain": "6775"
     },
     "execution_count": 61,
     "metadata": {},
     "output_type": "execute_result"
    }
   ],
   "source": [
    "max(b)"
   ],
   "metadata": {
    "collapsed": false,
    "ExecuteTime": {
     "end_time": "2024-09-18T07:45:22.770585800Z",
     "start_time": "2024-09-18T07:45:22.767222200Z"
    }
   },
   "id": "6521676b702de2a1"
  },
  {
   "cell_type": "code",
   "execution_count": null,
   "outputs": [],
   "source": [
    "print(list(map(float, input().split()))[:3])"
   ],
   "metadata": {
    "collapsed": false
   },
   "id": "290bcdfafb20bcce"
  },
  {
   "cell_type": "code",
   "execution_count": 63,
   "outputs": [
    {
     "name": "stdout",
     "output_type": "stream",
     "text": [
      "1 2 3 5\n"
     ]
    }
   ],
   "source": [
    "lst = list(map(lambda x: abs(int(x)), input().split()))\n",
    "print(*lst)"
   ],
   "metadata": {
    "collapsed": false,
    "ExecuteTime": {
     "end_time": "2024-09-18T07:50:29.843066Z",
     "start_time": "2024-09-18T07:50:27.594356700Z"
    }
   },
   "id": "4fd2c0a4ab026148"
  },
  {
   "cell_type": "code",
   "execution_count": 65,
   "outputs": [
    {
     "name": "stdout",
     "output_type": "stream",
     "text": [
      "[8, 11, -5] [3, 4, 10] [-1, -2, 3] [-4, 5, 6]\n"
     ]
    }
   ],
   "source": [
    "s = ['8 11 -5', '3 4 10', '-1 -2 3', '-4 5 6']\n",
    "lst2D = list(map(lambda x: list(map(int, x.split())), s))"
   ],
   "metadata": {
    "collapsed": false,
    "ExecuteTime": {
     "end_time": "2024-09-18T07:52:42.446226700Z",
     "start_time": "2024-09-18T07:52:42.441479200Z"
    }
   },
   "id": "76e4aa5397b081cf"
  },
  {
   "cell_type": "code",
   "execution_count": 66,
   "outputs": [
    {
     "name": "stdout",
     "output_type": "stream",
     "text": [
      "(('house', 'дом'), ('car', 'машина'), ('men', 'человек'), ('tree', 'дерево'))\n"
     ]
    }
   ],
   "source": [
    "s_lst = ['house=дом', 'car=машина', 'men=человек', 'tree=дерево']\n",
    "tp = tuple(map(lambda x: tuple(x.split('=')), s_lst))\n"
   ],
   "metadata": {
    "collapsed": false,
    "ExecuteTime": {
     "end_time": "2024-09-18T08:00:30.407120800Z",
     "start_time": "2024-09-18T08:00:30.400607700Z"
    }
   },
   "id": "44d0a7d428a47398"
  },
  {
   "cell_type": "code",
   "execution_count": 69,
   "outputs": [
    {
     "name": "stdout",
     "output_type": "stream",
     "text": [
      "privet-piton\n"
     ]
    }
   ],
   "source": [
    "t = {'ё': 'yo', 'а': 'a', 'б': 'b', 'в': 'v', 'г': 'g', 'д': 'd', 'е': 'e', 'ж': 'zh',\n",
    "     'з': 'z', 'и': 'i', 'й': 'y', 'к': 'k', 'л': 'l', 'м': 'm', 'н': 'n', 'о': 'o', 'п': 'p',\n",
    "     'р': 'r', 'с': 's', 'т': 't', 'у': 'u', 'ф': 'f', 'х': 'h', 'ц': 'c', 'ч': 'ch', 'ш': 'sh',\n",
    "     'щ': 'shch', 'ъ': '', 'ы': 'y', 'ь': '', 'э': 'e', 'ю': 'yu', 'я': 'ya'}\n",
    "\n",
    "s = input()\n",
    "s1 = ''.join(map(lambda x: t[x] if x in t.keys() else '-', s.lower()))\n",
    "print(s1)"
   ],
   "metadata": {
    "collapsed": false,
    "ExecuteTime": {
     "end_time": "2024-09-18T08:11:40.331062Z",
     "start_time": "2024-09-18T08:11:39.427655800Z"
    }
   },
   "id": "43950a99dfed13b6"
  },
  {
   "cell_type": "code",
   "execution_count": 71,
   "outputs": [
    {
     "name": "stdout",
     "output_type": "stream",
     "text": [
      "Москва - Вологда - Владивосток Хабаровск\n"
     ]
    }
   ],
   "source": [
    "cities = input().split()\n",
    "new_cities = list(map(lambda x: x if len(x) > 5 else '-', cities))\n",
    "print(*new_cities)\n",
    "                  "
   ],
   "metadata": {
    "collapsed": false,
    "ExecuteTime": {
     "end_time": "2024-09-18T08:14:31.653542800Z",
     "start_time": "2024-09-18T08:14:30.834015400Z"
    }
   },
   "id": "f3b23598c5e1e8be"
  }
 ],
 "metadata": {
  "kernelspec": {
   "display_name": "Python 3",
   "language": "python",
   "name": "python3"
  },
  "language_info": {
   "codemirror_mode": {
    "name": "ipython",
    "version": 2
   },
   "file_extension": ".py",
   "mimetype": "text/x-python",
   "name": "python",
   "nbconvert_exporter": "python",
   "pygments_lexer": "ipython2",
   "version": "2.7.6"
  }
 },
 "nbformat": 4,
 "nbformat_minor": 5
}
