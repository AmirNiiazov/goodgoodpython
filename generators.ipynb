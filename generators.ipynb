{
 "cells": [
  {
   "cell_type": "code",
   "execution_count": 24,
   "id": "initial_id",
   "metadata": {
    "collapsed": true,
    "ExecuteTime": {
     "end_time": "2024-09-12T11:46:51.312635100Z",
     "start_time": "2024-09-12T11:46:51.310629600Z"
    }
   },
   "outputs": [],
   "source": [
    "a = (x**2 for x in range(6))"
   ]
  },
  {
   "cell_type": "code",
   "execution_count": 20,
   "outputs": [
    {
     "data": {
      "text/plain": "<generator object <genexpr> at 0x0000023279F76F60>"
     },
     "execution_count": 20,
     "metadata": {},
     "output_type": "execute_result"
    }
   ],
   "source": [
    "a"
   ],
   "metadata": {
    "collapsed": false,
    "ExecuteTime": {
     "end_time": "2024-09-12T11:46:14.754372600Z",
     "start_time": "2024-09-12T11:46:14.752235300Z"
    }
   },
   "id": "7947c225b13bd903"
  },
  {
   "cell_type": "code",
   "execution_count": 14,
   "outputs": [
    {
     "ename": "StopIteration",
     "evalue": "",
     "output_type": "error",
     "traceback": [
      "\u001B[1;31m---------------------------------------------------------------------------\u001B[0m",
      "\u001B[1;31mStopIteration\u001B[0m                             Traceback (most recent call last)",
      "Cell \u001B[1;32mIn[14], line 1\u001B[0m\n\u001B[1;32m----> 1\u001B[0m \u001B[38;5;28;43mnext\u001B[39;49m\u001B[43m(\u001B[49m\u001B[43ma\u001B[49m\u001B[43m)\u001B[49m\n",
      "\u001B[1;31mStopIteration\u001B[0m: "
     ]
    }
   ],
   "source": [
    "next(a)"
   ],
   "metadata": {
    "collapsed": false,
    "ExecuteTime": {
     "end_time": "2024-09-12T11:44:29.088725200Z",
     "start_time": "2024-09-12T11:44:29.080010900Z"
    }
   },
   "id": "62c111860b9de672"
  },
  {
   "cell_type": "code",
   "execution_count": 17,
   "outputs": [
    {
     "data": {
      "text/plain": "[0, 1, 4, 9, 16, 25]"
     },
     "execution_count": 17,
     "metadata": {},
     "output_type": "execute_result"
    }
   ],
   "source": [
    "list(a)"
   ],
   "metadata": {
    "collapsed": false,
    "ExecuteTime": {
     "end_time": "2024-09-12T11:46:03.486127600Z",
     "start_time": "2024-09-12T11:46:03.481103800Z"
    }
   },
   "id": "adede7dedda27862"
  },
  {
   "cell_type": "code",
   "execution_count": 19,
   "outputs": [
    {
     "data": {
      "text/plain": "{0, 1, 4, 9, 16, 25}"
     },
     "execution_count": 19,
     "metadata": {},
     "output_type": "execute_result"
    }
   ],
   "source": [
    "set(a)"
   ],
   "metadata": {
    "collapsed": false,
    "ExecuteTime": {
     "end_time": "2024-09-12T11:46:12.020648Z",
     "start_time": "2024-09-12T11:46:12.012077200Z"
    }
   },
   "id": "4a1831d8200ca360"
  },
  {
   "cell_type": "code",
   "execution_count": 25,
   "outputs": [
    {
     "data": {
      "text/plain": "{0: [1, 2, 3, 4, 5],\n 1: [1, 2, 3, 4, 5],\n 4: [1, 2, 3, 4, 5],\n 9: [1, 2, 3, 4, 5],\n 16: [1, 2, 3, 4, 5],\n 25: [1, 2, 3, 4, 5]}"
     },
     "execution_count": 25,
     "metadata": {},
     "output_type": "execute_result"
    }
   ],
   "source": [
    "dict.fromkeys(a)"
   ],
   "metadata": {
    "collapsed": false,
    "ExecuteTime": {
     "end_time": "2024-09-12T11:46:52.761297600Z",
     "start_time": "2024-09-12T11:46:52.759121800Z"
    }
   },
   "id": "ee58f886d3070fe8"
  },
  {
   "cell_type": "code",
   "execution_count": 2,
   "outputs": [
    {
     "ename": "MemoryError",
     "evalue": "",
     "output_type": "error",
     "traceback": [
      "\u001B[1;31m---------------------------------------------------------------------------\u001B[0m",
      "\u001B[1;31mMemoryError\u001B[0m                               Traceback (most recent call last)",
      "Cell \u001B[1;32mIn[2], line 1\u001B[0m\n\u001B[1;32m----> 1\u001B[0m lst \u001B[38;5;241m=\u001B[39m \u001B[38;5;28;43mlist\u001B[39;49m\u001B[43m(\u001B[49m\u001B[43m(\u001B[49m\u001B[38;5;28;43mrange\u001B[39;49m\u001B[43m(\u001B[49m\u001B[38;5;241;43m1000000000000\u001B[39;49m\u001B[43m)\u001B[49m\u001B[43m)\u001B[49m\u001B[43m)\u001B[49m\n",
      "\u001B[1;31mMemoryError\u001B[0m: "
     ]
    }
   ],
   "source": [
    "lst = list((range(1000000000000)))"
   ],
   "metadata": {
    "collapsed": false,
    "ExecuteTime": {
     "end_time": "2024-09-12T11:50:55.407621Z",
     "start_time": "2024-09-12T11:50:55.382637200Z"
    }
   },
   "id": "35e08a6f48a9083a"
  },
  {
   "cell_type": "code",
   "execution_count": 3,
   "outputs": [
    {
     "name": "stdout",
     "output_type": "stream",
     "text": [
      "0 1 2 3 4 5 6 7 8 9 10 11 12 13 14 15 16 17 18 19 20 21 22 23 24 25 26 27 28 29 30 31 32 33 34 35 36 37 38 39 40 41 42 43 44 45 46 47 48 49 50 "
     ]
    }
   ],
   "source": [
    "lst = (x for x in range(1000000000000))\n",
    "for i in lst:\n",
    "    print(i, end=' ')\n",
    "    if i == 50:\n",
    "        break"
   ],
   "metadata": {
    "collapsed": false,
    "ExecuteTime": {
     "end_time": "2024-09-12T11:51:57.279180400Z",
     "start_time": "2024-09-12T11:51:57.274138600Z"
    }
   },
   "id": "f0bd6353873560ca"
  },
  {
   "cell_type": "code",
   "execution_count": 5,
   "outputs": [
    {
     "data": {
      "text/plain": "(<generator object <genexpr> at 0x000001D64A95B370>,)"
     },
     "execution_count": 5,
     "metadata": {},
     "output_type": "execute_result"
    }
   ],
   "source": [
    "((x ** 2 for x in range(10)), )"
   ],
   "metadata": {
    "collapsed": false,
    "ExecuteTime": {
     "end_time": "2024-09-12T11:53:20.760925800Z",
     "start_time": "2024-09-12T11:53:20.753863700Z"
    }
   },
   "id": "440f8d6492eb1394"
  },
  {
   "cell_type": "code",
   "execution_count": null,
   "outputs": [],
   "source": [
    "gen = (x for x in range(2, 10001))"
   ],
   "metadata": {
    "collapsed": false
   },
   "id": "97f7086c6971c5b4"
  },
  {
   "cell_type": "code",
   "execution_count": null,
   "outputs": [],
   "source": [
    "a, b = map(int, input().split())\n",
    "tp = tuple((x**2 for x in range(a, b+1)))"
   ],
   "metadata": {
    "collapsed": false
   },
   "id": "8df5694443bca5eb"
  },
  {
   "cell_type": "code",
   "execution_count": 11,
   "outputs": [
    {
     "name": "stdout",
     "output_type": "stream",
     "text": [
      "3\n",
      "2\n",
      "1\n",
      "0\n",
      "1\n"
     ]
    }
   ],
   "source": [
    "a, b = map(int, input().split())\n",
    "gen = (abs(x) for x in range(a, b + 1))\n",
    "counter = 0\n",
    "for i in gen:\n",
    "    if counter == 5:\n",
    "        break\n",
    "    print(i)\n",
    "    counter += 1\n",
    "    "
   ],
   "metadata": {
    "collapsed": false,
    "ExecuteTime": {
     "end_time": "2024-09-12T11:59:14.598452200Z",
     "start_time": "2024-09-12T11:59:13.447371800Z"
    }
   },
   "id": "fbc7db3b3a867c51"
  },
  {
   "cell_type": "code",
   "execution_count": null,
   "outputs": [],
   "source": [
    "a = int(input())\n",
    "abs_gen = (abs(x) for x in range(-a, a+1))\n",
    "cube_gen = (x ** 3 for x in abs_gen)\n",
    "for i in range(4):\n",
    "    print(next(cube_gen), end=' ')"
   ],
   "metadata": {
    "collapsed": false
   },
   "id": "76175198c5b738b1"
  },
  {
   "cell_type": "code",
   "execution_count": 15,
   "outputs": [
    {
     "name": "stdout",
     "output_type": "stream",
     "text": [
      "aa ab ac ad ae af ag ah ai aj ak al am an ao ap aq ar as at au av aw ax ay az ba bb bc bd be bf bg bh bi bj bk bl bm bn bo bp bq br bs bt bu bv bw bx by\n"
     ]
    }
   ],
   "source": [
    "from string import ascii_lowercase\n",
    "\n",
    "\n",
    "gen = (f'{x}{y}' for x in ascii_lowercase for y in ascii_lowercase)\n",
    "print(*[next(gen) for _ in range(51)])"
   ],
   "metadata": {
    "collapsed": false,
    "ExecuteTime": {
     "end_time": "2024-09-12T12:07:53.994830300Z",
     "start_time": "2024-09-12T12:07:53.993318700Z"
    }
   },
   "id": "473b1bce974c02fe"
  },
  {
   "cell_type": "code",
   "execution_count": 17,
   "outputs": [
    {
     "name": "stdout",
     "output_type": "stream",
     "text": [
      "Москва Ульяновск Самара Уфа Омск Тула Москва Ульяновск Самара Уфа Омск Тула Москва Ульяновск Самара Уфа Омск Тула Москва Ульяновск Самара\n"
     ]
    }
   ],
   "source": [
    "cities = [\"Москва\", \"Ульяновск\", \"Самара\", \"Уфа\", \"Омск\", \"Тула\"]\n",
    "gen = (cities[x % 6] for x in range(1_000_000))\n",
    "print(*[next(gen) for _ in range(20)])"
   ],
   "metadata": {
    "collapsed": false,
    "ExecuteTime": {
     "end_time": "2024-09-12T12:09:52.338674600Z",
     "start_time": "2024-09-12T12:09:52.334164400Z"
    }
   },
   "id": "b8d901885b204066"
  },
  {
   "cell_type": "code",
   "execution_count": 22,
   "outputs": [
    {
     "name": "stdout",
     "output_type": "stream",
     "text": [
      "-2.0 -2.0 -2.0 -2.0 -2.0 -2.0 -2.0 -2.0 -2.0 -2.0 -2.0 -1.99 -1.99 -1.99 -1.99 -1.99 -1.99 -1.99 -1.98 -1.98\n"
     ]
    }
   ],
   "source": [
    "a, b = map(int, input().split())\n",
    "func_gen = ((0.5 * pow(x/100, 2) - 2.0) for x in range(100* a, 100* b+1))\n",
    "print(*[round(next(func_gen), 2) for _ in range(20)])"
   ],
   "metadata": {
    "collapsed": false,
    "ExecuteTime": {
     "end_time": "2024-09-12T12:15:07.426535800Z",
     "start_time": "2024-09-12T12:15:05.928894200Z"
    }
   },
   "id": "5133293c1e7cf31f"
  }
 ],
 "metadata": {
  "kernelspec": {
   "display_name": "Python 3",
   "language": "python",
   "name": "python3"
  },
  "language_info": {
   "codemirror_mode": {
    "name": "ipython",
    "version": 2
   },
   "file_extension": ".py",
   "mimetype": "text/x-python",
   "name": "python",
   "nbconvert_exporter": "python",
   "pygments_lexer": "ipython2",
   "version": "2.7.6"
  }
 },
 "nbformat": 4,
 "nbformat_minor": 5
}
