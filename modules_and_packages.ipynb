{
 "cells": [
  {
   "cell_type": "code",
   "execution_count": 2,
   "id": "initial_id",
   "metadata": {
    "collapsed": true,
    "ExecuteTime": {
     "end_time": "2024-09-05T06:53:25.377539500Z",
     "start_time": "2024-09-05T06:53:25.357747100Z"
    }
   },
   "outputs": [
    {
     "name": "stdout",
     "output_type": "stream",
     "text": [
      "{'__name__': '__main__', '__doc__': 'Automatically created module for IPython interactive environment', '__package__': None, '__loader__': None, '__spec__': None, '__builtin__': <module 'builtins' (built-in)>, '__builtins__': <module 'builtins' (built-in)>, '_ih': ['', 'import math\\nimport time\\nprint(locals())', 'import math\\nimport time\\n\\n\\nprint(locals())'], '_oh': {}, '_dh': [WindowsPath('D:/amirj/python_projects/goodgoodpython')], 'In': ['', 'import math\\nimport time\\nprint(locals())', 'import math\\nimport time\\n\\n\\nprint(locals())'], 'Out': {}, 'get_ipython': <bound method InteractiveShell.get_ipython of <ipykernel.zmqshell.ZMQInteractiveShell object at 0x000001FF6482FEC0>>, 'exit': <IPython.core.autocall.ZMQExitAutocall object at 0x000001FF6367AD80>, 'quit': <IPython.core.autocall.ZMQExitAutocall object at 0x000001FF6367AD80>, 'open': <function open at 0x000001FF62880EA0>, '_': '', '__': '', '___': '', '__session__': 'modules_and_packages.ipynb', '_i': 'import math\\nimport time\\nprint(locals())', '_ii': '', '_iii': '', '_i1': 'import math\\nimport time\\nprint(locals())', 'math': <module 'math' (built-in)>, 'time': <module 'time' (built-in)>, 'sys': <module 'sys' (built-in)>, 'remove_imported_pydev_package': <function remove_imported_pydev_package at 0x000001FF648DF1A0>, '_pydevd_bundle': <module '_pydevd_bundle' from 'D:\\\\Program Files\\\\PyCharm 2023.3\\\\plugins\\\\python\\\\helpers\\\\pydev\\\\_pydevd_bundle\\\\__init__.py'>, 'pydev_jupyter_vars': <module 'pydev_jupyter_vars' from 'D:\\\\Program Files\\\\PyCharm 2023.3\\\\plugins\\\\python\\\\helpers-pro\\\\jupyter_debug\\\\pydev_jupyter_vars.py'>, '_i2': 'import math\\nimport time\\n\\n\\nprint(locals())'}\n"
     ]
    }
   ],
   "source": [
    "import math\n",
    "import time\n",
    "\n",
    "\n",
    "print(locals())"
   ]
  },
  {
   "cell_type": "code",
   "execution_count": 3,
   "outputs": [
    {
     "name": "stdout",
     "output_type": "stream",
     "text": [
      "{'In': ['',\n",
      "        'import math\\nimport time\\nprint(locals())',\n",
      "        'import math\\nimport time\\n\\n\\nprint(locals())',\n",
      "        'import pprint\\npprint.pprint(locals())'],\n",
      " 'Out': {},\n",
      " '_': '',\n",
      " '__': '',\n",
      " '___': '',\n",
      " '__builtin__': <module 'builtins' (built-in)>,\n",
      " '__builtins__': <module 'builtins' (built-in)>,\n",
      " '__doc__': 'Automatically created module for IPython interactive environment',\n",
      " '__loader__': None,\n",
      " '__name__': '__main__',\n",
      " '__package__': None,\n",
      " '__session__': 'modules_and_packages.ipynb',\n",
      " '__spec__': None,\n",
      " '_dh': [WindowsPath('D:/amirj/python_projects/goodgoodpython')],\n",
      " '_i': 'import math\\nimport time\\n\\n\\nprint(locals())',\n",
      " '_i1': 'import math\\nimport time\\nprint(locals())',\n",
      " '_i2': 'import math\\nimport time\\n\\n\\nprint(locals())',\n",
      " '_i3': 'import pprint\\npprint.pprint(locals())',\n",
      " '_ih': ['',\n",
      "         'import math\\nimport time\\nprint(locals())',\n",
      "         'import math\\nimport time\\n\\n\\nprint(locals())',\n",
      "         'import pprint\\npprint.pprint(locals())'],\n",
      " '_ii': 'import math\\nimport time\\nprint(locals())',\n",
      " '_iii': '',\n",
      " '_oh': {},\n",
      " '_pydevd_bundle': <module '_pydevd_bundle' from 'D:\\\\Program Files\\\\PyCharm 2023.3\\\\plugins\\\\python\\\\helpers\\\\pydev\\\\_pydevd_bundle\\\\__init__.py'>,\n",
      " 'exit': <IPython.core.autocall.ZMQExitAutocall object at 0x000001FF6367AD80>,\n",
      " 'get_ipython': <bound method InteractiveShell.get_ipython of <ipykernel.zmqshell.ZMQInteractiveShell object at 0x000001FF6482FEC0>>,\n",
      " 'math': <module 'math' (built-in)>,\n",
      " 'open': <function open at 0x000001FF62880EA0>,\n",
      " 'pprint': <module 'pprint' from 'C:\\\\Users\\\\amirj\\\\AppData\\\\Local\\\\Programs\\\\Python\\\\Python312\\\\Lib\\\\pprint.py'>,\n",
      " 'pydev_jupyter_vars': <module 'pydev_jupyter_vars' from 'D:\\\\Program Files\\\\PyCharm 2023.3\\\\plugins\\\\python\\\\helpers-pro\\\\jupyter_debug\\\\pydev_jupyter_vars.py'>,\n",
      " 'quit': <IPython.core.autocall.ZMQExitAutocall object at 0x000001FF6367AD80>,\n",
      " 'remove_imported_pydev_package': <function remove_imported_pydev_package at 0x000001FF648DF1A0>,\n",
      " 'sys': <module 'sys' (built-in)>,\n",
      " 'time': <module 'time' (built-in)>}\n"
     ]
    }
   ],
   "source": [
    "import pprint\n",
    "pprint.pprint(locals())"
   ],
   "metadata": {
    "collapsed": false,
    "ExecuteTime": {
     "end_time": "2024-09-05T06:53:33.487165900Z",
     "start_time": "2024-09-05T06:53:33.484158800Z"
    }
   },
   "id": "fad5f2db77578a57"
  },
  {
   "cell_type": "code",
   "execution_count": 6,
   "outputs": [
    {
     "name": "stdout",
     "output_type": "stream",
     "text": [
      "4\n"
     ]
    }
   ],
   "source": [
    "a = math.ceil(3.45)\n",
    "print(a)"
   ],
   "metadata": {
    "collapsed": false,
    "ExecuteTime": {
     "end_time": "2024-09-05T06:54:34.963692400Z",
     "start_time": "2024-09-05T06:54:34.951666Z"
    }
   },
   "id": "178055e4a0701fa4"
  },
  {
   "cell_type": "code",
   "execution_count": 7,
   "outputs": [
    {
     "data": {
      "text/plain": "3.141592653589793"
     },
     "execution_count": 7,
     "metadata": {},
     "output_type": "execute_result"
    }
   ],
   "source": [
    "math.pi"
   ],
   "metadata": {
    "collapsed": false,
    "ExecuteTime": {
     "end_time": "2024-09-05T06:54:42.385614900Z",
     "start_time": "2024-09-05T06:54:42.375938500Z"
    }
   },
   "id": "58a083f80b11ba1f"
  },
  {
   "cell_type": "code",
   "execution_count": 8,
   "outputs": [],
   "source": [
    "math = \"математика\""
   ],
   "metadata": {
    "collapsed": false,
    "ExecuteTime": {
     "end_time": "2024-09-05T06:55:50.640059200Z",
     "start_time": "2024-09-05T06:55:50.633981Z"
    }
   },
   "id": "bb61ffd14ae205da"
  },
  {
   "cell_type": "code",
   "execution_count": 9,
   "outputs": [
    {
     "ename": "AttributeError",
     "evalue": "'str' object has no attribute 'pi'",
     "output_type": "error",
     "traceback": [
      "\u001B[1;31m---------------------------------------------------------------------------\u001B[0m",
      "\u001B[1;31mAttributeError\u001B[0m                            Traceback (most recent call last)",
      "Cell \u001B[1;32mIn[9], line 1\u001B[0m\n\u001B[1;32m----> 1\u001B[0m \u001B[43mmath\u001B[49m\u001B[38;5;241;43m.\u001B[39;49m\u001B[43mpi\u001B[49m\n",
      "\u001B[1;31mAttributeError\u001B[0m: 'str' object has no attribute 'pi'"
     ]
    }
   ],
   "source": [
    "math.pi"
   ],
   "metadata": {
    "collapsed": false,
    "ExecuteTime": {
     "end_time": "2024-09-05T06:55:53.343329700Z",
     "start_time": "2024-09-05T06:55:53.150313600Z"
    }
   },
   "id": "e451b015ad8d4020"
  },
  {
   "cell_type": "code",
   "execution_count": 18,
   "outputs": [
    {
     "name": "stdout",
     "output_type": "stream",
     "text": [
      "{'In': ['',\n",
      "        'import math\\nimport time\\nprint(locals())',\n",
      "        'import math\\nimport time\\n\\n\\nprint(locals())',\n",
      "        'import pprint\\npprint.pprint(locals())',\n",
      "        'a = math.ceil(3.45)',\n",
      "        'a = math.ceil(3.45)\\nprint(a)',\n",
      "        'a = math.ceil(3.45)\\nprint(a)',\n",
      "        'math.pi',\n",
      "        'math = \"математика\"',\n",
      "        'math.pi',\n",
      "        'pprint.pprint(globals())',\n",
      "        'pprint.pprint(locals())',\n",
      "        'pprint.pprint(())',\n",
      "        'pprint.pprint(globals())',\n",
      "        'pprint.pprint(locals())',\n",
      "        'pprint.pprint(globals())',\n",
      "        'pprint.pprint(globals())',\n",
      "        'from datetime import datetime',\n",
      "        'pprint.pprint(globals())'],\n",
      " 'Out': {7: 3.141592653589793},\n",
      " '_': 3.141592653589793,\n",
      " '_7': 3.141592653589793,\n",
      " '__': '',\n",
      " '___': '',\n",
      " '__builtin__': <module 'builtins' (built-in)>,\n",
      " '__builtins__': <module 'builtins' (built-in)>,\n",
      " '__doc__': 'Automatically created module for IPython interactive environment',\n",
      " '__loader__': None,\n",
      " '__name__': '__main__',\n",
      " '__package__': None,\n",
      " '__session__': 'modules_and_packages.ipynb',\n",
      " '__spec__': None,\n",
      " '_dh': [WindowsPath('D:/amirj/python_projects/goodgoodpython')],\n",
      " '_i': 'from datetime import datetime',\n",
      " '_i1': 'import math\\nimport time\\nprint(locals())',\n",
      " '_i10': 'pprint.pprint(globals())',\n",
      " '_i11': 'pprint.pprint(locals())',\n",
      " '_i12': 'pprint.pprint(())',\n",
      " '_i13': 'pprint.pprint(globals())',\n",
      " '_i14': 'pprint.pprint(locals())',\n",
      " '_i15': 'pprint.pprint(globals())',\n",
      " '_i16': 'pprint.pprint(globals())',\n",
      " '_i17': 'from datetime import datetime',\n",
      " '_i18': 'pprint.pprint(globals())',\n",
      " '_i2': 'import math\\nimport time\\n\\n\\nprint(locals())',\n",
      " '_i3': 'import pprint\\npprint.pprint(locals())',\n",
      " '_i4': 'a = math.ceil(3.45)',\n",
      " '_i5': 'a = math.ceil(3.45)\\nprint(a)',\n",
      " '_i6': 'a = math.ceil(3.45)\\nprint(a)',\n",
      " '_i7': 'math.pi',\n",
      " '_i8': 'math = \"математика\"',\n",
      " '_i9': 'math.pi',\n",
      " '_ih': ['',\n",
      "         'import math\\nimport time\\nprint(locals())',\n",
      "         'import math\\nimport time\\n\\n\\nprint(locals())',\n",
      "         'import pprint\\npprint.pprint(locals())',\n",
      "         'a = math.ceil(3.45)',\n",
      "         'a = math.ceil(3.45)\\nprint(a)',\n",
      "         'a = math.ceil(3.45)\\nprint(a)',\n",
      "         'math.pi',\n",
      "         'math = \"математика\"',\n",
      "         'math.pi',\n",
      "         'pprint.pprint(globals())',\n",
      "         'pprint.pprint(locals())',\n",
      "         'pprint.pprint(())',\n",
      "         'pprint.pprint(globals())',\n",
      "         'pprint.pprint(locals())',\n",
      "         'pprint.pprint(globals())',\n",
      "         'pprint.pprint(globals())',\n",
      "         'from datetime import datetime',\n",
      "         'pprint.pprint(globals())'],\n",
      " '_ii': 'pprint.pprint(globals())',\n",
      " '_iii': 'pprint.pprint(globals())',\n",
      " '_oh': {7: 3.141592653589793},\n",
      " '_pydevd_bundle': <module '_pydevd_bundle' from 'D:\\\\Program Files\\\\PyCharm 2023.3\\\\plugins\\\\python\\\\helpers\\\\pydev\\\\_pydevd_bundle\\\\__init__.py'>,\n",
      " 'a': 4,\n",
      " 'datetime': <class 'datetime.datetime'>,\n",
      " 'exit': <IPython.core.autocall.ZMQExitAutocall object at 0x000001FF6367AD80>,\n",
      " 'get_ipython': <bound method InteractiveShell.get_ipython of <ipykernel.zmqshell.ZMQInteractiveShell object at 0x000001FF6482FEC0>>,\n",
      " 'math': 'математика',\n",
      " 'open': <function open at 0x000001FF62880EA0>,\n",
      " 'pprint': <module 'pprint' from 'C:\\\\Users\\\\amirj\\\\AppData\\\\Local\\\\Programs\\\\Python\\\\Python312\\\\Lib\\\\pprint.py'>,\n",
      " 'pydev_jupyter_vars': <module 'pydev_jupyter_vars' from 'D:\\\\Program Files\\\\PyCharm 2023.3\\\\plugins\\\\python\\\\helpers-pro\\\\jupyter_debug\\\\pydev_jupyter_vars.py'>,\n",
      " 'quit': <IPython.core.autocall.ZMQExitAutocall object at 0x000001FF6367AD80>,\n",
      " 'remove_imported_pydev_package': <function remove_imported_pydev_package at 0x000001FF648DF1A0>,\n",
      " 'sys': <module 'sys' (built-in)>,\n",
      " 'time': <module 'time' (built-in)>}\n"
     ]
    }
   ],
   "source": [
    "pprint.pprint(globals())"
   ],
   "metadata": {
    "collapsed": false,
    "ExecuteTime": {
     "end_time": "2024-09-05T06:57:09.805585500Z",
     "start_time": "2024-09-05T06:57:09.804073300Z"
    }
   },
   "id": "484be5ef290e210c"
  },
  {
   "cell_type": "code",
   "execution_count": 17,
   "outputs": [],
   "source": [
    "from datetime import datetime"
   ],
   "metadata": {
    "collapsed": false,
    "ExecuteTime": {
     "end_time": "2024-09-05T06:57:07.726233300Z",
     "start_time": "2024-09-05T06:57:07.715715500Z"
    }
   },
   "id": "c504cabd63149629"
  },
  {
   "cell_type": "code",
   "execution_count": null,
   "outputs": [],
   "source": [
    "from math import ceil\n",
    "print(ceil(float(input())))"
   ],
   "metadata": {
    "collapsed": false
   },
   "id": "fca403bc2eed3cd9"
  },
  {
   "cell_type": "code",
   "execution_count": null,
   "outputs": [],
   "source": [
    "from math import floor\n",
    "print(floor(float(input())))"
   ],
   "metadata": {
    "collapsed": false
   },
   "id": "15ba09ed3e7926a7"
  },
  {
   "cell_type": "code",
   "execution_count": 20,
   "outputs": [],
   "source": [
    "from math import factorial as fact"
   ],
   "metadata": {
    "collapsed": false,
    "ExecuteTime": {
     "end_time": "2024-09-05T07:01:04.777606700Z",
     "start_time": "2024-09-05T07:01:04.774229300Z"
    }
   },
   "id": "fd238fa7c3feaeda"
  },
  {
   "cell_type": "code",
   "execution_count": null,
   "outputs": [],
   "source": [
    "from random import seed, randint\n",
    "\n",
    "seed(1)\n",
    "print(randint(10, 50))"
   ],
   "metadata": {
    "collapsed": false
   },
   "id": "bd54957553a30d41"
  },
  {
   "cell_type": "code",
   "execution_count": null,
   "outputs": [],
   "source": [
    "from random import seed, random as rnd\n",
    "\n",
    "seed(10)\n",
    "print(round(rnd(), 2))"
   ],
   "metadata": {
    "collapsed": false
   },
   "id": "e55ab7b375d7a3fe"
  },
  {
   "cell_type": "code",
   "execution_count": 22,
   "outputs": [],
   "source": [
    "import test_module"
   ],
   "metadata": {
    "collapsed": false,
    "ExecuteTime": {
     "end_time": "2024-09-05T07:05:42.006991500Z",
     "start_time": "2024-09-05T07:05:42.001475300Z"
    }
   },
   "id": "dd9495ab0baec21b"
  },
  {
   "cell_type": "code",
   "execution_count": 24,
   "outputs": [
    {
     "name": "stdout",
     "output_type": "stream",
     "text": [
      "Функция floor из модуля test_module\n"
     ]
    },
    {
     "data": {
      "text/plain": "3"
     },
     "execution_count": 24,
     "metadata": {},
     "output_type": "execute_result"
    }
   ],
   "source": [
    "test_module.floor(3)"
   ],
   "metadata": {
    "collapsed": false,
    "ExecuteTime": {
     "end_time": "2024-09-05T07:05:51.596814400Z",
     "start_time": "2024-09-05T07:05:51.590792300Z"
    }
   },
   "id": "410e536ad5d258dd"
  },
  {
   "cell_type": "code",
   "execution_count": 50,
   "outputs": [
    {
     "name": "stdout",
     "output_type": "stream",
     "text": [
      "['NAME',\n",
      " '__builtins__',\n",
      " '__cached__',\n",
      " '__doc__',\n",
      " '__file__',\n",
      " '__loader__',\n",
      " '__name__',\n",
      " '__package__',\n",
      " '__spec__',\n",
      " 'floor',\n",
      " 'math',\n",
      " 'pi']\n"
     ]
    }
   ],
   "source": [
    "import test_module\n",
    "\n",
    "pprint.pprint(dir(test_module))"
   ],
   "metadata": {
    "collapsed": false,
    "ExecuteTime": {
     "end_time": "2024-09-05T07:09:33.091451400Z",
     "start_time": "2024-09-05T07:09:33.089433Z"
    }
   },
   "id": "2a1e7f54483a5285"
  },
  {
   "cell_type": "code",
   "execution_count": 58,
   "outputs": [
    {
     "ename": "ModuleNotFoundError",
     "evalue": "spec not found for the module 'test_module'",
     "output_type": "error",
     "traceback": [
      "\u001B[1;31m---------------------------------------------------------------------------\u001B[0m",
      "\u001B[1;31mModuleNotFoundError\u001B[0m                       Traceback (most recent call last)",
      "Cell \u001B[1;32mIn[58], line 2\u001B[0m\n\u001B[0;32m      1\u001B[0m \u001B[38;5;28;01mimport\u001B[39;00m \u001B[38;5;21;01mimportlib\u001B[39;00m\n\u001B[1;32m----> 2\u001B[0m \u001B[43mimportlib\u001B[49m\u001B[38;5;241;43m.\u001B[39;49m\u001B[43mreload\u001B[49m\u001B[43m(\u001B[49m\u001B[43mtest_module\u001B[49m\u001B[43m)\u001B[49m\n",
      "File \u001B[1;32m~\\AppData\\Local\\Programs\\Python\\Python312\\Lib\\importlib\\__init__.py:130\u001B[0m, in \u001B[0;36mreload\u001B[1;34m(module)\u001B[0m\n\u001B[0;32m    128\u001B[0m spec \u001B[38;5;241m=\u001B[39m module\u001B[38;5;241m.\u001B[39m__spec__ \u001B[38;5;241m=\u001B[39m _bootstrap\u001B[38;5;241m.\u001B[39m_find_spec(name, pkgpath, target)\n\u001B[0;32m    129\u001B[0m \u001B[38;5;28;01mif\u001B[39;00m spec \u001B[38;5;129;01mis\u001B[39;00m \u001B[38;5;28;01mNone\u001B[39;00m:\n\u001B[1;32m--> 130\u001B[0m     \u001B[38;5;28;01mraise\u001B[39;00m \u001B[38;5;167;01mModuleNotFoundError\u001B[39;00m(\u001B[38;5;124mf\u001B[39m\u001B[38;5;124m\"\u001B[39m\u001B[38;5;124mspec not found for the module \u001B[39m\u001B[38;5;132;01m{\u001B[39;00mname\u001B[38;5;132;01m!r}\u001B[39;00m\u001B[38;5;124m\"\u001B[39m, name\u001B[38;5;241m=\u001B[39mname)\n\u001B[0;32m    131\u001B[0m _bootstrap\u001B[38;5;241m.\u001B[39m_exec(spec, module)\n\u001B[0;32m    132\u001B[0m \u001B[38;5;66;03m# The module may have replaced itself in sys.modules!\u001B[39;00m\n",
      "\u001B[1;31mModuleNotFoundError\u001B[0m: spec not found for the module 'test_module'"
     ]
    }
   ],
   "source": [
    "import importlib\n",
    "importlib.reload(test_module)"
   ],
   "metadata": {
    "collapsed": false,
    "ExecuteTime": {
     "end_time": "2024-09-05T07:13:06.794423900Z",
     "start_time": "2024-09-05T07:13:06.763523100Z"
    }
   },
   "id": "c7df8a8b1d553291"
  },
  {
   "cell_type": "code",
   "execution_count": 54,
   "outputs": [
    {
     "data": {
      "text/plain": "2.718281828459045"
     },
     "execution_count": 54,
     "metadata": {},
     "output_type": "execute_result"
    }
   ],
   "source": [
    "test_module.e"
   ],
   "metadata": {
    "collapsed": false,
    "ExecuteTime": {
     "end_time": "2024-09-05T07:10:45.699005700Z",
     "start_time": "2024-09-05T07:10:45.695581100Z"
    }
   },
   "id": "d4818cceec71ecdc"
  },
  {
   "cell_type": "code",
   "execution_count": 56,
   "outputs": [],
   "source": [
    "import sys"
   ],
   "metadata": {
    "collapsed": false,
    "ExecuteTime": {
     "end_time": "2024-09-05T07:12:06.758319600Z",
     "start_time": "2024-09-05T07:12:06.752804700Z"
    }
   },
   "id": "44c63d80f63c72a5"
  },
  {
   "cell_type": "code",
   "execution_count": 57,
   "outputs": [
    {
     "name": "stdout",
     "output_type": "stream",
     "text": [
      "['D:\\\\Program Files\\\\PyCharm '\n",
      " '2023.3\\\\plugins\\\\python\\\\helpers-pro\\\\jupyter_debug',\n",
      " 'D:\\\\Program Files\\\\PyCharm 2023.3\\\\plugins\\\\python\\\\helpers\\\\pydev',\n",
      " 'D:\\\\amirj\\\\python_projects\\\\goodgoodpython',\n",
      " 'C:\\\\Users\\\\amirj\\\\AppData\\\\Local\\\\Programs\\\\Python\\\\Python312\\\\python312.zip',\n",
      " 'C:\\\\Users\\\\amirj\\\\AppData\\\\Local\\\\Programs\\\\Python\\\\Python312\\\\DLLs',\n",
      " 'C:\\\\Users\\\\amirj\\\\AppData\\\\Local\\\\Programs\\\\Python\\\\Python312\\\\Lib',\n",
      " 'C:\\\\Users\\\\amirj\\\\AppData\\\\Local\\\\Programs\\\\Python\\\\Python312',\n",
      " 'D:\\\\amirj\\\\python_projects\\\\goodgoodpython\\\\venv',\n",
      " '',\n",
      " 'D:\\\\amirj\\\\python_projects\\\\goodgoodpython\\\\venv\\\\Lib\\\\site-packages',\n",
      " 'D:\\\\amirj\\\\python_projects\\\\goodgoodpython\\\\venv\\\\Lib\\\\site-packages\\\\win32',\n",
      " 'D:\\\\amirj\\\\python_projects\\\\goodgoodpython\\\\venv\\\\Lib\\\\site-packages\\\\win32\\\\lib',\n",
      " 'D:\\\\amirj\\\\python_projects\\\\goodgoodpython\\\\venv\\\\Lib\\\\site-packages\\\\Pythonwin']\n"
     ]
    }
   ],
   "source": [
    "pprint.pprint(sys.path)"
   ],
   "metadata": {
    "collapsed": false,
    "ExecuteTime": {
     "end_time": "2024-09-05T07:12:12.210782Z",
     "start_time": "2024-09-05T07:12:12.198699500Z"
    }
   },
   "id": "4e0211d408daf2"
  },
  {
   "cell_type": "code",
   "execution_count": 61,
   "outputs": [],
   "source": [
    "import module.test_module"
   ],
   "metadata": {
    "collapsed": false,
    "ExecuteTime": {
     "end_time": "2024-09-05T07:14:05.857623400Z",
     "start_time": "2024-09-05T07:14:05.855345700Z"
    }
   },
   "id": "769db4105102580b"
  },
  {
   "cell_type": "code",
   "execution_count": 63,
   "outputs": [
    {
     "data": {
      "text/plain": "<module 'module.test_module' from 'D:\\\\amirj\\\\python_projects\\\\goodgoodpython\\\\module\\\\test_module.py'>"
     },
     "execution_count": 63,
     "metadata": {},
     "output_type": "execute_result"
    }
   ],
   "source": [
    "module.test_module"
   ],
   "metadata": {
    "collapsed": false,
    "ExecuteTime": {
     "end_time": "2024-09-05T07:14:17.281915900Z",
     "start_time": "2024-09-05T07:14:17.276372800Z"
    }
   },
   "id": "85daef0d43a553d2"
  },
  {
   "cell_type": "code",
   "execution_count": 64,
   "outputs": [
    {
     "data": {
      "text/plain": "<module 'test_module' from 'D:\\\\amirj\\\\python_projects\\\\goodgoodpython\\\\test_module.py'>"
     },
     "execution_count": 64,
     "metadata": {},
     "output_type": "execute_result"
    }
   ],
   "source": [
    "test_module"
   ],
   "metadata": {
    "collapsed": false,
    "ExecuteTime": {
     "end_time": "2024-09-05T07:16:26.845444Z",
     "start_time": "2024-09-05T07:16:26.833789600Z"
    }
   },
   "id": "c666f02111e16f52"
  },
  {
   "cell_type": "code",
   "execution_count": 65,
   "outputs": [
    {
     "ename": "AttributeError",
     "evalue": "module 'test_module' has no attribute 'test_module'",
     "output_type": "error",
     "traceback": [
      "\u001B[1;31m---------------------------------------------------------------------------\u001B[0m",
      "\u001B[1;31mAttributeError\u001B[0m                            Traceback (most recent call last)",
      "Cell \u001B[1;32mIn[65], line 1\u001B[0m\n\u001B[1;32m----> 1\u001B[0m \u001B[43mtest_module\u001B[49m\u001B[38;5;241;43m.\u001B[39;49m\u001B[43mtest_module\u001B[49m\n",
      "\u001B[1;31mAttributeError\u001B[0m: module 'test_module' has no attribute 'test_module'"
     ]
    }
   ],
   "source": [
    "test_module.test_module"
   ],
   "metadata": {
    "collapsed": false,
    "ExecuteTime": {
     "end_time": "2024-09-05T07:16:31.326443100Z",
     "start_time": "2024-09-05T07:16:31.314306600Z"
    }
   },
   "id": "736df0ef9af19f18"
  },
  {
   "cell_type": "code",
   "execution_count": 67,
   "outputs": [
    {
     "name": "stdout",
     "output_type": "stream",
     "text": [
      "['D:\\\\Program Files\\\\PyCharm 2023.3\\\\plugins\\\\python\\\\helpers-pro\\\\jupyter_debug', 'D:\\\\Program Files\\\\PyCharm 2023.3\\\\plugins\\\\python\\\\helpers\\\\pydev', 'D:\\\\amirj\\\\python_projects\\\\goodgoodpython', 'C:\\\\Users\\\\amirj\\\\AppData\\\\Local\\\\Programs\\\\Python\\\\Python312\\\\python312.zip', 'C:\\\\Users\\\\amirj\\\\AppData\\\\Local\\\\Programs\\\\Python\\\\Python312\\\\DLLs', 'C:\\\\Users\\\\amirj\\\\AppData\\\\Local\\\\Programs\\\\Python\\\\Python312\\\\Lib', 'C:\\\\Users\\\\amirj\\\\AppData\\\\Local\\\\Programs\\\\Python\\\\Python312', 'D:\\\\amirj\\\\python_projects\\\\goodgoodpython\\\\venv', '', 'D:\\\\amirj\\\\python_projects\\\\goodgoodpython\\\\venv\\\\Lib\\\\site-packages', 'D:\\\\amirj\\\\python_projects\\\\goodgoodpython\\\\venv\\\\Lib\\\\site-packages\\\\win32', 'D:\\\\amirj\\\\python_projects\\\\goodgoodpython\\\\venv\\\\Lib\\\\site-packages\\\\win32\\\\lib', 'D:\\\\amirj\\\\python_projects\\\\goodgoodpython\\\\venv\\\\Lib\\\\site-packages\\\\Pythonwin']\n"
     ]
    }
   ],
   "source": [
    "print(sys.path)"
   ],
   "metadata": {
    "collapsed": false,
    "ExecuteTime": {
     "end_time": "2024-09-05T07:29:49.620359300Z",
     "start_time": "2024-09-05T07:29:49.610321500Z"
    }
   },
   "id": "e57e0792618fae82"
  },
  {
   "cell_type": "code",
   "execution_count": 1,
   "outputs": [],
   "source": [
    "import test_package"
   ],
   "metadata": {
    "collapsed": false,
    "ExecuteTime": {
     "end_time": "2024-09-07T11:55:47.792035800Z",
     "start_time": "2024-09-07T11:55:47.786089700Z"
    }
   },
   "id": "edd005eb51a3869a"
  },
  {
   "cell_type": "code",
   "execution_count": 5,
   "outputs": [
    {
     "name": "stdout",
     "output_type": "stream",
     "text": [
      "['NAME', '__builtins__', '__cached__', '__doc__', '__file__', '__loader__', '__name__', '__package__', '__path__', '__spec__', 'python']\n"
     ]
    }
   ],
   "source": [
    "print(dir(test_package))"
   ],
   "metadata": {
    "collapsed": false,
    "ExecuteTime": {
     "end_time": "2024-09-07T11:57:53.848469900Z",
     "start_time": "2024-09-07T11:57:53.844947500Z"
    }
   },
   "id": "957a614abe641613"
  },
  {
   "cell_type": "code",
   "execution_count": 4,
   "outputs": [
    {
     "data": {
      "text/plain": "<module 'test_package' from 'D:\\\\amirj\\\\python_projects\\\\goodgoodpython\\\\test_package\\\\__init__.py'>"
     },
     "execution_count": 4,
     "metadata": {},
     "output_type": "execute_result"
    }
   ],
   "source": [
    "import importlib\n",
    "importlib.reload(test_package)"
   ],
   "metadata": {
    "collapsed": false,
    "ExecuteTime": {
     "end_time": "2024-09-07T11:57:50.349745700Z",
     "start_time": "2024-09-07T11:57:50.335850600Z"
    }
   },
   "id": "42515956cc0bca19"
  },
  {
   "cell_type": "code",
   "execution_count": null,
   "outputs": [],
   "source": [],
   "metadata": {
    "collapsed": false
   },
   "id": "40bc1a5f1008e8c0"
  }
 ],
 "metadata": {
  "kernelspec": {
   "display_name": "Python 3",
   "language": "python",
   "name": "python3"
  },
  "language_info": {
   "codemirror_mode": {
    "name": "ipython",
    "version": 2
   },
   "file_extension": ".py",
   "mimetype": "text/x-python",
   "name": "python",
   "nbconvert_exporter": "python",
   "pygments_lexer": "ipython2",
   "version": "2.7.6"
  }
 },
 "nbformat": 4,
 "nbformat_minor": 5
}
