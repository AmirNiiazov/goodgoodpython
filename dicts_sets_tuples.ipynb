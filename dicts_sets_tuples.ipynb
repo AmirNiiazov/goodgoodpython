{
 "cells": [
  {
   "cell_type": "code",
   "execution_count": 13,
   "metadata": {
    "collapsed": true,
    "ExecuteTime": {
     "end_time": "2024-08-25T16:07:23.343294900Z",
     "start_time": "2024-08-25T16:07:22.755039100Z"
    }
   },
   "outputs": [
    {
     "name": "stdout",
     "output_type": "stream",
     "text": [
      "{'one': '1', 'two': '2', 'three': '3'}\n",
      "('one', 1) ('three', 3) ('two', 2)\n"
     ]
    }
   ],
   "source": [
    "s = input().split()\n",
    "s = [x.split('=') for x in s]\n",
    "d = dict(s)\n",
    "print(d)\n",
    "for key, value in d.items():\n",
    "    d[key] = int(value)\n",
    "print(*sorted(d.items()))"
   ]
  },
  {
   "cell_type": "code",
   "execution_count": 15,
   "outputs": [
    {
     "name": "stdout",
     "output_type": "stream",
     "text": [
      "(3, 'удовлетворительно') (4, 'хорошо') (5, 'отлично')\n"
     ]
    }
   ],
   "source": [
    "lst_in = ['5=отлично', '4=хорошо', '3=удовлетворительно']\n",
    "d = {}\n",
    "for i in lst_in:\n",
    "    a,b = i.split('=')\n",
    "    d[int(a)] = b\n",
    "\n",
    "print(*sorted(d.items()))"
   ],
   "metadata": {
    "collapsed": false,
    "ExecuteTime": {
     "end_time": "2024-08-25T16:09:27.535629100Z",
     "start_time": "2024-08-25T16:09:27.531955800Z"
    }
   }
  },
  {
   "cell_type": "code",
   "execution_count": 16,
   "outputs": [
    {
     "name": "stdout",
     "output_type": "stream",
     "text": [
      "ДА\n"
     ]
    }
   ],
   "source": [
    "s = [x.split('=') for x in input().split()]\n",
    "d = dict(s)\n",
    "print('ДА' if  'house' in d.keys() and 'True' in d.keys() and '5' in d.keys() else 'НЕТ')"
   ],
   "metadata": {
    "collapsed": false,
    "ExecuteTime": {
     "end_time": "2024-08-25T16:34:20.454471900Z",
     "start_time": "2024-08-25T16:34:16.066158300Z"
    }
   }
  },
  {
   "cell_type": "code",
   "execution_count": 17,
   "outputs": [
    {
     "name": "stdout",
     "output_type": "stream",
     "text": [
      "('True', 'истина') ('дон', 'река') ('лена', 'имя') ('москва', 'город')\n"
     ]
    }
   ],
   "source": [
    "d = dict([x.split('=') for x in input().split()])\n",
    "if 'False' in d.keys():\n",
    "    del d['False']\n",
    "if '3' in d.keys():\n",
    "    del d['3']\n",
    "print(*sorted(d.items()))"
   ],
   "metadata": {
    "collapsed": false,
    "ExecuteTime": {
     "end_time": "2024-08-25T16:37:15.459793600Z",
     "start_time": "2024-08-25T16:37:12.193633600Z"
    }
   }
  },
  {
   "cell_type": "code",
   "execution_count": 29,
   "outputs": [
    {
     "name": "stdout",
     "output_type": "stream",
     "text": [
      "('=', ['=', '=', '=']) ('[i', ['[i]']) ('d', ['d']) ('d.', ['d.keys():']) ('d[', ['d[i[:2]].append(i)', 'd[i[:2]]']) ('el', ['else:']) ('fo', ['for']) ('i', ['i']) ('i[', ['i[:2]']) ('if', ['if']) ('in', ['input().split()', 'in', 'in']) ('pr', ['print(*sorted(d.items()))']) ('s', ['s']) ('s:', ['s:']) ('{}', ['{}'])\n"
     ]
    }
   ],
   "source": [
    "s = input().split()\n",
    "d = {}\n",
    "for i in s:\n",
    "    if i[:2] in d.keys():\n",
    "        d[i[:2]].append(i)\n",
    "    else:\n",
    "        d[i[:2]] = [i]\n",
    "print(*sorted(d.items()))"
   ],
   "metadata": {
    "collapsed": false,
    "ExecuteTime": {
     "end_time": "2024-08-25T16:46:11.476643300Z",
     "start_time": "2024-08-25T16:46:10.747777800Z"
    }
   }
  },
  {
   "cell_type": "code",
   "execution_count": 35,
   "outputs": [
    {
     "name": "stdout",
     "output_type": "stream",
     "text": [
      "('Иван', ['+72134567890']) ('Михаил', ['+51234567890', '+51554567890']) ('Сергей', ['+71234567890', '+71234567810']) ('Федор', ['+21234567890'])\n"
     ]
    }
   ],
   "source": [
    "d = {}\n",
    "lst_in = [\n",
    "    \"+71234567890 Сергей\",\n",
    "    \"+71234567810 Сергей\",\n",
    "    \"+51234567890 Михаил\",\n",
    "    \"+51554567890 Михаил\",\n",
    "    \"+72134567890 Иван\",\n",
    "    \"+21234567890 Федор\"\n",
    "]\n",
    "for i in lst_in:\n",
    "    d.setdefault((spl:=i.split())[1], []).append(spl[0])\n",
    "print(*sorted(d.items()))"
   ],
   "metadata": {
    "collapsed": false,
    "ExecuteTime": {
     "end_time": "2024-08-25T16:52:26.011782400Z",
     "start_time": "2024-08-25T16:52:26.006774100Z"
    }
   }
  },
  {
   "cell_type": "code",
   "execution_count": 37,
   "outputs": [
    {
     "name": "stdout",
     "output_type": "stream",
     "text": [
      "1.0\n",
      "1.73\n",
      "значение из кэша: 1.73\n",
      "1.41\n",
      "2.0\n"
     ]
    }
   ],
   "source": [
    "d = {}\n",
    "while True:\n",
    "    n = int(input())\n",
    "    if n == 0:\n",
    "        break\n",
    "    if n in d.keys():\n",
    "        print(f'значение из кэша: {d[n]}')\n",
    "    else:\n",
    "        res = round(n**0.5, 2)\n",
    "        print(res)\n",
    "        d[n] = res\n"
   ],
   "metadata": {
    "collapsed": false,
    "ExecuteTime": {
     "end_time": "2024-08-25T16:57:29.094017100Z",
     "start_time": "2024-08-25T16:57:25.447595500Z"
    }
   }
  },
  {
   "cell_type": "code",
   "execution_count": null,
   "outputs": [],
   "source": [
    "lst_in = ['ustanovka-i-zapusk-yazyka', 'ustanovka-i-poryadok-raboty-pycharm',\n",
    "          'peremennyye-operator-prisvaivaniya-tipy-dannykh', 'arifmeticheskiye-operatsii',\n",
    "          'ustanovka-i-poryadok-raboty-pycharm']\n",
    "d = {}\n",
    "for i in lst_in:\n",
    "    if i in d:\n",
    "        print(f'Взято из кэша: HTML-страница для адреса {i}')\n",
    "    else:\n",
    "         print(f'HTML-страница для адреса {i}')\n",
    "         d[i] = i"
   ],
   "metadata": {
    "collapsed": false
   }
  },
  {
   "cell_type": "code",
   "execution_count": 41,
   "outputs": [
    {
     "name": "stdout",
     "output_type": "stream",
     "text": [
      "{1: [3, 2, 1], 2: [3, 2, 1], 3: [3, 2, 1]}\n"
     ]
    }
   ],
   "source": [
    "lst_1 = [1, 2, 3]\n",
    "lst_2 = [3, 2, 1]\n",
    "d = dict.fromkeys(lst_1, lst_2)\n",
    "print(d)"
   ],
   "metadata": {
    "collapsed": false,
    "ExecuteTime": {
     "end_time": "2024-08-25T17:29:56.177993700Z",
     "start_time": "2024-08-25T17:29:56.174986900Z"
    }
   }
  },
  {
   "cell_type": "code",
   "execution_count": 39,
   "outputs": [
    {
     "name": "stdout",
     "output_type": "stream",
     "text": [
      "{}\n"
     ]
    }
   ],
   "source": [
    "d.clear()\n",
    "print(d)"
   ],
   "metadata": {
    "collapsed": false,
    "ExecuteTime": {
     "end_time": "2024-08-25T17:29:53.265462200Z",
     "start_time": "2024-08-25T17:29:53.263454300Z"
    }
   }
  },
  {
   "cell_type": "code",
   "execution_count": 44,
   "outputs": [
    {
     "name": "stdout",
     "output_type": "stream",
     "text": [
      "{1: [5, 6, 7], 2: [3, 2, 1], 3: [3, 2, 1]}\n",
      "{1: [3, 2, 1], 2: [3, 2, 1], 3: [3, 2, 1]}\n"
     ]
    }
   ],
   "source": [
    "d2 = d.copy()\n",
    "d2[1] = [5, 6, 7]\n",
    "print(d2)\n",
    "print(d)"
   ],
   "metadata": {
    "collapsed": false,
    "ExecuteTime": {
     "end_time": "2024-08-25T17:30:38.945313800Z",
     "start_time": "2024-08-25T17:30:38.941291200Z"
    }
   }
  },
  {
   "cell_type": "code",
   "execution_count": 45,
   "outputs": [
    {
     "name": "stdout",
     "output_type": "stream",
     "text": [
      "1678655863296\n",
      "1678653452224\n",
      "1678653526656\n"
     ]
    }
   ],
   "source": [
    "d3 = dict(d)\n",
    "print(id(d3))\n",
    "print(id(d2))\n",
    "print(id(d))"
   ],
   "metadata": {
    "collapsed": false,
    "ExecuteTime": {
     "end_time": "2024-08-25T17:31:13.365400900Z",
     "start_time": "2024-08-25T17:31:13.362390600Z"
    }
   }
  },
  {
   "cell_type": "code",
   "execution_count": 53,
   "outputs": [
    {
     "data": {
      "text/plain": "False"
     },
     "execution_count": 53,
     "metadata": {},
     "output_type": "execute_result"
    }
   ],
   "source": [
    "d.get(4, False)"
   ],
   "metadata": {
    "collapsed": false,
    "ExecuteTime": {
     "end_time": "2024-08-25T17:32:30.167135700Z",
     "start_time": "2024-08-25T17:32:30.155272400Z"
    }
   }
  },
  {
   "cell_type": "code",
   "execution_count": 55,
   "outputs": [
    {
     "data": {
      "text/plain": "False"
     },
     "execution_count": 55,
     "metadata": {},
     "output_type": "execute_result"
    }
   ],
   "source": [
    "bool(None)"
   ],
   "metadata": {
    "collapsed": false,
    "ExecuteTime": {
     "end_time": "2024-08-25T17:32:40.421177800Z",
     "start_time": "2024-08-25T17:32:40.408323400Z"
    }
   }
  },
  {
   "cell_type": "code",
   "execution_count": 70,
   "outputs": [
    {
     "data": {
      "text/plain": "[1, 1, 1, 1, 1, 1]"
     },
     "execution_count": 70,
     "metadata": {},
     "output_type": "execute_result"
    }
   ],
   "source": [
    "d.setdefault(4)"
   ],
   "metadata": {
    "collapsed": false,
    "ExecuteTime": {
     "end_time": "2024-08-25T17:33:53.811681400Z",
     "start_time": "2024-08-25T17:33:53.797380700Z"
    }
   }
  },
  {
   "cell_type": "code",
   "execution_count": 71,
   "outputs": [
    {
     "data": {
      "text/plain": "[1, 1, 1, 1, 1, 1]"
     },
     "execution_count": 71,
     "metadata": {},
     "output_type": "execute_result"
    }
   ],
   "source": [
    "d.pop(4)"
   ],
   "metadata": {
    "collapsed": false,
    "ExecuteTime": {
     "end_time": "2024-08-25T17:33:56.372425400Z",
     "start_time": "2024-08-25T17:33:56.357447100Z"
    }
   }
  },
  {
   "cell_type": "code",
   "execution_count": 72,
   "outputs": [
    {
     "data": {
      "text/plain": "{1: [3, 2, 1], 2: [3, 2, 1], 3: [3, 2, 1], 5: None}"
     },
     "execution_count": 72,
     "metadata": {},
     "output_type": "execute_result"
    }
   ],
   "source": [
    "d"
   ],
   "metadata": {
    "collapsed": false,
    "ExecuteTime": {
     "end_time": "2024-08-25T17:33:57.662258500Z",
     "start_time": "2024-08-25T17:33:57.649736300Z"
    }
   }
  },
  {
   "cell_type": "code",
   "execution_count": 74,
   "outputs": [
    {
     "data": {
      "text/plain": "False"
     },
     "execution_count": 74,
     "metadata": {},
     "output_type": "execute_result"
    }
   ],
   "source": [
    "d.pop(4, False)"
   ],
   "metadata": {
    "collapsed": false,
    "ExecuteTime": {
     "end_time": "2024-08-25T17:34:23.469242900Z",
     "start_time": "2024-08-25T17:34:23.447649100Z"
    }
   }
  },
  {
   "cell_type": "code",
   "execution_count": 80,
   "outputs": [
    {
     "ename": "KeyError",
     "evalue": "'popitem(): dictionary is empty'",
     "output_type": "error",
     "traceback": [
      "\u001B[1;31m---------------------------------------------------------------------------\u001B[0m",
      "\u001B[1;31mKeyError\u001B[0m                                  Traceback (most recent call last)",
      "Cell \u001B[1;32mIn[80], line 1\u001B[0m\n\u001B[1;32m----> 1\u001B[0m \u001B[43md\u001B[49m\u001B[38;5;241;43m.\u001B[39;49m\u001B[43mpopitem\u001B[49m\u001B[43m(\u001B[49m\u001B[43m)\u001B[49m\n",
      "\u001B[1;31mKeyError\u001B[0m: 'popitem(): dictionary is empty'"
     ]
    }
   ],
   "source": [
    "d.popitem()"
   ],
   "metadata": {
    "collapsed": false,
    "ExecuteTime": {
     "end_time": "2024-08-25T17:37:09.612922500Z",
     "start_time": "2024-08-25T17:37:09.597305700Z"
    }
   }
  },
  {
   "cell_type": "code",
   "execution_count": 81,
   "outputs": [
    {
     "data": {
      "text/plain": "dict_keys([1, 2, 3])"
     },
     "execution_count": 81,
     "metadata": {},
     "output_type": "execute_result"
    }
   ],
   "source": [
    "d2.keys()"
   ],
   "metadata": {
    "collapsed": false,
    "ExecuteTime": {
     "end_time": "2024-08-25T17:37:15.027381500Z",
     "start_time": "2024-08-25T17:37:15.022863100Z"
    }
   }
  },
  {
   "cell_type": "code",
   "execution_count": 83,
   "outputs": [
    {
     "data": {
      "text/plain": "dict_values([[5, 6, 7], [3, 2, 1], [3, 2, 1]])"
     },
     "execution_count": 83,
     "metadata": {},
     "output_type": "execute_result"
    }
   ],
   "source": [
    "d2.values()"
   ],
   "metadata": {
    "collapsed": false,
    "ExecuteTime": {
     "end_time": "2024-08-25T17:38:09.208428900Z",
     "start_time": "2024-08-25T17:38:09.193396200Z"
    }
   }
  },
  {
   "cell_type": "code",
   "execution_count": 85,
   "outputs": [
    {
     "name": "stdout",
     "output_type": "stream",
     "text": [
      "1 [5, 6, 7]\n",
      "2 [3, 2, 1]\n",
      "3 [3, 2, 1]\n"
     ]
    }
   ],
   "source": [
    "for key, val in d2.items():\n",
    "    print(key, val)"
   ],
   "metadata": {
    "collapsed": false,
    "ExecuteTime": {
     "end_time": "2024-08-25T17:38:22.808405100Z",
     "start_time": "2024-08-25T17:38:22.805395200Z"
    }
   }
  },
  {
   "cell_type": "code",
   "execution_count": 87,
   "outputs": [
    {
     "data": {
      "text/plain": "{}"
     },
     "execution_count": 87,
     "metadata": {},
     "output_type": "execute_result"
    }
   ],
   "source": [
    "d"
   ],
   "metadata": {
    "collapsed": false,
    "ExecuteTime": {
     "end_time": "2024-08-25T17:39:18.511254100Z",
     "start_time": "2024-08-25T17:39:18.494364200Z"
    }
   }
  },
  {
   "cell_type": "code",
   "execution_count": 88,
   "outputs": [],
   "source": [
    "d.update(d2)"
   ],
   "metadata": {
    "collapsed": false,
    "ExecuteTime": {
     "end_time": "2024-08-25T17:39:23.797764300Z",
     "start_time": "2024-08-25T17:39:23.779731100Z"
    }
   }
  },
  {
   "cell_type": "code",
   "execution_count": 89,
   "outputs": [
    {
     "data": {
      "text/plain": "{1: [5, 6, 7], 2: [3, 2, 1], 3: [3, 2, 1]}"
     },
     "execution_count": 89,
     "metadata": {},
     "output_type": "execute_result"
    }
   ],
   "source": [
    "d"
   ],
   "metadata": {
    "collapsed": false,
    "ExecuteTime": {
     "end_time": "2024-08-25T17:39:25.198799900Z",
     "start_time": "2024-08-25T17:39:25.165712200Z"
    }
   }
  },
  {
   "cell_type": "code",
   "execution_count": 96,
   "outputs": [
    {
     "name": "stdout",
     "output_type": "stream",
     "text": [
      "... . .-. --. . .--- -...- -... .- .-.. .- -.- .. .-. . .-- \n"
     ]
    }
   ],
   "source": [
    "d = {' ': '-...-', 'Ё': '.', 'А': '.-', 'Б': '-...', 'В': '.--', 'Г': '--.', 'Д': '-..', 'Е': '.', 'Ж': '...-', 'З': '--..', 'И': '..', 'Й': '.---', 'К': '-.-', 'Л': '.-..', 'М': '--', 'Н': '-.', 'О': '---', 'П': '.--.', 'Р': '.-.', 'С': '...', 'Т': '-', 'У': '..-', 'Ф': '..-.', 'Х': '....', 'Ц': '-.-.', 'Ч': '---.', 'Ш': '----', 'Щ': '--.-', 'Ъ': '--.--', 'Ы': '-.--', 'Ь': '-..-', 'Э': '..-..', 'Ю': '..--', 'Я': '.-.-'}\n",
    "lst = list(input().upper())\n",
    "new_str = ''\n",
    "for i in lst:\n",
    "    new_str += d.get(i) + ' '\n",
    "new_str.rstrip()\n",
    "print(new_str)\n",
    "\n",
    "# print(*[chars.get(i.upper()) for i in input()])"
   ],
   "metadata": {
    "collapsed": false,
    "ExecuteTime": {
     "end_time": "2024-08-25T17:47:08.373880500Z",
     "start_time": "2024-08-25T17:47:07.512105200Z"
    }
   }
  },
  {
   "cell_type": "code",
   "execution_count": 102,
   "outputs": [
    {
     "name": "stdout",
     "output_type": "stream",
     "text": [
      "все верно\n"
     ]
    }
   ],
   "source": [
    "morze = {\".-\": \"А\", \"-...\": \"Б\", \".--\": \"В\", \"--.\": \"Г\", \"-..\": \"Д\", \".\": \"Е\", \"...-\": \"Ж\", \"--..\": \"З\", \"..\": \"И\", \".---\": \"Й\", \"-.-\": \"К\", \".-..\": \"Л\", \"--\": \"М\", \"-.\": \"Н\", \"---\": \"О\", \".--.\": \"П\", \".-.\": \"Р\", \"...\": \"С\", \"-\": \"Т\", \"..-\": \"У\", \"..-.\": \"Ф\", \"....\": \"Х\", \"-.-.\": \"Ц\", \"---.\": \"Ч\", \"----\": \"Ш\", \"--.-\": \"Щ\", \".--.-\": \"Ъ\", \"-.--\": \"Ы\", \"-..-\": \"Ь\", \"...-...\": \"Э\", \"..--\": \"Ю\", \".-.-\": \"Я\", \"-...-\": \" \"}\n",
    "str1 = ''\n",
    "for i in input().split():\n",
    "    str1 += morze[i].lower()\n",
    "print(str1)"
   ],
   "metadata": {
    "collapsed": false,
    "ExecuteTime": {
     "end_time": "2024-08-25T17:51:58.170182600Z",
     "start_time": "2024-08-25T17:51:55.500921200Z"
    }
   }
  },
  {
   "cell_type": "code",
   "execution_count": 103,
   "outputs": [
    {
     "name": "stdout",
     "output_type": "stream",
     "text": [
      "8 11 -4 5 2 4\n"
     ]
    }
   ],
   "source": [
    "print(*dict.fromkeys(map(int, input().split())))"
   ],
   "metadata": {
    "collapsed": false,
    "ExecuteTime": {
     "end_time": "2024-08-25T17:56:31.669347Z",
     "start_time": "2024-08-25T17:56:31.070589700Z"
    }
   }
  },
  {
   "cell_type": "code",
   "execution_count": 109,
   "outputs": [
    {
     "name": "stdout",
     "output_type": "stream",
     "text": [
      "3: Сергей\n",
      "5: Николай, Юлия\n",
      "4: Елена, Светлана\n",
      "7: Владимир\n"
     ]
    }
   ],
   "source": [
    "lst_in = ['3 Сергей', '5 Николай', '4 Елена', '7 Владимир', '5 Юлия', '4 Светлана']\n",
    "d = {}\n",
    "for i in lst_in:\n",
    "    i = i.split()\n",
    "    d.setdefault(i[0], []).append(i[1])\n",
    "for key, val in d.items():\n",
    "    print(f'{key}: {\", \".join(val)}')"
   ],
   "metadata": {
    "collapsed": false,
    "ExecuteTime": {
     "end_time": "2024-08-25T18:02:22.472257800Z",
     "start_time": "2024-08-25T18:02:22.452538400Z"
    }
   }
  },
  {
   "cell_type": "code",
   "execution_count": 115,
   "outputs": [
    {
     "name": "stdout",
     "output_type": "stream",
     "text": [
      "палатка брезент удочка брюки котелок молоток зонт пила зеркальце спички\n"
     ]
    }
   ],
   "source": [
    "things = {'карандаш': 20, 'зеркальце': 100, 'зонт': 500, 'рубашка': 300,\n",
    "          'брюки': 1000, 'бумага': 200, 'молоток': 600, 'пила': 400, 'удочка': 1200,\n",
    "          'расческа': 40, 'котелок': 820, 'палатка': 5240, 'брезент': 2130, 'спички': 10}\n",
    "\n",
    "n = int(input()) * 1000\n",
    "things = dict(sorted([(value, key) for key, value in things.items()], reverse=True))\n",
    "s_th = []\n",
    "for key, val in things.items():\n",
    "    if n >= 12600:\n",
    "        s_th = things.values()\n",
    "        break\n",
    "    if key > n:\n",
    "        continue\n",
    "    n -= key\n",
    "    s_th.append(val)\n",
    "print(*s_th)"
   ],
   "metadata": {
    "collapsed": false,
    "ExecuteTime": {
     "end_time": "2024-08-25T18:12:56.470778300Z",
     "start_time": "2024-08-25T18:12:55.000907300Z"
    }
   }
  },
  {
   "cell_type": "code",
   "execution_count": null,
   "outputs": [],
   "source": [],
   "metadata": {
    "collapsed": false
   }
  }
 ],
 "metadata": {
  "kernelspec": {
   "display_name": "Python 3",
   "language": "python",
   "name": "python3"
  },
  "language_info": {
   "codemirror_mode": {
    "name": "ipython",
    "version": 2
   },
   "file_extension": ".py",
   "mimetype": "text/x-python",
   "name": "python",
   "nbconvert_exporter": "python",
   "pygments_lexer": "ipython2",
   "version": "2.7.6"
  }
 },
 "nbformat": 4,
 "nbformat_minor": 0
}
