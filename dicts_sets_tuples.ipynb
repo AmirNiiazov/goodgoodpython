{
 "cells": [
  {
   "cell_type": "code",
   "execution_count": 13,
   "metadata": {
    "collapsed": true,
    "ExecuteTime": {
     "end_time": "2024-08-25T16:07:23.343294900Z",
     "start_time": "2024-08-25T16:07:22.755039100Z"
    }
   },
   "outputs": [
    {
     "name": "stdout",
     "output_type": "stream",
     "text": [
      "{'one': '1', 'two': '2', 'three': '3'}\n",
      "('one', 1) ('three', 3) ('two', 2)\n"
     ]
    }
   ],
   "source": [
    "s = input().split()\n",
    "s = [x.split('=') for x in s]\n",
    "d = dict(s)\n",
    "print(d)\n",
    "for key, value in d.items():\n",
    "    d[key] = int(value)\n",
    "print(*sorted(d.items()))"
   ]
  },
  {
   "cell_type": "code",
   "execution_count": 15,
   "outputs": [
    {
     "name": "stdout",
     "output_type": "stream",
     "text": [
      "(3, 'удовлетворительно') (4, 'хорошо') (5, 'отлично')\n"
     ]
    }
   ],
   "source": [
    "lst_in = ['5=отлично', '4=хорошо', '3=удовлетворительно']\n",
    "d = {}\n",
    "for i in lst_in:\n",
    "    a, b = i.split('=')\n",
    "    d[int(a)] = b\n",
    "\n",
    "print(*sorted(d.items()))"
   ],
   "metadata": {
    "collapsed": false,
    "ExecuteTime": {
     "end_time": "2024-08-25T16:09:27.535629100Z",
     "start_time": "2024-08-25T16:09:27.531955800Z"
    }
   }
  },
  {
   "cell_type": "code",
   "execution_count": 16,
   "outputs": [
    {
     "name": "stdout",
     "output_type": "stream",
     "text": [
      "ДА\n"
     ]
    }
   ],
   "source": [
    "s = [x.split('=') for x in input().split()]\n",
    "d = dict(s)\n",
    "print('ДА' if 'house' in d.keys() and 'True' in d.keys() and '5' in d.keys() else 'НЕТ')"
   ],
   "metadata": {
    "collapsed": false,
    "ExecuteTime": {
     "end_time": "2024-08-25T16:34:20.454471900Z",
     "start_time": "2024-08-25T16:34:16.066158300Z"
    }
   }
  },
  {
   "cell_type": "code",
   "execution_count": 17,
   "outputs": [
    {
     "name": "stdout",
     "output_type": "stream",
     "text": [
      "('True', 'истина') ('дон', 'река') ('лена', 'имя') ('москва', 'город')\n"
     ]
    }
   ],
   "source": [
    "d = dict([x.split('=') for x in input().split()])\n",
    "if 'False' in d.keys():\n",
    "    del d['False']\n",
    "if '3' in d.keys():\n",
    "    del d['3']\n",
    "print(*sorted(d.items()))"
   ],
   "metadata": {
    "collapsed": false,
    "ExecuteTime": {
     "end_time": "2024-08-25T16:37:15.459793600Z",
     "start_time": "2024-08-25T16:37:12.193633600Z"
    }
   }
  },
  {
   "cell_type": "code",
   "execution_count": 29,
   "outputs": [
    {
     "name": "stdout",
     "output_type": "stream",
     "text": [
      "('=', ['=', '=', '=']) ('[i', ['[i]']) ('d', ['d']) ('d.', ['d.keys():']) ('d[', ['d[i[:2]].append(i)', 'd[i[:2]]']) ('el', ['else:']) ('fo', ['for']) ('i', ['i']) ('i[', ['i[:2]']) ('if', ['if']) ('in', ['input().split()', 'in', 'in']) ('pr', ['print(*sorted(d.items()))']) ('s', ['s']) ('s:', ['s:']) ('{}', ['{}'])\n"
     ]
    }
   ],
   "source": [
    "s = input().split()\n",
    "d = {}\n",
    "for i in s:\n",
    "    if i[:2] in d.keys():\n",
    "        d[i[:2]].append(i)\n",
    "    else:\n",
    "        d[i[:2]] = [i]\n",
    "print(*sorted(d.items()))"
   ],
   "metadata": {
    "collapsed": false,
    "ExecuteTime": {
     "end_time": "2024-08-25T16:46:11.476643300Z",
     "start_time": "2024-08-25T16:46:10.747777800Z"
    }
   }
  },
  {
   "cell_type": "code",
   "execution_count": 35,
   "outputs": [
    {
     "name": "stdout",
     "output_type": "stream",
     "text": [
      "('Иван', ['+72134567890']) ('Михаил', ['+51234567890', '+51554567890']) ('Сергей', ['+71234567890', '+71234567810']) ('Федор', ['+21234567890'])\n"
     ]
    }
   ],
   "source": [
    "d = {}\n",
    "lst_in = [\n",
    "    \"+71234567890 Сергей\",\n",
    "    \"+71234567810 Сергей\",\n",
    "    \"+51234567890 Михаил\",\n",
    "    \"+51554567890 Михаил\",\n",
    "    \"+72134567890 Иван\",\n",
    "    \"+21234567890 Федор\"\n",
    "]\n",
    "for i in lst_in:\n",
    "    d.setdefault((spl := i.split())[1], []).append(spl[0])\n",
    "print(*sorted(d.items()))"
   ],
   "metadata": {
    "collapsed": false,
    "ExecuteTime": {
     "end_time": "2024-08-25T16:52:26.011782400Z",
     "start_time": "2024-08-25T16:52:26.006774100Z"
    }
   }
  },
  {
   "cell_type": "code",
   "execution_count": 37,
   "outputs": [
    {
     "name": "stdout",
     "output_type": "stream",
     "text": [
      "1.0\n",
      "1.73\n",
      "значение из кэша: 1.73\n",
      "1.41\n",
      "2.0\n"
     ]
    }
   ],
   "source": [
    "d = {}\n",
    "while True:\n",
    "    n = int(input())\n",
    "    if n == 0:\n",
    "        break\n",
    "    if n in d.keys():\n",
    "        print(f'значение из кэша: {d[n]}')\n",
    "    else:\n",
    "        res = round(n ** 0.5, 2)\n",
    "        print(res)\n",
    "        d[n] = res\n"
   ],
   "metadata": {
    "collapsed": false,
    "ExecuteTime": {
     "end_time": "2024-08-25T16:57:29.094017100Z",
     "start_time": "2024-08-25T16:57:25.447595500Z"
    }
   }
  },
  {
   "cell_type": "code",
   "execution_count": null,
   "outputs": [],
   "source": [
    "lst_in = ['ustanovka-i-zapusk-yazyka', 'ustanovka-i-poryadok-raboty-pycharm',\n",
    "          'peremennyye-operator-prisvaivaniya-tipy-dannykh', 'arifmeticheskiye-operatsii',\n",
    "          'ustanovka-i-poryadok-raboty-pycharm']\n",
    "d = {}\n",
    "for i in lst_in:\n",
    "    if i in d:\n",
    "        print(f'Взято из кэша: HTML-страница для адреса {i}')\n",
    "    else:\n",
    "        print(f'HTML-страница для адреса {i}')\n",
    "        d[i] = i"
   ],
   "metadata": {
    "collapsed": false
   }
  },
  {
   "cell_type": "code",
   "execution_count": 41,
   "outputs": [
    {
     "name": "stdout",
     "output_type": "stream",
     "text": [
      "{1: [3, 2, 1], 2: [3, 2, 1], 3: [3, 2, 1]}\n"
     ]
    }
   ],
   "source": [
    "lst_1 = [1, 2, 3]\n",
    "lst_2 = [3, 2, 1]\n",
    "d = dict.fromkeys(lst_1, lst_2)\n",
    "print(d)"
   ],
   "metadata": {
    "collapsed": false,
    "ExecuteTime": {
     "end_time": "2024-08-25T17:29:56.177993700Z",
     "start_time": "2024-08-25T17:29:56.174986900Z"
    }
   }
  },
  {
   "cell_type": "code",
   "execution_count": 39,
   "outputs": [
    {
     "name": "stdout",
     "output_type": "stream",
     "text": [
      "{}\n"
     ]
    }
   ],
   "source": [
    "d.clear()\n",
    "print(d)"
   ],
   "metadata": {
    "collapsed": false,
    "ExecuteTime": {
     "end_time": "2024-08-25T17:29:53.265462200Z",
     "start_time": "2024-08-25T17:29:53.263454300Z"
    }
   }
  },
  {
   "cell_type": "code",
   "execution_count": 44,
   "outputs": [
    {
     "name": "stdout",
     "output_type": "stream",
     "text": [
      "{1: [5, 6, 7], 2: [3, 2, 1], 3: [3, 2, 1]}\n",
      "{1: [3, 2, 1], 2: [3, 2, 1], 3: [3, 2, 1]}\n"
     ]
    }
   ],
   "source": [
    "d2 = d.copy()\n",
    "d2[1] = [5, 6, 7]\n",
    "print(d2)\n",
    "print(d)"
   ],
   "metadata": {
    "collapsed": false,
    "ExecuteTime": {
     "end_time": "2024-08-25T17:30:38.945313800Z",
     "start_time": "2024-08-25T17:30:38.941291200Z"
    }
   }
  },
  {
   "cell_type": "code",
   "execution_count": 45,
   "outputs": [
    {
     "name": "stdout",
     "output_type": "stream",
     "text": [
      "1678655863296\n",
      "1678653452224\n",
      "1678653526656\n"
     ]
    }
   ],
   "source": [
    "d3 = dict(d)\n",
    "print(id(d3))\n",
    "print(id(d2))\n",
    "print(id(d))"
   ],
   "metadata": {
    "collapsed": false,
    "ExecuteTime": {
     "end_time": "2024-08-25T17:31:13.365400900Z",
     "start_time": "2024-08-25T17:31:13.362390600Z"
    }
   }
  },
  {
   "cell_type": "code",
   "execution_count": 53,
   "outputs": [
    {
     "data": {
      "text/plain": "False"
     },
     "execution_count": 53,
     "metadata": {},
     "output_type": "execute_result"
    }
   ],
   "source": [
    "d.get(4, False)"
   ],
   "metadata": {
    "collapsed": false,
    "ExecuteTime": {
     "end_time": "2024-08-25T17:32:30.167135700Z",
     "start_time": "2024-08-25T17:32:30.155272400Z"
    }
   }
  },
  {
   "cell_type": "code",
   "execution_count": 55,
   "outputs": [
    {
     "data": {
      "text/plain": "False"
     },
     "execution_count": 55,
     "metadata": {},
     "output_type": "execute_result"
    }
   ],
   "source": [
    "bool(None)"
   ],
   "metadata": {
    "collapsed": false,
    "ExecuteTime": {
     "end_time": "2024-08-25T17:32:40.421177800Z",
     "start_time": "2024-08-25T17:32:40.408323400Z"
    }
   }
  },
  {
   "cell_type": "code",
   "execution_count": 70,
   "outputs": [
    {
     "data": {
      "text/plain": "[1, 1, 1, 1, 1, 1]"
     },
     "execution_count": 70,
     "metadata": {},
     "output_type": "execute_result"
    }
   ],
   "source": [
    "d.setdefault(4)"
   ],
   "metadata": {
    "collapsed": false,
    "ExecuteTime": {
     "end_time": "2024-08-25T17:33:53.811681400Z",
     "start_time": "2024-08-25T17:33:53.797380700Z"
    }
   }
  },
  {
   "cell_type": "code",
   "execution_count": 71,
   "outputs": [
    {
     "data": {
      "text/plain": "[1, 1, 1, 1, 1, 1]"
     },
     "execution_count": 71,
     "metadata": {},
     "output_type": "execute_result"
    }
   ],
   "source": [
    "d.pop(4)"
   ],
   "metadata": {
    "collapsed": false,
    "ExecuteTime": {
     "end_time": "2024-08-25T17:33:56.372425400Z",
     "start_time": "2024-08-25T17:33:56.357447100Z"
    }
   }
  },
  {
   "cell_type": "code",
   "execution_count": 72,
   "outputs": [
    {
     "data": {
      "text/plain": "{1: [3, 2, 1], 2: [3, 2, 1], 3: [3, 2, 1], 5: None}"
     },
     "execution_count": 72,
     "metadata": {},
     "output_type": "execute_result"
    }
   ],
   "source": [
    "d"
   ],
   "metadata": {
    "collapsed": false,
    "ExecuteTime": {
     "end_time": "2024-08-25T17:33:57.662258500Z",
     "start_time": "2024-08-25T17:33:57.649736300Z"
    }
   }
  },
  {
   "cell_type": "code",
   "execution_count": 74,
   "outputs": [
    {
     "data": {
      "text/plain": "False"
     },
     "execution_count": 74,
     "metadata": {},
     "output_type": "execute_result"
    }
   ],
   "source": [
    "d.pop(4, False)"
   ],
   "metadata": {
    "collapsed": false,
    "ExecuteTime": {
     "end_time": "2024-08-25T17:34:23.469242900Z",
     "start_time": "2024-08-25T17:34:23.447649100Z"
    }
   }
  },
  {
   "cell_type": "code",
   "execution_count": 80,
   "outputs": [
    {
     "ename": "KeyError",
     "evalue": "'popitem(): dictionary is empty'",
     "output_type": "error",
     "traceback": [
      "\u001B[1;31m---------------------------------------------------------------------------\u001B[0m",
      "\u001B[1;31mKeyError\u001B[0m                                  Traceback (most recent call last)",
      "Cell \u001B[1;32mIn[80], line 1\u001B[0m\n\u001B[1;32m----> 1\u001B[0m \u001B[43md\u001B[49m\u001B[38;5;241;43m.\u001B[39;49m\u001B[43mpopitem\u001B[49m\u001B[43m(\u001B[49m\u001B[43m)\u001B[49m\n",
      "\u001B[1;31mKeyError\u001B[0m: 'popitem(): dictionary is empty'"
     ]
    }
   ],
   "source": [
    "d.popitem()"
   ],
   "metadata": {
    "collapsed": false,
    "ExecuteTime": {
     "end_time": "2024-08-25T17:37:09.612922500Z",
     "start_time": "2024-08-25T17:37:09.597305700Z"
    }
   }
  },
  {
   "cell_type": "code",
   "execution_count": 81,
   "outputs": [
    {
     "data": {
      "text/plain": "dict_keys([1, 2, 3])"
     },
     "execution_count": 81,
     "metadata": {},
     "output_type": "execute_result"
    }
   ],
   "source": [
    "d2.keys()"
   ],
   "metadata": {
    "collapsed": false,
    "ExecuteTime": {
     "end_time": "2024-08-25T17:37:15.027381500Z",
     "start_time": "2024-08-25T17:37:15.022863100Z"
    }
   }
  },
  {
   "cell_type": "code",
   "execution_count": 83,
   "outputs": [
    {
     "data": {
      "text/plain": "dict_values([[5, 6, 7], [3, 2, 1], [3, 2, 1]])"
     },
     "execution_count": 83,
     "metadata": {},
     "output_type": "execute_result"
    }
   ],
   "source": [
    "d2.values()"
   ],
   "metadata": {
    "collapsed": false,
    "ExecuteTime": {
     "end_time": "2024-08-25T17:38:09.208428900Z",
     "start_time": "2024-08-25T17:38:09.193396200Z"
    }
   }
  },
  {
   "cell_type": "code",
   "execution_count": 85,
   "outputs": [
    {
     "name": "stdout",
     "output_type": "stream",
     "text": [
      "1 [5, 6, 7]\n",
      "2 [3, 2, 1]\n",
      "3 [3, 2, 1]\n"
     ]
    }
   ],
   "source": [
    "for key, val in d2.items():\n",
    "    print(key, val)"
   ],
   "metadata": {
    "collapsed": false,
    "ExecuteTime": {
     "end_time": "2024-08-25T17:38:22.808405100Z",
     "start_time": "2024-08-25T17:38:22.805395200Z"
    }
   }
  },
  {
   "cell_type": "code",
   "execution_count": 87,
   "outputs": [
    {
     "data": {
      "text/plain": "{}"
     },
     "execution_count": 87,
     "metadata": {},
     "output_type": "execute_result"
    }
   ],
   "source": [
    "d"
   ],
   "metadata": {
    "collapsed": false,
    "ExecuteTime": {
     "end_time": "2024-08-25T17:39:18.511254100Z",
     "start_time": "2024-08-25T17:39:18.494364200Z"
    }
   }
  },
  {
   "cell_type": "code",
   "execution_count": 88,
   "outputs": [],
   "source": [
    "d.update(d2)"
   ],
   "metadata": {
    "collapsed": false,
    "ExecuteTime": {
     "end_time": "2024-08-25T17:39:23.797764300Z",
     "start_time": "2024-08-25T17:39:23.779731100Z"
    }
   }
  },
  {
   "cell_type": "code",
   "execution_count": 89,
   "outputs": [
    {
     "data": {
      "text/plain": "{1: [5, 6, 7], 2: [3, 2, 1], 3: [3, 2, 1]}"
     },
     "execution_count": 89,
     "metadata": {},
     "output_type": "execute_result"
    }
   ],
   "source": [
    "d"
   ],
   "metadata": {
    "collapsed": false,
    "ExecuteTime": {
     "end_time": "2024-08-25T17:39:25.198799900Z",
     "start_time": "2024-08-25T17:39:25.165712200Z"
    }
   }
  },
  {
   "cell_type": "code",
   "execution_count": 96,
   "outputs": [
    {
     "name": "stdout",
     "output_type": "stream",
     "text": [
      "... . .-. --. . .--- -...- -... .- .-.. .- -.- .. .-. . .-- \n"
     ]
    }
   ],
   "source": [
    "d = {' ': '-...-', 'Ё': '.', 'А': '.-', 'Б': '-...', 'В': '.--', 'Г': '--.', 'Д': '-..', 'Е': '.', 'Ж': '...-',\n",
    "     'З': '--..', 'И': '..', 'Й': '.---', 'К': '-.-', 'Л': '.-..', 'М': '--', 'Н': '-.', 'О': '---', 'П': '.--.',\n",
    "     'Р': '.-.', 'С': '...', 'Т': '-', 'У': '..-', 'Ф': '..-.', 'Х': '....', 'Ц': '-.-.', 'Ч': '---.', 'Ш': '----',\n",
    "     'Щ': '--.-', 'Ъ': '--.--', 'Ы': '-.--', 'Ь': '-..-', 'Э': '..-..', 'Ю': '..--', 'Я': '.-.-'}\n",
    "lst = list(input().upper())\n",
    "new_str = ''\n",
    "for i in lst:\n",
    "    new_str += d.get(i) + ' '\n",
    "new_str.rstrip()\n",
    "print(new_str)\n",
    "\n",
    "# print(*[chars.get(i.upper()) for i in input()])"
   ],
   "metadata": {
    "collapsed": false,
    "ExecuteTime": {
     "end_time": "2024-08-25T17:47:08.373880500Z",
     "start_time": "2024-08-25T17:47:07.512105200Z"
    }
   }
  },
  {
   "cell_type": "code",
   "execution_count": 102,
   "outputs": [
    {
     "name": "stdout",
     "output_type": "stream",
     "text": [
      "все верно\n"
     ]
    }
   ],
   "source": [
    "morze = {\".-\": \"А\", \"-...\": \"Б\", \".--\": \"В\", \"--.\": \"Г\", \"-..\": \"Д\", \".\": \"Е\", \"...-\": \"Ж\", \"--..\": \"З\", \"..\": \"И\",\n",
    "         \".---\": \"Й\", \"-.-\": \"К\", \".-..\": \"Л\", \"--\": \"М\", \"-.\": \"Н\", \"---\": \"О\", \".--.\": \"П\", \".-.\": \"Р\", \"...\": \"С\",\n",
    "         \"-\": \"Т\", \"..-\": \"У\", \"..-.\": \"Ф\", \"....\": \"Х\", \"-.-.\": \"Ц\", \"---.\": \"Ч\", \"----\": \"Ш\", \"--.-\": \"Щ\",\n",
    "         \".--.-\": \"Ъ\", \"-.--\": \"Ы\", \"-..-\": \"Ь\", \"...-...\": \"Э\", \"..--\": \"Ю\", \".-.-\": \"Я\", \"-...-\": \" \"}\n",
    "str1 = ''\n",
    "for i in input().split():\n",
    "    str1 += morze[i].lower()\n",
    "print(str1)"
   ],
   "metadata": {
    "collapsed": false,
    "ExecuteTime": {
     "end_time": "2024-08-25T17:51:58.170182600Z",
     "start_time": "2024-08-25T17:51:55.500921200Z"
    }
   }
  },
  {
   "cell_type": "code",
   "execution_count": 103,
   "outputs": [
    {
     "name": "stdout",
     "output_type": "stream",
     "text": [
      "8 11 -4 5 2 4\n"
     ]
    }
   ],
   "source": [
    "print(*dict.fromkeys(map(int, input().split())))"
   ],
   "metadata": {
    "collapsed": false,
    "ExecuteTime": {
     "end_time": "2024-08-25T17:56:31.669347Z",
     "start_time": "2024-08-25T17:56:31.070589700Z"
    }
   }
  },
  {
   "cell_type": "code",
   "execution_count": 109,
   "outputs": [
    {
     "name": "stdout",
     "output_type": "stream",
     "text": [
      "3: Сергей\n",
      "5: Николай, Юлия\n",
      "4: Елена, Светлана\n",
      "7: Владимир\n"
     ]
    }
   ],
   "source": [
    "lst_in = ['3 Сергей', '5 Николай', '4 Елена', '7 Владимир', '5 Юлия', '4 Светлана']\n",
    "d = {}\n",
    "for i in lst_in:\n",
    "    i = i.split()\n",
    "    d.setdefault(i[0], []).append(i[1])\n",
    "for key, val in d.items():\n",
    "    print(f'{key}: {\", \".join(val)}')"
   ],
   "metadata": {
    "collapsed": false,
    "ExecuteTime": {
     "end_time": "2024-08-25T18:02:22.472257800Z",
     "start_time": "2024-08-25T18:02:22.452538400Z"
    }
   }
  },
  {
   "cell_type": "code",
   "execution_count": 115,
   "outputs": [
    {
     "name": "stdout",
     "output_type": "stream",
     "text": [
      "палатка брезент удочка брюки котелок молоток зонт пила зеркальце спички\n"
     ]
    }
   ],
   "source": [
    "things = {'карандаш': 20, 'зеркальце': 100, 'зонт': 500, 'рубашка': 300,\n",
    "          'брюки': 1000, 'бумага': 200, 'молоток': 600, 'пила': 400, 'удочка': 1200,\n",
    "          'расческа': 40, 'котелок': 820, 'палатка': 5240, 'брезент': 2130, 'спички': 10}\n",
    "\n",
    "n = int(input()) * 1000\n",
    "things = dict(sorted([(value, key) for key, value in things.items()], reverse=True))\n",
    "s_th = []\n",
    "for key, val in things.items():\n",
    "    if n >= 12600:\n",
    "        s_th = things.values()\n",
    "        break\n",
    "    if key > n:\n",
    "        continue\n",
    "    n -= key\n",
    "    s_th.append(val)\n",
    "print(*s_th)"
   ],
   "metadata": {
    "collapsed": false,
    "ExecuteTime": {
     "end_time": "2024-08-25T18:12:56.470778300Z",
     "start_time": "2024-08-25T18:12:55.000907300Z"
    }
   }
  },
  {
   "cell_type": "code",
   "execution_count": 1,
   "outputs": [],
   "source": [
    "a = 1, 2"
   ],
   "metadata": {
    "collapsed": false,
    "ExecuteTime": {
     "end_time": "2024-08-26T06:16:16.754552Z",
     "start_time": "2024-08-26T06:16:16.740027500Z"
    }
   }
  },
  {
   "cell_type": "code",
   "execution_count": 2,
   "outputs": [
    {
     "data": {
      "text/plain": "(1, 2)"
     },
     "execution_count": 2,
     "metadata": {},
     "output_type": "execute_result"
    }
   ],
   "source": [
    "a"
   ],
   "metadata": {
    "collapsed": false,
    "ExecuteTime": {
     "end_time": "2024-08-26T06:16:18.163094600Z",
     "start_time": "2024-08-26T06:16:18.118117900Z"
    }
   }
  },
  {
   "cell_type": "code",
   "execution_count": 3,
   "outputs": [],
   "source": [
    "a = (1, 2, 3)"
   ],
   "metadata": {
    "collapsed": false,
    "ExecuteTime": {
     "end_time": "2024-08-26T06:16:30.110029Z",
     "start_time": "2024-08-26T06:16:30.090052900Z"
    }
   }
  },
  {
   "cell_type": "code",
   "execution_count": 4,
   "outputs": [
    {
     "data": {
      "text/plain": "(1, 2, 3)"
     },
     "execution_count": 4,
     "metadata": {},
     "output_type": "execute_result"
    }
   ],
   "source": [
    "a"
   ],
   "metadata": {
    "collapsed": false,
    "ExecuteTime": {
     "end_time": "2024-08-26T06:16:30.792227Z",
     "start_time": "2024-08-26T06:16:30.737502200Z"
    }
   }
  },
  {
   "cell_type": "code",
   "execution_count": 5,
   "outputs": [
    {
     "name": "stdout",
     "output_type": "stream",
     "text": [
      "(1,)\n"
     ]
    }
   ],
   "source": [
    "b = (1,)\n",
    "print(b)"
   ],
   "metadata": {
    "collapsed": false,
    "ExecuteTime": {
     "end_time": "2024-08-26T06:16:47.010842Z",
     "start_time": "2024-08-26T06:16:46.975792700Z"
    }
   }
  },
  {
   "cell_type": "code",
   "execution_count": 7,
   "outputs": [],
   "source": [
    " x, y = (1, 2)"
   ],
   "metadata": {
    "collapsed": false,
    "ExecuteTime": {
     "end_time": "2024-08-26T06:20:42.556084Z",
     "start_time": "2024-08-26T06:20:42.547584500Z"
    }
   }
  },
  {
   "cell_type": "code",
   "execution_count": 8,
   "outputs": [
    {
     "name": "stdout",
     "output_type": "stream",
     "text": [
      "1 2\n"
     ]
    }
   ],
   "source": [
    "print(x, y)"
   ],
   "metadata": {
    "collapsed": false,
    "ExecuteTime": {
     "end_time": "2024-08-26T06:20:52.234713500Z",
     "start_time": "2024-08-26T06:20:52.194467800Z"
    }
   }
  },
  {
   "cell_type": "code",
   "execution_count": 9,
   "outputs": [],
   "source": [
    "x, y, z = (3, 4, 5)"
   ],
   "metadata": {
    "collapsed": false,
    "ExecuteTime": {
     "end_time": "2024-08-26T06:28:39.799322400Z",
     "start_time": "2024-08-26T06:28:39.765324100Z"
    }
   }
  },
  {
   "cell_type": "code",
   "execution_count": 10,
   "outputs": [],
   "source": [
    "a = (1, 2, 3)"
   ],
   "metadata": {
    "collapsed": false,
    "ExecuteTime": {
     "end_time": "2024-08-26T06:29:35.562268900Z",
     "start_time": "2024-08-26T06:29:35.539899200Z"
    }
   }
  },
  {
   "cell_type": "code",
   "execution_count": 11,
   "outputs": [
    {
     "name": "stdout",
     "output_type": "stream",
     "text": [
      "1364400643392 1364400643392\n"
     ]
    }
   ],
   "source": [
    "b = a[:]\n",
    "print(id(a), id(b))"
   ],
   "metadata": {
    "collapsed": false,
    "ExecuteTime": {
     "end_time": "2024-08-26T06:32:33.185574200Z",
     "start_time": "2024-08-26T06:32:33.126535500Z"
    }
   }
  },
  {
   "cell_type": "code",
   "execution_count": 12,
   "outputs": [
    {
     "ename": "TypeError",
     "evalue": "'tuple' object does not support item assignment",
     "output_type": "error",
     "traceback": [
      "\u001B[1;31m---------------------------------------------------------------------------\u001B[0m",
      "\u001B[1;31mTypeError\u001B[0m                                 Traceback (most recent call last)",
      "Cell \u001B[1;32mIn[12], line 1\u001B[0m\n\u001B[1;32m----> 1\u001B[0m \u001B[43ma\u001B[49m\u001B[43m[\u001B[49m\u001B[38;5;241;43m1\u001B[39;49m\u001B[43m]\u001B[49m \u001B[38;5;241m=\u001B[39m \u001B[38;5;241m100\u001B[39m\n",
      "\u001B[1;31mTypeError\u001B[0m: 'tuple' object does not support item assignment"
     ]
    }
   ],
   "source": [
    "a[1] = 100"
   ],
   "metadata": {
    "collapsed": false,
    "ExecuteTime": {
     "end_time": "2024-08-26T06:32:43.880267800Z",
     "start_time": "2024-08-26T06:32:43.502312800Z"
    }
   }
  },
  {
   "cell_type": "code",
   "execution_count": 15,
   "outputs": [
    {
     "data": {
      "text/plain": "72"
     },
     "execution_count": 15,
     "metadata": {},
     "output_type": "execute_result"
    }
   ],
   "source": [
    "list(a).__sizeof__()"
   ],
   "metadata": {
    "collapsed": false,
    "ExecuteTime": {
     "end_time": "2024-08-26T06:35:43.911028700Z",
     "start_time": "2024-08-26T06:35:43.890935800Z"
    }
   }
  },
  {
   "cell_type": "code",
   "execution_count": 16,
   "outputs": [
    {
     "data": {
      "text/plain": "48"
     },
     "execution_count": 16,
     "metadata": {},
     "output_type": "execute_result"
    }
   ],
   "source": [
    "a.__sizeof__()"
   ],
   "metadata": {
    "collapsed": false,
    "ExecuteTime": {
     "end_time": "2024-08-26T06:35:49.796654700Z",
     "start_time": "2024-08-26T06:35:49.763133900Z"
    }
   }
  },
  {
   "cell_type": "code",
   "execution_count": 18,
   "outputs": [
    {
     "ename": "SyntaxError",
     "evalue": "invalid syntax (3354050251.py, line 1)",
     "output_type": "error",
     "traceback": [
      "\u001B[1;36m  Cell \u001B[1;32mIn[18], line 1\u001B[1;36m\u001B[0m\n\u001B[1;33m    (,).__sizeof__()\u001B[0m\n\u001B[1;37m     ^\u001B[0m\n\u001B[1;31mSyntaxError\u001B[0m\u001B[1;31m:\u001B[0m invalid syntax\n"
     ]
    }
   ],
   "source": [
    "().__sizeof__()"
   ],
   "metadata": {
    "collapsed": false,
    "ExecuteTime": {
     "end_time": "2024-08-26T06:36:07.448188300Z",
     "start_time": "2024-08-26T06:36:07.429547900Z"
    }
   }
  },
  {
   "cell_type": "code",
   "execution_count": 20,
   "outputs": [
    {
     "data": {
      "text/plain": "tuple"
     },
     "execution_count": 20,
     "metadata": {},
     "output_type": "execute_result"
    }
   ],
   "source": [
    "type(tuple())"
   ],
   "metadata": {
    "collapsed": false,
    "ExecuteTime": {
     "end_time": "2024-08-26T06:36:18.771544700Z",
     "start_time": "2024-08-26T06:36:18.765070800Z"
    }
   }
  },
  {
   "cell_type": "code",
   "execution_count": 21,
   "outputs": [
    {
     "data": {
      "text/plain": "(2, 3, 4, 2)"
     },
     "execution_count": 21,
     "metadata": {},
     "output_type": "execute_result"
    }
   ],
   "source": [
    "(2, 3) + (4, 2)"
   ],
   "metadata": {
    "collapsed": false,
    "ExecuteTime": {
     "end_time": "2024-08-26T06:37:19.815697100Z",
     "start_time": "2024-08-26T06:37:19.786025200Z"
    }
   }
  },
  {
   "cell_type": "code",
   "execution_count": 22,
   "outputs": [
    {
     "data": {
      "text/plain": "(0, 0, 0, 0, 0, 0, 0, 0, 0, 0)"
     },
     "execution_count": 22,
     "metadata": {},
     "output_type": "execute_result"
    }
   ],
   "source": [
    "(0,) * 10"
   ],
   "metadata": {
    "collapsed": false,
    "ExecuteTime": {
     "end_time": "2024-08-26T06:37:49.078649800Z",
     "start_time": "2024-08-26T06:37:49.060130100Z"
    }
   }
  },
  {
   "cell_type": "code",
   "execution_count": 24,
   "outputs": [
    {
     "data": {
      "text/plain": "([1, 2, 3],)"
     },
     "execution_count": 24,
     "metadata": {},
     "output_type": "execute_result"
    }
   ],
   "source": [
    "([1, 2, 3],)"
   ],
   "metadata": {
    "collapsed": false,
    "ExecuteTime": {
     "end_time": "2024-08-26T06:38:23.136573Z",
     "start_time": "2024-08-26T06:38:23.122721500Z"
    }
   }
  },
  {
   "cell_type": "code",
   "execution_count": 25,
   "outputs": [],
   "source": [
    "a = ('abc', 2, [1, 2], True, 2, 5)"
   ],
   "metadata": {
    "collapsed": false,
    "ExecuteTime": {
     "end_time": "2024-08-26T06:43:39.595243900Z",
     "start_time": "2024-08-26T06:43:39.576054600Z"
    }
   }
  },
  {
   "cell_type": "code",
   "execution_count": 26,
   "outputs": [
    {
     "data": {
      "text/plain": "1"
     },
     "execution_count": 26,
     "metadata": {},
     "output_type": "execute_result"
    }
   ],
   "source": [
    "a.count('abc')"
   ],
   "metadata": {
    "collapsed": false,
    "ExecuteTime": {
     "end_time": "2024-08-26T06:43:48.007636100Z",
     "start_time": "2024-08-26T06:43:47.994223Z"
    }
   }
  },
  {
   "cell_type": "code",
   "execution_count": 31,
   "outputs": [
    {
     "data": {
      "text/plain": "4"
     },
     "execution_count": 31,
     "metadata": {},
     "output_type": "execute_result"
    }
   ],
   "source": [
    "a.index(2, 2, 10)"
   ],
   "metadata": {
    "collapsed": false,
    "ExecuteTime": {
     "end_time": "2024-08-26T06:44:31.488229700Z",
     "start_time": "2024-08-26T06:44:31.480175200Z"
    }
   }
  },
  {
   "cell_type": "code",
   "execution_count": 32,
   "outputs": [
    {
     "data": {
      "text/plain": "False"
     },
     "execution_count": 32,
     "metadata": {},
     "output_type": "execute_result"
    }
   ],
   "source": [
    "4 in a"
   ],
   "metadata": {
    "collapsed": false,
    "ExecuteTime": {
     "end_time": "2024-08-26T06:44:35.841333400Z",
     "start_time": "2024-08-26T06:44:35.805350200Z"
    }
   }
  },
  {
   "cell_type": "code",
   "execution_count": 35,
   "outputs": [
    {
     "name": "stdout",
     "output_type": "stream",
     "text": [
      "(3.4, -56.7, 1, 212)\n"
     ]
    }
   ],
   "source": [
    "t = (3.4, -56.7)\n",
    "inp = map(int, input().split())\n",
    "t = t + tuple(inp)\n",
    "print(t)"
   ],
   "metadata": {
    "collapsed": false,
    "ExecuteTime": {
     "end_time": "2024-08-26T07:05:30.375114800Z",
     "start_time": "2024-08-26T07:05:29.108220300Z"
    }
   }
  },
  {
   "cell_type": "code",
   "execution_count": null,
   "outputs": [],
   "source": [
    "l = tuple(input().split())\n",
    "if 'Москва' not in l:\n",
    "    l += ('Москва',)\n",
    "print(*l)"
   ],
   "metadata": {
    "collapsed": false
   }
  },
  {
   "cell_type": "code",
   "execution_count": 36,
   "outputs": [
    {
     "name": "stdout",
     "output_type": "stream",
     "text": [
      "Воронеж Самара Тольятти Пермь\n"
     ]
    }
   ],
   "source": [
    "l = tuple(input().split())\n",
    "if 'Ульяновск' in l:\n",
    "    idx = l.index('Ульяновск')\n",
    "    l = l[:idx] + l[idx + 1:]\n",
    "print(*l)"
   ],
   "metadata": {
    "collapsed": false,
    "ExecuteTime": {
     "end_time": "2024-08-26T07:10:56.772068700Z",
     "start_time": "2024-08-26T07:10:52.670005400Z"
    }
   }
  },
  {
   "cell_type": "code",
   "execution_count": 37,
   "outputs": [
    {
     "name": "stdout",
     "output_type": "stream",
     "text": [
      "Варвара Василиса Василий\n"
     ]
    }
   ],
   "source": [
    "l = tuple(input().split())\n",
    "print(*[x.lower() for x in l if 'ва' in x.lower()])"
   ],
   "metadata": {
    "collapsed": false,
    "ExecuteTime": {
     "end_time": "2024-08-26T07:12:34.189156700Z",
     "start_time": "2024-08-26T07:12:29.659761500Z"
    }
   }
  },
  {
   "cell_type": "code",
   "execution_count": 38,
   "outputs": [
    {
     "name": "stdout",
     "output_type": "stream",
     "text": [
      "8 11 -5 -2\n"
     ]
    }
   ],
   "source": [
    "l = tuple(map(int, input().split()))\n",
    "d = tuple(dict.fromkeys(l).keys())\n",
    "print(*d)"
   ],
   "metadata": {
    "collapsed": false,
    "ExecuteTime": {
     "end_time": "2024-08-26T07:16:49.560709600Z",
     "start_time": "2024-08-26T07:16:46.271412500Z"
    }
   }
  },
  {
   "cell_type": "code",
   "execution_count": null,
   "outputs": [],
   "source": [
    "l = tuple(map(int, input().split()))\n",
    "for idx, val in enumerate(l):\n",
    "    if l.count(val) > 1:\n",
    "        print(idx, end=' ')"
   ],
   "metadata": {
    "collapsed": false
   }
  },
  {
   "cell_type": "code",
   "execution_count": 42,
   "outputs": [
    {
     "name": "stdout",
     "output_type": "stream",
     "text": [
      "1 0 0\n",
      "0 1 0\n",
      "0 0 1\n"
     ]
    }
   ],
   "source": [
    "t = ((1, 0, 0, 0, 0),\n",
    "     (0, 1, 0, 0, 0),\n",
    "     (0, 0, 1, 0, 0),\n",
    "     (0, 0, 0, 1, 0),\n",
    "     (0, 0, 0, 0, 1))\n",
    "n = int(input())\n",
    "for i in range(n):\n",
    "    print(*t[i][:n])\n"
   ],
   "metadata": {
    "collapsed": false,
    "ExecuteTime": {
     "end_time": "2024-08-26T07:23:42.449994900Z",
     "start_time": "2024-08-26T07:23:41.935461900Z"
    }
   }
  },
  {
   "cell_type": "code",
   "execution_count": 55,
   "outputs": [
    {
     "name": "stdout",
     "output_type": "stream",
     "text": [
      "(('Главная', 'home'), ('Python', 'learn-python'), ('Java', 'learn-java'), ('PHP', 'learn-php'))\n"
     ]
    }
   ],
   "source": [
    "lst_in = ['Главная home', 'Python learn-python', 'Java learn-java', 'PHP learn-php']\n",
    "res = ()\n",
    "for i in lst_in:\n",
    "    tmp = tuple(i.split())\n",
    "    res += (tmp,)\n",
    "print(res)\n",
    "\n",
    "# t = tuple(tuple(phrase.split()) for phrase in lst_in)"
   ],
   "metadata": {
    "collapsed": false,
    "ExecuteTime": {
     "end_time": "2024-08-26T07:32:18.496542300Z",
     "start_time": "2024-08-26T07:32:18.477324300Z"
    }
   }
  },
  {
   "cell_type": "code",
   "execution_count": 1,
   "outputs": [],
   "source": [
    "a = {1, 2, 3}"
   ],
   "metadata": {
    "collapsed": false,
    "ExecuteTime": {
     "end_time": "2024-08-27T07:33:29.133677400Z",
     "start_time": "2024-08-27T07:33:29.130173500Z"
    }
   }
  },
  {
   "cell_type": "code",
   "execution_count": 2,
   "outputs": [
    {
     "data": {
      "text/plain": "set"
     },
     "execution_count": 2,
     "metadata": {},
     "output_type": "execute_result"
    }
   ],
   "source": [
    "type(a)"
   ],
   "metadata": {
    "collapsed": false,
    "ExecuteTime": {
     "end_time": "2024-08-27T07:33:37.055055600Z",
     "start_time": "2024-08-27T07:33:37.016788400Z"
    }
   }
  },
  {
   "cell_type": "code",
   "execution_count": 3,
   "outputs": [],
   "source": [
    "a = {1, 1, 1}"
   ],
   "metadata": {
    "collapsed": false,
    "ExecuteTime": {
     "end_time": "2024-08-27T07:33:44.889341800Z",
     "start_time": "2024-08-27T07:33:44.864710100Z"
    }
   }
  },
  {
   "cell_type": "code",
   "execution_count": 4,
   "outputs": [
    {
     "data": {
      "text/plain": "{1}"
     },
     "execution_count": 4,
     "metadata": {},
     "output_type": "execute_result"
    }
   ],
   "source": [
    "a"
   ],
   "metadata": {
    "collapsed": false,
    "ExecuteTime": {
     "end_time": "2024-08-27T07:33:45.986919900Z",
     "start_time": "2024-08-27T07:33:45.949700700Z"
    }
   }
  },
  {
   "cell_type": "code",
   "execution_count": 7,
   "outputs": [
    {
     "name": "stdout",
     "output_type": "stream",
     "text": [
      "2152732711040\n",
      "2152722163200\n"
     ]
    }
   ],
   "source": [
    "b = [1, 2, 3]\n",
    "c = b[:]\n",
    "print(id(b))\n",
    "print(id(c))"
   ],
   "metadata": {
    "collapsed": false,
    "ExecuteTime": {
     "end_time": "2024-08-27T07:34:40.615372Z",
     "start_time": "2024-08-27T07:34:40.609362900Z"
    }
   }
  },
  {
   "cell_type": "code",
   "execution_count": 8,
   "outputs": [
    {
     "ename": "TypeError",
     "evalue": "unhashable type: 'list'",
     "output_type": "error",
     "traceback": [
      "\u001B[1;31m---------------------------------------------------------------------------\u001B[0m",
      "\u001B[1;31mTypeError\u001B[0m                                 Traceback (most recent call last)",
      "Cell \u001B[1;32mIn[8], line 1\u001B[0m\n\u001B[1;32m----> 1\u001B[0m a \u001B[38;5;241m=\u001B[39m {b, c}\n\u001B[0;32m      2\u001B[0m \u001B[38;5;28mprint\u001B[39m(a)\n",
      "\u001B[1;31mTypeError\u001B[0m: unhashable type: 'list'"
     ]
    }
   ],
   "source": [
    "a = {b, c}\n",
    "print(a)"
   ],
   "metadata": {
    "collapsed": false,
    "ExecuteTime": {
     "end_time": "2024-08-27T07:34:45.835156500Z",
     "start_time": "2024-08-27T07:34:45.818033800Z"
    }
   }
  },
  {
   "cell_type": "code",
   "execution_count": 11,
   "outputs": [
    {
     "name": "stdout",
     "output_type": "stream",
     "text": [
      "2152717938224\n",
      "2152717938224\n"
     ]
    }
   ],
   "source": [
    "a = '123'\n",
    "b = '123'\n",
    "print(id(a))\n",
    "print(id(b))"
   ],
   "metadata": {
    "collapsed": false,
    "ExecuteTime": {
     "end_time": "2024-08-27T07:35:39.209817500Z",
     "start_time": "2024-08-27T07:35:39.201983200Z"
    }
   }
  },
  {
   "cell_type": "code",
   "execution_count": 18,
   "outputs": [
    {
     "name": "stdout",
     "output_type": "stream",
     "text": [
      "2152717938224 123\n",
      "2152732980912 123\n"
     ]
    }
   ],
   "source": [
    "# a = '123'\n",
    "# b = (a + '.')[:-1]\n",
    "print(id(a), a)\n",
    "print(id(b), b)"
   ],
   "metadata": {
    "collapsed": false,
    "ExecuteTime": {
     "end_time": "2024-08-27T07:37:04.537420400Z",
     "start_time": "2024-08-27T07:37:04.533412500Z"
    }
   }
  },
  {
   "cell_type": "code",
   "execution_count": 17,
   "outputs": [
    {
     "name": "stdout",
     "output_type": "stream",
     "text": [
      "{'123'}\n"
     ]
    }
   ],
   "source": [
    "c = {a, b}\n",
    "print(c)"
   ],
   "metadata": {
    "collapsed": false,
    "ExecuteTime": {
     "end_time": "2024-08-27T07:36:56.202552800Z",
     "start_time": "2024-08-27T07:36:56.198037800Z"
    }
   }
  },
  {
   "cell_type": "code",
   "execution_count": 22,
   "outputs": [],
   "source": [
    "a = {1, 4.5, (12, True)}"
   ],
   "metadata": {
    "collapsed": false,
    "ExecuteTime": {
     "end_time": "2024-08-27T07:37:52.483308500Z",
     "start_time": "2024-08-27T07:37:52.474738300Z"
    }
   }
  },
  {
   "cell_type": "code",
   "execution_count": 23,
   "outputs": [
    {
     "data": {
      "text/plain": "tuple"
     },
     "execution_count": 23,
     "metadata": {},
     "output_type": "execute_result"
    }
   ],
   "source": [
    "type(([123],))"
   ],
   "metadata": {
    "collapsed": false,
    "ExecuteTime": {
     "end_time": "2024-08-27T07:38:01.517269Z",
     "start_time": "2024-08-27T07:38:01.509497700Z"
    }
   }
  },
  {
   "cell_type": "code",
   "execution_count": 25,
   "outputs": [
    {
     "name": "stdout",
     "output_type": "stream",
     "text": [
      "<class 'set'>\n"
     ]
    }
   ],
   "source": [
    "a = set()\n",
    "print(type(a))"
   ],
   "metadata": {
    "collapsed": false,
    "ExecuteTime": {
     "end_time": "2024-08-27T07:38:45.144009700Z",
     "start_time": "2024-08-27T07:38:45.136490900Z"
    }
   }
  },
  {
   "cell_type": "code",
   "execution_count": 26,
   "outputs": [
    {
     "data": {
      "text/plain": "{-1, 0, 1, 2}"
     },
     "execution_count": 26,
     "metadata": {},
     "output_type": "execute_result"
    }
   ],
   "source": [
    "set([1, 2, 1, 0, -1])"
   ],
   "metadata": {
    "collapsed": false,
    "ExecuteTime": {
     "end_time": "2024-08-27T07:38:52.725619600Z",
     "start_time": "2024-08-27T07:38:52.688340700Z"
    }
   }
  },
  {
   "cell_type": "code",
   "execution_count": 29,
   "outputs": [
    {
     "data": {
      "text/plain": "{0, 1, 2, 3, 4, 5, 6}"
     },
     "execution_count": 29,
     "metadata": {},
     "output_type": "execute_result"
    }
   ],
   "source": [
    "set(range(7))"
   ],
   "metadata": {
    "collapsed": false,
    "ExecuteTime": {
     "end_time": "2024-08-27T07:39:49.165432600Z",
     "start_time": "2024-08-27T07:39:49.152707300Z"
    }
   }
  },
  {
   "cell_type": "code",
   "execution_count": 31,
   "outputs": [
    {
     "name": "stdout",
     "output_type": "stream",
     "text": [
      "{1, 2, 3, 21}\n"
     ]
    }
   ],
   "source": [
    "cities = [1, 2, 21, 1, 1, 1,3]\n",
    "print(set(cities))"
   ],
   "metadata": {
    "collapsed": false,
    "ExecuteTime": {
     "end_time": "2024-08-27T07:40:31.820115800Z",
     "start_time": "2024-08-27T07:40:31.815583500Z"
    }
   }
  },
  {
   "cell_type": "code",
   "execution_count": 32,
   "outputs": [
    {
     "data": {
      "text/plain": "set()"
     },
     "execution_count": 32,
     "metadata": {},
     "output_type": "execute_result"
    }
   ],
   "source": [
    "a"
   ],
   "metadata": {
    "collapsed": false,
    "ExecuteTime": {
     "end_time": "2024-08-27T07:40:35.061723Z",
     "start_time": "2024-08-27T07:40:35.029819600Z"
    }
   }
  },
  {
   "cell_type": "code",
   "execution_count": 33,
   "outputs": [],
   "source": [
    "a = {1, 2, 3 ,4, 5}"
   ],
   "metadata": {
    "collapsed": false,
    "ExecuteTime": {
     "end_time": "2024-08-27T07:40:40.023038800Z",
     "start_time": "2024-08-27T07:40:39.977294600Z"
    }
   }
  },
  {
   "cell_type": "code",
   "execution_count": 34,
   "outputs": [
    {
     "name": "stdout",
     "output_type": "stream",
     "text": [
      "1\n",
      "2\n",
      "3\n",
      "4\n",
      "5\n"
     ]
    }
   ],
   "source": [
    "it = iter(a)\n",
    "for _ in range(len(a)):\n",
    "    print(next(it))"
   ],
   "metadata": {
    "collapsed": false,
    "ExecuteTime": {
     "end_time": "2024-08-27T07:41:27.435054700Z",
     "start_time": "2024-08-27T07:41:27.398897300Z"
    }
   }
  },
  {
   "cell_type": "code",
   "execution_count": 35,
   "outputs": [
    {
     "data": {
      "text/plain": "True"
     },
     "execution_count": 35,
     "metadata": {},
     "output_type": "execute_result"
    }
   ],
   "source": [
    "1 in a"
   ],
   "metadata": {
    "collapsed": false,
    "ExecuteTime": {
     "end_time": "2024-08-27T07:41:38.712908400Z",
     "start_time": "2024-08-27T07:41:38.680446600Z"
    }
   }
  },
  {
   "cell_type": "code",
   "execution_count": 36,
   "outputs": [],
   "source": [
    "b = set()"
   ],
   "metadata": {
    "collapsed": false,
    "ExecuteTime": {
     "end_time": "2024-08-27T07:41:52.644433600Z",
     "start_time": "2024-08-27T07:41:52.599858300Z"
    }
   }
  },
  {
   "cell_type": "code",
   "execution_count": 37,
   "outputs": [],
   "source": [
    "b.add(123)"
   ],
   "metadata": {
    "collapsed": false,
    "ExecuteTime": {
     "end_time": "2024-08-27T07:42:02.370971600Z",
     "start_time": "2024-08-27T07:42:02.278275Z"
    }
   }
  },
  {
   "cell_type": "code",
   "execution_count": 38,
   "outputs": [],
   "source": [
    "b.add(123)"
   ],
   "metadata": {
    "collapsed": false,
    "ExecuteTime": {
     "end_time": "2024-08-27T07:42:20.242315700Z",
     "start_time": "2024-08-27T07:42:20.205544900Z"
    }
   }
  },
  {
   "cell_type": "code",
   "execution_count": 39,
   "outputs": [
    {
     "data": {
      "text/plain": "{123}"
     },
     "execution_count": 39,
     "metadata": {},
     "output_type": "execute_result"
    }
   ],
   "source": [
    "b"
   ],
   "metadata": {
    "collapsed": false,
    "ExecuteTime": {
     "end_time": "2024-08-27T07:42:21.229602300Z",
     "start_time": "2024-08-27T07:42:21.186622200Z"
    }
   }
  },
  {
   "cell_type": "code",
   "execution_count": 40,
   "outputs": [],
   "source": [
    "b.update([1, 2, 'dsf'])"
   ],
   "metadata": {
    "collapsed": false,
    "ExecuteTime": {
     "end_time": "2024-08-27T07:42:33.351159700Z",
     "start_time": "2024-08-27T07:42:33.317147700Z"
    }
   }
  },
  {
   "cell_type": "code",
   "execution_count": 41,
   "outputs": [
    {
     "data": {
      "text/plain": "{1, 123, 2, 'dsf'}"
     },
     "execution_count": 41,
     "metadata": {},
     "output_type": "execute_result"
    }
   ],
   "source": [
    "b"
   ],
   "metadata": {
    "collapsed": false,
    "ExecuteTime": {
     "end_time": "2024-08-27T07:42:34.604126Z",
     "start_time": "2024-08-27T07:42:34.567422900Z"
    }
   }
  },
  {
   "cell_type": "code",
   "execution_count": 42,
   "outputs": [],
   "source": [
    "b.discard(4)"
   ],
   "metadata": {
    "collapsed": false,
    "ExecuteTime": {
     "end_time": "2024-08-27T07:42:56.335650100Z",
     "start_time": "2024-08-27T07:42:56.282622100Z"
    }
   }
  },
  {
   "cell_type": "code",
   "execution_count": 43,
   "outputs": [
    {
     "data": {
      "text/plain": "{1, 123, 2, 'dsf'}"
     },
     "execution_count": 43,
     "metadata": {},
     "output_type": "execute_result"
    }
   ],
   "source": [
    "b"
   ],
   "metadata": {
    "collapsed": false,
    "ExecuteTime": {
     "end_time": "2024-08-27T07:42:57.343216700Z",
     "start_time": "2024-08-27T07:42:57.306941600Z"
    }
   }
  },
  {
   "cell_type": "code",
   "execution_count": 44,
   "outputs": [],
   "source": [
    "b.discard(2)"
   ],
   "metadata": {
    "collapsed": false,
    "ExecuteTime": {
     "end_time": "2024-08-27T07:43:06.154391100Z",
     "start_time": "2024-08-27T07:43:06.098622700Z"
    }
   }
  },
  {
   "cell_type": "code",
   "execution_count": 45,
   "outputs": [
    {
     "data": {
      "text/plain": "{1, 123, 'dsf'}"
     },
     "execution_count": 45,
     "metadata": {},
     "output_type": "execute_result"
    }
   ],
   "source": [
    "b"
   ],
   "metadata": {
    "collapsed": false,
    "ExecuteTime": {
     "end_time": "2024-08-27T07:43:07.363309Z",
     "start_time": "2024-08-27T07:43:07.326095800Z"
    }
   }
  },
  {
   "cell_type": "code",
   "execution_count": 46,
   "outputs": [
    {
     "ename": "KeyError",
     "evalue": "5",
     "output_type": "error",
     "traceback": [
      "\u001B[1;31m---------------------------------------------------------------------------\u001B[0m",
      "\u001B[1;31mKeyError\u001B[0m                                  Traceback (most recent call last)",
      "Cell \u001B[1;32mIn[46], line 1\u001B[0m\n\u001B[1;32m----> 1\u001B[0m \u001B[43mb\u001B[49m\u001B[38;5;241;43m.\u001B[39;49m\u001B[43mremove\u001B[49m\u001B[43m(\u001B[49m\u001B[38;5;241;43m5\u001B[39;49m\u001B[43m)\u001B[49m\n",
      "\u001B[1;31mKeyError\u001B[0m: 5"
     ]
    }
   ],
   "source": [
    "b.remove(5)"
   ],
   "metadata": {
    "collapsed": false,
    "ExecuteTime": {
     "end_time": "2024-08-27T07:43:10.210750500Z",
     "start_time": "2024-08-27T07:43:10.177366400Z"
    }
   }
  },
  {
   "cell_type": "code",
   "execution_count": 49,
   "outputs": [
    {
     "data": {
      "text/plain": "123"
     },
     "execution_count": 49,
     "metadata": {},
     "output_type": "execute_result"
    }
   ],
   "source": [
    "b.pop()"
   ],
   "metadata": {
    "collapsed": false,
    "ExecuteTime": {
     "end_time": "2024-08-27T07:43:29.259950600Z",
     "start_time": "2024-08-27T07:43:29.246967800Z"
    }
   }
  },
  {
   "cell_type": "code",
   "execution_count": 50,
   "outputs": [
    {
     "data": {
      "text/plain": "{'dsf'}"
     },
     "execution_count": 50,
     "metadata": {},
     "output_type": "execute_result"
    }
   ],
   "source": [
    "b"
   ],
   "metadata": {
    "collapsed": false,
    "ExecuteTime": {
     "end_time": "2024-08-27T07:43:29.927537400Z",
     "start_time": "2024-08-27T07:43:29.913647400Z"
    }
   }
  },
  {
   "cell_type": "code",
   "execution_count": 51,
   "outputs": [],
   "source": [
    "b.clear()"
   ],
   "metadata": {
    "collapsed": false,
    "ExecuteTime": {
     "end_time": "2024-08-27T07:43:36.580351800Z",
     "start_time": "2024-08-27T07:43:36.532397500Z"
    }
   }
  },
  {
   "cell_type": "code",
   "execution_count": 52,
   "outputs": [
    {
     "data": {
      "text/plain": "set()"
     },
     "execution_count": 52,
     "metadata": {},
     "output_type": "execute_result"
    }
   ],
   "source": [
    "b"
   ],
   "metadata": {
    "collapsed": false,
    "ExecuteTime": {
     "end_time": "2024-08-27T07:43:38.636544Z",
     "start_time": "2024-08-27T07:43:38.602489200Z"
    }
   }
  },
  {
   "cell_type": "code",
   "execution_count": 53,
   "outputs": [
    {
     "name": "stdout",
     "output_type": "stream",
     "text": [
      "-4.6 -3.0 2.78 5.1 7.6 10.3\n"
     ]
    }
   ],
   "source": [
    "s = set(map(float, input().split()))\n",
    "print(*sorted(s))"
   ],
   "metadata": {
    "collapsed": false,
    "ExecuteTime": {
     "end_time": "2024-08-27T07:46:04.520387800Z",
     "start_time": "2024-08-27T07:45:59.482074200Z"
    }
   }
  },
  {
   "cell_type": "code",
   "execution_count": 54,
   "outputs": [
    {
     "name": "stdout",
     "output_type": "stream",
     "text": [
      "5\n"
     ]
    }
   ],
   "source": [
    "print(len(set([x.lower() for x in input().split()])))"
   ],
   "metadata": {
    "collapsed": false,
    "ExecuteTime": {
     "end_time": "2024-08-27T07:47:37.177461900Z",
     "start_time": "2024-08-27T07:47:32.853733100Z"
    }
   }
  },
  {
   "cell_type": "code",
   "execution_count": 64,
   "outputs": [
    {
     "name": "stdout",
     "output_type": "stream",
     "text": [
      "НЕТ\n"
     ]
    }
   ],
   "source": [
    "s = [x for x in set(input()) if x.isdigit()]\n",
    "print(' '.join(x for x in sorted(s)) if s else 'НЕТ')"
   ],
   "metadata": {
    "collapsed": false,
    "ExecuteTime": {
     "end_time": "2024-08-27T07:53:23.560868500Z",
     "start_time": "2024-08-27T07:53:22.357093500Z"
    }
   }
  },
  {
   "cell_type": "code",
   "execution_count": null,
   "outputs": [],
   "source": [
    "print(len(set(input().split())))"
   ],
   "metadata": {
    "collapsed": false
   }
  },
  {
   "cell_type": "code",
   "execution_count": 68,
   "outputs": [
    {
     "name": "stdout",
     "output_type": "stream",
     "text": [
      "4\n"
     ]
    }
   ],
   "source": [
    "lst_in = ['EvgeniyK: спасибо большое!', 'LinaTroshka: лайк и подписка!', 'Sergey Karandeev: крутое видео!', 'Евгений Соснин: обожаю', 'EvgeniyK: это повтор?', 'Sergey Karandeev: нет, это новое видео']\n",
    "d = {}\n",
    "for i in lst_in:\n",
    "    el = (i.split(':'))\n",
    "    d[el[0]] = el[1]\n",
    "print(len(set(d.keys())))"
   ],
   "metadata": {
    "collapsed": false,
    "ExecuteTime": {
     "end_time": "2024-08-27T07:57:29.431470400Z",
     "start_time": "2024-08-27T07:57:29.420945900Z"
    }
   }
  },
  {
   "cell_type": "code",
   "execution_count": null,
   "outputs": [],
   "source": [
    "# lst_in = iter(input, 'стоп-слово')\n",
    "s = set()\n",
    "while True:\n",
    "    n = input()\n",
    "    if n == 'q':\n",
    "        break\n",
    "    s.add(n)\n",
    "print(len(s))"
   ],
   "metadata": {
    "collapsed": false
   }
  }
 ],
 "metadata": {
  "kernelspec": {
   "display_name": "Python 3",
   "language": "python",
   "name": "python3"
  },
  "language_info": {
   "codemirror_mode": {
    "name": "ipython",
    "version": 2
   },
   "file_extension": ".py",
   "mimetype": "text/x-python",
   "name": "python",
   "nbconvert_exporter": "python",
   "pygments_lexer": "ipython2",
   "version": "2.7.6"
  }
 },
 "nbformat": 4,
 "nbformat_minor": 0
}
