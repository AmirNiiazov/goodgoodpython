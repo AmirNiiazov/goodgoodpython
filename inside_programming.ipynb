{
 "cells": [
  {
   "cell_type": "code",
   "execution_count": 1,
   "id": "initial_id",
   "metadata": {
    "collapsed": true,
    "ExecuteTime": {
     "end_time": "2024-09-24T08:00:16.129198200Z",
     "start_time": "2024-09-24T08:00:16.124893Z"
    }
   },
   "outputs": [
    {
     "data": {
      "text/plain": "500.0"
     },
     "execution_count": 1,
     "metadata": {},
     "output_type": "execute_result"
    }
   ],
   "source": [
    "5e2"
   ]
  },
  {
   "cell_type": "code",
   "execution_count": 6,
   "outputs": [
    {
     "data": {
      "text/plain": "1e-08"
     },
     "execution_count": 6,
     "metadata": {},
     "output_type": "execute_result"
    }
   ],
   "source": [
    "1e-8"
   ],
   "metadata": {
    "collapsed": false,
    "ExecuteTime": {
     "end_time": "2024-09-24T08:00:39.689708800Z",
     "start_time": "2024-09-24T08:00:39.676677200Z"
    }
   },
   "id": "6ef33ffbd2cfef45"
  },
  {
   "cell_type": "markdown",
   "source": [
    "Двоичные числа"
   ],
   "metadata": {
    "collapsed": false
   },
   "id": "af32d35d9f6dbecd"
  },
  {
   "cell_type": "code",
   "execution_count": 8,
   "outputs": [
    {
     "data": {
      "text/plain": "1"
     },
     "execution_count": 8,
     "metadata": {},
     "output_type": "execute_result"
    }
   ],
   "source": [
    "a = 0b001\n",
    "a"
   ],
   "metadata": {
    "collapsed": false,
    "ExecuteTime": {
     "end_time": "2024-09-24T08:03:26.022284200Z",
     "start_time": "2024-09-24T08:03:26.019686400Z"
    }
   },
   "id": "4087afebba6280e6"
  },
  {
   "cell_type": "code",
   "execution_count": 11,
   "outputs": [
    {
     "data": {
      "text/plain": "10"
     },
     "execution_count": 11,
     "metadata": {},
     "output_type": "execute_result"
    }
   ],
   "source": [
    "b = 0b0001010\n",
    "b"
   ],
   "metadata": {
    "collapsed": false,
    "ExecuteTime": {
     "end_time": "2024-09-24T08:03:46.183332400Z",
     "start_time": "2024-09-24T08:03:46.180679700Z"
    }
   },
   "id": "6ad636d15f9077d3"
  },
  {
   "cell_type": "code",
   "execution_count": 13,
   "outputs": [
    {
     "data": {
      "text/plain": "1"
     },
     "execution_count": 13,
     "metadata": {},
     "output_type": "execute_result"
    }
   ],
   "source": [
    "0b00000000001"
   ],
   "metadata": {
    "collapsed": false,
    "ExecuteTime": {
     "end_time": "2024-09-24T08:04:24.253997900Z",
     "start_time": "2024-09-24T08:04:24.250482700Z"
    }
   },
   "id": "d870165082f377dd"
  },
  {
   "cell_type": "code",
   "execution_count": 14,
   "outputs": [
    {
     "data": {
      "text/plain": "'0b1111011'"
     },
     "execution_count": 14,
     "metadata": {},
     "output_type": "execute_result"
    }
   ],
   "source": [
    "bin(123)"
   ],
   "metadata": {
    "collapsed": false,
    "ExecuteTime": {
     "end_time": "2024-09-24T08:04:30.030450100Z",
     "start_time": "2024-09-24T08:04:30.023738700Z"
    }
   },
   "id": "a243fe3cac9a4219"
  },
  {
   "cell_type": "code",
   "execution_count": 24,
   "outputs": [
    {
     "data": {
      "text/plain": "'0xc2de'"
     },
     "execution_count": 24,
     "metadata": {},
     "output_type": "execute_result"
    }
   ],
   "source": [
    "hex(49886)"
   ],
   "metadata": {
    "collapsed": false,
    "ExecuteTime": {
     "end_time": "2024-09-24T08:06:30.530202600Z",
     "start_time": "2024-09-24T08:06:30.527938800Z"
    }
   },
   "id": "fd95c1004393d799"
  },
  {
   "cell_type": "code",
   "execution_count": 25,
   "outputs": [],
   "source": [
    "import random"
   ],
   "metadata": {
    "collapsed": false,
    "ExecuteTime": {
     "end_time": "2024-09-24T08:13:10.431379500Z",
     "start_time": "2024-09-24T08:13:10.422862800Z"
    }
   },
   "id": "5b91cab5dcdbfbf3"
  },
  {
   "cell_type": "code",
   "execution_count": 27,
   "outputs": [
    {
     "data": {
      "text/plain": "0.27171408597353774"
     },
     "execution_count": 27,
     "metadata": {},
     "output_type": "execute_result"
    }
   ],
   "source": [
    "random.random()"
   ],
   "metadata": {
    "collapsed": false,
    "ExecuteTime": {
     "end_time": "2024-09-24T08:13:16.995251800Z",
     "start_time": "2024-09-24T08:13:16.985737500Z"
    }
   },
   "id": "dda42ebe3c4ce7e4"
  },
  {
   "cell_type": "code",
   "execution_count": 30,
   "outputs": [
    {
     "data": {
      "text/plain": "3.7582724400939296"
     },
     "execution_count": 30,
     "metadata": {},
     "output_type": "execute_result"
    }
   ],
   "source": [
    "random.uniform(1, 5)"
   ],
   "metadata": {
    "collapsed": false,
    "ExecuteTime": {
     "end_time": "2024-09-24T08:13:29.905438600Z",
     "start_time": "2024-09-24T08:13:29.903926200Z"
    }
   },
   "id": "adbc7b055171c9b5"
  },
  {
   "cell_type": "code",
   "execution_count": 39,
   "outputs": [
    {
     "data": {
      "text/plain": "3"
     },
     "execution_count": 39,
     "metadata": {},
     "output_type": "execute_result"
    }
   ],
   "source": [
    "random.randint(1, 10)"
   ],
   "metadata": {
    "collapsed": false,
    "ExecuteTime": {
     "end_time": "2024-09-24T08:13:42.217709400Z",
     "start_time": "2024-09-24T08:13:42.215698700Z"
    }
   },
   "id": "a28b7ce731c12abc"
  },
  {
   "cell_type": "code",
   "execution_count": 40,
   "outputs": [
    {
     "data": {
      "text/plain": "5"
     },
     "execution_count": 40,
     "metadata": {},
     "output_type": "execute_result"
    }
   ],
   "source": [
    "random.randrange(1, 9, 2)"
   ],
   "metadata": {
    "collapsed": false,
    "ExecuteTime": {
     "end_time": "2024-09-24T08:14:02.876433100Z",
     "start_time": "2024-09-24T08:14:02.866408500Z"
    }
   },
   "id": "151fc40ffd4cb25d"
  },
  {
   "cell_type": "code",
   "execution_count": 54,
   "outputs": [
    {
     "data": {
      "text/plain": "5.271552199671808"
     },
     "execution_count": 54,
     "metadata": {},
     "output_type": "execute_result"
    }
   ],
   "source": [
    "random.gauss(0, 3.5)"
   ],
   "metadata": {
    "collapsed": false,
    "ExecuteTime": {
     "end_time": "2024-09-24T08:15:32.299477700Z",
     "start_time": "2024-09-24T08:15:32.296917Z"
    }
   },
   "id": "2555f04fd6be6c5"
  },
  {
   "cell_type": "code",
   "execution_count": 60,
   "outputs": [
    {
     "data": {
      "text/plain": "1"
     },
     "execution_count": 60,
     "metadata": {},
     "output_type": "execute_result"
    }
   ],
   "source": [
    "lst = [0, 1, 2, 3, 6, 4, 32, 1]\n",
    "random.choice(lst)"
   ],
   "metadata": {
    "collapsed": false,
    "ExecuteTime": {
     "end_time": "2024-09-24T08:15:56.007068400Z",
     "start_time": "2024-09-24T08:15:56.005555700Z"
    }
   },
   "id": "dcaf4a517f2174c4"
  },
  {
   "cell_type": "code",
   "execution_count": 72,
   "outputs": [
    {
     "data": {
      "text/plain": "[1, 4, 2, 0, 1, 32, 6, 3]"
     },
     "execution_count": 72,
     "metadata": {},
     "output_type": "execute_result"
    }
   ],
   "source": [
    "random.shuffle(lst)\n",
    "lst"
   ],
   "metadata": {
    "collapsed": false,
    "ExecuteTime": {
     "end_time": "2024-09-24T08:16:05.633513100Z",
     "start_time": "2024-09-24T08:16:05.629769800Z"
    }
   },
   "id": "9fe69586e79b2649"
  },
  {
   "cell_type": "code",
   "execution_count": 91,
   "outputs": [
    {
     "data": {
      "text/plain": "[6, 0, 1, 3, 2, 4, 32, 1]"
     },
     "execution_count": 91,
     "metadata": {},
     "output_type": "execute_result"
    }
   ],
   "source": [
    "random.sample(lst, 8)"
   ],
   "metadata": {
    "collapsed": false,
    "ExecuteTime": {
     "end_time": "2024-09-24T08:16:39.112340200Z",
     "start_time": "2024-09-24T08:16:39.108934100Z"
    }
   },
   "id": "a2c756b017d70a3a"
  },
  {
   "cell_type": "code",
   "execution_count": 108,
   "outputs": [
    {
     "data": {
      "text/plain": "[4, 36, 89, 97, 18, 59, 47, 85, 89, 12, 58, 76, 63, 77, 2, 65, 55, 73, 47, 79]"
     },
     "execution_count": 108,
     "metadata": {},
     "output_type": "execute_result"
    }
   ],
   "source": [
    "random.seed(43)\n",
    "a = [random.randint(0, 100) for _ in range(20)]\n",
    "a"
   ],
   "metadata": {
    "collapsed": false,
    "ExecuteTime": {
     "end_time": "2024-09-24T08:17:16.990336600Z",
     "start_time": "2024-09-24T08:17:16.987454700Z"
    }
   },
   "id": "bad1e4dbee9497c4"
  },
  {
   "cell_type": "code",
   "execution_count": 112,
   "outputs": [
    {
     "name": "stdout",
     "output_type": "stream",
     "text": [
      "25.07\n"
     ]
    }
   ],
   "source": [
    "a, b = input().split()\n",
    "print(round(random.uniform(float(a), float(b)), 2))"
   ],
   "metadata": {
    "collapsed": false,
    "ExecuteTime": {
     "end_time": "2024-09-24T08:20:20.974340200Z",
     "start_time": "2024-09-24T08:20:16.155525Z"
    }
   },
   "id": "cc8c60e32d9f0871"
  },
  {
   "cell_type": "code",
   "execution_count": null,
   "outputs": [],
   "source": [
    "a, b = map(int, input().split())\n",
    "print(random.randint(a+1, b+1))"
   ],
   "metadata": {
    "collapsed": false
   },
   "id": "f177133f39c8b9a9"
  },
  {
   "cell_type": "code",
   "execution_count": null,
   "outputs": [],
   "source": [
    "print(random.choice(input().split()))"
   ],
   "metadata": {
    "collapsed": false
   },
   "id": "3161977fcc83e9bc"
  },
  {
   "cell_type": "code",
   "execution_count": 118,
   "outputs": [
    {
     "data": {
      "text/plain": "[(1, 5, 9), (2, 6, 8), (3, 7, 6), (4, 8, 7)]"
     },
     "execution_count": 118,
     "metadata": {},
     "output_type": "execute_result"
    }
   ],
   "source": [
    "lst_in = ['1 2 3 4', '5 6 7 8', '9 8 6 7']\n",
    "lst_in = [[int(x) for x in y.split()] for y in lst_in]\n",
    "lst_in = list(zip(*lst_in))\n",
    "random.shuffle(lst_in)\n",
    "lst_in = list(zip(*lst_in))"
   ],
   "metadata": {
    "collapsed": false,
    "ExecuteTime": {
     "end_time": "2024-09-24T08:25:24.199921Z",
     "start_time": "2024-09-24T08:25:24.196422600Z"
    }
   },
   "id": "1dca9a21676a8d0e"
  },
  {
   "cell_type": "code",
   "execution_count": null,
   "outputs": [],
   "source": [
    "s = input().split()\n",
    "print(random.sample(s, 3))"
   ],
   "metadata": {
    "collapsed": false
   },
   "id": "4de5c47102d33dea"
  },
  {
   "cell_type": "code",
   "execution_count": 147,
   "outputs": [
    {
     "name": "stdout",
     "output_type": "stream",
     "text": [
      "0 1 0 1 0 0 1 0 0 0\n",
      "0 0 0 0 0 0 0 0 1 0\n",
      "0 0 0 0 0 0 1 0 0 0\n",
      "0 0 1 0 0 0 0 0 0 0\n",
      "0 0 0 0 0 0 0 0 0 0\n",
      "0 0 1 0 0 0 0 0 1 0\n",
      "0 0 0 0 0 0 1 0 0 0\n",
      "0 0 1 0 0 0 0 0 0 0\n",
      "1 0 0 0 0 0 0 0 0 0\n",
      "0 0 0 0 0 0 0 0 0 0\n"
     ]
    },
    {
     "data": {
      "text/plain": "[None, None, None, None, None, None, None, None, None, None]"
     },
     "execution_count": 147,
     "metadata": {},
     "output_type": "execute_result"
    }
   ],
   "source": [
    "import random\n",
    "random.seed(1)\n",
    "\n",
    "N = int(input())\n",
    "P = [[0] * N for i in range(N)]\n",
    "M = 10\n",
    "count = 0\n",
    "def surround_with_zeros(lst):\n",
    "    n = len(lst)\n",
    "    lst.insert(0, [0] * n)\n",
    "    lst.append([0] * n)\n",
    "    for i in lst:\n",
    "        i.insert(0, 0)\n",
    "        i.append(0)\n",
    "def remove_surrounding_zeros(lst):\n",
    "    n = len(lst)\n",
    "    lst.pop(0)\n",
    "    lst.pop()\n",
    "    for i in lst:\n",
    "        i.pop(0)\n",
    "        i.pop()\n",
    "def verify(lst, i, j):\n",
    "    return sum([lst[i - 1][j - 1], lst[i - 1][j], lst[i - 1][j + 1],\n",
    "                lst[i][j - 1], lst[i][j + 1], lst[i + 1][j - 1],\n",
    "                lst[i + 1][j], lst[i + 1][j + 1]]) == 0\n",
    "\n",
    "surround_with_zeros(P)\n",
    "for i in range(M + 1):\n",
    "\n",
    "    while N > 7:\n",
    "\n",
    "        row = random.randint(0, N - 1)\n",
    "        col = random.randint(0, N - 1)\n",
    "        if verify(P, row, col) == False:\n",
    "            break\n",
    "\n",
    "        P[row][col] = 1\n",
    "\n",
    "remove_surrounding_zeros(P)\n",
    "[print(*i) for i in P]"
   ],
   "metadata": {
    "collapsed": false,
    "ExecuteTime": {
     "end_time": "2024-09-24T19:46:26.221317200Z",
     "start_time": "2024-09-24T19:46:24.881879Z"
    }
   },
   "id": "4195e194f040b3ee"
  },
  {
   "cell_type": "code",
   "execution_count": null,
   "outputs": [],
   "source": [
    "import sys\n",
    "\n",
    "cmd = input()\n",
    "match cmd:\n",
    "    case 'top' | 'Top' | 'TOP':\n",
    "        command = 'top'\n",
    "    case 'bottom' | 'Bottom' | 'BOTTOM':\n",
    "        command = 'bottom'\n",
    "    case 'right' | 'Right' | 'RIGHT':\n",
    "        command = 'right'\n",
    "    case 'left' | 'Left' | 'LEFT':\n",
    "        command = 'left'\n",
    "    case _:\n",
    "        print('Неверная команда')\n",
    "        sys.exit()\n",
    "        \n",
    "print(f'Команда {command}')"
   ],
   "metadata": {
    "collapsed": false
   },
   "id": "67b878ff3d52a33d"
  },
  {
   "cell_type": "code",
   "execution_count": 1,
   "outputs": [],
   "source": [
    "def get_data(value):\n",
    "    match value:\n",
    "        case int() as val:\n",
    "            return val\n",
    "        case float() as val:\n",
    "            return val\n",
    "        case str() as val:\n",
    "            return val\n",
    "    return None"
   ],
   "metadata": {
    "collapsed": false,
    "ExecuteTime": {
     "end_time": "2024-09-25T05:51:16.877118400Z",
     "start_time": "2024-09-25T05:51:16.859121400Z"
    }
   },
   "id": "2ae649bde8ef049a"
  },
  {
   "cell_type": "code",
   "execution_count": 4,
   "outputs": [
    {
     "name": "stdout",
     "output_type": "stream",
     "text": [
      "rt\n"
     ]
    }
   ],
   "source": [
    "cmd = 'right'\n",
    "\n",
    "match cmd:\n",
    "    case 'right':\n",
    "        print('rt')\n",
    "    case command:\n",
    "        print(f'команда {command}')"
   ],
   "metadata": {
    "collapsed": false,
    "ExecuteTime": {
     "end_time": "2024-09-25T05:54:07.688872Z",
     "start_time": "2024-09-25T05:54:07.684851100Z"
    }
   },
   "id": "a3824199fcb9bea5"
  },
  {
   "cell_type": "code",
   "execution_count": 13,
   "outputs": [
    {
     "name": "stdout",
     "output_type": "stream",
     "text": [
      "another 11\n"
     ]
    }
   ],
   "source": [
    "cmd = 11\n",
    "\n",
    "match cmd:\n",
    "    case str() as command:\n",
    "        print(command)\n",
    "    case bool(command):\n",
    "        print(command)\n",
    "    case int() as command if 0 <= command <= 10:\n",
    "        print(command)\n",
    "    case _:\n",
    "        print('another', cmd)"
   ],
   "metadata": {
    "collapsed": false,
    "ExecuteTime": {
     "end_time": "2024-09-25T05:59:24.641380100Z",
     "start_time": "2024-09-25T05:59:24.637865900Z"
    }
   },
   "id": "44e18ef5eef7c4cb"
  },
  {
   "cell_type": "code",
   "execution_count": null,
   "outputs": [],
   "source": [
    "def get_data(value):\n",
    "    match value:\n",
    "        case int() as val if val > 0:\n",
    "            return val\n",
    "        case float() as val if -100 <= val <= 100:\n",
    "            return val\n",
    "        case str():\n",
    "            return value\n",
    "    \n",
    "    return None"
   ],
   "metadata": {
    "collapsed": false
   },
   "id": "f3b8cd9285130db"
  },
  {
   "cell_type": "code",
   "execution_count": 14,
   "outputs": [],
   "source": [
    " a = 121"
   ],
   "metadata": {
    "collapsed": false,
    "ExecuteTime": {
     "end_time": "2024-09-25T06:08:22.037147300Z",
     "start_time": "2024-09-25T06:08:22.029116Z"
    }
   },
   "id": "72c11ef813417b7"
  },
  {
   "cell_type": "code",
   "execution_count": 15,
   "outputs": [
    {
     "data": {
      "text/plain": "'0b1111001'"
     },
     "execution_count": 15,
     "metadata": {},
     "output_type": "execute_result"
    }
   ],
   "source": [
    "bin(a)"
   ],
   "metadata": {
    "collapsed": false,
    "ExecuteTime": {
     "end_time": "2024-09-25T06:08:25.780338200Z",
     "start_time": "2024-09-25T06:08:25.764532300Z"
    }
   },
   "id": "6784359fe42814b5"
  },
  {
   "cell_type": "code",
   "execution_count": 16,
   "outputs": [
    {
     "data": {
      "text/plain": "-122"
     },
     "execution_count": 16,
     "metadata": {},
     "output_type": "execute_result"
    }
   ],
   "source": [
    "~a"
   ],
   "metadata": {
    "collapsed": false,
    "ExecuteTime": {
     "end_time": "2024-09-25T06:08:29.906717700Z",
     "start_time": "2024-09-25T06:08:29.879017100Z"
    }
   },
   "id": "16a67651e423beef"
  },
  {
   "cell_type": "code",
   "execution_count": 17,
   "outputs": [
    {
     "data": {
      "text/plain": "-1"
     },
     "execution_count": 17,
     "metadata": {},
     "output_type": "execute_result"
    }
   ],
   "source": [
    "~0"
   ],
   "metadata": {
    "collapsed": false,
    "ExecuteTime": {
     "end_time": "2024-09-25T06:09:10.892532700Z",
     "start_time": "2024-09-25T06:09:10.884469Z"
    }
   },
   "id": "88e03cd9e25ddc26"
  },
  {
   "cell_type": "code",
   "execution_count": 19,
   "outputs": [
    {
     "data": {
      "text/plain": "1"
     },
     "execution_count": 19,
     "metadata": {},
     "output_type": "execute_result"
    }
   ],
   "source": [
    "~-2"
   ],
   "metadata": {
    "collapsed": false,
    "ExecuteTime": {
     "end_time": "2024-09-25T06:09:24.078645900Z",
     "start_time": "2024-09-25T06:09:24.063316500Z"
    }
   },
   "id": "3179a8acb5a798ab"
  },
  {
   "cell_type": "code",
   "execution_count": 24,
   "outputs": [
    {
     "data": {
      "text/plain": "4"
     },
     "execution_count": 24,
     "metadata": {},
     "output_type": "execute_result"
    }
   ],
   "source": [
    "5 & 4"
   ],
   "metadata": {
    "collapsed": false,
    "ExecuteTime": {
     "end_time": "2024-09-25T06:10:50.683474400Z",
     "start_time": "2024-09-25T06:10:50.679349Z"
    }
   },
   "id": "6e76c1a28a8825a2"
  },
  {
   "cell_type": "code",
   "execution_count": 27,
   "outputs": [
    {
     "name": "stdout",
     "output_type": "stream",
     "text": [
      "2 bit off\n"
     ]
    }
   ],
   "source": [
    "flags = 3\n",
    "mask = 4\n",
    "if flags & mask == mask:\n",
    "    print('2 bit on')\n",
    "else:\n",
    "    print('2 bit off')"
   ],
   "metadata": {
    "collapsed": false,
    "ExecuteTime": {
     "end_time": "2024-09-25T06:12:32.003235400Z",
     "start_time": "2024-09-25T06:12:31.998272900Z"
    }
   },
   "id": "e68fab6447c547e2"
  },
  {
   "cell_type": "code",
   "execution_count": 28,
   "outputs": [
    {
     "data": {
      "text/plain": "8"
     },
     "execution_count": 28,
     "metadata": {},
     "output_type": "execute_result"
    }
   ],
   "source": [
    "flags = 13\n",
    "mask = 5\n",
    "flags = flags & ~mask\n",
    "flags"
   ],
   "metadata": {
    "collapsed": false,
    "ExecuteTime": {
     "end_time": "2024-09-25T06:13:21.664646600Z",
     "start_time": "2024-09-25T06:13:21.656213600Z"
    }
   },
   "id": "5bb19c8b5aa5cf58"
  },
  {
   "cell_type": "code",
   "execution_count": 30,
   "outputs": [
    {
     "data": {
      "text/plain": "13"
     },
     "execution_count": 30,
     "metadata": {},
     "output_type": "execute_result"
    }
   ],
   "source": [
    "flags = 8\n",
    "mask = 5\n",
    "flags = flags | mask\n",
    "flags"
   ],
   "metadata": {
    "collapsed": false,
    "ExecuteTime": {
     "end_time": "2024-09-25T06:14:50.038460900Z",
     "start_time": "2024-09-25T06:14:50.026067800Z"
    }
   },
   "id": "44c27ae10127276c"
  },
  {
   "cell_type": "code",
   "execution_count": 47,
   "outputs": [
    {
     "data": {
      "text/plain": "9"
     },
     "execution_count": 47,
     "metadata": {},
     "output_type": "execute_result"
    }
   ],
   "source": [
    "flags = 9\n",
    "mask = 2\n",
    "flags = flags ^ mask\n",
    "flags = mask ^ flags\n",
    "flags"
   ],
   "metadata": {
    "collapsed": false,
    "ExecuteTime": {
     "end_time": "2024-09-25T06:17:40.171278400Z",
     "start_time": "2024-09-25T06:17:40.164898200Z"
    }
   },
   "id": "de5a97929cdda832"
  },
  {
   "cell_type": "code",
   "execution_count": 57,
   "outputs": [
    {
     "data": {
      "text/plain": "'0b10100000'"
     },
     "execution_count": 57,
     "metadata": {},
     "output_type": "execute_result"
    }
   ],
   "source": [
    "x = 160\n",
    "bin(x)"
   ],
   "metadata": {
    "collapsed": false,
    "ExecuteTime": {
     "end_time": "2024-09-25T06:19:09.549052700Z",
     "start_time": "2024-09-25T06:19:09.543216Z"
    }
   },
   "id": "2ba96833f89268ee"
  },
  {
   "cell_type": "code",
   "execution_count": 62,
   "outputs": [
    {
     "data": {
      "text/plain": "2"
     },
     "execution_count": 62,
     "metadata": {},
     "output_type": "execute_result"
    }
   ],
   "source": [
    "x = x >> 1\n",
    "x"
   ],
   "metadata": {
    "collapsed": false,
    "ExecuteTime": {
     "end_time": "2024-09-25T06:19:17.736344600Z",
     "start_time": "2024-09-25T06:19:17.733200200Z"
    }
   },
   "id": "711bb5c4b975e554"
  },
  {
   "cell_type": "code",
   "execution_count": 63,
   "outputs": [
    {
     "data": {
      "text/plain": "'0b10'"
     },
     "execution_count": 63,
     "metadata": {},
     "output_type": "execute_result"
    }
   ],
   "source": [
    "bin(x)"
   ],
   "metadata": {
    "collapsed": false,
    "ExecuteTime": {
     "end_time": "2024-09-25T06:19:18.550069900Z",
     "start_time": "2024-09-25T06:19:18.546977600Z"
    }
   },
   "id": "e0346b9e9c95b558"
  },
  {
   "cell_type": "code",
   "execution_count": 65,
   "outputs": [
    {
     "data": {
      "text/plain": "0"
     },
     "execution_count": 65,
     "metadata": {},
     "output_type": "execute_result"
    }
   ],
   "source": [
    "x >>= 2\n",
    "x"
   ],
   "metadata": {
    "collapsed": false,
    "ExecuteTime": {
     "end_time": "2024-09-25T06:19:51.449738300Z",
     "start_time": "2024-09-25T06:19:51.445947100Z"
    }
   },
   "id": "19cec60347fa4e34"
  },
  {
   "cell_type": "code",
   "execution_count": 66,
   "outputs": [
    {
     "data": {
      "text/plain": "'0b0'"
     },
     "execution_count": 66,
     "metadata": {},
     "output_type": "execute_result"
    }
   ],
   "source": [
    "bin(x)"
   ],
   "metadata": {
    "collapsed": false,
    "ExecuteTime": {
     "end_time": "2024-09-25T06:19:53.716312300Z",
     "start_time": "2024-09-25T06:19:53.712289500Z"
    }
   },
   "id": "e3539b646224dafb"
  },
  {
   "cell_type": "code",
   "execution_count": 81,
   "outputs": [
    {
     "data": {
      "text/plain": "0"
     },
     "execution_count": 81,
     "metadata": {},
     "output_type": "execute_result"
    }
   ],
   "source": [
    "x <<= 1\n",
    "x"
   ],
   "metadata": {
    "collapsed": false,
    "ExecuteTime": {
     "end_time": "2024-09-25T06:20:03.932246900Z",
     "start_time": "2024-09-25T06:20:03.927595400Z"
    }
   },
   "id": "bb538bc9e60ece14"
  },
  {
   "cell_type": "code",
   "execution_count": 82,
   "outputs": [
    {
     "data": {
      "text/plain": "'0b0'"
     },
     "execution_count": 82,
     "metadata": {},
     "output_type": "execute_result"
    }
   ],
   "source": [
    "bin(x)"
   ],
   "metadata": {
    "collapsed": false,
    "ExecuteTime": {
     "end_time": "2024-09-25T06:20:07.766212200Z",
     "start_time": "2024-09-25T06:20:07.760228400Z"
    }
   },
   "id": "13d0deb2ec13c8c"
  },
  {
   "cell_type": "code",
   "execution_count": 83,
   "outputs": [
    {
     "name": "stdout",
     "output_type": "stream",
     "text": [
      "108\n"
     ]
    }
   ],
   "source": [
    "n = int(input())\n",
    "print(8 | n)"
   ],
   "metadata": {
    "collapsed": false,
    "ExecuteTime": {
     "end_time": "2024-09-25T06:23:01.831481Z",
     "start_time": "2024-09-25T06:23:00.648535900Z"
    }
   },
   "id": "5131ab1504ed1002"
  },
  {
   "cell_type": "code",
   "execution_count": null,
   "outputs": [],
   "source": [
    "n = int(input())\n",
    "print(n & 0b10010)"
   ],
   "metadata": {
    "collapsed": false
   },
   "id": "ff17a811676a1aad"
  },
  {
   "cell_type": "code",
   "execution_count": null,
   "outputs": [],
   "source": [
    "n = int(input())\n",
    "print(n ^ 0b1001)"
   ],
   "metadata": {
    "collapsed": false
   },
   "id": "6fa4cc1a36b522d9"
  },
  {
   "cell_type": "code",
   "execution_count": 84,
   "outputs": [
    {
     "name": "stdout",
     "output_type": "stream",
     "text": [
      "160\n"
     ]
    }
   ],
   "source": [
    "n = int(input())\n",
    "print(n << 2)"
   ],
   "metadata": {
    "collapsed": false,
    "ExecuteTime": {
     "end_time": "2024-09-25T06:27:55.709213800Z",
     "start_time": "2024-09-25T06:27:53.643711800Z"
    }
   },
   "id": "3cc45ac185dc62cf"
  },
  {
   "cell_type": "code",
   "execution_count": null,
   "outputs": [],
   "source": [
    "n = int(input())\n",
    "print(n >> 1)"
   ],
   "metadata": {
    "collapsed": false
   },
   "id": "60d81a7253a2ff62"
  },
  {
   "cell_type": "code",
   "execution_count": 87,
   "outputs": [
    {
     "name": "stdout",
     "output_type": "stream",
     "text": [
      "Все верно!\n"
     ]
    }
   ],
   "source": [
    "cip = input()\n",
    "word = map(lambda x: chr(ord(x) ^ 123), cip)\n",
    "print(''.join(word))"
   ],
   "metadata": {
    "collapsed": false,
    "ExecuteTime": {
     "end_time": "2024-09-25T06:30:26.383294600Z",
     "start_time": "2024-09-25T06:30:25.002800500Z"
    }
   },
   "id": "e9b8ccd07687d5ef"
  },
  {
   "cell_type": "code",
   "execution_count": 88,
   "outputs": [
    {
     "name": "stdout",
     "output_type": "stream",
     "text": [
      "ДА\n"
     ]
    }
   ],
   "source": [
    "n = int(input())\n",
    "mask = 0b01001000\n",
    "print('ДА' if n & mask == mask else 'НЕТ')"
   ],
   "metadata": {
    "collapsed": false,
    "ExecuteTime": {
     "end_time": "2024-09-25T06:32:55.772622Z",
     "start_time": "2024-09-25T06:32:54.523842800Z"
    }
   },
   "id": "f691990cda2da66"
  },
  {
   "cell_type": "code",
   "execution_count": 90,
   "outputs": [
    {
     "name": "stdout",
     "output_type": "stream",
     "text": [
      "ДА\n"
     ]
    }
   ],
   "source": [
    "n = int(input())\n",
    "print(['НЕТ', 'ДА'][n & 2 == 2 or n & 32 == 32])"
   ],
   "metadata": {
    "collapsed": false,
    "ExecuteTime": {
     "end_time": "2024-09-25T06:36:57.431858800Z",
     "start_time": "2024-09-25T06:36:55.958200400Z"
    }
   },
   "id": "5132312bca6e27b2"
  },
  {
   "cell_type": "code",
   "execution_count": 111,
   "outputs": [
    {
     "name": "stdout",
     "output_type": "stream",
     "text": [
      "Балакирев С.М. Python 2000.78\n"
     ]
    }
   ],
   "source": [
    "cmd = (\"Балакирев С.М.\", \"Python\", 2000.78,  1 ,1 )\n",
    "match cmd:\n",
    "    case [str(author), str(title), float(price) | int(price), *_] if len(cmd) < 6:\n",
    "        print(author, title, price)\n",
    "    case _:  # wildcard\n",
    "        print(\"непонятный формат данных\")"
   ],
   "metadata": {
    "collapsed": false,
    "ExecuteTime": {
     "end_time": "2024-09-25T06:49:27.821038600Z",
     "start_time": "2024-09-25T06:49:27.812895600Z"
    }
   },
   "id": "28d8fc8c793226f3"
  },
  {
   "cell_type": "code",
   "execution_count": 115,
   "outputs": [
    {
     "name": "stdout",
     "output_type": "stream",
     "text": [
      "Книга: Балакирев С.М., Python, 2000.78\n"
     ]
    }
   ],
   "source": [
    "cmd = (\"Балакирев С.М.\", \"Python\", 2000.78)\n",
    "# cmd = [1, \"Балакирев С.М.\", \"Python\", 2000.78, 2022]\n",
    "match cmd:\n",
    "    case (author, title, price) | (_, author, title, price, *_):\n",
    "        print(f\"Книга: {author}, {title}, {price}\")\n",
    "    case _:  # wildcard\n",
    "        print(\"непонятный формат данных\")     "
   ],
   "metadata": {
    "collapsed": false,
    "ExecuteTime": {
     "end_time": "2024-09-25T06:52:40.294959300Z",
     "start_time": "2024-09-25T06:52:40.286420200Z"
    }
   },
   "id": "812ef80240924c9e"
  },
  {
   "cell_type": "code",
   "execution_count": null,
   "outputs": [],
   "source": [
    "t = (int, str, str, float, int)\n",
    "book = [t[i](x) if t[i] != str else x.strip() for i, x in enumerate(input().split(\",\"))]\n",
    "book = [1, 'Балакирев С.М.', 'Python', 2100.0, 2023]\n",
    "\n",
    "\n",
    "match book:\n",
    "    case _, author, name, *_:\n",
    "        print('Yes')\n",
    "    case _:\n",
    "        print('No')\n",
    "        "
   ],
   "metadata": {
    "collapsed": false
   },
   "id": "9fb0abfb71ffb231"
  },
  {
   "cell_type": "code",
   "execution_count": 130,
   "outputs": [
    {
     "name": "stdout",
     "output_type": "stream",
     "text": [
      "неверный запрос\n"
     ]
    }
   ],
   "source": [
    "request = {'url': 'https://proproprogs.ru/', 'method': 'GET', 'timeout': 1000}\n",
    "match request:\n",
    "    case {'url': str(url), 'method': str(method), 'timeout': 1000 | 2000} if len(request) <= 3:\n",
    "        print(f\"Запрос: url: {url}, method: {method}\")\n",
    "    case _:  # wildcard\n",
    "        print(\"неверный запрос\")"
   ],
   "metadata": {
    "collapsed": false,
    "ExecuteTime": {
     "end_time": "2024-09-25T07:06:58.372479400Z",
     "start_time": "2024-09-25T07:06:58.366486Z"
    }
   },
   "id": "d10c52a3bd590ed4"
  },
  {
   "cell_type": "code",
   "execution_count": null,
   "outputs": [],
   "source": [
    "request = {'id': 2, 'url': 'https://proproprogs.ru/', 'method': 'GET', 'timeout': 2000}\n",
    "match request:\n",
    "    case {'url': url, 'method': method, **kwargs} if len(kwargs) <= 2: #if not kwargs\n",
    "        print(f\"Запрос: url: {url}, method: {method}\")\n",
    "    case _:  # wildcard\n",
    "        print(\"неверный запрос\")"
   ],
   "metadata": {
    "collapsed": false
   },
   "id": "30a7ec24e3b7fc45"
  },
  {
   "cell_type": "code",
   "execution_count": 135,
   "outputs": [
    {
     "name": "stdout",
     "output_type": "stream",
     "text": [
      "JSON-данные: type-list: [1, 2, 3]\n"
     ]
    }
   ],
   "source": [
    "json_data = {'id': 2, 'type': 'list', 'data': [1, 2, 3], 'access': True, 'date': '01.01.2023'}\n",
    "match json_data:\n",
    "    case {'type': 'list', 'data': list(lst)}:\n",
    "        print(f\"JSON-данные: type-list: {lst}\")\n",
    "    case _:  # wildcard\n",
    "        print(\"неверный запрос\")"
   ],
   "metadata": {
    "collapsed": false,
    "ExecuteTime": {
     "end_time": "2024-09-25T07:09:58.799074200Z",
     "start_time": "2024-09-25T07:09:58.796208100Z"
    }
   },
   "id": "c8207456792cc92b"
  },
  {
   "cell_type": "code",
   "execution_count": 136,
   "outputs": [
    {
     "name": "stdout",
     "output_type": "stream",
     "text": [
      "JSON: access: True, email: email@m.ru\n"
     ]
    }
   ],
   "source": [
    "json_data = {'id': 2, 'access': True, 'info': ['01.01.2023', {'login': '123', 'email': 'email@m.ru'}, True, 1000]}\n",
    "match json_data:\n",
    "    case {'access': access, 'info': [_, {'email': email}, _, _]}:\n",
    "        print(f\"JSON: access: {access}, email: {email}\")\n",
    "    case _:  # wildcard\n",
    "        print(\"неверный запрос\")"
   ],
   "metadata": {
    "collapsed": false,
    "ExecuteTime": {
     "end_time": "2024-09-25T07:11:36.808785700Z",
     "start_time": "2024-09-25T07:11:36.804933500Z"
    }
   },
   "id": "b6b47da543c94306"
  },
  {
   "cell_type": "code",
   "execution_count": 139,
   "outputs": [
    {
     "name": "stdout",
     "output_type": "stream",
     "text": [
      "{1, 2, 3}\n"
     ]
    }
   ],
   "source": [
    "primary_keys = {1, 2 ,3}\n",
    "\n",
    "match primary_keys:\n",
    "    case set() as keys:\n",
    "        print(keys)"
   ],
   "metadata": {
    "collapsed": false,
    "ExecuteTime": {
     "end_time": "2024-09-25T07:13:10.109227800Z",
     "start_time": "2024-09-25T07:13:10.101712200Z"
    }
   },
   "id": "a55db0288987a345"
  },
  {
   "cell_type": "code",
   "execution_count": null,
   "outputs": [],
   "source": [
    "def parse_json(data):\n",
    "    match data:\n",
    "        case {'access': bool(access), 'data': list(data)}:\n",
    "            return access, data[0]\n",
    "        case {'id': ids, 'data': [_, {'login': login}, _, _]}:\n",
    "            return ids, login\n",
    "    \n",
    "    return None\n",
    "\n",
    "\n",
    "json_data = {'id': 2, 'access': False, 'data': ['26.05.2023', {'login': '1234', 'email': 'xxx@mail.com'}, 2000, 56.4]}"
   ],
   "metadata": {
    "collapsed": false
   },
   "id": "afb2e8efb30c4203"
  },
  {
   "cell_type": "code",
   "execution_count": 141,
   "outputs": [
    {
     "name": "stdout",
     "output_type": "stream",
     "text": [
      "('1234', 'xxx@mail.com')\n"
     ]
    }
   ],
   "source": [
    "def parse_json(data):\n",
    "    match data:\n",
    "        case {'access': access, 'data':[_, {'login': str(login), 'email': str(email)}, *_]} if access:\n",
    "            return login, email\n",
    "        case {'id': ids, 'data': [_, {'login': login}, _, _]}:\n",
    "            return ids, login\n",
    "    \n",
    "    return None\n",
    "\n",
    "json_data = {'id': 2, 'access': True, 'data': ['26.05.2023', {'login': '1234', 'email': 'xxx@mail.com'}, 2000, 56.4]}\n",
    "print(parse_json(json_data))"
   ],
   "metadata": {
    "collapsed": false,
    "ExecuteTime": {
     "end_time": "2024-09-25T07:22:13.385328200Z",
     "start_time": "2024-09-25T07:22:13.380308500Z"
    }
   },
   "id": "2ae5ae2b601dfcb4"
  }
 ],
 "metadata": {
  "kernelspec": {
   "display_name": "Python 3",
   "language": "python",
   "name": "python3"
  },
  "language_info": {
   "codemirror_mode": {
    "name": "ipython",
    "version": 2
   },
   "file_extension": ".py",
   "mimetype": "text/x-python",
   "name": "python",
   "nbconvert_exporter": "python",
   "pygments_lexer": "ipython2",
   "version": "2.7.6"
  }
 },
 "nbformat": 4,
 "nbformat_minor": 5
}
