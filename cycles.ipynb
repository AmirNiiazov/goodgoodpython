{
 "cells": [
  {
   "cell_type": "code",
   "execution_count": 2,
   "id": "initial_id",
   "metadata": {
    "collapsed": true,
    "ExecuteTime": {
     "end_time": "2024-08-12T06:12:24.421110300Z",
     "start_time": "2024-08-12T06:12:23.174713300Z"
    }
   },
   "outputs": [
    {
     "name": "stdout",
     "output_type": "stream",
     "text": [
      "4 9 16 "
     ]
    }
   ],
   "source": [
    "n, m = map(int, input().split())\n",
    "while n <= m:\n",
    "    print(n**2, end=' ')\n",
    "    n += 1"
   ]
  },
  {
   "cell_type": "code",
   "execution_count": 4,
   "outputs": [
    {
     "name": "stdout",
     "output_type": "stream",
     "text": [
      "86.4 129.6 172.8 216.0 259.2 302.4 345.6 388.8 432.0 475.2 518.4 "
     ]
    }
   ],
   "source": [
    "price = float(input())\n",
    "i = 2\n",
    "while i <= 10:\n",
    "    print(round(price*i, 2), end=' ')\n",
    "    i += 1"
   ],
   "metadata": {
    "collapsed": false,
    "ExecuteTime": {
     "end_time": "2024-08-12T06:18:24.625390300Z",
     "start_time": "2024-08-12T06:18:21.710820400Z"
    }
   },
   "id": "4be7630590d6480a"
  },
  {
   "cell_type": "code",
   "execution_count": 9,
   "outputs": [
    {
     "name": "stdout",
     "output_type": "stream",
     "text": [
      "2.593\n"
     ]
    }
   ],
   "source": [
    "n = int(input())\n",
    "i = 1\n",
    "sum = 0\n",
    "while i <= n:\n",
    "    sum += 1/i\n",
    "    i += 1\n",
    "print(round(sum, 3))"
   ],
   "metadata": {
    "collapsed": false,
    "ExecuteTime": {
     "end_time": "2024-08-12T06:27:00.734511300Z",
     "start_time": "2024-08-12T06:26:59.681917100Z"
    }
   },
   "id": "f7f5a6c6ef8b8f4f"
  },
  {
   "cell_type": "code",
   "execution_count": 11,
   "outputs": [
    {
     "name": "stdout",
     "output_type": "stream",
     "text": [
      "13\n"
     ]
    }
   ],
   "source": [
    "sum_i = 0\n",
    "n = int(input())\n",
    "while n != 0:\n",
    "    sum_i += n\n",
    "    n = int(input())\n",
    "print(sum_i)"
   ],
   "metadata": {
    "collapsed": false,
    "ExecuteTime": {
     "end_time": "2024-08-12T06:28:20.102521400Z",
     "start_time": "2024-08-12T06:28:17.164077300Z"
    }
   },
   "id": "fb34145ff783fc19"
  },
  {
   "cell_type": "code",
   "execution_count": 14,
   "outputs": [
    {
     "name": "stdout",
     "output_type": "stream",
     "text": [
      "osnovnye-metody-slovarey\n"
     ]
    }
   ],
   "source": [
    "slag = input()\n",
    "while '--' in slag:\n",
    "    slag = slag.replace('--', '-')\n",
    "print(slag)"
   ],
   "metadata": {
    "collapsed": false,
    "ExecuteTime": {
     "end_time": "2024-08-12T06:31:39.874548200Z",
     "start_time": "2024-08-12T06:31:35.982831100Z"
    }
   },
   "id": "612383b6bb40812f"
  },
  {
   "cell_type": "code",
   "execution_count": 16,
   "outputs": [
    {
     "name": "stdout",
     "output_type": "stream",
     "text": [
      "192\n"
     ]
    }
   ],
   "source": [
    "num = int(input())\n",
    "sum = 1\n",
    "while num > 0:\n",
    "    sum *= num%10\n",
    "    num //= 10\n",
    "print(sum)"
   ],
   "metadata": {
    "collapsed": false,
    "ExecuteTime": {
     "end_time": "2024-08-12T06:42:15.967779Z",
     "start_time": "2024-08-12T06:42:13.707375800Z"
    }
   },
   "id": "4d3dbb46eb98a4a"
  },
  {
   "cell_type": "code",
   "execution_count": 19,
   "outputs": [
    {
     "name": "stdout",
     "output_type": "stream",
     "text": [
      "1 1 2 3 5 8 13 21\n"
     ]
    }
   ],
   "source": [
    "n = int(input())\n",
    "s = [1, 1]\n",
    "i = 2\n",
    "while i < n:\n",
    "    s.append(s[i-1]+s[i-2])\n",
    "    i += 1\n",
    "print(*s)"
   ],
   "metadata": {
    "collapsed": false,
    "ExecuteTime": {
     "end_time": "2024-08-12T06:52:02.162267500Z",
     "start_time": "2024-08-12T06:52:00.985696Z"
    }
   },
   "id": "a49edf4304117e5f"
  },
  {
   "cell_type": "code",
   "execution_count": 21,
   "outputs": [
    {
     "name": "stdout",
     "output_type": "stream",
     "text": [
      "8\n"
     ]
    }
   ],
   "source": [
    "n = int(input())\n",
    "hours = n//3\n",
    "s = 1\n",
    "while hours > 0:\n",
    "    s *=2\n",
    "    hours -=1\n",
    "print(s)"
   ],
   "metadata": {
    "collapsed": false,
    "ExecuteTime": {
     "end_time": "2024-08-12T06:54:24.546187700Z",
     "start_time": "2024-08-12T06:54:23.400873300Z"
    }
   },
   "id": "5ec3231b0945984c"
  },
  {
   "cell_type": "code",
   "execution_count": 25,
   "outputs": [
    {
     "name": "stdout",
     "output_type": "stream",
     "text": [
      "1276.28\n"
     ]
    }
   ],
   "source": [
    "n = int(input())\n",
    "s = 1000\n",
    "pr = 5\n",
    "while n > 0:\n",
    "    s += s * 0.05\n",
    "    n -= 1\n",
    "print(round(s, 2))"
   ],
   "metadata": {
    "collapsed": false,
    "ExecuteTime": {
     "end_time": "2024-08-12T06:57:16.923003200Z",
     "start_time": "2024-08-12T06:57:15.944530100Z"
    }
   },
   "id": "e2216b5af64b7f67"
  },
  {
   "cell_type": "code",
   "execution_count": 26,
   "outputs": [
    {
     "name": "stdout",
     "output_type": "stream",
     "text": [
      "1 3 5 7 9\n"
     ]
    }
   ],
   "source": [
    "n, m = map(int, input().split())\n",
    "lst = list(range(n+1, m, 2))\n",
    "print(*lst)\n",
    "    "
   ],
   "metadata": {
    "collapsed": false,
    "ExecuteTime": {
     "end_time": "2024-08-12T07:02:33.146482100Z",
     "start_time": "2024-08-12T07:02:30.944805100Z"
    }
   },
   "id": "490782a6a5fed7d0"
  },
  {
   "cell_type": "code",
   "execution_count": 33,
   "outputs": [
    {
     "name": "stdout",
     "output_type": "stream",
     "text": [
      "231 372 513 654 795 936\n"
     ]
    }
   ],
   "source": [
    "lst = []\n",
    "i = 231\n",
    "while i < 1000:\n",
    "    if i % 3 == 0:\n",
    "        lst.append(i)\n",
    "    i += 47\n",
    "print(*lst)"
   ],
   "metadata": {
    "collapsed": false,
    "ExecuteTime": {
     "end_time": "2024-08-12T07:51:10.797582300Z",
     "start_time": "2024-08-12T07:51:10.795066700Z"
    }
   },
   "id": "31e8ad08b670095e"
  },
  {
   "cell_type": "code",
   "execution_count": 6,
   "outputs": [
    {
     "name": "stdout",
     "output_type": "stream",
     "text": [
      "0 1 1 1 1 0 1 1 0 0\n"
     ]
    }
   ],
   "source": [
    "p = [0] * 10\n",
    "i = 0\n",
    "while i <= 5:\n",
    "    d = int(input())\n",
    "    if p[d] == 1:\n",
    "        continue\n",
    "    p[d] = 1\n",
    "    i += 1\n",
    "print(*p)"
   ],
   "metadata": {
    "collapsed": false,
    "ExecuteTime": {
     "end_time": "2024-08-13T07:49:44.253403400Z",
     "start_time": "2024-08-13T07:49:38.222992800Z"
    }
   },
   "id": "9fb61c091b5a4d53"
  },
  {
   "cell_type": "code",
   "execution_count": 3,
   "outputs": [
    {
     "name": "stdout",
     "output_type": "stream",
     "text": [
      "84\n"
     ]
    }
   ],
   "source": [
    "s = 1\n",
    "d = 1\n",
    "while d != 0:\n",
    "    d = int(input())\n",
    "    if d <= 0:\n",
    "        continue\n",
    "    s *= d\n",
    "print(s)"
   ],
   "metadata": {
    "collapsed": false,
    "ExecuteTime": {
     "end_time": "2024-08-13T07:47:48.394038100Z",
     "start_time": "2024-08-13T07:47:39.879381300Z"
    }
   },
   "id": "ceec67cf3ac7999a"
  },
  {
   "cell_type": "code",
   "execution_count": null,
   "outputs": [],
   "source": [
    "cities = input().split()\n",
    "flag = True\n",
    "while cities:\n",
    "    if len(cities.pop()) < 5:\n",
    "        flag = False\n",
    "        break\n",
    "\n",
    "print('ДА' if flag else 'НЕТ')"
   ],
   "metadata": {
    "collapsed": false
   },
   "id": "21c5d5c04175bfef"
  },
  {
   "cell_type": "code",
   "execution_count": 16,
   "outputs": [
    {
     "name": "stdout",
     "output_type": "stream",
     "text": [
      "Федор\n",
      "Михаил\n",
      "Сергей\n",
      "Иван\n",
      "Анна\n",
      "Петр\n",
      "НЕТ\n"
     ]
    }
   ],
   "source": [
    "names = input().split()\n",
    "flag = 'НЕТ'\n",
    "while names:\n",
    "    a = names.pop()\n",
    "    if a[0].lower() == a[-1].lower():\n",
    "        flag = 'ДА'\n",
    "        break\n",
    "print(flag)"
   ],
   "metadata": {
    "collapsed": false,
    "ExecuteTime": {
     "end_time": "2024-08-13T08:11:11.717470900Z",
     "start_time": "2024-08-13T08:11:10.727173Z"
    }
   },
   "id": "96fcabfb24718c05"
  },
  {
   "cell_type": "code",
   "execution_count": 24,
   "outputs": [
    {
     "name": "stdout",
     "output_type": "stream",
     "text": [
      "15 "
     ]
    }
   ],
   "source": [
    "n = int(input())\n",
    "i = 1\n",
    "while i <= n and n < 100:\n",
    "    if i % 3 == 0 and i % 5 == 0:\n",
    "        print(i, end=' ')\n",
    "    if i == n:\n",
    "        break\n",
    "    i += 1\n",
    "else:\n",
    "    print(\"слишком большое значение n\")\n"
   ],
   "metadata": {
    "collapsed": false,
    "ExecuteTime": {
     "end_time": "2024-08-13T08:17:54.361338400Z",
     "start_time": "2024-08-13T08:17:53.116504600Z"
    }
   },
   "id": "f89a92deeaf7546c"
  },
  {
   "cell_type": "code",
   "execution_count": 26,
   "outputs": [
    {
     "name": "stdout",
     "output_type": "stream",
     "text": [
      "13\n"
     ]
    }
   ],
   "source": [
    "n = int(input())\n",
    "i = 1\n",
    "while True:\n",
    "    if i ** 2 > n:\n",
    "        print(i)\n",
    "        break\n",
    "    i += 1\n"
   ],
   "metadata": {
    "collapsed": false,
    "ExecuteTime": {
     "end_time": "2024-08-13T08:18:19.661968500Z",
     "start_time": "2024-08-13T08:18:18.253772200Z"
    }
   },
   "id": "96afb60239726e82"
  },
  {
   "cell_type": "code",
   "execution_count": 33,
   "outputs": [
    {
     "name": "stdout",
     "output_type": "stream",
     "text": [
      "2\n"
     ]
    }
   ],
   "source": [
    "# put your python code here\n",
    "x = int(input())\n",
    "n = 10\n",
    "i = 1\n",
    "while n <= x:\n",
    "    n += n * 0.1\n",
    "    i += 1\n",
    "print(i)"
   ],
   "metadata": {
    "collapsed": false,
    "ExecuteTime": {
     "end_time": "2024-08-13T08:25:59.879763900Z",
     "start_time": "2024-08-13T08:25:58.875817900Z"
    }
   },
   "id": "2e6591f7c428f12f"
  },
  {
   "cell_type": "code",
   "execution_count": 40,
   "outputs": [
    {
     "name": "stdout",
     "output_type": "stream",
     "text": [
      "Муму Сияние Колобок\n"
     ]
    }
   ],
   "source": [
    "lst_in = ['Муму', 'Евгений Онегин', 'Сияние', 'Мастер и Маргарита', 'Пиковая дама', 'Колобок']\n",
    "i = 0\n",
    "new_lst = []\n",
    "while i < len(lst_in):\n",
    "    if len(lst_in[i].split()) == 1:\n",
    "        new_lst.append(lst_in[i])\n",
    "    i += 1\n",
    "print(*new_lst)"
   ],
   "metadata": {
    "collapsed": false,
    "ExecuteTime": {
     "end_time": "2024-08-13T08:31:15.337686100Z",
     "start_time": "2024-08-13T08:31:15.332948100Z"
    }
   },
   "id": "295f03316fe03a18"
  },
  {
   "cell_type": "code",
   "execution_count": 2,
   "outputs": [
    {
     "name": "stdout",
     "output_type": "stream",
     "text": [
      "0 1 2 3 4 5 6 7 8 9 10 "
     ]
    }
   ],
   "source": [
    "for i in range(11):\n",
    "    print(i, end=' ')"
   ],
   "metadata": {
    "collapsed": false,
    "ExecuteTime": {
     "end_time": "2024-08-14T07:23:28.406724Z",
     "start_time": "2024-08-14T07:23:28.401904400Z"
    }
   },
   "id": "934d616466f26904"
  },
  {
   "cell_type": "code",
   "execution_count": 3,
   "outputs": [
    {
     "name": "stdout",
     "output_type": "stream",
     "text": [
      "50\n"
     ]
    }
   ],
   "source": [
    "nums = list(map(int, input().split()))\n",
    "s = 0\n",
    "for i in nums:\n",
    "    if i%2 == 1:\n",
    "        s += i\n",
    "print(s)"
   ],
   "metadata": {
    "collapsed": false,
    "ExecuteTime": {
     "end_time": "2024-08-14T07:25:32.229847700Z",
     "start_time": "2024-08-14T07:25:30.762229Z"
    }
   },
   "id": "e91306e032512c30"
  },
  {
   "cell_type": "code",
   "execution_count": 5,
   "outputs": [
    {
     "name": "stdout",
     "output_type": "stream",
     "text": [
      "['Москва', 'Уфа', 'Караганда', 'Тверь', 'Минск', 'Казань']\n",
      "6 3 9 5 5 6\n"
     ]
    }
   ],
   "source": [
    "cities = input().split()\n",
    "print(cities)\n",
    "for i in range(len(cities)):\n",
    "    cities[i] = len(cities[i])\n",
    "print(*cities)"
   ],
   "metadata": {
    "collapsed": false,
    "ExecuteTime": {
     "end_time": "2024-08-14T07:27:37.478857Z",
     "start_time": "2024-08-14T07:27:36.803399500Z"
    }
   },
   "id": "b4be0be3af616895"
  },
  {
   "cell_type": "code",
   "execution_count": 8,
   "outputs": [
    {
     "name": "stdout",
     "output_type": "stream",
     "text": [
      "1\n",
      "2\n",
      "3\n",
      "4\n",
      "6\n",
      "12\n"
     ]
    }
   ],
   "source": [
    "n = int(input())\n",
    "for i in range(1, n+1):\n",
    "    if n % i == 0:\n",
    "        print(i)"
   ],
   "metadata": {
    "collapsed": false,
    "ExecuteTime": {
     "end_time": "2024-08-14T07:29:04.761631Z",
     "start_time": "2024-08-14T07:29:03.986005700Z"
    }
   },
   "id": "60cdf4d4f4c5865d"
  },
  {
   "cell_type": "code",
   "execution_count": 9,
   "outputs": [
    {
     "name": "stdout",
     "output_type": "stream",
     "text": [
      "ДА\n"
     ]
    }
   ],
   "source": [
    "n = int(input())\n",
    "flag = 'ДА'\n",
    "for i in range(2, n//2):\n",
    "    if n % i == 0:\n",
    "        flag = 'НЕТ'\n",
    "        break\n",
    "print(flag)"
   ],
   "metadata": {
    "collapsed": false,
    "ExecuteTime": {
     "end_time": "2024-08-14T07:31:59.943712200Z",
     "start_time": "2024-08-14T07:31:56.819291100Z"
    }
   },
   "id": "d065dc929274b8f8"
  },
  {
   "cell_type": "code",
   "execution_count": 14,
   "outputs": [
    {
     "name": "stdout",
     "output_type": "stream",
     "text": [
      "ДА\n"
     ]
    }
   ],
   "source": [
    "cities = input().split()\n",
    "flag = 'ДА'\n",
    "for i in range(len(cities)):\n",
    "    if i == 0:\n",
    "        continue\n",
    "    n = -1 if cities[i-1][-1] not in ['ь', 'ъ', 'ы'] else -2\n",
    "    if cities[i-1][n] != cities[i][0].lower():\n",
    "        flag = 'НЕТ'\n",
    "        break\n",
    "print(flag)"
   ],
   "metadata": {
    "collapsed": false,
    "ExecuteTime": {
     "end_time": "2024-08-14T07:38:40.553191100Z",
     "start_time": "2024-08-14T07:38:39.582246Z"
    }
   },
   "id": "e5c05501633d4094"
  },
  {
   "cell_type": "code",
   "execution_count": 19,
   "outputs": [
    {
     "name": "stdout",
     "output_type": "stream",
     "text": [
      "98\n"
     ]
    }
   ],
   "source": [
    "n = int(input())\n",
    "s = 0\n",
    "for i in range(n):\n",
    "    if i % 3 == 0 or i % 5 == 0:\n",
    "        s += i\n",
    "print(s)\n"
   ],
   "metadata": {
    "collapsed": false,
    "ExecuteTime": {
     "end_time": "2024-08-14T07:46:42.950125600Z",
     "start_time": "2024-08-14T07:46:42.062124Z"
    }
   },
   "id": "c76cd91d0aaedfb4"
  },
  {
   "cell_type": "code",
   "execution_count": 1,
   "outputs": [
    {
     "name": "stdout",
     "output_type": "stream",
     "text": [
      "[1, 0, 0, 2, 1, 2421, 0, 0, 0]\n"
     ]
    }
   ],
   "source": [
    "a = [1 , 23, 43, 2, 1,2421, 12, 12, -45]\n",
    "for i, n in enumerate(a):\n",
    "    if 10 <= abs(n) <= 99:\n",
    "        a[i] = 0\n",
    "print(a)"
   ],
   "metadata": {
    "collapsed": false,
    "ExecuteTime": {
     "end_time": "2024-08-15T07:50:54.486001300Z",
     "start_time": "2024-08-15T07:50:54.481993300Z"
    }
   },
   "id": "7dc468a5f6d1e76"
  },
  {
   "cell_type": "code",
   "execution_count": 4,
   "outputs": [
    {
     "name": "stdout",
     "output_type": "stream",
     "text": [
      "programmirovanie-na-python-luchshiy-kurs\n"
     ]
    }
   ],
   "source": [
    "t = ['a', 'b', 'v', 'g', 'd', 'e', 'zh', 'z', 'i', 'y', 'k',\n",
    "     'l', 'm', 'n', 'o', 'p', 'r', 's', 't', 'u', 'f',\n",
    "     'h', 'c', 'ch', 'sh', 'shch', '', 'y', '', 'e', 'yu', 'ya'\n",
    "     ]\n",
    "start_index = ord('а')\n",
    "title = 'Программирование на python - лучший курс'\n",
    "slug = ''\n",
    "for s in title.lower():\n",
    "    if 'а' <= s <= 'я':\n",
    "        slug += t[ord(s) - start_index]\n",
    "    elif s == 'ё':\n",
    "        slug += 'yo'\n",
    "    elif s in ' !?;:.,':\n",
    "        slug += '-'\n",
    "    else:\n",
    "        slug += s\n",
    "while '--' in slug:\n",
    "    slug = slug.replace('--', '-')\n",
    "\n",
    "print(slug)"
   ],
   "metadata": {
    "collapsed": false,
    "ExecuteTime": {
     "end_time": "2024-08-15T07:57:17.465397800Z",
     "start_time": "2024-08-15T07:57:17.460878Z"
    }
   },
   "id": "4be6477a052e17b"
  },
  {
   "cell_type": "code",
   "execution_count": 8,
   "outputs": [
    {
     "name": "stdout",
     "output_type": "stream",
     "text": [
      "-1\n"
     ]
    }
   ],
   "source": [
    "s = input()\n",
    "res = []\n",
    "for i, el in enumerate(s[:-1]):\n",
    "    if el == 'р' and s[i+1] == 'а':\n",
    "        res.append(i)\n",
    "print(*res if res else [-1])"
   ],
   "metadata": {
    "collapsed": false,
    "ExecuteTime": {
     "end_time": "2024-08-15T08:10:59.420251400Z",
     "start_time": "2024-08-15T08:10:58.621378Z"
    }
   },
   "id": "fc8f8141cf001a26"
  },
  {
   "cell_type": "code",
   "execution_count": 9,
   "outputs": [
    {
     "name": "stdout",
     "output_type": "stream",
     "text": [
      "ДА\n"
     ]
    }
   ],
   "source": [
    "s = input()\n",
    "flag = 'ДА'\n",
    "if s[:2] != '+7':\n",
    "    flag = 'НЕТ'\n",
    "elif s[2] != '(' or s[6] != ')':\n",
    "    flag = 'НЕТ'\n",
    "elif s[3:6].isdecimal() != True:\n",
    "    flag = 'НЕТ'\n",
    "elif s[7:].replace('-', '').isdecimal() != True:\n",
    "    flag = 'НЕТ'\n",
    "print(flag)"
   ],
   "metadata": {
    "collapsed": false,
    "ExecuteTime": {
     "end_time": "2024-08-15T08:17:00.488976100Z",
     "start_time": "2024-08-15T08:16:45.167643200Z"
    }
   },
   "id": "e3b65a529358f396"
  },
  {
   "cell_type": "code",
   "execution_count": 11,
   "outputs": [
    {
     "name": "stdout",
     "output_type": "stream",
     "text": [
      "23\n"
     ]
    }
   ],
   "source": [
    "print(sum(map(int, input().replace(' ', '').replace('+', ' +').replace('-', ' -').split())))\n"
   ],
   "metadata": {
    "collapsed": false,
    "ExecuteTime": {
     "end_time": "2024-08-15T08:23:15.051896600Z",
     "start_time": "2024-08-15T08:23:13.951033500Z"
    }
   },
   "id": "6effab81d2ed9fb2"
  },
  {
   "cell_type": "code",
   "execution_count": 13,
   "outputs": [
    {
     "name": "stdout",
     "output_type": "stream",
     "text": [
      "64 121 16 9 36\n"
     ]
    }
   ],
   "source": [
    "lst = list(map(int, input().split()))\n",
    "for i, el in enumerate(lst):\n",
    "    lst[i] = pow(el, 2)\n",
    "print(*lst)"
   ],
   "metadata": {
    "collapsed": false,
    "ExecuteTime": {
     "end_time": "2024-08-15T08:46:13.329504700Z",
     "start_time": "2024-08-15T08:46:12.101519Z"
    }
   },
   "id": "8a8cf968ea6b6ceb"
  },
  {
   "cell_type": "code",
   "execution_count": 22,
   "outputs": [
    {
     "name": "stdout",
     "output_type": "stream",
     "text": [
      "1 1 2 2 3 3\n"
     ]
    }
   ],
   "source": [
    "lst = input().split()\n",
    "for i, el in enumerate(lst):\n",
    "    lst[i] = ((el+' ') * 2).rstrip()\n",
    "print(*lst)"
   ],
   "metadata": {
    "collapsed": false,
    "ExecuteTime": {
     "end_time": "2024-08-15T08:52:14.817852600Z",
     "start_time": "2024-08-15T08:52:13.679252800Z"
    }
   },
   "id": "88a7d6132289b204"
  },
  {
   "cell_type": "code",
   "execution_count": 24,
   "outputs": [
    {
     "name": "stdout",
     "output_type": "stream",
     "text": [
      "-10.0\n"
     ]
    }
   ],
   "source": [
    "lst = map(float, input().split())\n",
    "min_el = None\n",
    "for i in lst:\n",
    "    if min_el is None or i < min_el:\n",
    "        min_el = i\n",
    "print(min_el)"
   ],
   "metadata": {
    "collapsed": false,
    "ExecuteTime": {
     "end_time": "2024-08-15T08:54:40.873065300Z",
     "start_time": "2024-08-15T08:54:39.779871200Z"
    }
   },
   "id": "293b11105f40ac0"
  },
  {
   "cell_type": "code",
   "execution_count": 27,
   "outputs": [
    {
     "name": "stdout",
     "output_type": "stream",
     "text": [
      "-1.0 3.5 6.89 -1.0\n"
     ]
    }
   ],
   "source": [
    "lst = list(map(float, input().split()))\n",
    "for i, el in enumerate(lst):\n",
    "    if el <= 0:\n",
    "        lst[i] = -1.0\n",
    "print(*lst)"
   ],
   "metadata": {
    "collapsed": false,
    "ExecuteTime": {
     "end_time": "2024-08-15T08:56:31.805340Z",
     "start_time": "2024-08-15T08:56:30.958918100Z"
    }
   },
   "id": "c2084dacb3d70b5f"
  },
  {
   "cell_type": "code",
   "execution_count": null,
   "outputs": [],
   "source": [
    "d = [5, 3, 7, 10, 12]\n",
    "iter(d)"
   ],
   "metadata": {
    "collapsed": false
   },
   "id": "f4432448956a0e6b"
  },
  {
   "cell_type": "code",
   "execution_count": null,
   "outputs": [],
   "source": [
    "d = iter(input().split())\n",
    "print(next(d))\n",
    "print(next(d))"
   ],
   "metadata": {
    "collapsed": false
   },
   "id": "d6532f8939a82b63"
  },
  {
   "cell_type": "code",
   "execution_count": null,
   "outputs": [],
   "source": [
    "s = iter(input())\n",
    "d = next(s)\n",
    "while d != ' ':\n",
    "    print(d, end='')\n",
    "    d = next(s)"
   ],
   "metadata": {
    "collapsed": false
   },
   "id": "85f3e777803b8b74"
  },
  {
   "cell_type": "code",
   "execution_count": null,
   "outputs": [],
   "source": [
    "n = iter(input())\n",
    "print(next(n))\n"
   ],
   "metadata": {
    "collapsed": false
   },
   "id": "60371a7c32f057a"
  },
  {
   "cell_type": "code",
   "execution_count": 3,
   "outputs": [
    {
     "name": "stdout",
     "output_type": "stream",
     "text": [
      "1\t5\t9\t13\t\n",
      "2\t6\t10\t14\t\n",
      "3\t7\t11\t15\t\n",
      "4\t8\t12\t16\t\n"
     ]
    }
   ],
   "source": [
    "A = [[1, 2, 3, 4], [5, 6, 7, 8], [9, 10, 11, 12], [13, 14, 15, 16]]\n",
    "for i in range(len(A)):\n",
    "    for j in range(i + 1):\n",
    "        A[i][j], A[j][i] = A[j][i], A[i][j]\n",
    "\n",
    "for r in A:\n",
    "    for x in r:\n",
    "        print(x, end='\\t')\n",
    "    print()\n"
   ],
   "metadata": {
    "collapsed": false,
    "ExecuteTime": {
     "end_time": "2024-08-24T18:43:13.821215400Z",
     "start_time": "2024-08-24T18:43:13.814719100Z"
    }
   }
  },
  {
   "cell_type": "code",
   "execution_count": 10,
   "outputs": [
    {
     "name": "stdout",
     "output_type": "stream",
     "text": [
      "1 1 1 1 1 1 5\n",
      "1 1 1 1 1 1 5\n",
      "1 1 1 1 1 1 5\n",
      "1 1 1 1 1 1 5\n",
      "1 1 1 1 1 1 5\n",
      "1 1 1 1 1 1 5\n",
      "1 1 1 1 1 1 5\n"
     ]
    }
   ],
   "source": [
    "n = int(input())\n",
    "lst = [[1] * n] * n\n",
    "for i in range(len(lst)):\n",
    "    for j in range(len(lst)):\n",
    "        if j == n - 1:\n",
    "            lst[i][j] = 5\n",
    "            print(lst[i][j], end='')\n",
    "            continue\n",
    "        print(lst[i][j], end=' ')\n",
    "    print()"
   ],
   "metadata": {
    "collapsed": false,
    "ExecuteTime": {
     "end_time": "2024-08-24T18:49:04.654763400Z",
     "start_time": "2024-08-24T18:49:03.414705Z"
    }
   }
  },
  {
   "cell_type": "code",
   "execution_count": 14,
   "outputs": [
    {
     "name": "stdout",
     "output_type": "stream",
     "text": [
      "django-chto-eto-takoe-poryadok-ustanovki\n",
      "model-mtv-marshrutizaciya-funkcii-predstavleniya\n",
      "marshrutizaciya-obrabotka-isklyucheniy-zaprosov-perenapravleniya\n"
     ]
    }
   ],
   "source": [
    "# import sys\n",
    "#\n",
    "# lst_in = list(map(str.strip, sys.stdin.readlines()))\n",
    "lst_in = ['django chto  eto takoe    poryadok ustanovki', 'model mtv   marshrutizaciya funkcii  predstavleniya',\n",
    "'marshrutizaciya  obrabotka isklyucheniy       zaprosov perenapravleniya']\n",
    "\n",
    "for i in range(len(lst_in)):\n",
    "    while ' ' in lst_in[i] or '--' in lst_in[i]:\n",
    "        lst_in[i] = lst_in[i].replace(' ', '-').replace('--', '-')\n",
    "    print(lst_in[i])\n"
   ],
   "metadata": {
    "collapsed": false,
    "ExecuteTime": {
     "end_time": "2024-08-24T18:57:34.152947100Z",
     "start_time": "2024-08-24T18:57:34.145789Z"
    }
   }
  },
  {
   "cell_type": "code",
   "execution_count": 15,
   "outputs": [
    {
     "name": "stdout",
     "output_type": "stream",
     "text": [
      "2 3 5 7 "
     ]
    }
   ],
   "source": [
    "n = int(input())\n",
    "for i in range(2, n):\n",
    "    flag = True\n",
    "    for j in range(2, i):\n",
    "        if i % j == 0:\n",
    "            flag = False\n",
    "    if flag:\n",
    "        print(i, end=' ')"
   ],
   "metadata": {
    "collapsed": false,
    "ExecuteTime": {
     "end_time": "2024-08-24T19:01:21.681538400Z",
     "start_time": "2024-08-24T19:01:18.708706100Z"
    }
   }
  },
  {
   "cell_type": "code",
   "execution_count": 29,
   "outputs": [
    {
     "name": "stdout",
     "output_type": "stream",
     "text": [
      "НЕТ\n"
     ]
    }
   ],
   "source": [
    "lst_in = [[1, 0, 0, 0, 0], [0, 1, 1, 0, 1], [0, 0, 0, 0, 0], [0, 1, 0, 0, 0], [0, 0, 0, 1, 0]]\n",
    "lst_str = ['', '', '', '', '', '', '']\n",
    "diag_lst = []\n",
    "for i in range(len(lst_in)):\n",
    "    lst_str.append(''.join(str(a) for a in lst_in[i]))\n",
    "    for j in range(5):\n",
    "        lst_str[j] += str(lst_in[i][j])\n",
    "        if i == j and len(lst_str[5]) != 5:\n",
    "            lst_str[5] += str(lst_in[i][j])\n",
    "        if i == 0 and j == 4 or i == 1 and j == 3 or i == 2 and j == 2 or i == 3 and j == 1 or i == 4 and j == 0:\n",
    "            lst_str[6] += str(lst_in[i][j])\n",
    "print('НЕТ' if any(['11' in i for i in lst_str]) or lst_in[0, 2] == 1 and lst_in[1, 1] == 1 else 'ДА')"
   ],
   "metadata": {
    "collapsed": false,
    "ExecuteTime": {
     "end_time": "2024-08-24T19:26:38.310987700Z",
     "start_time": "2024-08-24T19:26:38.297326100Z"
    }
   }
  },
  {
   "cell_type": "code",
   "execution_count": 7,
   "outputs": [
    {
     "name": "stdout",
     "output_type": "stream",
     "text": [
      "[[2, 3, 4, 5, 7], [3, 2, 7, 8, 9], [4, 7, 2, 0, 4], [5, 8, 0, 2, 1], [6, 9, 4, 1, 2]]\n",
      "[[2, 3, 4, 5, 6], [3, 2, 7, 8, 9], [4, 7, 2, 0, 4], [5, 8, 0, 2, 1], [7, 9, 4, 1, 2]]\n",
      "НЕТ\n"
     ]
    }
   ],
   "source": [
    "from copy import deepcopy\n",
    "lst_in = [[2, 3, 4, 5, 6],\n",
    "          [3, 2, 7, 8, 9],\n",
    "          [4, 7, 2, 0, 4],\n",
    "          [5, 8, 0, 2, 1],\n",
    "          [7, 9, 4, 1, 2]]\n",
    "new_lst = deepcopy(lst_in)\n",
    "for i in range(len(lst_in)):\n",
    "    for j in range(i+1, len(lst_in)):\n",
    "        new_lst[i][j], new_lst[j][i] = new_lst[j][i], new_lst[i][j]\n",
    "\n",
    "flag = 'ДА'\n",
    "for a, b in zip(lst_in, new_lst):\n",
    "    if a != b:\n",
    "        flag = 'НЕТ'\n",
    "        break\n",
    "print(flag)"
   ],
   "metadata": {
    "collapsed": false,
    "ExecuteTime": {
     "end_time": "2024-08-25T05:16:15.500669400Z",
     "start_time": "2024-08-25T05:16:15.496661800Z"
    }
   }
  },
  {
   "cell_type": "code",
   "execution_count": 20,
   "outputs": [
    {
     "name": "stdout",
     "output_type": "stream",
     "text": [
      "-56 -1 0 2 3 3 4 5 6\n"
     ]
    }
   ],
   "source": [
    "nums = list(map(int, input().split()))\n",
    "for i in range(len(nums)):\n",
    "    b = nums[i:]\n",
    "    c = min(b)\n",
    "    idx = nums.index(min(nums[i:]), i)\n",
    "    if i == idx:\n",
    "        continue\n",
    "    nums[i], nums[idx] = nums[idx], nums[i]\n",
    "print(*nums)"
   ],
   "metadata": {
    "collapsed": false,
    "ExecuteTime": {
     "end_time": "2024-08-25T11:00:01.176412100Z",
     "start_time": "2024-08-25T11:00:00.032471Z"
    }
   }
  },
  {
   "cell_type": "code",
   "execution_count": 21,
   "outputs": [
    {
     "name": "stdout",
     "output_type": "stream",
     "text": [
      "-56 -1 0 2 3 3 4 5 6\n"
     ]
    }
   ],
   "source": [
    "lst = list(map(int, input().split()))\n",
    "for i in range(len(lst) - 1):\n",
    "    for j in range(len(lst) - 1):\n",
    "        if lst[j] > lst[j + 1]:\n",
    "            lst[j], lst[j + 1] = lst[j + 1], lst[j]\n",
    "print(*lst)"
   ],
   "metadata": {
    "collapsed": false,
    "ExecuteTime": {
     "end_time": "2024-08-25T11:08:13.781264400Z",
     "start_time": "2024-08-25T11:08:12.955888Z"
    }
   }
  },
  {
   "cell_type": "code",
   "execution_count": null,
   "outputs": [],
   "source": [
    "n = int(input())\n",
    "nominal = [64, 32, 16, 8, 4, 2, 1]\n",
    "r = []\n",
    "\n",
    "for i in range(len(nominal)):\n",
    "    if n>=nominal[i]:\n",
    "        k=n//nominal[i]\n",
    "        r.append([nominal[i]]*k)\n",
    "        n=n-nominal[i]*k\n",
    "\n",
    "for numb in r:\n",
    "    print(*numb, end=\" \")"
   ],
   "metadata": {
    "collapsed": false
   }
  },
  {
   "cell_type": "code",
   "execution_count": 26,
   "outputs": [
    {
     "name": "stdout",
     "output_type": "stream",
     "text": [
      "1\n",
      "1 1\n",
      "1 2 1\n",
      "1 3 3 1\n",
      "1 4 6 4 1\n",
      "1 5 10 10 5 1\n",
      "1 6 15 20 15 6 1\n"
     ]
    }
   ],
   "source": [
    "n = int(input())\n",
    "P = []\n",
    "for i in range(n):\n",
    "    row = [1] * (i + 1)\n",
    "    for j in range(i + 1):\n",
    "        if j != 0 and j != i:\n",
    "            row[j] = P[i-1][j-1] + P[i-1][j]\n",
    "    P.append(row)\n",
    "\n",
    "for i in P:\n",
    "    print(*i)"
   ],
   "metadata": {
    "collapsed": false,
    "ExecuteTime": {
     "end_time": "2024-08-25T11:28:08.356645500Z",
     "start_time": "2024-08-25T11:28:07.812936600Z"
    }
   }
  },
  {
   "cell_type": "code",
   "execution_count": null,
   "outputs": [],
   "source": [
    "f_lst = list(map(float, input().split()))\n",
    "lst_abs = [abs(x) for x in f_lst]\n",
    "print(lst_abs)"
   ],
   "metadata": {
    "collapsed": false
   }
  },
  {
   "cell_type": "code",
   "execution_count": null,
   "outputs": [],
   "source": [
    "num = input()\n",
    "print([int(i) for i in num])"
   ],
   "metadata": {
    "collapsed": false
   }
  },
  {
   "cell_type": "code",
   "execution_count": 31,
   "outputs": [
    {
     "name": "stdout",
     "output_type": "stream",
     "text": [
      "1 0 0 0\n",
      "0 1 0 0\n",
      "0 0 1 0\n",
      "0 0 0 1\n"
     ]
    }
   ],
   "source": [
    "n = int(input())\n",
    "lst = [[0 for _ in range(n)] for _ in range(n)]\n",
    "for i in range(n):\n",
    "    lst[i][i] = 1\n",
    "    print(*lst[i])"
   ],
   "metadata": {
    "collapsed": false,
    "ExecuteTime": {
     "end_time": "2024-08-25T13:00:25.321810400Z",
     "start_time": "2024-08-25T13:00:24.937284800Z"
    }
   }
  },
  {
   "cell_type": "code",
   "execution_count": 33,
   "outputs": [
    {
     "name": "stdout",
     "output_type": "stream",
     "text": [
      "Казань Москва Челябинск Самара\n"
     ]
    }
   ],
   "source": [
    "print(*[i for i in input().split() if len(i) > 5])"
   ],
   "metadata": {
    "collapsed": false,
    "ExecuteTime": {
     "end_time": "2024-08-25T13:01:54.228740600Z",
     "start_time": "2024-08-25T13:01:53.183465500Z"
    }
   }
  },
  {
   "cell_type": "code",
   "execution_count": 36,
   "outputs": [
    {
     "name": "stdout",
     "output_type": "stream",
     "text": [
      "1 2 5 10\n"
     ]
    }
   ],
   "source": [
    "n = int(input())\n",
    "print(*[x for x in range(1, n+1) if n % x == 0])"
   ],
   "metadata": {
    "collapsed": false,
    "ExecuteTime": {
     "end_time": "2024-08-25T13:05:45.828110500Z",
     "start_time": "2024-08-25T13:05:44.819872200Z"
    }
   }
  },
  {
   "cell_type": "code",
   "execution_count": 39,
   "outputs": [
    {
     "name": "stdout",
     "output_type": "stream",
     "text": [
      "0 0 0 0\n",
      "1 1 1 1\n",
      "2 2 2 2\n",
      "3 3 3 3\n"
     ]
    }
   ],
   "source": [
    "n = int(input())\n",
    "lst = [[1 * j for i in range(n)] for j in range(n)]\n",
    "for i in lst:\n",
    "    print(*i)"
   ],
   "metadata": {
    "collapsed": false,
    "ExecuteTime": {
     "end_time": "2024-08-25T13:08:20.489189300Z",
     "start_time": "2024-08-25T13:08:19.386468500Z"
    }
   }
  },
  {
   "cell_type": "code",
   "execution_count": 40,
   "outputs": [
    {
     "name": "stdout",
     "output_type": "stream",
     "text": [
      "8.5 1.0 11.34\n"
     ]
    }
   ],
   "source": [
    "lst = list(map(float, input().split()))\n",
    "print(*[x for x in lst if lst.index(x) % 2 == 0])\n"
   ],
   "metadata": {
    "collapsed": false,
    "ExecuteTime": {
     "end_time": "2024-08-25T13:12:00.361652700Z",
     "start_time": "2024-08-25T13:11:55.371700Z"
    }
   }
  },
  {
   "cell_type": "code",
   "execution_count": 42,
   "outputs": [
    {
     "name": "stdout",
     "output_type": "stream",
     "text": [
      "[]\n"
     ]
    }
   ],
   "source": [
    "lst_1 = list(map(int, input().split()))\n",
    "lst_2 = list(map(int, input().split()))\n",
    "lst_3 = [x + y for x,y in zip(lst_1, lst_2)]\n",
    "print(*lst_3)"
   ],
   "metadata": {
    "collapsed": false,
    "ExecuteTime": {
     "end_time": "2024-08-25T13:19:46.870745100Z",
     "start_time": "2024-08-25T13:19:44.857516600Z"
    }
   }
  },
  {
   "cell_type": "code",
   "execution_count": 43,
   "outputs": [
    {
     "name": "stdout",
     "output_type": "stream",
     "text": [
      "[['Москва', 15000], ['Уфа', 1200], ['Самара', 1090], ['Казань', 1300]]\n"
     ]
    }
   ],
   "source": [
    "inp_str = input().split()\n",
    "lst = [[inp_str[i], int(inp_str[i+1])] for i in range(0, len(inp_str) - 1, 2)]\n",
    "print(lst)"
   ],
   "metadata": {
    "collapsed": false,
    "ExecuteTime": {
     "end_time": "2024-08-25T13:23:02.325301900Z",
     "start_time": "2024-08-25T13:23:01.341522500Z"
    }
   }
  },
  {
   "cell_type": "code",
   "execution_count": 47,
   "outputs": [
    {
     "name": "stdout",
     "output_type": "stream",
     "text": [
      "[(0, 0), (0, 2)]\n"
     ]
    }
   ],
   "source": [
    "print([(i, j) for i in range(3) if i % 3 == 0 for j in range(4) if j % 2 == 0])"
   ],
   "metadata": {
    "collapsed": false,
    "ExecuteTime": {
     "end_time": "2024-08-25T14:54:18.648349800Z",
     "start_time": "2024-08-25T14:54:18.606314500Z"
    }
   }
  },
  {
   "cell_type": "code",
   "execution_count": 48,
   "outputs": [
    {
     "name": "stdout",
     "output_type": "stream",
     "text": [
      "['0 * 0 = 0', '0 * 1 = 0', '0 * 2 = 0', '0 * 3 = 0', '0 * 4 = 0', '1 * 0 = 0', '1 * 1 = 1', '1 * 2 = 2', '1 * 3 = 3', '1 * 4 = 4', '2 * 0 = 0', '2 * 1 = 2', '2 * 2 = 4', '2 * 3 = 6', '2 * 4 = 8', '3 * 0 = 0', '3 * 1 = 3', '3 * 2 = 6', '3 * 3 = 9', '3 * 4 = 12', '4 * 0 = 0', '4 * 1 = 4', '4 * 2 = 8', '4 * 3 = 12', '4 * 4 = 16']\n"
     ]
    }
   ],
   "source": [
    "print([f'{i} * {j} = {i*j}' for i in range(5) for j in range(5)])"
   ],
   "metadata": {
    "collapsed": false,
    "ExecuteTime": {
     "end_time": "2024-08-25T14:55:14.482821900Z",
     "start_time": "2024-08-25T14:55:14.472822700Z"
    }
   }
  },
  {
   "cell_type": "code",
   "execution_count": 50,
   "outputs": [
    {
     "name": "stdout",
     "output_type": "stream",
     "text": [
      "[0, 1, 2, 3, 10, 12, 13, 14, 11, 1, 2, 1]\n"
     ]
    }
   ],
   "source": [
    "a = [[0, 1, 2, 3], [10, 12, 13, 14], [11, 1, 2, 1]]\n",
    "print([x for row in a for x in row])"
   ],
   "metadata": {
    "collapsed": false,
    "ExecuteTime": {
     "end_time": "2024-08-25T14:57:16.781582600Z",
     "start_time": "2024-08-25T14:57:16.776118800Z"
    }
   }
  },
  {
   "cell_type": "code",
   "execution_count": 51,
   "outputs": [
    {
     "name": "stdout",
     "output_type": "stream",
     "text": [
      "[[0, 1, 2], [0, 1, 2], [0, 1, 2], [0, 1, 2]]\n"
     ]
    }
   ],
   "source": [
    "m, n = 3, 4\n",
    "matrix = [[a for a  in range(m)] for b in range(n)]\n",
    "print(matrix)"
   ],
   "metadata": {
    "collapsed": false,
    "ExecuteTime": {
     "end_time": "2024-08-25T14:58:37.986846400Z",
     "start_time": "2024-08-25T14:58:37.980091300Z"
    }
   }
  },
  {
   "cell_type": "code",
   "execution_count": 52,
   "outputs": [
    {
     "name": "stdout",
     "output_type": "stream",
     "text": [
      "[[1, 4, 9], [16, 25, 36], [49, 64, 81]]\n"
     ]
    }
   ],
   "source": [
    "A = [[1, 2, 3], [4, 5, 6], [7, 8, 9]]\n",
    "A = [[x ** 2 for x in row] for row in A]\n",
    "print(A)"
   ],
   "metadata": {
    "collapsed": false,
    "ExecuteTime": {
     "end_time": "2024-08-25T15:00:19.371409500Z",
     "start_time": "2024-08-25T15:00:19.352094800Z"
    }
   }
  },
  {
   "cell_type": "code",
   "execution_count": 54,
   "outputs": [
    {
     "name": "stdout",
     "output_type": "stream",
     "text": [
      "[[1, 4, 7], [2, 5, 8], [3, 6, 9]]\n"
     ]
    }
   ],
   "source": [
    "A = [[1, 2, 3], [4, 5, 6], [7, 8, 9]]\n",
    "A = [[row[i] for row in A] for i in range(len(A[0]))]\n",
    "print(A)"
   ],
   "metadata": {
    "collapsed": false,
    "ExecuteTime": {
     "end_time": "2024-08-25T15:02:56.666001700Z",
     "start_time": "2024-08-25T15:02:56.658481200Z"
    }
   }
  },
  {
   "cell_type": "code",
   "execution_count": 55,
   "outputs": [
    {
     "name": "stdout",
     "output_type": "stream",
     "text": [
      "2 3 4 5 6 7 8 9 8 7 6 5 4 3 2 1\n"
     ]
    }
   ],
   "source": [
    "lst_in = [[1, 2, 3, 4], [5, 6, 7, 8], [9, 8, 7, 6], [5, 4, 3, 2]]\n",
    "new_lst = [x for y in lst_in for x in y]\n",
    "print(*reversed(new_lst))"
   ],
   "metadata": {
    "collapsed": false,
    "ExecuteTime": {
     "end_time": "2024-08-25T15:10:07.298019Z",
     "start_time": "2024-08-25T15:10:07.274717100Z"
    }
   }
  },
  {
   "cell_type": "code",
   "execution_count": 59,
   "outputs": [
    {
     "name": "stdout",
     "output_type": "stream",
     "text": [
      "[[1, 2, 3], [4, 5, 6], [7, 8, 9]]\n"
     ]
    }
   ],
   "source": [
    "lst_in = list(map(int, input().split()))\n",
    "n = int(pow(len(lst_in), 0.5))\n",
    "lst = [lst_in[i * n : i * n + n] for i in range(n)]\n",
    "print(lst)\n",
    "\n",
    "# l = list(map(int, input().split()))\n",
    "# n = int(len(l)**0.5)\n",
    "# it = iter(l)\n",
    "# m = [[next(it) for y in range(n)] for x in range(n)]\n",
    "#\n",
    "# print(m)"
   ],
   "metadata": {
    "collapsed": false,
    "ExecuteTime": {
     "end_time": "2024-08-25T15:22:49.705602800Z",
     "start_time": "2024-08-25T15:22:48.641422400Z"
    }
   }
  },
  {
   "cell_type": "code",
   "execution_count": 61,
   "outputs": [
    {
     "name": "stdout",
     "output_type": "stream",
     "text": [
      "[['Скажи-ка,', 'дядя,', 'ведь', 'даром'], ['Python', 'выучил', 'каналом'], ['Балакирев', 'раздавал?'], ['Ведь', 'были', 'заданья', 'боевые,'], ['говорят,', 'какие!'], ['Недаром', 'помнит', 'Россия'], ['рубили', 'тогда!']]\n"
     ]
    }
   ],
   "source": [
    "t = [\"– Скажи-ка, дядя, ведь не даром\",\n",
    "    \"Я Python выучил с каналом\",\n",
    "    \"Балакирев что раздавал?\",\n",
    "    \"Ведь были ж заданья боевые,\",\n",
    "    \"Да, говорят, еще какие!\",\n",
    "    \"Недаром помнит вся Россия\",\n",
    "    \"Как мы рубили их тогда!\"\n",
    "    ]\n",
    "print([[y for y in x.split() if len(y) > 3] for x in t])"
   ],
   "metadata": {
    "collapsed": false,
    "ExecuteTime": {
     "end_time": "2024-08-25T15:25:54.872647100Z",
     "start_time": "2024-08-25T15:25:54.868640300Z"
    }
   }
  }
 ],
 "metadata": {
  "kernelspec": {
   "display_name": "Python 3",
   "language": "python",
   "name": "python3"
  },
  "language_info": {
   "codemirror_mode": {
    "name": "ipython",
    "version": 2
   },
   "file_extension": ".py",
   "mimetype": "text/x-python",
   "name": "python",
   "nbconvert_exporter": "python",
   "pygments_lexer": "ipython2",
   "version": "2.7.6"
  }
 },
 "nbformat": 4,
 "nbformat_minor": 5
}
