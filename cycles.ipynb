{
 "cells": [
  {
   "cell_type": "code",
   "execution_count": 2,
   "id": "initial_id",
   "metadata": {
    "collapsed": true,
    "ExecuteTime": {
     "end_time": "2024-08-12T06:12:24.421110300Z",
     "start_time": "2024-08-12T06:12:23.174713300Z"
    }
   },
   "outputs": [
    {
     "name": "stdout",
     "output_type": "stream",
     "text": [
      "4 9 16 "
     ]
    }
   ],
   "source": [
    "n, m = map(int, input().split())\n",
    "while n <= m:\n",
    "    print(n**2, end=' ')\n",
    "    n += 1"
   ]
  },
  {
   "cell_type": "code",
   "execution_count": 4,
   "outputs": [
    {
     "name": "stdout",
     "output_type": "stream",
     "text": [
      "86.4 129.6 172.8 216.0 259.2 302.4 345.6 388.8 432.0 475.2 518.4 "
     ]
    }
   ],
   "source": [
    "price = float(input())\n",
    "i = 2\n",
    "while i <= 10:\n",
    "    print(round(price*i, 2), end=' ')\n",
    "    i += 1"
   ],
   "metadata": {
    "collapsed": false,
    "ExecuteTime": {
     "end_time": "2024-08-12T06:18:24.625390300Z",
     "start_time": "2024-08-12T06:18:21.710820400Z"
    }
   },
   "id": "4be7630590d6480a"
  },
  {
   "cell_type": "code",
   "execution_count": 9,
   "outputs": [
    {
     "name": "stdout",
     "output_type": "stream",
     "text": [
      "2.593\n"
     ]
    }
   ],
   "source": [
    "n = int(input())\n",
    "i = 1\n",
    "sum = 0\n",
    "while i <= n:\n",
    "    sum += 1/i\n",
    "    i += 1\n",
    "print(round(sum, 3))"
   ],
   "metadata": {
    "collapsed": false,
    "ExecuteTime": {
     "end_time": "2024-08-12T06:27:00.734511300Z",
     "start_time": "2024-08-12T06:26:59.681917100Z"
    }
   },
   "id": "f7f5a6c6ef8b8f4f"
  },
  {
   "cell_type": "code",
   "execution_count": 11,
   "outputs": [
    {
     "name": "stdout",
     "output_type": "stream",
     "text": [
      "13\n"
     ]
    }
   ],
   "source": [
    "sum_i = 0\n",
    "n = int(input())\n",
    "while n != 0:\n",
    "    sum_i += n\n",
    "    n = int(input())\n",
    "print(sum_i)"
   ],
   "metadata": {
    "collapsed": false,
    "ExecuteTime": {
     "end_time": "2024-08-12T06:28:20.102521400Z",
     "start_time": "2024-08-12T06:28:17.164077300Z"
    }
   },
   "id": "fb34145ff783fc19"
  },
  {
   "cell_type": "code",
   "execution_count": 14,
   "outputs": [
    {
     "name": "stdout",
     "output_type": "stream",
     "text": [
      "osnovnye-metody-slovarey\n"
     ]
    }
   ],
   "source": [
    "slag = input()\n",
    "while '--' in slag:\n",
    "    slag = slag.replace('--', '-')\n",
    "print(slag)"
   ],
   "metadata": {
    "collapsed": false,
    "ExecuteTime": {
     "end_time": "2024-08-12T06:31:39.874548200Z",
     "start_time": "2024-08-12T06:31:35.982831100Z"
    }
   },
   "id": "612383b6bb40812f"
  },
  {
   "cell_type": "code",
   "execution_count": 16,
   "outputs": [
    {
     "name": "stdout",
     "output_type": "stream",
     "text": [
      "192\n"
     ]
    }
   ],
   "source": [
    "num = int(input())\n",
    "sum = 1\n",
    "while num > 0:\n",
    "    sum *= num%10\n",
    "    num //= 10\n",
    "print(sum)"
   ],
   "metadata": {
    "collapsed": false,
    "ExecuteTime": {
     "end_time": "2024-08-12T06:42:15.967779Z",
     "start_time": "2024-08-12T06:42:13.707375800Z"
    }
   },
   "id": "4d3dbb46eb98a4a"
  },
  {
   "cell_type": "code",
   "execution_count": 19,
   "outputs": [
    {
     "name": "stdout",
     "output_type": "stream",
     "text": [
      "1 1 2 3 5 8 13 21\n"
     ]
    }
   ],
   "source": [
    "n = int(input())\n",
    "s = [1, 1]\n",
    "i = 2\n",
    "while i < n:\n",
    "    s.append(s[i-1]+s[i-2])\n",
    "    i += 1\n",
    "print(*s)"
   ],
   "metadata": {
    "collapsed": false,
    "ExecuteTime": {
     "end_time": "2024-08-12T06:52:02.162267500Z",
     "start_time": "2024-08-12T06:52:00.985696Z"
    }
   },
   "id": "a49edf4304117e5f"
  },
  {
   "cell_type": "code",
   "execution_count": 21,
   "outputs": [
    {
     "name": "stdout",
     "output_type": "stream",
     "text": [
      "8\n"
     ]
    }
   ],
   "source": [
    "n = int(input())\n",
    "hours = n//3\n",
    "s = 1\n",
    "while hours > 0:\n",
    "    s *=2\n",
    "    hours -=1\n",
    "print(s)"
   ],
   "metadata": {
    "collapsed": false,
    "ExecuteTime": {
     "end_time": "2024-08-12T06:54:24.546187700Z",
     "start_time": "2024-08-12T06:54:23.400873300Z"
    }
   },
   "id": "5ec3231b0945984c"
  },
  {
   "cell_type": "code",
   "execution_count": 25,
   "outputs": [
    {
     "name": "stdout",
     "output_type": "stream",
     "text": [
      "1276.28\n"
     ]
    }
   ],
   "source": [
    "n = int(input())\n",
    "s = 1000\n",
    "pr = 5\n",
    "while n > 0:\n",
    "    s += s * 0.05\n",
    "    n -= 1\n",
    "print(round(s, 2))"
   ],
   "metadata": {
    "collapsed": false,
    "ExecuteTime": {
     "end_time": "2024-08-12T06:57:16.923003200Z",
     "start_time": "2024-08-12T06:57:15.944530100Z"
    }
   },
   "id": "e2216b5af64b7f67"
  },
  {
   "cell_type": "code",
   "execution_count": 26,
   "outputs": [
    {
     "name": "stdout",
     "output_type": "stream",
     "text": [
      "1 3 5 7 9\n"
     ]
    }
   ],
   "source": [
    "n, m = map(int, input().split())\n",
    "lst = list(range(n+1, m, 2))\n",
    "print(*lst)\n",
    "    "
   ],
   "metadata": {
    "collapsed": false,
    "ExecuteTime": {
     "end_time": "2024-08-12T07:02:33.146482100Z",
     "start_time": "2024-08-12T07:02:30.944805100Z"
    }
   },
   "id": "490782a6a5fed7d0"
  },
  {
   "cell_type": "code",
   "execution_count": 33,
   "outputs": [
    {
     "name": "stdout",
     "output_type": "stream",
     "text": [
      "231 372 513 654 795 936\n"
     ]
    }
   ],
   "source": [
    "lst = []\n",
    "i = 231\n",
    "while i < 1000:\n",
    "    if i % 3 == 0:\n",
    "        lst.append(i)\n",
    "    i += 47\n",
    "print(*lst)"
   ],
   "metadata": {
    "collapsed": false,
    "ExecuteTime": {
     "end_time": "2024-08-12T07:51:10.797582300Z",
     "start_time": "2024-08-12T07:51:10.795066700Z"
    }
   },
   "id": "31e8ad08b670095e"
  },
  {
   "cell_type": "code",
   "execution_count": 6,
   "outputs": [
    {
     "name": "stdout",
     "output_type": "stream",
     "text": [
      "0 1 1 1 1 0 1 1 0 0\n"
     ]
    }
   ],
   "source": [
    "p = [0] * 10\n",
    "i = 0\n",
    "while i <= 5:\n",
    "    d = int(input())\n",
    "    if p[d] == 1:\n",
    "        continue\n",
    "    p[d] = 1\n",
    "    i += 1\n",
    "print(*p)"
   ],
   "metadata": {
    "collapsed": false,
    "ExecuteTime": {
     "end_time": "2024-08-13T07:49:44.253403400Z",
     "start_time": "2024-08-13T07:49:38.222992800Z"
    }
   },
   "id": "9fb61c091b5a4d53"
  },
  {
   "cell_type": "code",
   "execution_count": 3,
   "outputs": [
    {
     "name": "stdout",
     "output_type": "stream",
     "text": [
      "84\n"
     ]
    }
   ],
   "source": [
    "s = 1\n",
    "d = 1\n",
    "while d != 0:\n",
    "    d = int(input())\n",
    "    if d <= 0:\n",
    "        continue\n",
    "    s *= d\n",
    "print(s)"
   ],
   "metadata": {
    "collapsed": false,
    "ExecuteTime": {
     "end_time": "2024-08-13T07:47:48.394038100Z",
     "start_time": "2024-08-13T07:47:39.879381300Z"
    }
   },
   "id": "ceec67cf3ac7999a"
  },
  {
   "cell_type": "code",
   "execution_count": null,
   "outputs": [],
   "source": [
    "cities = input().split()\n",
    "flag = True\n",
    "while cities:\n",
    "    if len(cities.pop()) < 5:\n",
    "        flag = False\n",
    "        break\n",
    "\n",
    "print('ДА' if flag else 'НЕТ')"
   ],
   "metadata": {
    "collapsed": false
   },
   "id": "21c5d5c04175bfef"
  },
  {
   "cell_type": "code",
   "execution_count": 16,
   "outputs": [
    {
     "name": "stdout",
     "output_type": "stream",
     "text": [
      "Федор\n",
      "Михаил\n",
      "Сергей\n",
      "Иван\n",
      "Анна\n",
      "Петр\n",
      "НЕТ\n"
     ]
    }
   ],
   "source": [
    "names = input().split()\n",
    "flag = 'НЕТ'\n",
    "while names:\n",
    "    a = names.pop()\n",
    "    if a[0].lower() == a[-1].lower():\n",
    "        flag = 'ДА'\n",
    "        break\n",
    "print(flag)"
   ],
   "metadata": {
    "collapsed": false,
    "ExecuteTime": {
     "end_time": "2024-08-13T08:11:11.717470900Z",
     "start_time": "2024-08-13T08:11:10.727173Z"
    }
   },
   "id": "96fcabfb24718c05"
  },
  {
   "cell_type": "code",
   "execution_count": 24,
   "outputs": [
    {
     "name": "stdout",
     "output_type": "stream",
     "text": [
      "15 "
     ]
    }
   ],
   "source": [
    "n = int(input())\n",
    "i = 1\n",
    "while i <= n and n < 100:\n",
    "    if i % 3 == 0 and i % 5 == 0:\n",
    "        print(i, end=' ')\n",
    "    if i == n:\n",
    "        break\n",
    "    i += 1\n",
    "else:\n",
    "    print(\"слишком большое значение n\")\n"
   ],
   "metadata": {
    "collapsed": false,
    "ExecuteTime": {
     "end_time": "2024-08-13T08:17:54.361338400Z",
     "start_time": "2024-08-13T08:17:53.116504600Z"
    }
   },
   "id": "f89a92deeaf7546c"
  },
  {
   "cell_type": "code",
   "execution_count": 26,
   "outputs": [
    {
     "name": "stdout",
     "output_type": "stream",
     "text": [
      "13\n"
     ]
    }
   ],
   "source": [
    "n = int(input())\n",
    "i = 1\n",
    "while True:\n",
    "    if i ** 2 > n:\n",
    "        print(i)\n",
    "        break\n",
    "    i += 1\n"
   ],
   "metadata": {
    "collapsed": false,
    "ExecuteTime": {
     "end_time": "2024-08-13T08:18:19.661968500Z",
     "start_time": "2024-08-13T08:18:18.253772200Z"
    }
   },
   "id": "96afb60239726e82"
  },
  {
   "cell_type": "code",
   "execution_count": 33,
   "outputs": [
    {
     "name": "stdout",
     "output_type": "stream",
     "text": [
      "2\n"
     ]
    }
   ],
   "source": [
    "# put your python code here\n",
    "x = int(input())\n",
    "n = 10\n",
    "i = 1\n",
    "while n <= x:\n",
    "    n += n * 0.1\n",
    "    i += 1\n",
    "print(i)"
   ],
   "metadata": {
    "collapsed": false,
    "ExecuteTime": {
     "end_time": "2024-08-13T08:25:59.879763900Z",
     "start_time": "2024-08-13T08:25:58.875817900Z"
    }
   },
   "id": "2e6591f7c428f12f"
  },
  {
   "cell_type": "code",
   "execution_count": 40,
   "outputs": [
    {
     "name": "stdout",
     "output_type": "stream",
     "text": [
      "Муму Сияние Колобок\n"
     ]
    }
   ],
   "source": [
    "lst_in = ['Муму', 'Евгений Онегин', 'Сияние', 'Мастер и Маргарита', 'Пиковая дама', 'Колобок']\n",
    "i = 0\n",
    "new_lst = []\n",
    "while i < len(lst_in):\n",
    "    if len(lst_in[i].split()) == 1:\n",
    "        new_lst.append(lst_in[i])\n",
    "    i += 1\n",
    "print(*new_lst)"
   ],
   "metadata": {
    "collapsed": false,
    "ExecuteTime": {
     "end_time": "2024-08-13T08:31:15.337686100Z",
     "start_time": "2024-08-13T08:31:15.332948100Z"
    }
   },
   "id": "295f03316fe03a18"
  },
  {
   "cell_type": "code",
   "execution_count": 2,
   "outputs": [
    {
     "name": "stdout",
     "output_type": "stream",
     "text": [
      "0 1 2 3 4 5 6 7 8 9 10 "
     ]
    }
   ],
   "source": [
    "for i in range(11):\n",
    "    print(i, end=' ')"
   ],
   "metadata": {
    "collapsed": false,
    "ExecuteTime": {
     "end_time": "2024-08-14T07:23:28.406724Z",
     "start_time": "2024-08-14T07:23:28.401904400Z"
    }
   },
   "id": "934d616466f26904"
  },
  {
   "cell_type": "code",
   "execution_count": 3,
   "outputs": [
    {
     "name": "stdout",
     "output_type": "stream",
     "text": [
      "50\n"
     ]
    }
   ],
   "source": [
    "nums = list(map(int, input().split()))\n",
    "s = 0\n",
    "for i in nums:\n",
    "    if i%2 == 1:\n",
    "        s += i\n",
    "print(s)"
   ],
   "metadata": {
    "collapsed": false,
    "ExecuteTime": {
     "end_time": "2024-08-14T07:25:32.229847700Z",
     "start_time": "2024-08-14T07:25:30.762229Z"
    }
   },
   "id": "e91306e032512c30"
  },
  {
   "cell_type": "code",
   "execution_count": 5,
   "outputs": [
    {
     "name": "stdout",
     "output_type": "stream",
     "text": [
      "['Москва', 'Уфа', 'Караганда', 'Тверь', 'Минск', 'Казань']\n",
      "6 3 9 5 5 6\n"
     ]
    }
   ],
   "source": [
    "cities = input().split()\n",
    "print(cities)\n",
    "for i in range(len(cities)):\n",
    "    cities[i] = len(cities[i])\n",
    "print(*cities)"
   ],
   "metadata": {
    "collapsed": false,
    "ExecuteTime": {
     "end_time": "2024-08-14T07:27:37.478857Z",
     "start_time": "2024-08-14T07:27:36.803399500Z"
    }
   },
   "id": "b4be0be3af616895"
  },
  {
   "cell_type": "code",
   "execution_count": 8,
   "outputs": [
    {
     "name": "stdout",
     "output_type": "stream",
     "text": [
      "1\n",
      "2\n",
      "3\n",
      "4\n",
      "6\n",
      "12\n"
     ]
    }
   ],
   "source": [
    "n = int(input())\n",
    "for i in range(1, n+1):\n",
    "    if n % i == 0:\n",
    "        print(i)"
   ],
   "metadata": {
    "collapsed": false,
    "ExecuteTime": {
     "end_time": "2024-08-14T07:29:04.761631Z",
     "start_time": "2024-08-14T07:29:03.986005700Z"
    }
   },
   "id": "60cdf4d4f4c5865d"
  },
  {
   "cell_type": "code",
   "execution_count": 9,
   "outputs": [
    {
     "name": "stdout",
     "output_type": "stream",
     "text": [
      "ДА\n"
     ]
    }
   ],
   "source": [
    "n = int(input())\n",
    "flag = 'ДА'\n",
    "for i in range(2, n//2):\n",
    "    if n % i == 0:\n",
    "        flag = 'НЕТ'\n",
    "        break\n",
    "print(flag)"
   ],
   "metadata": {
    "collapsed": false,
    "ExecuteTime": {
     "end_time": "2024-08-14T07:31:59.943712200Z",
     "start_time": "2024-08-14T07:31:56.819291100Z"
    }
   },
   "id": "d065dc929274b8f8"
  },
  {
   "cell_type": "code",
   "execution_count": 14,
   "outputs": [
    {
     "name": "stdout",
     "output_type": "stream",
     "text": [
      "ДА\n"
     ]
    }
   ],
   "source": [
    "cities = input().split()\n",
    "flag = 'ДА'\n",
    "for i in range(len(cities)):\n",
    "    if i == 0:\n",
    "        continue\n",
    "    n = -1 if cities[i-1][-1] not in ['ь', 'ъ', 'ы'] else -2\n",
    "    if cities[i-1][n] != cities[i][0].lower():\n",
    "        flag = 'НЕТ'\n",
    "        break\n",
    "print(flag)"
   ],
   "metadata": {
    "collapsed": false,
    "ExecuteTime": {
     "end_time": "2024-08-14T07:38:40.553191100Z",
     "start_time": "2024-08-14T07:38:39.582246Z"
    }
   },
   "id": "e5c05501633d4094"
  },
  {
   "cell_type": "code",
   "execution_count": 19,
   "outputs": [
    {
     "name": "stdout",
     "output_type": "stream",
     "text": [
      "98\n"
     ]
    }
   ],
   "source": [
    "n = int(input())\n",
    "s = 0\n",
    "for i in range(n):\n",
    "    if i % 3 == 0 or i % 5 == 0:\n",
    "        s += i\n",
    "print(s)\n"
   ],
   "metadata": {
    "collapsed": false,
    "ExecuteTime": {
     "end_time": "2024-08-14T07:46:42.950125600Z",
     "start_time": "2024-08-14T07:46:42.062124Z"
    }
   },
   "id": "c76cd91d0aaedfb4"
  },
  {
   "cell_type": "code",
   "execution_count": 1,
   "outputs": [
    {
     "name": "stdout",
     "output_type": "stream",
     "text": [
      "[1, 0, 0, 2, 1, 2421, 0, 0, 0]\n"
     ]
    }
   ],
   "source": [
    "a = [1 , 23, 43, 2, 1,2421, 12, 12, -45]\n",
    "for i, n in enumerate(a):\n",
    "    if 10 <= abs(n) <= 99:\n",
    "        a[i] = 0\n",
    "print(a)"
   ],
   "metadata": {
    "collapsed": false,
    "ExecuteTime": {
     "end_time": "2024-08-15T07:50:54.486001300Z",
     "start_time": "2024-08-15T07:50:54.481993300Z"
    }
   },
   "id": "7dc468a5f6d1e76"
  },
  {
   "cell_type": "code",
   "execution_count": 4,
   "outputs": [
    {
     "name": "stdout",
     "output_type": "stream",
     "text": [
      "programmirovanie-na-python-luchshiy-kurs\n"
     ]
    }
   ],
   "source": [
    "t = ['a', 'b', 'v', 'g', 'd', 'e', 'zh', 'z', 'i', 'y', 'k',\n",
    "     'l', 'm', 'n', 'o', 'p', 'r', 's', 't', 'u', 'f',\n",
    "     'h', 'c', 'ch', 'sh', 'shch', '', 'y', '', 'e', 'yu', 'ya'\n",
    "     ]\n",
    "start_index = ord('а')\n",
    "title = 'Программирование на python - лучший курс'\n",
    "slug = ''\n",
    "for s in title.lower():\n",
    "    if 'а' <= s <= 'я':\n",
    "        slug += t[ord(s) - start_index]\n",
    "    elif s == 'ё':\n",
    "        slug += 'yo'\n",
    "    elif s in ' !?;:.,':\n",
    "        slug += '-'\n",
    "    else:\n",
    "        slug += s\n",
    "while '--' in slug:\n",
    "    slug = slug.replace('--', '-')\n",
    "\n",
    "print(slug)"
   ],
   "metadata": {
    "collapsed": false,
    "ExecuteTime": {
     "end_time": "2024-08-15T07:57:17.465397800Z",
     "start_time": "2024-08-15T07:57:17.460878Z"
    }
   },
   "id": "4be6477a052e17b"
  },
  {
   "cell_type": "code",
   "execution_count": 8,
   "outputs": [
    {
     "name": "stdout",
     "output_type": "stream",
     "text": [
      "-1\n"
     ]
    }
   ],
   "source": [
    "s = input()\n",
    "res = []\n",
    "for i, el in enumerate(s[:-1]):\n",
    "    if el == 'р' and s[i+1] == 'а':\n",
    "        res.append(i)\n",
    "print(*res if res else [-1])"
   ],
   "metadata": {
    "collapsed": false,
    "ExecuteTime": {
     "end_time": "2024-08-15T08:10:59.420251400Z",
     "start_time": "2024-08-15T08:10:58.621378Z"
    }
   },
   "id": "fc8f8141cf001a26"
  },
  {
   "cell_type": "code",
   "execution_count": 9,
   "outputs": [
    {
     "name": "stdout",
     "output_type": "stream",
     "text": [
      "ДА\n"
     ]
    }
   ],
   "source": [
    "s = input()\n",
    "flag = 'ДА'\n",
    "if s[:2] != '+7':\n",
    "    flag = 'НЕТ'\n",
    "elif s[2] != '(' or s[6] != ')':\n",
    "    flag = 'НЕТ'\n",
    "elif s[3:6].isdecimal() != True:\n",
    "    flag = 'НЕТ'\n",
    "elif s[7:].replace('-', '').isdecimal() != True:\n",
    "    flag = 'НЕТ'\n",
    "print(flag)"
   ],
   "metadata": {
    "collapsed": false,
    "ExecuteTime": {
     "end_time": "2024-08-15T08:17:00.488976100Z",
     "start_time": "2024-08-15T08:16:45.167643200Z"
    }
   },
   "id": "e3b65a529358f396"
  },
  {
   "cell_type": "code",
   "execution_count": 11,
   "outputs": [
    {
     "name": "stdout",
     "output_type": "stream",
     "text": [
      "23\n"
     ]
    }
   ],
   "source": [
    "print(sum(map(int, input().replace(' ', '').replace('+', ' +').replace('-', ' -').split())))\n"
   ],
   "metadata": {
    "collapsed": false,
    "ExecuteTime": {
     "end_time": "2024-08-15T08:23:15.051896600Z",
     "start_time": "2024-08-15T08:23:13.951033500Z"
    }
   },
   "id": "6effab81d2ed9fb2"
  },
  {
   "cell_type": "code",
   "execution_count": 13,
   "outputs": [
    {
     "name": "stdout",
     "output_type": "stream",
     "text": [
      "64 121 16 9 36\n"
     ]
    }
   ],
   "source": [
    "lst = list(map(int, input().split()))\n",
    "for i, el in enumerate(lst):\n",
    "    lst[i] = pow(el, 2)\n",
    "print(*lst)"
   ],
   "metadata": {
    "collapsed": false,
    "ExecuteTime": {
     "end_time": "2024-08-15T08:46:13.329504700Z",
     "start_time": "2024-08-15T08:46:12.101519Z"
    }
   },
   "id": "8a8cf968ea6b6ceb"
  },
  {
   "cell_type": "code",
   "execution_count": 22,
   "outputs": [
    {
     "name": "stdout",
     "output_type": "stream",
     "text": [
      "1 1 2 2 3 3\n"
     ]
    }
   ],
   "source": [
    "lst = input().split()\n",
    "for i, el in enumerate(lst):\n",
    "    lst[i] = ((el+' ') * 2).rstrip()\n",
    "print(*lst)"
   ],
   "metadata": {
    "collapsed": false,
    "ExecuteTime": {
     "end_time": "2024-08-15T08:52:14.817852600Z",
     "start_time": "2024-08-15T08:52:13.679252800Z"
    }
   },
   "id": "88a7d6132289b204"
  },
  {
   "cell_type": "code",
   "execution_count": 24,
   "outputs": [
    {
     "name": "stdout",
     "output_type": "stream",
     "text": [
      "-10.0\n"
     ]
    }
   ],
   "source": [
    "lst = map(float, input().split())\n",
    "min_el = None\n",
    "for i in lst:\n",
    "    if min_el is None or i < min_el:\n",
    "        min_el = i\n",
    "print(min_el)"
   ],
   "metadata": {
    "collapsed": false,
    "ExecuteTime": {
     "end_time": "2024-08-15T08:54:40.873065300Z",
     "start_time": "2024-08-15T08:54:39.779871200Z"
    }
   },
   "id": "293b11105f40ac0"
  },
  {
   "cell_type": "code",
   "execution_count": 27,
   "outputs": [
    {
     "name": "stdout",
     "output_type": "stream",
     "text": [
      "-1.0 3.5 6.89 -1.0\n"
     ]
    }
   ],
   "source": [
    "lst = list(map(float, input().split()))\n",
    "for i, el in enumerate(lst):\n",
    "    if el <= 0:\n",
    "        lst[i] = -1.0\n",
    "print(*lst)"
   ],
   "metadata": {
    "collapsed": false,
    "ExecuteTime": {
     "end_time": "2024-08-15T08:56:31.805340Z",
     "start_time": "2024-08-15T08:56:30.958918100Z"
    }
   },
   "id": "c2084dacb3d70b5f"
  },
  {
   "cell_type": "code",
   "execution_count": null,
   "outputs": [],
   "source": [
    "d = [5, 3, 7, 10, 12]\n",
    "iter(d)"
   ],
   "metadata": {
    "collapsed": false
   },
   "id": "f4432448956a0e6b"
  },
  {
   "cell_type": "code",
   "execution_count": null,
   "outputs": [],
   "source": [
    "d = iter(input().split())\n",
    "print(next(d))\n",
    "print(next(d))"
   ],
   "metadata": {
    "collapsed": false
   },
   "id": "d6532f8939a82b63"
  },
  {
   "cell_type": "code",
   "execution_count": null,
   "outputs": [],
   "source": [
    "s = iter(input())\n",
    "d = next(s)\n",
    "while d != ' ':\n",
    "    print(d, end='')\n",
    "    d = next(s)"
   ],
   "metadata": {
    "collapsed": false
   },
   "id": "85f3e777803b8b74"
  },
  {
   "cell_type": "code",
   "execution_count": null,
   "outputs": [],
   "source": [
    "n = iter(input())\n",
    "print(next(n))\n"
   ],
   "metadata": {
    "collapsed": false
   },
   "id": "60371a7c32f057a"
  }
 ],
 "metadata": {
  "kernelspec": {
   "display_name": "Python 3",
   "language": "python",
   "name": "python3"
  },
  "language_info": {
   "codemirror_mode": {
    "name": "ipython",
    "version": 2
   },
   "file_extension": ".py",
   "mimetype": "text/x-python",
   "name": "python",
   "nbconvert_exporter": "python",
   "pygments_lexer": "ipython2",
   "version": "2.7.6"
  }
 },
 "nbformat": 4,
 "nbformat_minor": 5
}
