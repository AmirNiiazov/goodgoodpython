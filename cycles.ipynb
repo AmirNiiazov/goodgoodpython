{
 "cells": [
  {
   "cell_type": "code",
   "execution_count": 2,
   "id": "initial_id",
   "metadata": {
    "collapsed": true,
    "ExecuteTime": {
     "end_time": "2024-08-12T06:12:24.421110300Z",
     "start_time": "2024-08-12T06:12:23.174713300Z"
    }
   },
   "outputs": [
    {
     "name": "stdout",
     "output_type": "stream",
     "text": [
      "4 9 16 "
     ]
    }
   ],
   "source": [
    "n, m = map(int, input().split())\n",
    "while n <= m:\n",
    "    print(n**2, end=' ')\n",
    "    n += 1"
   ]
  },
  {
   "cell_type": "code",
   "execution_count": 4,
   "outputs": [
    {
     "name": "stdout",
     "output_type": "stream",
     "text": [
      "86.4 129.6 172.8 216.0 259.2 302.4 345.6 388.8 432.0 475.2 518.4 "
     ]
    }
   ],
   "source": [
    "price = float(input())\n",
    "i = 2\n",
    "while i <= 10:\n",
    "    print(round(price*i, 2), end=' ')\n",
    "    i += 1"
   ],
   "metadata": {
    "collapsed": false,
    "ExecuteTime": {
     "end_time": "2024-08-12T06:18:24.625390300Z",
     "start_time": "2024-08-12T06:18:21.710820400Z"
    }
   },
   "id": "4be7630590d6480a"
  },
  {
   "cell_type": "code",
   "execution_count": 9,
   "outputs": [
    {
     "name": "stdout",
     "output_type": "stream",
     "text": [
      "2.593\n"
     ]
    }
   ],
   "source": [
    "n = int(input())\n",
    "i = 1\n",
    "sum = 0\n",
    "while i <= n:\n",
    "    sum += 1/i\n",
    "    i += 1\n",
    "print(round(sum, 3))"
   ],
   "metadata": {
    "collapsed": false,
    "ExecuteTime": {
     "end_time": "2024-08-12T06:27:00.734511300Z",
     "start_time": "2024-08-12T06:26:59.681917100Z"
    }
   },
   "id": "f7f5a6c6ef8b8f4f"
  },
  {
   "cell_type": "code",
   "execution_count": 11,
   "outputs": [
    {
     "name": "stdout",
     "output_type": "stream",
     "text": [
      "13\n"
     ]
    }
   ],
   "source": [
    "sum_i = 0\n",
    "n = int(input())\n",
    "while n != 0:\n",
    "    sum_i += n\n",
    "    n = int(input())\n",
    "print(sum_i)"
   ],
   "metadata": {
    "collapsed": false,
    "ExecuteTime": {
     "end_time": "2024-08-12T06:28:20.102521400Z",
     "start_time": "2024-08-12T06:28:17.164077300Z"
    }
   },
   "id": "fb34145ff783fc19"
  },
  {
   "cell_type": "code",
   "execution_count": 14,
   "outputs": [
    {
     "name": "stdout",
     "output_type": "stream",
     "text": [
      "osnovnye-metody-slovarey\n"
     ]
    }
   ],
   "source": [
    "slag = input()\n",
    "while '--' in slag:\n",
    "    slag = slag.replace('--', '-')\n",
    "print(slag)"
   ],
   "metadata": {
    "collapsed": false,
    "ExecuteTime": {
     "end_time": "2024-08-12T06:31:39.874548200Z",
     "start_time": "2024-08-12T06:31:35.982831100Z"
    }
   },
   "id": "612383b6bb40812f"
  },
  {
   "cell_type": "code",
   "execution_count": 16,
   "outputs": [
    {
     "name": "stdout",
     "output_type": "stream",
     "text": [
      "192\n"
     ]
    }
   ],
   "source": [
    "num = int(input())\n",
    "sum = 1\n",
    "while num > 0:\n",
    "    sum *= num%10\n",
    "    num //= 10\n",
    "print(sum)"
   ],
   "metadata": {
    "collapsed": false,
    "ExecuteTime": {
     "end_time": "2024-08-12T06:42:15.967779Z",
     "start_time": "2024-08-12T06:42:13.707375800Z"
    }
   },
   "id": "4d3dbb46eb98a4a"
  },
  {
   "cell_type": "code",
   "execution_count": 19,
   "outputs": [
    {
     "name": "stdout",
     "output_type": "stream",
     "text": [
      "1 1 2 3 5 8 13 21\n"
     ]
    }
   ],
   "source": [
    "n = int(input())\n",
    "s = [1, 1]\n",
    "i = 2\n",
    "while i < n:\n",
    "    s.append(s[i-1]+s[i-2])\n",
    "    i += 1\n",
    "print(*s)"
   ],
   "metadata": {
    "collapsed": false,
    "ExecuteTime": {
     "end_time": "2024-08-12T06:52:02.162267500Z",
     "start_time": "2024-08-12T06:52:00.985696Z"
    }
   },
   "id": "a49edf4304117e5f"
  },
  {
   "cell_type": "code",
   "execution_count": 21,
   "outputs": [
    {
     "name": "stdout",
     "output_type": "stream",
     "text": [
      "8\n"
     ]
    }
   ],
   "source": [
    "n = int(input())\n",
    "hours = n//3\n",
    "s = 1\n",
    "while hours > 0:\n",
    "    s *=2\n",
    "    hours -=1\n",
    "print(s)"
   ],
   "metadata": {
    "collapsed": false,
    "ExecuteTime": {
     "end_time": "2024-08-12T06:54:24.546187700Z",
     "start_time": "2024-08-12T06:54:23.400873300Z"
    }
   },
   "id": "5ec3231b0945984c"
  },
  {
   "cell_type": "code",
   "execution_count": 25,
   "outputs": [
    {
     "name": "stdout",
     "output_type": "stream",
     "text": [
      "1276.28\n"
     ]
    }
   ],
   "source": [
    "n = int(input())\n",
    "s = 1000\n",
    "pr = 5\n",
    "while n > 0:\n",
    "    s += s * 0.05\n",
    "    n -= 1\n",
    "print(round(s, 2))"
   ],
   "metadata": {
    "collapsed": false,
    "ExecuteTime": {
     "end_time": "2024-08-12T06:57:16.923003200Z",
     "start_time": "2024-08-12T06:57:15.944530100Z"
    }
   },
   "id": "e2216b5af64b7f67"
  },
  {
   "cell_type": "code",
   "execution_count": 26,
   "outputs": [
    {
     "name": "stdout",
     "output_type": "stream",
     "text": [
      "1 3 5 7 9\n"
     ]
    }
   ],
   "source": [
    "n, m = map(int, input().split())\n",
    "lst = list(range(n+1, m, 2))\n",
    "print(*lst)\n",
    "    "
   ],
   "metadata": {
    "collapsed": false,
    "ExecuteTime": {
     "end_time": "2024-08-12T07:02:33.146482100Z",
     "start_time": "2024-08-12T07:02:30.944805100Z"
    }
   },
   "id": "490782a6a5fed7d0"
  },
  {
   "cell_type": "code",
   "execution_count": 33,
   "outputs": [
    {
     "name": "stdout",
     "output_type": "stream",
     "text": [
      "231 372 513 654 795 936\n"
     ]
    }
   ],
   "source": [
    "lst = []\n",
    "i = 231\n",
    "while i < 1000:\n",
    "    if i % 3 == 0:\n",
    "        lst.append(i)\n",
    "    i += 47\n",
    "print(*lst)"
   ],
   "metadata": {
    "collapsed": false,
    "ExecuteTime": {
     "end_time": "2024-08-12T07:51:10.797582300Z",
     "start_time": "2024-08-12T07:51:10.795066700Z"
    }
   },
   "id": "31e8ad08b670095e"
  },
  {
   "cell_type": "code",
   "execution_count": 6,
   "outputs": [
    {
     "name": "stdout",
     "output_type": "stream",
     "text": [
      "0 1 1 1 1 0 1 1 0 0\n"
     ]
    }
   ],
   "source": [
    "p = [0] * 10\n",
    "i = 0\n",
    "while i <= 5:\n",
    "    d = int(input())\n",
    "    if p[d] == 1:\n",
    "        continue\n",
    "    p[d] = 1\n",
    "    i += 1\n",
    "print(*p)"
   ],
   "metadata": {
    "collapsed": false,
    "ExecuteTime": {
     "end_time": "2024-08-13T07:49:44.253403400Z",
     "start_time": "2024-08-13T07:49:38.222992800Z"
    }
   },
   "id": "9fb61c091b5a4d53"
  },
  {
   "cell_type": "code",
   "execution_count": 3,
   "outputs": [
    {
     "name": "stdout",
     "output_type": "stream",
     "text": [
      "84\n"
     ]
    }
   ],
   "source": [
    "s = 1\n",
    "d = 1\n",
    "while d != 0:\n",
    "    d = int(input())\n",
    "    if d <= 0:\n",
    "        continue\n",
    "    s *= d\n",
    "print(s)"
   ],
   "metadata": {
    "collapsed": false,
    "ExecuteTime": {
     "end_time": "2024-08-13T07:47:48.394038100Z",
     "start_time": "2024-08-13T07:47:39.879381300Z"
    }
   },
   "id": "ceec67cf3ac7999a"
  },
  {
   "cell_type": "code",
   "execution_count": null,
   "outputs": [],
   "source": [
    "cities = input().split()\n",
    "flag = True\n",
    "while cities:\n",
    "    if len(cities.pop()) < 5:\n",
    "        flag = False\n",
    "        break\n",
    "\n",
    "print('ДА' if flag else 'НЕТ')"
   ],
   "metadata": {
    "collapsed": false
   },
   "id": "21c5d5c04175bfef"
  },
  {
   "cell_type": "code",
   "execution_count": 16,
   "outputs": [
    {
     "name": "stdout",
     "output_type": "stream",
     "text": [
      "Федор\n",
      "Михаил\n",
      "Сергей\n",
      "Иван\n",
      "Анна\n",
      "Петр\n",
      "НЕТ\n"
     ]
    }
   ],
   "source": [
    "names = input().split()\n",
    "flag = 'НЕТ'\n",
    "while names:\n",
    "    a = names.pop()\n",
    "    if a[0].lower() == a[-1].lower():\n",
    "        flag = 'ДА'\n",
    "        break\n",
    "print(flag)"
   ],
   "metadata": {
    "collapsed": false,
    "ExecuteTime": {
     "end_time": "2024-08-13T08:11:11.717470900Z",
     "start_time": "2024-08-13T08:11:10.727173Z"
    }
   },
   "id": "96fcabfb24718c05"
  },
  {
   "cell_type": "code",
   "execution_count": 24,
   "outputs": [
    {
     "name": "stdout",
     "output_type": "stream",
     "text": [
      "15 "
     ]
    }
   ],
   "source": [
    "n = int(input())\n",
    "i = 1\n",
    "while i <= n and n < 100:\n",
    "    if i % 3 == 0 and i % 5 == 0:\n",
    "        print(i, end=' ')\n",
    "    if i == n:\n",
    "        break\n",
    "    i += 1\n",
    "else:\n",
    "    print(\"слишком большое значение n\")\n"
   ],
   "metadata": {
    "collapsed": false,
    "ExecuteTime": {
     "end_time": "2024-08-13T08:17:54.361338400Z",
     "start_time": "2024-08-13T08:17:53.116504600Z"
    }
   },
   "id": "f89a92deeaf7546c"
  },
  {
   "cell_type": "code",
   "execution_count": 26,
   "outputs": [
    {
     "name": "stdout",
     "output_type": "stream",
     "text": [
      "13\n"
     ]
    }
   ],
   "source": [
    "n = int(input())\n",
    "i = 1\n",
    "while True:\n",
    "    if i ** 2 > n:\n",
    "        print(i)\n",
    "        break\n",
    "    i += 1\n"
   ],
   "metadata": {
    "collapsed": false,
    "ExecuteTime": {
     "end_time": "2024-08-13T08:18:19.661968500Z",
     "start_time": "2024-08-13T08:18:18.253772200Z"
    }
   },
   "id": "96afb60239726e82"
  },
  {
   "cell_type": "code",
   "execution_count": 33,
   "outputs": [
    {
     "name": "stdout",
     "output_type": "stream",
     "text": [
      "2\n"
     ]
    }
   ],
   "source": [
    "# put your python code here\n",
    "x = int(input())\n",
    "n = 10\n",
    "i = 1\n",
    "while n <= x:\n",
    "    n += n * 0.1\n",
    "    i += 1\n",
    "print(i)"
   ],
   "metadata": {
    "collapsed": false,
    "ExecuteTime": {
     "end_time": "2024-08-13T08:25:59.879763900Z",
     "start_time": "2024-08-13T08:25:58.875817900Z"
    }
   },
   "id": "2e6591f7c428f12f"
  },
  {
   "cell_type": "code",
   "execution_count": 40,
   "outputs": [
    {
     "name": "stdout",
     "output_type": "stream",
     "text": [
      "Муму Сияние Колобок\n"
     ]
    }
   ],
   "source": [
    "lst_in = ['Муму', 'Евгений Онегин', 'Сияние', 'Мастер и Маргарита', 'Пиковая дама', 'Колобок']\n",
    "i = 0\n",
    "new_lst = []\n",
    "while i < len(lst_in):\n",
    "    if len(lst_in[i].split()) == 1:\n",
    "        new_lst.append(lst_in[i])\n",
    "    i += 1\n",
    "print(*new_lst)"
   ],
   "metadata": {
    "collapsed": false,
    "ExecuteTime": {
     "end_time": "2024-08-13T08:31:15.337686100Z",
     "start_time": "2024-08-13T08:31:15.332948100Z"
    }
   },
   "id": "295f03316fe03a18"
  },
  {
   "cell_type": "code",
   "execution_count": 2,
   "outputs": [
    {
     "name": "stdout",
     "output_type": "stream",
     "text": [
      "0 1 2 3 4 5 6 7 8 9 10 "
     ]
    }
   ],
   "source": [
    "for i in range(11):\n",
    "    print(i, end=' ')"
   ],
   "metadata": {
    "collapsed": false,
    "ExecuteTime": {
     "end_time": "2024-08-14T07:23:28.406724Z",
     "start_time": "2024-08-14T07:23:28.401904400Z"
    }
   },
   "id": "934d616466f26904"
  },
  {
   "cell_type": "code",
   "execution_count": 3,
   "outputs": [
    {
     "name": "stdout",
     "output_type": "stream",
     "text": [
      "50\n"
     ]
    }
   ],
   "source": [
    "nums = list(map(int, input().split()))\n",
    "s = 0\n",
    "for i in nums:\n",
    "    if i%2 == 1:\n",
    "        s += i\n",
    "print(s)"
   ],
   "metadata": {
    "collapsed": false,
    "ExecuteTime": {
     "end_time": "2024-08-14T07:25:32.229847700Z",
     "start_time": "2024-08-14T07:25:30.762229Z"
    }
   },
   "id": "e91306e032512c30"
  },
  {
   "cell_type": "code",
   "execution_count": 5,
   "outputs": [
    {
     "name": "stdout",
     "output_type": "stream",
     "text": [
      "['Москва', 'Уфа', 'Караганда', 'Тверь', 'Минск', 'Казань']\n",
      "6 3 9 5 5 6\n"
     ]
    }
   ],
   "source": [
    "cities = input().split()\n",
    "print(cities)\n",
    "for i in range(len(cities)):\n",
    "    cities[i] = len(cities[i])\n",
    "print(*cities)"
   ],
   "metadata": {
    "collapsed": false,
    "ExecuteTime": {
     "end_time": "2024-08-14T07:27:37.478857Z",
     "start_time": "2024-08-14T07:27:36.803399500Z"
    }
   },
   "id": "b4be0be3af616895"
  },
  {
   "cell_type": "code",
   "execution_count": 8,
   "outputs": [
    {
     "name": "stdout",
     "output_type": "stream",
     "text": [
      "1\n",
      "2\n",
      "3\n",
      "4\n",
      "6\n",
      "12\n"
     ]
    }
   ],
   "source": [
    "n = int(input())\n",
    "for i in range(1, n+1):\n",
    "    if n % i == 0:\n",
    "        print(i)"
   ],
   "metadata": {
    "collapsed": false,
    "ExecuteTime": {
     "end_time": "2024-08-14T07:29:04.761631Z",
     "start_time": "2024-08-14T07:29:03.986005700Z"
    }
   },
   "id": "60cdf4d4f4c5865d"
  },
  {
   "cell_type": "code",
   "execution_count": 9,
   "outputs": [
    {
     "name": "stdout",
     "output_type": "stream",
     "text": [
      "ДА\n"
     ]
    }
   ],
   "source": [
    "n = int(input())\n",
    "flag = 'ДА'\n",
    "for i in range(2, n//2):\n",
    "    if n % i == 0:\n",
    "        flag = 'НЕТ'\n",
    "        break\n",
    "print(flag)"
   ],
   "metadata": {
    "collapsed": false,
    "ExecuteTime": {
     "end_time": "2024-08-14T07:31:59.943712200Z",
     "start_time": "2024-08-14T07:31:56.819291100Z"
    }
   },
   "id": "d065dc929274b8f8"
  },
  {
   "cell_type": "code",
   "execution_count": 14,
   "outputs": [
    {
     "name": "stdout",
     "output_type": "stream",
     "text": [
      "ДА\n"
     ]
    }
   ],
   "source": [
    "cities = input().split()\n",
    "flag = 'ДА'\n",
    "for i in range(len(cities)):\n",
    "    if i == 0:\n",
    "        continue\n",
    "    n = -1 if cities[i-1][-1] not in ['ь', 'ъ', 'ы'] else -2\n",
    "    if cities[i-1][n] != cities[i][0].lower():\n",
    "        flag = 'НЕТ'\n",
    "        break\n",
    "print(flag)"
   ],
   "metadata": {
    "collapsed": false,
    "ExecuteTime": {
     "end_time": "2024-08-14T07:38:40.553191100Z",
     "start_time": "2024-08-14T07:38:39.582246Z"
    }
   },
   "id": "e5c05501633d4094"
  },
  {
   "cell_type": "code",
   "execution_count": 19,
   "outputs": [
    {
     "name": "stdout",
     "output_type": "stream",
     "text": [
      "98\n"
     ]
    }
   ],
   "source": [
    "n = int(input())\n",
    "s = 0\n",
    "for i in range(n):\n",
    "    if i % 3 == 0 or i % 5 == 0:\n",
    "        s += i\n",
    "print(s)\n"
   ],
   "metadata": {
    "collapsed": false,
    "ExecuteTime": {
     "end_time": "2024-08-14T07:46:42.950125600Z",
     "start_time": "2024-08-14T07:46:42.062124Z"
    }
   },
   "id": "c76cd91d0aaedfb4"
  },
  {
   "cell_type": "code",
   "execution_count": null,
   "outputs": [],
   "source": [],
   "metadata": {
    "collapsed": false
   },
   "id": "7dc468a5f6d1e76"
  }
 ],
 "metadata": {
  "kernelspec": {
   "display_name": "Python 3",
   "language": "python",
   "name": "python3"
  },
  "language_info": {
   "codemirror_mode": {
    "name": "ipython",
    "version": 2
   },
   "file_extension": ".py",
   "mimetype": "text/x-python",
   "name": "python",
   "nbconvert_exporter": "python",
   "pygments_lexer": "ipython2",
   "version": "2.7.6"
  }
 },
 "nbformat": 4,
 "nbformat_minor": 5
}
